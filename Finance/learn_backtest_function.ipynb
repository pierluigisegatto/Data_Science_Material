{
 "cells": [
  {
   "cell_type": "markdown",
   "id": "powered-crack",
   "metadata": {},
   "source": [
    "Description\n",
    "Backtest financial data with a specified trading strategy\n",
    "\n",
    "Parameters\n",
    "**strategy** : str or an instance of fastquant.strategies.base.BaseStrategy see list of accepted strategy keys below\n",
    "\n",
    "**data** : pandas.DataFrame dataframe with at least close price indexed with time\n",
    "\n",
    "**commission** : float commission per transaction [0, 1]\n",
    "\n",
    "**init_cash** : float initial cash (currency implied from data)\n",
    "\n",
    "**plot** : bool show plot backtrader (disabled if strategy==\"multi\")\n",
    "\n",
    "**verbose** : int Verbose can take values: [0, 1, 2, 3], with increasing levels of verbosity (default=1).\n",
    "\n",
    "**sort_by** : str sort result by given metric (default='rnorm')\n",
    "\n",
    "**sentiments** : pandas.DataFrame df of sentiment [0, 1] indexed by time (applicable if strategy=='senti')\n",
    "\n",
    "**strats** : dict dictionary of strategy parameters (applicable if strategy=='multi')\n",
    "\n",
    "**return_history** : bool return history of transactions (i.e. buy and sell timestamps) (default=False)\n",
    "\n",
    "**channel** : str Channel to be used for notifications - e.g. \"slack\" (default=None)\n",
    "\n",
    "**symbol** : str Symbol to be referenced in the channel notification if not None (default=None)\n",
    "\n",
    "**allow_short** : bool Whether to allow short selling, with max set as short_max times the portfolio value (default=False)\n",
    "\n",
    "**short_max** : float The maximum short position allowable as a ratio relative to the portfolio value at that timepoint(default=1.5)\n",
    "\n",
    "**figsize** : tuple The size of the figure to be displayed at the end of the backtest (default=(30, 15))\n",
    "\n",
    "**data_class** : bt.feed.DataBase Custom backtrader database to be used as a parent class instead bt.feed. (default=None)\n",
    "\n",
    "**data_kwargs** : dict Datafeed keyword arguments (empty dict by default)\n",
    "\n",
    "Returns\n",
    "A plot containing the backtest results and a dictionary of the history and results of the backtest run."
   ]
  },
  {
   "cell_type": "code",
   "execution_count": 6,
   "id": "measured-elements",
   "metadata": {},
   "outputs": [],
   "source": [
    "from fastquant import get_stock_data\n",
    "from fastquant import backtest\n"
   ]
  },
  {
   "cell_type": "code",
   "execution_count": 7,
   "id": "derived-teach",
   "metadata": {},
   "outputs": [
    {
     "name": "stdout",
     "output_type": "stream",
     "text": [
      "[*********************100%***********************]  1 of 1 completed\n"
     ]
    }
   ],
   "source": [
    "aapl = get_stock_data('AAPL','2019-01-01','2020-12-12')"
   ]
  },
  {
   "cell_type": "code",
   "execution_count": 8,
   "id": "fifth-savings",
   "metadata": {},
   "outputs": [
    {
     "data": {
      "text/html": [
       "<div>\n",
       "<style scoped>\n",
       "    .dataframe tbody tr th:only-of-type {\n",
       "        vertical-align: middle;\n",
       "    }\n",
       "\n",
       "    .dataframe tbody tr th {\n",
       "        vertical-align: top;\n",
       "    }\n",
       "\n",
       "    .dataframe thead th {\n",
       "        text-align: right;\n",
       "    }\n",
       "</style>\n",
       "<table border=\"1\" class=\"dataframe\">\n",
       "  <thead>\n",
       "    <tr style=\"text-align: right;\">\n",
       "      <th></th>\n",
       "      <th>open</th>\n",
       "      <th>high</th>\n",
       "      <th>low</th>\n",
       "      <th>close</th>\n",
       "      <th>volume</th>\n",
       "    </tr>\n",
       "    <tr>\n",
       "      <th>dt</th>\n",
       "      <th></th>\n",
       "      <th></th>\n",
       "      <th></th>\n",
       "      <th></th>\n",
       "      <th></th>\n",
       "    </tr>\n",
       "  </thead>\n",
       "  <tbody>\n",
       "    <tr>\n",
       "      <th>2018-12-31</th>\n",
       "      <td>39.632500</td>\n",
       "      <td>39.840000</td>\n",
       "      <td>39.119999</td>\n",
       "      <td>39.435001</td>\n",
       "      <td>140014000</td>\n",
       "    </tr>\n",
       "    <tr>\n",
       "      <th>2019-01-02</th>\n",
       "      <td>38.722500</td>\n",
       "      <td>39.712502</td>\n",
       "      <td>38.557499</td>\n",
       "      <td>39.480000</td>\n",
       "      <td>148158800</td>\n",
       "    </tr>\n",
       "    <tr>\n",
       "      <th>2019-01-03</th>\n",
       "      <td>35.994999</td>\n",
       "      <td>36.430000</td>\n",
       "      <td>35.500000</td>\n",
       "      <td>35.547501</td>\n",
       "      <td>365248800</td>\n",
       "    </tr>\n",
       "    <tr>\n",
       "      <th>2019-01-04</th>\n",
       "      <td>36.132500</td>\n",
       "      <td>37.137501</td>\n",
       "      <td>35.950001</td>\n",
       "      <td>37.064999</td>\n",
       "      <td>234428400</td>\n",
       "    </tr>\n",
       "    <tr>\n",
       "      <th>2019-01-07</th>\n",
       "      <td>37.174999</td>\n",
       "      <td>37.207500</td>\n",
       "      <td>36.474998</td>\n",
       "      <td>36.982498</td>\n",
       "      <td>219111200</td>\n",
       "    </tr>\n",
       "  </tbody>\n",
       "</table>\n",
       "</div>"
      ],
      "text/plain": [
       "                 open       high        low      close     volume\n",
       "dt                                                               \n",
       "2018-12-31  39.632500  39.840000  39.119999  39.435001  140014000\n",
       "2019-01-02  38.722500  39.712502  38.557499  39.480000  148158800\n",
       "2019-01-03  35.994999  36.430000  35.500000  35.547501  365248800\n",
       "2019-01-04  36.132500  37.137501  35.950001  37.064999  234428400\n",
       "2019-01-07  37.174999  37.207500  36.474998  36.982498  219111200"
      ]
     },
     "execution_count": 8,
     "metadata": {},
     "output_type": "execute_result"
    }
   ],
   "source": [
    "aapl.head()"
   ]
  },
  {
   "cell_type": "code",
   "execution_count": 10,
   "id": "dedicated-journalism",
   "metadata": {},
   "outputs": [
    {
     "data": {
      "text/plain": [
       "fastquant.strategies.base.BaseStrategy"
      ]
     },
     "execution_count": 10,
     "metadata": {},
     "output_type": "execute_result"
    }
   ],
   "source": [
    "import fastquant\n",
    "fastquant.strategies.base.BaseStrategy"
   ]
  },
  {
   "cell_type": "code",
   "execution_count": null,
   "id": "advance-seafood",
   "metadata": {},
   "outputs": [],
   "source": []
  }
 ],
 "metadata": {
  "kernelspec": {
   "display_name": "Python 3",
   "language": "python",
   "name": "python3"
  },
  "language_info": {
   "codemirror_mode": {
    "name": "ipython",
    "version": 3
   },
   "file_extension": ".py",
   "mimetype": "text/x-python",
   "name": "python",
   "nbconvert_exporter": "python",
   "pygments_lexer": "ipython3",
   "version": "3.6.10"
  },
  "varInspector": {
   "cols": {
    "lenName": 16,
    "lenType": 16,
    "lenVar": 40
   },
   "kernels_config": {
    "python": {
     "delete_cmd_postfix": "",
     "delete_cmd_prefix": "del ",
     "library": "var_list.py",
     "varRefreshCmd": "print(var_dic_list())"
    },
    "r": {
     "delete_cmd_postfix": ") ",
     "delete_cmd_prefix": "rm(",
     "library": "var_list.r",
     "varRefreshCmd": "cat(var_dic_list()) "
    }
   },
   "types_to_exclude": [
    "module",
    "function",
    "builtin_function_or_method",
    "instance",
    "_Feature"
   ],
   "window_display": true
  }
 },
 "nbformat": 4,
 "nbformat_minor": 5
}
