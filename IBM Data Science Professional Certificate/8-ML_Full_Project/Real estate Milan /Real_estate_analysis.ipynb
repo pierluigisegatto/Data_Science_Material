{
 "cells": [
  {
   "cell_type": "markdown",
   "id": "endangered-violin",
   "metadata": {},
   "source": [
    "# **REAL ESTATE ANALYSIS**: BUY/RENT HOUSES IN MILAN\n",
    "## How to select the best opportunities according to OMI price quotations and surrounding VENUES for buying houses in Milan.\n",
    "### Capstone Project - The Battle of Neighborhoods\n",
    "Author: Pier Luigi Segatto, 02/02/2021 <br />\n",
    "contact: pier.segatto@gmail.com"
   ]
  },
  {
   "cell_type": "markdown",
   "id": "alpha-recruitment",
   "metadata": {},
   "source": [
    "<img src=\"https://upload.wikimedia.org/wikipedia/commons/3/30/Wide_angle_Milan_skyline_from_Duomo_roof.jpg\">"
   ]
  },
  {
   "cell_type": "markdown",
   "id": "correct-heart",
   "metadata": {},
   "source": [
    "## Table of Contents\n",
    "\n",
    "* [1. Introduction](#1.)\n",
    "    * [1.1. Business Problem](#1.1.)\n",
    "    * [1.2. Target Audience](#1.2.)\n",
    "* [2. Data](#2.)\n",
    "    * [2.1 Visualization](#2.1.)\n",
    "* [3. Methodology](#3.)\n",
    "    * [3.1. Requirements](#3.1.)\n",
    "    * [3.2. Milan boroughs dataset](#3.2.)\n",
    "    * [3.3. Milan neighborhoods visualization](#3.3.)\n",
    "    * [3.4. OMI quotations housing price dataset](#3.4.)\n",
    "    * [3.5. Neighborhood venues](#3.5.)\n",
    "    "
   ]
  },
  {
   "cell_type": "markdown",
   "id": "stuffed-clinton",
   "metadata": {},
   "source": [
    "## 1. Introduction <a class=\"anchor\" id=\"1.\"></a>"
   ]
  },
  {
   "cell_type": "markdown",
   "id": "widespread-millennium",
   "metadata": {},
   "source": [
    "Milan is the second-most populous city in Italy after Rome. \n",
    "The city proper has a population of about 1.4 million while its metropolitan city has 3.26 million inhabitants ([ISTAT](http://demo.istat.it/bilmens2019gen/index.html)). Its continuously built-up urban area, that stretches well beyond the boundaries of the administrative metropolitan city, is the fourth largest in the EU with 5.27 million inhabitants. The population within the wider Milan metropolitan area, also known as Greater Milan, is estimated at 8.2 million, making it by far the largest metropolitan area in Italy and the 3rd largest in the EU ([source](http://www.old.unimib.it/open/news/Le-aree-metropolitane-in-Italia-occupano-il-9-per-cento-del-territorio/193547881368277998)). <br />\n",
    "Milan is considered a leading global city, with strengths in the field of the art, commerce, design, education, entertainment, fashion, finance, healthcare, media, services, research and tourism. The city has been recognized as one of the world's four fashion capitals thanks to several international events and fairs, including Milan Fashion Week and the Milan Furniture Fair, which are currently among the world's biggest in terms of revenue, visitors and growth. It hosts numerous cultural institutions, academies and universities. <br />\n",
    "Whereas Rome is Italy's political capital, Milan is the country's industrial and financial heart. In 2019 GDP per-capita of Milan is estimated at €49.000, steadily increasing, and significantly higher that the Italian average of €26.000 ([source](https://www.assolombarda.it/media/comunicati-stampa/rassegna-stampa-osservatorio-milano-2019-7-novembre-2019)). <br />\n",
    "Milan is the destination of 11 million visitors in 2019 (as reported in the city website ([source](https://www.comune.milano.it/-/turismo.-nel-2019-sfiorati-11-milioni-di-visitatori)), attracted by its museums and art galleries, that include some of the most important collections in the world, like the major works by Leonardo da Vinci. The city is served by many luxury hotels and dreamy restaurants. <br />\n",
    "Last but not least, Milan will host the 2026 Winter Olympics together with Cortina d'Ampezzo. <br />"
   ]
  },
  {
   "cell_type": "markdown",
   "id": "deadly-occurrence",
   "metadata": {},
   "source": [
    "## 1.1. Business Problem <a class=\"anchor\" id=\"1.1.\"></a> "
   ]
  },
  {
   "cell_type": "markdown",
   "id": "exceptional-employer",
   "metadata": {},
   "source": [
    "Milan represents the epicenter for Italian life and it attracts companies, corporates, and people who move their core businesses and lives there. Due to the huge variety and heterogeneity of services and possibilities, prices for housing in Milan can be high and different among different areas of the city.\n",
    "\n",
    "The goal of this project is to develop a tool for finding the most efficient *venue*- and *price*-wise solution for buying an house in Milan. This project will focus on finding the characteristics of each neighborhood in terms of house prices and relevant venues in the surrounding area (like restaurants, gyms, parks...). By adopting Machine learning solutions such as clustering and regression, this project will answer to the following questions: \n",
    "\n",
    "<font color = \"black\" size = \"+1\">1. If you want to buy or rent an house in Milan, which is the best neighborhood according to your capital, your lifestyle, and needs?</font>\n",
    "\n",
    "<font color = \"black\" size = \"+1\">2. If you want to eat sushi and visit a museum, which neighborhood should you visit? </font>\n",
    "\n",
    "<font color = \"black\" size = \"+1\">3. You are looking for an apartment, close to transportation station and to an italian restaurant, which neighborhood should you consider? </font>"
   ]
  },
  {
   "cell_type": "markdown",
   "id": "starting-prerequisite",
   "metadata": {},
   "source": [
    "<img src=\"https://traveldir.co/wp-content/uploads/2020/12/milan-info-map-of-italy-with-yellow-pin-marking-milano-centro-storico.jpg\">"
   ]
  },
  {
   "cell_type": "markdown",
   "id": "stuck-annex",
   "metadata": {},
   "source": [
    "## 1.2. Target Audience <a class=\"anchor\" id='1.2.'></a>"
   ]
  },
  {
   "cell_type": "markdown",
   "id": "located-library",
   "metadata": {},
   "source": [
    "Real estates. \n",
    "\n",
    "Housing investors.\n",
    "\n",
    "Privates looking for the perfect place to rent or buy a house in Milan. \n",
    "\n",
    "Tourists."
   ]
  },
  {
   "cell_type": "markdown",
   "id": "functioning-philosophy",
   "metadata": {},
   "source": [
    "## 2. Data <a class='anchor' id='2.'><a/>"
   ]
  },
  {
   "cell_type": "markdown",
   "id": "native-entrance",
   "metadata": {},
   "source": [
    "The data for this project has been retrieved from multiple sources, paying the utmost attention to the reliability of them. For this reason, the data was collected from:\n",
    "1. [Milan borough dataset](#Borough) and [house market and rental values dataset](#Values): retrieved from the Italian Revenue Agency website ([source](https://www.agenziaentrate.gov.it/portale/schede/fabbricatiterreni/omi/banche-dati/quotazioni-immobiliari)), where the Milan borough list and the information about the market values and the rental values of the houses have been found, related to the 1st half of 2020, depending on the house location and the state of the property, and considering the negative influence brought by the COVID19 pandemic on real estate markets. <br /> In order to access to the CSV file, it's necessary to register to the website.\n",
    "2. [Geo-locational information of Milan city center and the neighborhoods](#Location): using  Google Maps Geocoding API, it is possible to retrieve the geo-locational information (latitude and longitude) of Milan city center and the neighborhoods.\n",
    "3. [Surrounding venues for each neighborhood](#Venues): obtained using FourSquare API platform.\n",
    "\n",
    "These datasets allow to explore and implement ML algorithms to gain insights on Milan and inform the final user on best locations. The [Milan borough dataset](#Borough) allowed to determine the value of the house, on the basis of the borough position and the state of the property. Neighborhoods locations have been fundamental to understand the correlation between the neighborhood positions (in terms of distance from the Milan city center) and the value of the houses. These positions, together with venues data, have been essential to determinate the clusters and identify the most common venues for each of them."
   ]
  },
  {
   "cell_type": "markdown",
   "id": "honest-pavilion",
   "metadata": {},
   "source": [
    "## 3. Methodology <a class='anchor' id='3.'><a/>"
   ]
  },
  {
   "cell_type": "markdown",
   "id": "referenced-communication",
   "metadata": {},
   "source": [
    "In the following sections:\n",
    "- Libraries and external packages are loaded, Milan datasets are imported, cleaned and explored.\n",
    "- Neighborhoods’ location are visualized and venues are downloaded and formatted to meet the required standards."
   ]
  },
  {
   "cell_type": "markdown",
   "id": "sonic-integrity",
   "metadata": {},
   "source": [
    "## 3.1. Requirements <a class='anchor' id='3.1.'><a/>"
   ]
  },
  {
   "cell_type": "markdown",
   "id": "alpha-extreme",
   "metadata": {},
   "source": [
    "The first and important step in data science is the data retrieval; indeed, there aren’t reliable and precise analysis without using the best data and the most appropriate technique and algorithms. <br/>\n",
    "This analysis starts with the data collection and cleaning, in order to get all the essential data to achieve the goal of this study."
   ]
  },
  {
   "cell_type": "markdown",
   "id": "imperial-thriller",
   "metadata": {},
   "source": [
    "### Download Libraries"
   ]
  },
  {
   "cell_type": "markdown",
   "id": "special-tractor",
   "metadata": {},
   "source": [
    "uncomment the next cell if folium or geopy are not available"
   ]
  },
  {
   "cell_type": "code",
   "execution_count": 165,
   "id": "after-easter",
   "metadata": {},
   "outputs": [],
   "source": [
    "# !conda install -c conda-forge folium=0.5.0 --yes \n",
    "# !conda install -c conda-forge geopy --yes "
   ]
  },
  {
   "cell_type": "markdown",
   "id": "ahead-jurisdiction",
   "metadata": {},
   "source": [
    "Import the required libraries. "
   ]
  },
  {
   "cell_type": "code",
   "execution_count": 166,
   "id": "continent-punch",
   "metadata": {},
   "outputs": [
    {
     "name": "stdout",
     "output_type": "stream",
     "text": [
      "Libraries imported.\n"
     ]
    }
   ],
   "source": [
    "import numpy as np # library to handle data in a vectorized manner\n",
    "\n",
    "import pandas as pd # library for data analsysis\n",
    "pd.set_option('display.max_columns', None)\n",
    "pd.set_option('display.max_rows', None)\n",
    "\n",
    "# Optimization and machine learning libraries\n",
    "from scipy.optimize import curve_fit # fitting routines\n",
    "from sklearn.cluster import KMeans\n",
    "from sklearn.metrics import silhouette_score\n",
    "\n",
    "from geopy.geocoders import Nominatim # convert an address into latitude and longitude values\n",
    "\n",
    "import requests # library to handle requests\n",
    "\n",
    "# Matplotlib and associated plotting modules\n",
    "import matplotlib as mpl\n",
    "import matplotlib.pyplot as plt\n",
    "import matplotlib.cm as cm\n",
    "import matplotlib.colors as colors\n",
    "from matplotlib.colors import LinearSegmentedColormap\n",
    "\n",
    "# Seaborn library for visualization\n",
    "import seaborn as sns\n",
    "\n",
    "import folium # map rendering library\n",
    "\n",
    "print('Libraries imported.')"
   ]
  },
  {
   "cell_type": "markdown",
   "id": "powered-segment",
   "metadata": {},
   "source": [
    "## 3.2. Milan boroughs dataset <a class='anchor' id='3.2.'><a/>"
   ]
  },
  {
   "cell_type": "markdown",
   "id": "fuzzy-madness",
   "metadata": {},
   "source": [
    "Use the requests library to download the Milan dataset."
   ]
  },
  {
   "cell_type": "code",
   "execution_count": 201,
   "id": "quiet-commercial",
   "metadata": {},
   "outputs": [
    {
     "name": "stdout",
     "output_type": "stream",
     "text": [
      "Page download successful\n"
     ]
    }
   ],
   "source": [
    "url = \"https://raw.githubusercontent.com/pierluigisegatto/Data_Science_Material/main/IBM%20Data%20Science%20Professional%20Certificate/8-ML_Full_Project/Real%20estate%20Milan%20/Milan%20Neighborhood.csv\"\n",
    "page = requests.get(url)\n",
    "if page.status_code == 200:\n",
    "    print('Page download successful')\n",
    "else:\n",
    "    print('Page download error. Error code: {}'.format(page.status_code))"
   ]
  },
  {
   "cell_type": "code",
   "execution_count": 202,
   "id": "honey-amendment",
   "metadata": {},
   "outputs": [
    {
     "data": {
      "text/html": [
       "<div>\n",
       "<style scoped>\n",
       "    .dataframe tbody tr th:only-of-type {\n",
       "        vertical-align: middle;\n",
       "    }\n",
       "\n",
       "    .dataframe tbody tr th {\n",
       "        vertical-align: top;\n",
       "    }\n",
       "\n",
       "    .dataframe thead th {\n",
       "        text-align: right;\n",
       "    }\n",
       "</style>\n",
       "<table border=\"1\" class=\"dataframe\">\n",
       "  <thead>\n",
       "    <tr style=\"text-align: right;\">\n",
       "      <th></th>\n",
       "      <th>Area_territoriale</th>\n",
       "      <th>Regione</th>\n",
       "      <th>Prov</th>\n",
       "      <th>Comune_ISTAT</th>\n",
       "      <th>Comune_cat</th>\n",
       "      <th>Sez</th>\n",
       "      <th>Comune_amm</th>\n",
       "      <th>Comune_descrizione</th>\n",
       "      <th>Fascia</th>\n",
       "      <th>Zona_Descr</th>\n",
       "      <th>Zona</th>\n",
       "      <th>LinkZona</th>\n",
       "      <th>Cod_tip_prev</th>\n",
       "      <th>Descr_tip_prev</th>\n",
       "      <th>Stato_prev</th>\n",
       "      <th>Microzona</th>\n",
       "    </tr>\n",
       "  </thead>\n",
       "  <tbody>\n",
       "    <tr>\n",
       "      <th>0</th>\n",
       "      <td>NORD-OVEST</td>\n",
       "      <td>LOMBARDIA</td>\n",
       "      <td>MI</td>\n",
       "      <td>3015146</td>\n",
       "      <td>C1AA</td>\n",
       "      <td>NaN</td>\n",
       "      <td>F205</td>\n",
       "      <td>MILANO</td>\n",
       "      <td>B</td>\n",
       "      <td>'CENTRO STORICO -DUOMO, SANBABILA, MONTENAPOLE...</td>\n",
       "      <td>B12</td>\n",
       "      <td>MI00003228</td>\n",
       "      <td>20</td>\n",
       "      <td>Abitazioni civili</td>\n",
       "      <td>N</td>\n",
       "      <td>2</td>\n",
       "    </tr>\n",
       "    <tr>\n",
       "      <th>1</th>\n",
       "      <td>NORD-OVEST</td>\n",
       "      <td>LOMBARDIA</td>\n",
       "      <td>MI</td>\n",
       "      <td>3015146</td>\n",
       "      <td>C1AA</td>\n",
       "      <td>NaN</td>\n",
       "      <td>F205</td>\n",
       "      <td>MILANO</td>\n",
       "      <td>B</td>\n",
       "      <td>'CENTRO STORICO -UNIVERSITA STATALE'</td>\n",
       "      <td>B13</td>\n",
       "      <td>MI00003232</td>\n",
       "      <td>20</td>\n",
       "      <td>Abitazioni civili</td>\n",
       "      <td>N</td>\n",
       "      <td>3</td>\n",
       "    </tr>\n",
       "    <tr>\n",
       "      <th>2</th>\n",
       "      <td>NORD-OVEST</td>\n",
       "      <td>LOMBARDIA</td>\n",
       "      <td>MI</td>\n",
       "      <td>3015146</td>\n",
       "      <td>C1AA</td>\n",
       "      <td>NaN</td>\n",
       "      <td>F205</td>\n",
       "      <td>MILANO</td>\n",
       "      <td>B</td>\n",
       "      <td>'CENTRO STORICO - BRERA'</td>\n",
       "      <td>B15</td>\n",
       "      <td>MI00003544</td>\n",
       "      <td>20</td>\n",
       "      <td>Abitazioni civili</td>\n",
       "      <td>O</td>\n",
       "      <td>0</td>\n",
       "    </tr>\n",
       "    <tr>\n",
       "      <th>3</th>\n",
       "      <td>NORD-OVEST</td>\n",
       "      <td>LOMBARDIA</td>\n",
       "      <td>MI</td>\n",
       "      <td>3015146</td>\n",
       "      <td>C1AA</td>\n",
       "      <td>NaN</td>\n",
       "      <td>F205</td>\n",
       "      <td>MILANO</td>\n",
       "      <td>B</td>\n",
       "      <td>'CENTRO STORICO -SANT`AMBROGIO, CADORNA, VIA D...</td>\n",
       "      <td>B16</td>\n",
       "      <td>MI00003545</td>\n",
       "      <td>20</td>\n",
       "      <td>Abitazioni civili</td>\n",
       "      <td>O</td>\n",
       "      <td>0</td>\n",
       "    </tr>\n",
       "    <tr>\n",
       "      <th>4</th>\n",
       "      <td>NORD-OVEST</td>\n",
       "      <td>LOMBARDIA</td>\n",
       "      <td>MI</td>\n",
       "      <td>3015146</td>\n",
       "      <td>C1AA</td>\n",
       "      <td>NaN</td>\n",
       "      <td>F205</td>\n",
       "      <td>MILANO</td>\n",
       "      <td>B</td>\n",
       "      <td>'PARCO SEMPIONE, ARCO DELLA PACE'</td>\n",
       "      <td>B17</td>\n",
       "      <td>MI00004767</td>\n",
       "      <td>20</td>\n",
       "      <td>Abitazioni civili</td>\n",
       "      <td>N</td>\n",
       "      <td>0</td>\n",
       "    </tr>\n",
       "  </tbody>\n",
       "</table>\n",
       "</div>"
      ],
      "text/plain": [
       "  Area_territoriale    Regione Prov  Comune_ISTAT Comune_cat  Sez Comune_amm  \\\n",
       "0        NORD-OVEST  LOMBARDIA   MI       3015146       C1AA  NaN       F205   \n",
       "1        NORD-OVEST  LOMBARDIA   MI       3015146       C1AA  NaN       F205   \n",
       "2        NORD-OVEST  LOMBARDIA   MI       3015146       C1AA  NaN       F205   \n",
       "3        NORD-OVEST  LOMBARDIA   MI       3015146       C1AA  NaN       F205   \n",
       "4        NORD-OVEST  LOMBARDIA   MI       3015146       C1AA  NaN       F205   \n",
       "\n",
       "  Comune_descrizione Fascia  \\\n",
       "0             MILANO      B   \n",
       "1             MILANO      B   \n",
       "2             MILANO      B   \n",
       "3             MILANO      B   \n",
       "4             MILANO      B   \n",
       "\n",
       "                                          Zona_Descr Zona    LinkZona  \\\n",
       "0  'CENTRO STORICO -DUOMO, SANBABILA, MONTENAPOLE...  B12  MI00003228   \n",
       "1               'CENTRO STORICO -UNIVERSITA STATALE'  B13  MI00003232   \n",
       "2                           'CENTRO STORICO - BRERA'  B15  MI00003544   \n",
       "3  'CENTRO STORICO -SANT`AMBROGIO, CADORNA, VIA D...  B16  MI00003545   \n",
       "4                  'PARCO SEMPIONE, ARCO DELLA PACE'  B17  MI00004767   \n",
       "\n",
       "   Cod_tip_prev     Descr_tip_prev Stato_prev  Microzona  \n",
       "0            20  Abitazioni civili          N          2  \n",
       "1            20  Abitazioni civili          N          3  \n",
       "2            20  Abitazioni civili          O          0  \n",
       "3            20  Abitazioni civili          O          0  \n",
       "4            20  Abitazioni civili          N          0  "
      ]
     },
     "execution_count": 202,
     "metadata": {},
     "output_type": "execute_result"
    }
   ],
   "source": [
    "# be careful to use ';' as a separator\n",
    "neighborhoods=pd.read_csv(url, sep=';')\n",
    "neighborhoods.head(5)"
   ]
  },
  {
   "cell_type": "code",
   "execution_count": 203,
   "id": "burning-packaging",
   "metadata": {},
   "outputs": [
    {
     "name": "stdout",
     "output_type": "stream",
     "text": [
      "Minal has 38 Boroughs\n"
     ]
    }
   ],
   "source": [
    "# understand a bit the dataset\n",
    "print(f'Minal has {neighborhoods.shape[0]} Boroughs')"
   ]
  },
  {
   "cell_type": "code",
   "execution_count": 204,
   "id": "adjacent-circulation",
   "metadata": {},
   "outputs": [
    {
     "name": "stdout",
     "output_type": "stream",
     "text": [
      "['Abitazioni civili' 'Non presente']\n",
      "['N' 'O' nan]\n",
      "[ 2  3  0 22 32 34 35 37 40 42 43 47 50]\n"
     ]
    }
   ],
   "source": [
    "# check for unique values \n",
    "print(neighborhoods['Descr_tip_prev'].unique())\n",
    "print(neighborhoods['Stato_prev'].unique())\n",
    "print(neighborhoods['Microzona'].unique())"
   ]
  },
  {
   "cell_type": "code",
   "execution_count": 205,
   "id": "peaceful-sucking",
   "metadata": {},
   "outputs": [
    {
     "data": {
      "text/plain": [
       "37    'RONCHETTO, CHIARAVALLE, RIPAMONTI'\n",
       "Name: Zona_Descr, dtype: object"
      ]
     },
     "execution_count": 205,
     "metadata": {},
     "output_type": "execute_result"
    }
   ],
   "source": [
    "# where the anomaly occur? \n",
    "neighborhoods.loc[(neighborhoods['Descr_tip_prev']== 'Non presente') | (neighborhoods['Stato_prev']== np.nan),'Zona_Descr']"
   ]
  },
  {
   "cell_type": "markdown",
   "id": "latin-garlic",
   "metadata": {},
   "source": [
    "\n",
    "Filter only needed columns, i.e. keep only the neighborhood description name the zone code. Translate column names and clean the neighborhoods names from quotes.\n",
    "\n",
    "Get the actual Neighborhood names by splitting each descriptive name (Boro) where comma occurs. This step is needed to retrieve the latitude and longitude of each neighborhoods."
   ]
  },
  {
   "cell_type": "code",
   "execution_count": 217,
   "id": "funky-employment",
   "metadata": {},
   "outputs": [
    {
     "data": {
      "text/html": [
       "<div>\n",
       "<style scoped>\n",
       "    .dataframe tbody tr th:only-of-type {\n",
       "        vertical-align: middle;\n",
       "    }\n",
       "\n",
       "    .dataframe tbody tr th {\n",
       "        vertical-align: top;\n",
       "    }\n",
       "\n",
       "    .dataframe thead th {\n",
       "        text-align: right;\n",
       "    }\n",
       "</style>\n",
       "<table border=\"1\" class=\"dataframe\">\n",
       "  <thead>\n",
       "    <tr style=\"text-align: right;\">\n",
       "      <th></th>\n",
       "      <th>Code</th>\n",
       "      <th>Area</th>\n",
       "      <th>Neighborhoods</th>\n",
       "    </tr>\n",
       "  </thead>\n",
       "  <tbody>\n",
       "    <tr>\n",
       "      <th>0</th>\n",
       "      <td>B12</td>\n",
       "      <td>B</td>\n",
       "      <td>CENTRO STORICO -DUOMO</td>\n",
       "    </tr>\n",
       "    <tr>\n",
       "      <th>1</th>\n",
       "      <td>B12</td>\n",
       "      <td>B</td>\n",
       "      <td>SANBABILA</td>\n",
       "    </tr>\n",
       "    <tr>\n",
       "      <th>2</th>\n",
       "      <td>B12</td>\n",
       "      <td>B</td>\n",
       "      <td>MONTENAPOLEONE</td>\n",
       "    </tr>\n",
       "    <tr>\n",
       "      <th>3</th>\n",
       "      <td>B12</td>\n",
       "      <td>B</td>\n",
       "      <td>MISSORI</td>\n",
       "    </tr>\n",
       "    <tr>\n",
       "      <th>4</th>\n",
       "      <td>B12</td>\n",
       "      <td>B</td>\n",
       "      <td>CAIROLI</td>\n",
       "    </tr>\n",
       "  </tbody>\n",
       "</table>\n",
       "</div>"
      ],
      "text/plain": [
       "  Code Area          Neighborhoods\n",
       "0  B12    B  CENTRO STORICO -DUOMO\n",
       "1  B12    B              SANBABILA\n",
       "2  B12    B         MONTENAPOLEONE\n",
       "3  B12    B                MISSORI\n",
       "4  B12    B                CAIROLI"
      ]
     },
     "execution_count": 217,
     "metadata": {},
     "output_type": "execute_result"
    }
   ],
   "source": [
    "# keep useful cols\n",
    "milan = neighborhoods[['Zona_Descr','Zona','Fascia']].copy() \n",
    "# translate col names\n",
    "milan.rename(columns={'Zona_Descr':'Neighborhoods',\"Zona\":'Code','Fascia':'Area'},inplace=True)\n",
    "# Get rid of quotes in names\n",
    "milan['Neighborhoods'].replace(\"'\", '',regex=True,inplace=True)\n",
    "# explode the dataset to get the actual neighborhood names\n",
    "milan = milan.set_index(['Code','Area']).apply(lambda x: x.str.split(',').explode()).reset_index()\n",
    "milan.head(5)"
   ]
  },
  {
   "cell_type": "code",
   "execution_count": 218,
   "id": "manual-elements",
   "metadata": {},
   "outputs": [
    {
     "name": "stdout",
     "output_type": "stream",
     "text": [
      "Milan has 104 Neighborhoods\n"
     ]
    }
   ],
   "source": [
    "print(f'Milan has {milan.shape[0]} Neighborhoods')"
   ]
  },
  {
   "cell_type": "markdown",
   "id": "sought-polls",
   "metadata": {},
   "source": [
    "Some neighborhood names cannot be recognized by Google Maps Geocoding API. It's essential to edit them, to ensure the success of the last step (latitudes and longitudes retrive)"
   ]
  },
  {
   "cell_type": "code",
   "execution_count": 219,
   "id": "freelance-bandwidth",
   "metadata": {},
   "outputs": [],
   "source": [
    "milan['Neighborhoods'].replace(\"SANBABILA\", \"SAN BABILA\", regex=True, inplace=True)\n",
    "milan['Neighborhoods'].replace(\"FAENZA\", \"VIALE FAENZA\", regex=True, inplace=True)\n",
    "milan['Neighborhoods'].replace(\"P.ROSSI\", \"VIA PELLEGRINO ROSSI\", regex=True, inplace=True)\n",
    "milan['Neighborhoods'].replace(\"CORSO VENEZIA\", \"PORTA VENEZIA\", regex=True, inplace=True)\n",
    "milan['Neighborhoods'].replace(\"UNIVERSITA STATALE\", \"CITTÀ STUDI\", regex=True, inplace=True)\n",
    "milan['Neighborhoods'].replace(\"STAZIONE CENTRALE VIALE STELVIO\", \"STAZIONE CENTRALE\", regex=True, inplace=True)\n",
    "milan['Neighborhoods'].replace(\"C.NA MERLATA\", \"CASCINA MERLATA\", regex=True, inplace=True)\n",
    "milan['Neighborhoods'].replace(\"MONZA\", \"VIALE MONZA\", regex=True, inplace=True)\n",
    "milan['Neighborhoods'].replace(\"BUENOS AIRES\", \"CORSO BUENOS AIRES\", regex=True, inplace=True)\n",
    "milan['Neighborhoods'].replace(\"TITO LIVIO\", \"VIA TITO LIVIO\", regex=True, inplace=True)\n",
    "milan['Neighborhoods'].replace(\"MAROCCHETTI\", \"VIA CARLO MAROCHETTI\", regex=True, inplace=True)\n",
    "milan['Neighborhoods'].replace(\"REGINA GIOVANNA\", \"VIALE REGINA GIOVANNA\", regex=True, inplace=True)\n",
    "milan['Neighborhoods'].replace(\"ASCANIO SFORZA\", \"VIA ASCANIO SFORZA\", regex=True, inplace=True)\n",
    "milan['Neighborhoods'].replace(\"Q. ROMANO\", \"QUINTO ROMANO\", regex=True, inplace=True)\n",
    "\n",
    "milan['Neighborhoods'] = milan['Neighborhoods'].str.replace('CENTRO STORICO -', '')\n"
   ]
  },
  {
   "cell_type": "code",
   "execution_count": 220,
   "id": "amended-yemen",
   "metadata": {},
   "outputs": [],
   "source": [
    "# remove all white spaces at beginning of each neigh name\n",
    "milan['Neighborhoods'] = milan['Neighborhoods'].str.lstrip(' ')"
   ]
  },
  {
   "cell_type": "code",
   "execution_count": 221,
   "id": "senior-candle",
   "metadata": {},
   "outputs": [
    {
     "name": "stdout",
     "output_type": "stream",
     "text": [
      "Milan has 104 unique Neighborhood names\n"
     ]
    }
   ],
   "source": [
    "neigh_df = milan[['Neighborhoods']]\n",
    "# neigh_df = neigh_df.drop_duplicates(keep='first')\n",
    "neigh_df.shape[0]\n",
    "# porta romana occurs 2 times one with code B19 and one with code B20\n",
    "print(f'Milan has {neigh_df.shape[0]} unique Neighborhood names')"
   ]
  },
  {
   "cell_type": "markdown",
   "id": "imperial-legislation",
   "metadata": {},
   "source": [
    "### Retrive the geo-locational information "
   ]
  },
  {
   "cell_type": "code",
   "execution_count": 222,
   "id": "norwegian-alexander",
   "metadata": {},
   "outputs": [
    {
     "name": "stdout",
     "output_type": "stream",
     "text": [
      "the coords are ['DUOMO, Milano, MI , Italia', 45.4645848, 9.1896695]\n",
      "the coords are ['SAN BABILA, Milano, MI , Italia', 45.4665214, 9.1975286]\n",
      "the coords are ['MONTENAPOLEONE, Milano, MI , Italia', 45.470015, 9.1928678]\n",
      "the coords are ['MISSORI, Milano, MI , Italia', 45.4598278, 9.1895549]\n",
      "the coords are ['CAIROLI, Milano, MI , Italia', 45.4687012, 9.1816966]\n",
      "the coords are ['CITTÀ STUDI, Milano, MI , Italia', 45.4770557, 9.2265746]\n",
      "the coords are ['BRERA, Milano, MI , Italia', 45.47347885, 9.188407990372653]\n",
      "the coords are ['SANT`AMBROGIO, Milano, MI , Italia', 45.4613906, 9.1729167]\n",
      "the coords are ['CADORNA, Milano, MI , Italia', 45.4681551, 9.1771024]\n",
      "the coords are ['VIA DANTE, Milano, MI , Italia', 45.4663326, 9.1847796]\n",
      "the coords are ['PARCO SEMPIONE, Milano, MI , Italia', 45.47301905, 9.176969268773153]\n",
      "the coords are ['ARCO DELLA PACE, Milano, MI , Italia', 45.47569195, 9.172427802834267]\n",
      "the coords are ['TURATI, Milano, MI , Italia', 45.475039, 9.1947243]\n",
      "the coords are ['MOSCOVA, Milano, MI , Italia', 45.4770906, 9.1843416]\n",
      "the coords are ['PORTA VENEZIA, Milano, MI , Italia', 45.474282099999996, 9.205226499999997]\n",
      "the coords are ['VENEZIA, Milano, MI , Italia', 45.1403353, 8.4530285]\n",
      "the coords are ['PORTA VITTORIA, Milano, MI , Italia', 45.4622607, 9.2095796]\n",
      "the coords are ['PORTA ROMANA, Milano, MI , Italia', 45.4522392, 9.20205595]\n",
      "the coords are ['PORTA VIGENTINA, Milano, MI , Italia', 45.451351, 9.1964451]\n",
      "the coords are ['PORTA ROMANA, Milano, MI , Italia', 45.4522392, 9.20205595]\n",
      "the coords are ['PORTA TICINESE, Milano, MI , Italia', 45.45248575, 9.18020677095896]\n",
      "the coords are ['PORTA GENOVA, Milano, MI , Italia', 45.4566646, 9.174606]\n",
      "the coords are ['CORSO BUENOS AIRES, Milano, MI , Italia', 45.4775766, 9.2082162]\n",
      "the coords are ['VIALE REGINA GIOVANNA, Milano, MI , Italia', 45.4738157, 9.2132568]\n",
      "the coords are ['CITY LIFE, Milano, MI , Italia', 45.4833239, 9.2022214]\n",
      "the coords are ['PORTA NUOVA, Milano, MI , Italia', 45.4798577, 9.192694240094355]\n",
      "the coords are ['STAZIONE CENTRALE, Milano, MI , Italia', 45.4865088, 9.2073553]\n",
      "the coords are ['CENISIO, Milano, MI , Italia', 45.4875646, 9.1722651]\n",
      "the coords are ['FARINI, Milano, MI , Italia', 45.49287940000001, 9.175108231228549]\n",
      "the coords are ['SARPI, Milano, MI , Italia', 45.4830418, 9.172131735619073]\n",
      "the coords are ['SEMPIONE, Milano, MI , Italia', 45.4771041, 9.1701771]\n",
      "the coords are ['PAGANO, Milano, MI , Italia', 45.4682848, 9.1610998]\n",
      "the coords are ['WASHINGTON, Milano, MI , Italia', 45.4612061, 9.15631041155902]\n",
      "the coords are ['SOLARI, Milano, MI , Italia', 45.4590225, 9.1648878]\n",
      "the coords are ['P.TA GENOVA, Milano, MI , Italia', 45.4566646, 9.174606]\n",
      "the coords are ['VIA ASCANIO SFORZA, Milano, MI , Italia', 45.4500128, 9.1777002]\n",
      "the coords are ['TABACCHI, Milano, MI , Italia', 45.4867765, 9.1982143]\n",
      "the coords are ['SARFATTI, Milano, MI , Italia', 45.4482692, 9.1891795]\n",
      "the coords are ['PARCO LAMBRO, Milano, MI , Italia', 45.496842799999996, 9.250524307072563]\n",
      "the coords are ['FELTRE, Milano, MI , Italia', 45.4892131, 9.2461182]\n",
      "the coords are ['UDINE, Milano, MI , Italia', 45.4912044, 9.2369964]\n",
      "the coords are ['PIOLA, Milano, MI , Italia', 45.481145, 9.2259168]\n",
      "the coords are ['ARGONNE, Milano, MI , Italia', 45.4670479, 9.2303962]\n",
      "the coords are ['CORSICA, Milano, MI , Italia', 45.463908599999996, 9.23080179796616]\n",
      "the coords are ['LAMBRATE, Milano, MI , Italia', 45.4831483, 9.2419983]\n",
      "the coords are ['RUBATTINO, Milano, MI , Italia', 45.4774421, 9.2523668]\n",
      "the coords are ['ROMBON, Milano, MI , Italia', 45.4864231, 9.2409806]\n",
      "the coords are ['FORLANINI, Milano, MI , Italia', 45.4675255, 9.2135715]\n",
      "the coords are ['MECENATE, Milano, MI , Italia', 45.4477791, 9.247090719928508]\n",
      "the coords are ['ORTOMERCATO, Milano, MI , Italia', 45.45330395, 9.23059287245498]\n",
      "the coords are ['SANTA GIULIA, Milano, MI , Italia', 44.838555, 12.3765338]\n",
      "the coords are ['VIA CARLO MAROCHETTI, Milano, MI , Italia', 45.4393538, 9.2252418]\n",
      "the coords are ['VIGENTINO, Milano, MI , Italia', 45.4351394, 9.1986952]\n",
      "the coords are ['CHIESA ROSSA, Milano, MI , Italia', 45.4277094, 9.17457]\n",
      "the coords are ['ORTLES, Milano, MI , Italia', 45.4391034, 9.2014801]\n",
      "the coords are ['SPADOLINI, Milano, MI , Italia', 45.5341831, 9.1310169]\n",
      "the coords are ['BAZZI, Milano, MI , Italia', 45.442518, 9.1880159]\n",
      "the coords are ['BARONA, Milano, MI , Italia', 45.4307236, 9.153586498645359]\n",
      "the coords are ['FAMAGOSTA, Milano, MI , Italia', 45.436895, 9.1680126]\n",
      "the coords are ['VIALE FAENZA, Milano, MI , Italia', 45.4369963, 9.1505196]\n",
      "the coords are ['LORENTEGGIO, Milano, MI , Italia', 45.4458965, 9.1263786]\n",
      "the coords are ['INGANNI, Milano, MI , Italia', 45.457563, 9.1222629]\n",
      "the coords are ['BISCEGLIE, Milano, MI , Italia', 45.4554126, 9.1129589]\n",
      "the coords are ['SAN CARLO B., Milano, MI , Italia', 45.4921361, 9.2289488]\n",
      "the coords are ['IPPODROMO, Milano, MI , Italia', 45.4761386, 9.1290346]\n",
      "the coords are ['CAPRILLI, Milano, MI , Italia', 45.4801917, 9.1329165]\n",
      "the coords are ['MONTE STELLA, Milano, MI , Italia', 45.4905858, 9.1346218]\n",
      "the coords are ['MUSOCCO, Milano, MI , Italia', 45.5093132, 9.1319408]\n",
      "the coords are ['CERTOSA, Milano, MI , Italia', 45.5024894, 9.1278477]\n",
      "the coords are ['EXPO, Milano, MI , Italia', 45.5229171, 9.0940419]\n",
      "the coords are ['CASCINA MERLATA, Milano, MI , Italia', 45.508611, 9.104424]\n",
      "the coords are ['BOVISA, Milano, MI , Italia', 45.5027696, 9.1612638]\n",
      "the coords are ['BAUSAN, Milano, MI , Italia', 45.5026343, 9.1663739]\n",
      "the coords are ['IMBONATI, Milano, MI , Italia', 45.4388011, 9.20482096513496]\n",
      "the coords are ['BOVISASCA, Milano, MI , Italia', 45.5158419, 9.1537779]\n",
      "the coords are ['AFFORI, Milano, MI , Italia', 45.5170295, 9.1696533]\n",
      "the coords are ['P. ROSSI , Milano, MI , Italia', 44.91709965, 9.789736517763782]\n",
      "the coords are ['COMASINA, Milano, MI , Italia', 45.5281326, 9.1637291]\n",
      "the coords are ['NIGUARDA, Milano, MI , Italia', 45.5169738, 9.1924879]\n",
      "the coords are ['BIGNAMI, Milano, MI , Italia', 45.5267842, 9.2121805]\n",
      "the coords are ['PARCO NORD, Milano, MI , Italia', 45.51994475, 9.181313083892288]\n",
      "the coords are ['SARCA, Milano, MI , Italia', 45.50521689999999, 9.203916460372216]\n",
      "the coords are ['BICOCCA, Milano, MI , Italia', 45.5149166, 9.2111381]\n",
      "the coords are ['VIALE MONZA, Milano, MI , Italia', 45.51248185, 9.22433270585019]\n",
      "the coords are ['CRESCENZAGO, Milano, MI , Italia', 45.5092191, 9.2474843]\n",
      "the coords are ['GORLA, Milano, MI , Italia', 45.5049445, 9.2245393]\n",
      "the coords are ['QUARTIERE ADRIANO, Milano, MI , Italia', 45.5160356, 9.2444433]\n",
      "the coords are ['MAGGIOLINA, Milano, MI , Italia', 45.4920365, 9.2018846]\n",
      "the coords are ['PARCO TROTTER, Milano, MI , Italia', 45.494495900000004, 9.22419935442353]\n",
      "the coords are ['LEONCAVALLO, Milano, MI , Italia', 45.490367, 9.2247833]\n",
      "the coords are ['BAGGIO, Milano, MI , Italia', 45.4613839, 9.089843]\n",
      "the coords are ['QUINTO ROMANO, Milano, MI , Italia', 45.4756791, 9.0888066]\n",
      "the coords are ['MUGGIANO, Milano, MI , Italia', 45.4510311, 9.0697581]\n",
      "the coords are ['GALLARATESE, Milano, MI , Italia', 45.4980249, 9.1086684]\n",
      "the coords are ['LAMPUGNANO, Milano, MI , Italia', 45.4866108, 9.1250144]\n",
      "the coords are ['P. TRENNO, Milano, MI , Italia', 45.4906416, 9.1008711]\n",
      "the coords are ['BONOLA, Milano, MI , Italia', 45.4971385, 9.1098414]\n",
      "the coords are ['MISSAGLIA, Milano, MI , Italia', 45.7087169, 9.335754]\n",
      "the coords are ['GRATOSOGLIO, Milano, MI , Italia', 45.407321, 9.1712557]\n",
      "the coords are ['QUARTO OGGIARO, Milano, MI , Italia', 45.5143752, 9.1406811]\n",
      "the coords are ['SACCO, Milano, MI , Italia', 45.5203654, 9.123898569900575]\n",
      "the coords are ['RONCHETTO, Milano, MI , Italia', 45.525659950000005, 9.382790861222784]\n",
      "the coords are ['CHIARAVALLE, Milano, MI , Italia', 45.4166968, 9.2374208]\n",
      "the coords are ['RIPAMONTI, Milano, MI , Italia', 45.42851865, 9.203143715025023]\n"
     ]
    }
   ],
   "source": [
    "from geopy.exc import GeocoderTimedOut\n",
    "from geopy.exc import GeocoderNotFound\n",
    "\n",
    "address= (neigh_df['Neighborhoods'] + ', Milano, MI , Italia')\n",
    "geolocater= Nominatim(user_agent=\"milan_coordinates-explorer\")\n",
    "location=[]\n",
    "empty=[]\n",
    "\n",
    "def getcoords(add):\n",
    "    try:\n",
    "        coords= geolocater.geocode(add, timeout=10)\n",
    "        location.append([add, coords.latitude, coords.longitude])\n",
    "        print(\"the coords are {}\".format(location[-1]))\n",
    "    \n",
    "    except GeocoderTimedOut:\n",
    "        return getcoords(add)\n",
    "    \n",
    "    except:\n",
    "        empty.append([add])\n",
    "        print(\"Couldn't find coords of {}\".format(empty[-1]))\n",
    "        \n",
    "for add in address:\n",
    "        getcoords(add)"
   ]
  },
  {
   "cell_type": "markdown",
   "id": "grateful-young",
   "metadata": {},
   "source": [
    "### Save found neighborhood coordinates "
   ]
  },
  {
   "cell_type": "code",
   "execution_count": 223,
   "id": "interesting-experience",
   "metadata": {},
   "outputs": [
    {
     "data": {
      "text/plain": [
       "(103, 4)"
      ]
     },
     "execution_count": 223,
     "metadata": {},
     "output_type": "execute_result"
    }
   ],
   "source": [
    "milan['Area'].shape\n",
    "neighborhoods_coordinates.shape"
   ]
  },
  {
   "cell_type": "code",
   "execution_count": 224,
   "id": "nervous-saskatchewan",
   "metadata": {},
   "outputs": [
    {
     "data": {
      "text/html": [
       "<div>\n",
       "<style scoped>\n",
       "    .dataframe tbody tr th:only-of-type {\n",
       "        vertical-align: middle;\n",
       "    }\n",
       "\n",
       "    .dataframe tbody tr th {\n",
       "        vertical-align: top;\n",
       "    }\n",
       "\n",
       "    .dataframe thead th {\n",
       "        text-align: right;\n",
       "    }\n",
       "</style>\n",
       "<table border=\"1\" class=\"dataframe\">\n",
       "  <thead>\n",
       "    <tr style=\"text-align: right;\">\n",
       "      <th></th>\n",
       "      <th>Neighborhoods</th>\n",
       "      <th>Latitude</th>\n",
       "      <th>Longitude</th>\n",
       "      <th>Area</th>\n",
       "    </tr>\n",
       "  </thead>\n",
       "  <tbody>\n",
       "    <tr>\n",
       "      <th>0</th>\n",
       "      <td>DUOMO</td>\n",
       "      <td>45.464585</td>\n",
       "      <td>9.189670</td>\n",
       "      <td>B</td>\n",
       "    </tr>\n",
       "    <tr>\n",
       "      <th>1</th>\n",
       "      <td>SAN BABILA</td>\n",
       "      <td>45.466521</td>\n",
       "      <td>9.197529</td>\n",
       "      <td>B</td>\n",
       "    </tr>\n",
       "    <tr>\n",
       "      <th>2</th>\n",
       "      <td>MONTENAPOLEONE</td>\n",
       "      <td>45.470015</td>\n",
       "      <td>9.192868</td>\n",
       "      <td>B</td>\n",
       "    </tr>\n",
       "    <tr>\n",
       "      <th>3</th>\n",
       "      <td>MISSORI</td>\n",
       "      <td>45.459828</td>\n",
       "      <td>9.189555</td>\n",
       "      <td>B</td>\n",
       "    </tr>\n",
       "    <tr>\n",
       "      <th>4</th>\n",
       "      <td>CAIROLI</td>\n",
       "      <td>45.468701</td>\n",
       "      <td>9.181697</td>\n",
       "      <td>B</td>\n",
       "    </tr>\n",
       "  </tbody>\n",
       "</table>\n",
       "</div>"
      ],
      "text/plain": [
       "    Neighborhoods   Latitude  Longitude Area\n",
       "0           DUOMO  45.464585   9.189670    B\n",
       "1      SAN BABILA  45.466521   9.197529    B\n",
       "2  MONTENAPOLEONE  45.470015   9.192868    B\n",
       "3         MISSORI  45.459828   9.189555    B\n",
       "4         CAIROLI  45.468701   9.181697    B"
      ]
     },
     "execution_count": 224,
     "metadata": {},
     "output_type": "execute_result"
    }
   ],
   "source": [
    "neighborhoods_coordinates = pd.DataFrame(location, columns=['Neighborhoods','Latitude','Longitude'])\n",
    "neighborhoods_coordinates['Neighborhoods'].replace(\", Milano, MI , Italia\", \"\", regex=True, inplace=True)\n",
    "neighborhoods_coordinates['Area'] = milan['Area']\n",
    "neighborhoods_coordinates.to_csv('coordinates.csv')\n",
    "\n",
    "neighborhoods_coordinates.head()"
   ]
  },
  {
   "cell_type": "markdown",
   "id": "occasional-prime",
   "metadata": {},
   "source": [
    "## 3.3 Milan neighborhoods visualization <a class='anchor' id='3.3.'><a/>"
   ]
  },
  {
   "cell_type": "markdown",
   "id": "innocent-penguin",
   "metadata": {},
   "source": [
    "To get a sense to the study, it is of primary importance to know the precise location of each neighborhoods. For this reason, it's essential to create a map of Milan, in which all the neighborhood positions are shown. To be more exhaustive, all the Milan areas (B, C, D and E) are differentiated by different colors. <br />\n",
    "Therefore, the map of Milan neighborhoods has been plotted using the Folium library."
   ]
  },
  {
   "cell_type": "markdown",
   "id": "immune-drove",
   "metadata": {},
   "source": [
    "### Retrieve Milan coordinates"
   ]
  },
  {
   "cell_type": "code",
   "execution_count": 225,
   "id": "caring-magic",
   "metadata": {},
   "outputs": [
    {
     "name": "stdout",
     "output_type": "stream",
     "text": [
      "The geograpical coordinate of Milan, Italy are 45.4668, 9.1905.\n"
     ]
    }
   ],
   "source": [
    "Milan_address='Milan, Italy'\n",
    "geolocater= Nominatim(user_agent=\"Milan_search\")\n",
    "center= geolocater.geocode(Milan_address)\n",
    "lat= center.latitude\n",
    "lon= center.longitude\n",
    "print('The geograpical coordinate of {} are {}, {}.'.format(Milan_address,lat, lon))"
   ]
  },
  {
   "cell_type": "markdown",
   "id": "athletic-alignment",
   "metadata": {},
   "source": [
    "### Create the map"
   ]
  },
  {
   "cell_type": "code",
   "execution_count": 293,
   "id": "crude-respect",
   "metadata": {
    "scrolled": true
   },
   "outputs": [
    {
     "data": {
      "text/html": [
       "<div>\n",
       "<style scoped>\n",
       "    .dataframe tbody tr th:only-of-type {\n",
       "        vertical-align: middle;\n",
       "    }\n",
       "\n",
       "    .dataframe tbody tr th {\n",
       "        vertical-align: top;\n",
       "    }\n",
       "\n",
       "    .dataframe thead th {\n",
       "        text-align: right;\n",
       "    }\n",
       "</style>\n",
       "<table border=\"1\" class=\"dataframe\">\n",
       "  <thead>\n",
       "    <tr style=\"text-align: right;\">\n",
       "      <th></th>\n",
       "      <th>Neighborhoods</th>\n",
       "      <th>Latitude</th>\n",
       "      <th>Longitude</th>\n",
       "      <th>Area</th>\n",
       "      <th>Code</th>\n",
       "    </tr>\n",
       "  </thead>\n",
       "  <tbody>\n",
       "    <tr>\n",
       "      <th>0</th>\n",
       "      <td>DUOMO</td>\n",
       "      <td>45.464585</td>\n",
       "      <td>9.189670</td>\n",
       "      <td>B</td>\n",
       "      <td>B12</td>\n",
       "    </tr>\n",
       "    <tr>\n",
       "      <th>1</th>\n",
       "      <td>SAN BABILA</td>\n",
       "      <td>45.466521</td>\n",
       "      <td>9.197529</td>\n",
       "      <td>B</td>\n",
       "      <td>B12</td>\n",
       "    </tr>\n",
       "    <tr>\n",
       "      <th>2</th>\n",
       "      <td>MONTENAPOLEONE</td>\n",
       "      <td>45.470015</td>\n",
       "      <td>9.192868</td>\n",
       "      <td>B</td>\n",
       "      <td>B12</td>\n",
       "    </tr>\n",
       "    <tr>\n",
       "      <th>3</th>\n",
       "      <td>MISSORI</td>\n",
       "      <td>45.459828</td>\n",
       "      <td>9.189555</td>\n",
       "      <td>B</td>\n",
       "      <td>B12</td>\n",
       "    </tr>\n",
       "    <tr>\n",
       "      <th>4</th>\n",
       "      <td>CAIROLI</td>\n",
       "      <td>45.468701</td>\n",
       "      <td>9.181697</td>\n",
       "      <td>B</td>\n",
       "      <td>B12</td>\n",
       "    </tr>\n",
       "  </tbody>\n",
       "</table>\n",
       "</div>"
      ],
      "text/plain": [
       "    Neighborhoods   Latitude  Longitude Area Code\n",
       "0           DUOMO  45.464585   9.189670    B  B12\n",
       "1      SAN BABILA  45.466521   9.197529    B  B12\n",
       "2  MONTENAPOLEONE  45.470015   9.192868    B  B12\n",
       "3         MISSORI  45.459828   9.189555    B  B12\n",
       "4         CAIROLI  45.468701   9.181697    B  B12"
      ]
     },
     "execution_count": 293,
     "metadata": {},
     "output_type": "execute_result"
    }
   ],
   "source": [
    "neighborhoods_coordinates['Area'] = milan['Code'].str[:1]\n",
    "neighborhoods_coordinates['Code'] = milan['Code']\n",
    "neighborhoods_coordinates.head()\n"
   ]
  },
  {
   "cell_type": "code",
   "execution_count": 227,
   "id": "bibliographic-iraqi",
   "metadata": {},
   "outputs": [
    {
     "data": {
      "text/html": [
       "<div style=\"width:100%;\"><div style=\"position:relative;width:100%;height:0;padding-bottom:60%;\"><span style=\"color:#565656\">Make this Notebook Trusted to load map: File -> Trust Notebook</span><iframe src=\"about:blank\" style=\"position:absolute;width:100%;height:100%;left:0;top:0;border:none !important;\" data-html=%3C%21DOCTYPE%20html%3E%0A%3Chead%3E%20%20%20%20%0A%20%20%20%20%3Cmeta%20http-equiv%3D%22content-type%22%20content%3D%22text/html%3B%20charset%3DUTF-8%22%20/%3E%0A%20%20%20%20%3Cscript%3EL_PREFER_CANVAS%20%3D%20false%3B%20L_NO_TOUCH%20%3D%20false%3B%20L_DISABLE_3D%20%3D%20false%3B%3C/script%3E%0A%20%20%20%20%3Cscript%20src%3D%22https%3A//cdn.jsdelivr.net/npm/leaflet%401.2.0/dist/leaflet.js%22%3E%3C/script%3E%0A%20%20%20%20%3Cscript%20src%3D%22https%3A//ajax.googleapis.com/ajax/libs/jquery/1.11.1/jquery.min.js%22%3E%3C/script%3E%0A%20%20%20%20%3Cscript%20src%3D%22https%3A//maxcdn.bootstrapcdn.com/bootstrap/3.2.0/js/bootstrap.min.js%22%3E%3C/script%3E%0A%20%20%20%20%3Cscript%20src%3D%22https%3A//cdnjs.cloudflare.com/ajax/libs/Leaflet.awesome-markers/2.0.2/leaflet.awesome-markers.js%22%3E%3C/script%3E%0A%20%20%20%20%3Clink%20rel%3D%22stylesheet%22%20href%3D%22https%3A//cdn.jsdelivr.net/npm/leaflet%401.2.0/dist/leaflet.css%22/%3E%0A%20%20%20%20%3Clink%20rel%3D%22stylesheet%22%20href%3D%22https%3A//maxcdn.bootstrapcdn.com/bootstrap/3.2.0/css/bootstrap.min.css%22/%3E%0A%20%20%20%20%3Clink%20rel%3D%22stylesheet%22%20href%3D%22https%3A//maxcdn.bootstrapcdn.com/bootstrap/3.2.0/css/bootstrap-theme.min.css%22/%3E%0A%20%20%20%20%3Clink%20rel%3D%22stylesheet%22%20href%3D%22https%3A//maxcdn.bootstrapcdn.com/font-awesome/4.6.3/css/font-awesome.min.css%22/%3E%0A%20%20%20%20%3Clink%20rel%3D%22stylesheet%22%20href%3D%22https%3A//cdnjs.cloudflare.com/ajax/libs/Leaflet.awesome-markers/2.0.2/leaflet.awesome-markers.css%22/%3E%0A%20%20%20%20%3Clink%20rel%3D%22stylesheet%22%20href%3D%22https%3A//rawgit.com/python-visualization/folium/master/folium/templates/leaflet.awesome.rotate.css%22/%3E%0A%20%20%20%20%3Cstyle%3Ehtml%2C%20body%20%7Bwidth%3A%20100%25%3Bheight%3A%20100%25%3Bmargin%3A%200%3Bpadding%3A%200%3B%7D%3C/style%3E%0A%20%20%20%20%3Cstyle%3E%23map%20%7Bposition%3Aabsolute%3Btop%3A0%3Bbottom%3A0%3Bright%3A0%3Bleft%3A0%3B%7D%3C/style%3E%0A%20%20%20%20%0A%20%20%20%20%20%20%20%20%20%20%20%20%3Cstyle%3E%20%23map_da06769d5e19429a9a792f12bf246aab%20%7B%0A%20%20%20%20%20%20%20%20%20%20%20%20%20%20%20%20position%20%3A%20relative%3B%0A%20%20%20%20%20%20%20%20%20%20%20%20%20%20%20%20width%20%3A%20100.0%25%3B%0A%20%20%20%20%20%20%20%20%20%20%20%20%20%20%20%20height%3A%20100.0%25%3B%0A%20%20%20%20%20%20%20%20%20%20%20%20%20%20%20%20left%3A%200.0%25%3B%0A%20%20%20%20%20%20%20%20%20%20%20%20%20%20%20%20top%3A%200.0%25%3B%0A%20%20%20%20%20%20%20%20%20%20%20%20%20%20%20%20%7D%0A%20%20%20%20%20%20%20%20%20%20%20%20%3C/style%3E%0A%20%20%20%20%20%20%20%20%0A%3C/head%3E%0A%3Cbody%3E%20%20%20%20%0A%20%20%20%20%0A%20%20%20%20%3Cdiv%20style%3D%22position%3A%20fixed%3B%20%20%0A%20%20%20%20%20%20%20%20bottom%3A%2010px%3B%20left%3A%2010px%3B%20width%3A%20100px%3B%20height%3A%20120px%3B%20%0A%20%20%20%20%20%20%20%20border%3A2px%20solid%20grey%3B%20z-index%3A9999%3B%20font-size%3A11px%3B%22%3E%26nbsp%3B%20Legend%20%3Cbr%3E%0A%20%20%20%20%20%20%20%20%26nbsp%3B%20%3Cb%3E%20Area%20B%20%3C/b%3E%20%26nbsp%3B%20%3Ci%20class%3D%22fa%20fa-map-marker%20fa-2x%22%20style%3D%22color%3Ablue%22%3E%3C/i%3E%3Cbr%3E%0A%20%20%20%20%20%20%20%20%26nbsp%3B%20%3Cb%3E%20Area%20C%20%3C/b%3E%20%26nbsp%3B%20%3Ci%20class%3D%22fa%20fa-map-marker%20fa-2x%22%20style%3D%22color%3Agreen%22%3E%3C/i%3E%3Cbr%3E%0A%20%20%20%20%20%20%20%20%26nbsp%3B%20%3Cb%3E%20Area%20D%20%3C/b%3E%20%26nbsp%3B%20%3Ci%20class%3D%22fa%20fa-map-marker%20fa-2x%22%20style%3D%22color%3Apurple%22%3E%3C/i%3E%3Cbr%3E%0A%20%20%20%20%20%20%20%20%26nbsp%3B%20%3Cb%3E%20Area%20E%20%3C/b%3E%20%26nbsp%3B%20%3Ci%20class%3D%22fa%20fa-map-marker%20fa-2x%22%20style%3D%22color%3Ared%22%3E%3C/i%3E%3Cbr%3E%0A%20%20%20%20%3C/div%3E%0A%20%20%20%20%0A%20%20%20%20%0A%20%20%20%20%20%20%20%20%20%20%20%20%3Cdiv%20class%3D%22folium-map%22%20id%3D%22map_da06769d5e19429a9a792f12bf246aab%22%20%3E%3C/div%3E%0A%20%20%20%20%20%20%20%20%0A%3C/body%3E%0A%3Cscript%3E%20%20%20%20%0A%20%20%20%20%0A%0A%20%20%20%20%20%20%20%20%20%20%20%20%0A%20%20%20%20%20%20%20%20%20%20%20%20%20%20%20%20var%20bounds%20%3D%20null%3B%0A%20%20%20%20%20%20%20%20%20%20%20%20%0A%0A%20%20%20%20%20%20%20%20%20%20%20%20var%20map_da06769d5e19429a9a792f12bf246aab%20%3D%20L.map%28%0A%20%20%20%20%20%20%20%20%20%20%20%20%20%20%20%20%20%20%20%20%20%20%20%20%20%20%20%20%20%20%20%20%20%20%27map_da06769d5e19429a9a792f12bf246aab%27%2C%0A%20%20%20%20%20%20%20%20%20%20%20%20%20%20%20%20%20%20%20%20%20%20%20%20%20%20%20%20%20%20%20%20%20%20%7Bcenter%3A%20%5B45.4668%2C9.1905%5D%2C%0A%20%20%20%20%20%20%20%20%20%20%20%20%20%20%20%20%20%20%20%20%20%20%20%20%20%20%20%20%20%20%20%20%20%20zoom%3A%2011%2C%0A%20%20%20%20%20%20%20%20%20%20%20%20%20%20%20%20%20%20%20%20%20%20%20%20%20%20%20%20%20%20%20%20%20%20maxBounds%3A%20bounds%2C%0A%20%20%20%20%20%20%20%20%20%20%20%20%20%20%20%20%20%20%20%20%20%20%20%20%20%20%20%20%20%20%20%20%20%20layers%3A%20%5B%5D%2C%0A%20%20%20%20%20%20%20%20%20%20%20%20%20%20%20%20%20%20%20%20%20%20%20%20%20%20%20%20%20%20%20%20%20%20worldCopyJump%3A%20false%2C%0A%20%20%20%20%20%20%20%20%20%20%20%20%20%20%20%20%20%20%20%20%20%20%20%20%20%20%20%20%20%20%20%20%20%20crs%3A%20L.CRS.EPSG3857%0A%20%20%20%20%20%20%20%20%20%20%20%20%20%20%20%20%20%20%20%20%20%20%20%20%20%20%20%20%20%20%20%20%20%7D%29%3B%0A%20%20%20%20%20%20%20%20%20%20%20%20%0A%20%20%20%20%20%20%20%20%0A%20%20%20%20%0A%20%20%20%20%20%20%20%20%20%20%20%20var%20tile_layer_c6504ad08a1747099a3cfb7cd5d5771c%20%3D%20L.tileLayer%28%0A%20%20%20%20%20%20%20%20%20%20%20%20%20%20%20%20%27https%3A//%7Bs%7D.tile.openstreetmap.org/%7Bz%7D/%7Bx%7D/%7By%7D.png%27%2C%0A%20%20%20%20%20%20%20%20%20%20%20%20%20%20%20%20%7B%0A%20%20%22attribution%22%3A%20null%2C%0A%20%20%22detectRetina%22%3A%20false%2C%0A%20%20%22maxZoom%22%3A%2018%2C%0A%20%20%22minZoom%22%3A%201%2C%0A%20%20%22noWrap%22%3A%20false%2C%0A%20%20%22subdomains%22%3A%20%22abc%22%0A%7D%0A%20%20%20%20%20%20%20%20%20%20%20%20%20%20%20%20%29.addTo%28map_da06769d5e19429a9a792f12bf246aab%29%3B%0A%20%20%20%20%20%20%20%20%0A%20%20%20%20%0A%20%20%20%20%20%20%20%20%20%20%20%20var%20circle_marker_e730e5ecfb59409b991badb8b3045e65%20%3D%20L.circleMarker%28%0A%20%20%20%20%20%20%20%20%20%20%20%20%20%20%20%20%5B45.4645848%2C9.1896695%5D%2C%0A%20%20%20%20%20%20%20%20%20%20%20%20%20%20%20%20%7B%0A%20%20%22bubblingMouseEvents%22%3A%20true%2C%0A%20%20%22color%22%3A%20%22blue%22%2C%0A%20%20%22dashArray%22%3A%20null%2C%0A%20%20%22dashOffset%22%3A%20null%2C%0A%20%20%22fill%22%3A%20true%2C%0A%20%20%22fillColor%22%3A%20%22%233199cc%22%2C%0A%20%20%22fillOpacity%22%3A%200.3%2C%0A%20%20%22fillRule%22%3A%20%22evenodd%22%2C%0A%20%20%22lineCap%22%3A%20%22round%22%2C%0A%20%20%22lineJoin%22%3A%20%22round%22%2C%0A%20%20%22opacity%22%3A%201.0%2C%0A%20%20%22radius%22%3A%202%2C%0A%20%20%22stroke%22%3A%20true%2C%0A%20%20%22weight%22%3A%203%0A%7D%0A%20%20%20%20%20%20%20%20%20%20%20%20%20%20%20%20%29.addTo%28map_da06769d5e19429a9a792f12bf246aab%29%3B%0A%20%20%20%20%20%20%20%20%20%20%20%20%0A%20%20%20%20%0A%20%20%20%20%20%20%20%20%20%20%20%20var%20popup_52e56a5fee3f48089318988b8bea92ed%20%3D%20L.popup%28%7BmaxWidth%3A%20%27300%27%7D%29%3B%0A%0A%20%20%20%20%20%20%20%20%20%20%20%20%0A%20%20%20%20%20%20%20%20%20%20%20%20%20%20%20%20var%20html_f7147a98f8e24eaeac984b0751a14bf0%20%3D%20%24%28%27%3Cdiv%20id%3D%22html_f7147a98f8e24eaeac984b0751a14bf0%22%20style%3D%22width%3A%20100.0%25%3B%20height%3A%20100.0%25%3B%22%3EDUOMO%3C/div%3E%27%29%5B0%5D%3B%0A%20%20%20%20%20%20%20%20%20%20%20%20%20%20%20%20popup_52e56a5fee3f48089318988b8bea92ed.setContent%28html_f7147a98f8e24eaeac984b0751a14bf0%29%3B%0A%20%20%20%20%20%20%20%20%20%20%20%20%0A%0A%20%20%20%20%20%20%20%20%20%20%20%20circle_marker_e730e5ecfb59409b991badb8b3045e65.bindPopup%28popup_52e56a5fee3f48089318988b8bea92ed%29%3B%0A%0A%20%20%20%20%20%20%20%20%20%20%20%20%0A%20%20%20%20%20%20%20%20%0A%20%20%20%20%0A%20%20%20%20%20%20%20%20%20%20%20%20var%20circle_marker_2777ff398817426cb34c989ab83d2926%20%3D%20L.circleMarker%28%0A%20%20%20%20%20%20%20%20%20%20%20%20%20%20%20%20%5B45.4665214%2C9.1975286%5D%2C%0A%20%20%20%20%20%20%20%20%20%20%20%20%20%20%20%20%7B%0A%20%20%22bubblingMouseEvents%22%3A%20true%2C%0A%20%20%22color%22%3A%20%22blue%22%2C%0A%20%20%22dashArray%22%3A%20null%2C%0A%20%20%22dashOffset%22%3A%20null%2C%0A%20%20%22fill%22%3A%20true%2C%0A%20%20%22fillColor%22%3A%20%22%233199cc%22%2C%0A%20%20%22fillOpacity%22%3A%200.3%2C%0A%20%20%22fillRule%22%3A%20%22evenodd%22%2C%0A%20%20%22lineCap%22%3A%20%22round%22%2C%0A%20%20%22lineJoin%22%3A%20%22round%22%2C%0A%20%20%22opacity%22%3A%201.0%2C%0A%20%20%22radius%22%3A%202%2C%0A%20%20%22stroke%22%3A%20true%2C%0A%20%20%22weight%22%3A%203%0A%7D%0A%20%20%20%20%20%20%20%20%20%20%20%20%20%20%20%20%29.addTo%28map_da06769d5e19429a9a792f12bf246aab%29%3B%0A%20%20%20%20%20%20%20%20%20%20%20%20%0A%20%20%20%20%0A%20%20%20%20%20%20%20%20%20%20%20%20var%20popup_43bf2ad05f814a1fa28fb1f9f53c5cab%20%3D%20L.popup%28%7BmaxWidth%3A%20%27300%27%7D%29%3B%0A%0A%20%20%20%20%20%20%20%20%20%20%20%20%0A%20%20%20%20%20%20%20%20%20%20%20%20%20%20%20%20var%20html_674b36d7e47449e3aa8ec2e5fe5a24a6%20%3D%20%24%28%27%3Cdiv%20id%3D%22html_674b36d7e47449e3aa8ec2e5fe5a24a6%22%20style%3D%22width%3A%20100.0%25%3B%20height%3A%20100.0%25%3B%22%3ESAN%20BABILA%3C/div%3E%27%29%5B0%5D%3B%0A%20%20%20%20%20%20%20%20%20%20%20%20%20%20%20%20popup_43bf2ad05f814a1fa28fb1f9f53c5cab.setContent%28html_674b36d7e47449e3aa8ec2e5fe5a24a6%29%3B%0A%20%20%20%20%20%20%20%20%20%20%20%20%0A%0A%20%20%20%20%20%20%20%20%20%20%20%20circle_marker_2777ff398817426cb34c989ab83d2926.bindPopup%28popup_43bf2ad05f814a1fa28fb1f9f53c5cab%29%3B%0A%0A%20%20%20%20%20%20%20%20%20%20%20%20%0A%20%20%20%20%20%20%20%20%0A%20%20%20%20%0A%20%20%20%20%20%20%20%20%20%20%20%20var%20circle_marker_80b0f2600ac548cfafbafbab9f1e396e%20%3D%20L.circleMarker%28%0A%20%20%20%20%20%20%20%20%20%20%20%20%20%20%20%20%5B45.470015%2C9.1928678%5D%2C%0A%20%20%20%20%20%20%20%20%20%20%20%20%20%20%20%20%7B%0A%20%20%22bubblingMouseEvents%22%3A%20true%2C%0A%20%20%22color%22%3A%20%22blue%22%2C%0A%20%20%22dashArray%22%3A%20null%2C%0A%20%20%22dashOffset%22%3A%20null%2C%0A%20%20%22fill%22%3A%20true%2C%0A%20%20%22fillColor%22%3A%20%22%233199cc%22%2C%0A%20%20%22fillOpacity%22%3A%200.3%2C%0A%20%20%22fillRule%22%3A%20%22evenodd%22%2C%0A%20%20%22lineCap%22%3A%20%22round%22%2C%0A%20%20%22lineJoin%22%3A%20%22round%22%2C%0A%20%20%22opacity%22%3A%201.0%2C%0A%20%20%22radius%22%3A%202%2C%0A%20%20%22stroke%22%3A%20true%2C%0A%20%20%22weight%22%3A%203%0A%7D%0A%20%20%20%20%20%20%20%20%20%20%20%20%20%20%20%20%29.addTo%28map_da06769d5e19429a9a792f12bf246aab%29%3B%0A%20%20%20%20%20%20%20%20%20%20%20%20%0A%20%20%20%20%0A%20%20%20%20%20%20%20%20%20%20%20%20var%20popup_dda3a9cac1df40399f4145bc80ae3cde%20%3D%20L.popup%28%7BmaxWidth%3A%20%27300%27%7D%29%3B%0A%0A%20%20%20%20%20%20%20%20%20%20%20%20%0A%20%20%20%20%20%20%20%20%20%20%20%20%20%20%20%20var%20html_8f01f1393f464ec2b8b176b9925ca35c%20%3D%20%24%28%27%3Cdiv%20id%3D%22html_8f01f1393f464ec2b8b176b9925ca35c%22%20style%3D%22width%3A%20100.0%25%3B%20height%3A%20100.0%25%3B%22%3EMONTENAPOLEONE%3C/div%3E%27%29%5B0%5D%3B%0A%20%20%20%20%20%20%20%20%20%20%20%20%20%20%20%20popup_dda3a9cac1df40399f4145bc80ae3cde.setContent%28html_8f01f1393f464ec2b8b176b9925ca35c%29%3B%0A%20%20%20%20%20%20%20%20%20%20%20%20%0A%0A%20%20%20%20%20%20%20%20%20%20%20%20circle_marker_80b0f2600ac548cfafbafbab9f1e396e.bindPopup%28popup_dda3a9cac1df40399f4145bc80ae3cde%29%3B%0A%0A%20%20%20%20%20%20%20%20%20%20%20%20%0A%20%20%20%20%20%20%20%20%0A%20%20%20%20%0A%20%20%20%20%20%20%20%20%20%20%20%20var%20circle_marker_32886afe8a2f46d0bababf8af23e261f%20%3D%20L.circleMarker%28%0A%20%20%20%20%20%20%20%20%20%20%20%20%20%20%20%20%5B45.4598278%2C9.1895549%5D%2C%0A%20%20%20%20%20%20%20%20%20%20%20%20%20%20%20%20%7B%0A%20%20%22bubblingMouseEvents%22%3A%20true%2C%0A%20%20%22color%22%3A%20%22blue%22%2C%0A%20%20%22dashArray%22%3A%20null%2C%0A%20%20%22dashOffset%22%3A%20null%2C%0A%20%20%22fill%22%3A%20true%2C%0A%20%20%22fillColor%22%3A%20%22%233199cc%22%2C%0A%20%20%22fillOpacity%22%3A%200.3%2C%0A%20%20%22fillRule%22%3A%20%22evenodd%22%2C%0A%20%20%22lineCap%22%3A%20%22round%22%2C%0A%20%20%22lineJoin%22%3A%20%22round%22%2C%0A%20%20%22opacity%22%3A%201.0%2C%0A%20%20%22radius%22%3A%202%2C%0A%20%20%22stroke%22%3A%20true%2C%0A%20%20%22weight%22%3A%203%0A%7D%0A%20%20%20%20%20%20%20%20%20%20%20%20%20%20%20%20%29.addTo%28map_da06769d5e19429a9a792f12bf246aab%29%3B%0A%20%20%20%20%20%20%20%20%20%20%20%20%0A%20%20%20%20%0A%20%20%20%20%20%20%20%20%20%20%20%20var%20popup_6102b10f98df4e1285d3566f33772f1a%20%3D%20L.popup%28%7BmaxWidth%3A%20%27300%27%7D%29%3B%0A%0A%20%20%20%20%20%20%20%20%20%20%20%20%0A%20%20%20%20%20%20%20%20%20%20%20%20%20%20%20%20var%20html_d19aadb5d2ee45bca42579ea94311ee4%20%3D%20%24%28%27%3Cdiv%20id%3D%22html_d19aadb5d2ee45bca42579ea94311ee4%22%20style%3D%22width%3A%20100.0%25%3B%20height%3A%20100.0%25%3B%22%3EMISSORI%3C/div%3E%27%29%5B0%5D%3B%0A%20%20%20%20%20%20%20%20%20%20%20%20%20%20%20%20popup_6102b10f98df4e1285d3566f33772f1a.setContent%28html_d19aadb5d2ee45bca42579ea94311ee4%29%3B%0A%20%20%20%20%20%20%20%20%20%20%20%20%0A%0A%20%20%20%20%20%20%20%20%20%20%20%20circle_marker_32886afe8a2f46d0bababf8af23e261f.bindPopup%28popup_6102b10f98df4e1285d3566f33772f1a%29%3B%0A%0A%20%20%20%20%20%20%20%20%20%20%20%20%0A%20%20%20%20%20%20%20%20%0A%20%20%20%20%0A%20%20%20%20%20%20%20%20%20%20%20%20var%20circle_marker_2f7ed500c5b246239f792f6045c35418%20%3D%20L.circleMarker%28%0A%20%20%20%20%20%20%20%20%20%20%20%20%20%20%20%20%5B45.4687012%2C9.1816966%5D%2C%0A%20%20%20%20%20%20%20%20%20%20%20%20%20%20%20%20%7B%0A%20%20%22bubblingMouseEvents%22%3A%20true%2C%0A%20%20%22color%22%3A%20%22blue%22%2C%0A%20%20%22dashArray%22%3A%20null%2C%0A%20%20%22dashOffset%22%3A%20null%2C%0A%20%20%22fill%22%3A%20true%2C%0A%20%20%22fillColor%22%3A%20%22%233199cc%22%2C%0A%20%20%22fillOpacity%22%3A%200.3%2C%0A%20%20%22fillRule%22%3A%20%22evenodd%22%2C%0A%20%20%22lineCap%22%3A%20%22round%22%2C%0A%20%20%22lineJoin%22%3A%20%22round%22%2C%0A%20%20%22opacity%22%3A%201.0%2C%0A%20%20%22radius%22%3A%202%2C%0A%20%20%22stroke%22%3A%20true%2C%0A%20%20%22weight%22%3A%203%0A%7D%0A%20%20%20%20%20%20%20%20%20%20%20%20%20%20%20%20%29.addTo%28map_da06769d5e19429a9a792f12bf246aab%29%3B%0A%20%20%20%20%20%20%20%20%20%20%20%20%0A%20%20%20%20%0A%20%20%20%20%20%20%20%20%20%20%20%20var%20popup_64066edaefbc4a4d80b482c97144fe7c%20%3D%20L.popup%28%7BmaxWidth%3A%20%27300%27%7D%29%3B%0A%0A%20%20%20%20%20%20%20%20%20%20%20%20%0A%20%20%20%20%20%20%20%20%20%20%20%20%20%20%20%20var%20html_eaf83675d7b8429b89239fa18d1991e9%20%3D%20%24%28%27%3Cdiv%20id%3D%22html_eaf83675d7b8429b89239fa18d1991e9%22%20style%3D%22width%3A%20100.0%25%3B%20height%3A%20100.0%25%3B%22%3ECAIROLI%3C/div%3E%27%29%5B0%5D%3B%0A%20%20%20%20%20%20%20%20%20%20%20%20%20%20%20%20popup_64066edaefbc4a4d80b482c97144fe7c.setContent%28html_eaf83675d7b8429b89239fa18d1991e9%29%3B%0A%20%20%20%20%20%20%20%20%20%20%20%20%0A%0A%20%20%20%20%20%20%20%20%20%20%20%20circle_marker_2f7ed500c5b246239f792f6045c35418.bindPopup%28popup_64066edaefbc4a4d80b482c97144fe7c%29%3B%0A%0A%20%20%20%20%20%20%20%20%20%20%20%20%0A%20%20%20%20%20%20%20%20%0A%20%20%20%20%0A%20%20%20%20%20%20%20%20%20%20%20%20var%20circle_marker_885e1e3bac0a4aed846f86477ae5eef2%20%3D%20L.circleMarker%28%0A%20%20%20%20%20%20%20%20%20%20%20%20%20%20%20%20%5B45.4770557%2C9.2265746%5D%2C%0A%20%20%20%20%20%20%20%20%20%20%20%20%20%20%20%20%7B%0A%20%20%22bubblingMouseEvents%22%3A%20true%2C%0A%20%20%22color%22%3A%20%22blue%22%2C%0A%20%20%22dashArray%22%3A%20null%2C%0A%20%20%22dashOffset%22%3A%20null%2C%0A%20%20%22fill%22%3A%20true%2C%0A%20%20%22fillColor%22%3A%20%22%233199cc%22%2C%0A%20%20%22fillOpacity%22%3A%200.3%2C%0A%20%20%22fillRule%22%3A%20%22evenodd%22%2C%0A%20%20%22lineCap%22%3A%20%22round%22%2C%0A%20%20%22lineJoin%22%3A%20%22round%22%2C%0A%20%20%22opacity%22%3A%201.0%2C%0A%20%20%22radius%22%3A%202%2C%0A%20%20%22stroke%22%3A%20true%2C%0A%20%20%22weight%22%3A%203%0A%7D%0A%20%20%20%20%20%20%20%20%20%20%20%20%20%20%20%20%29.addTo%28map_da06769d5e19429a9a792f12bf246aab%29%3B%0A%20%20%20%20%20%20%20%20%20%20%20%20%0A%20%20%20%20%0A%20%20%20%20%20%20%20%20%20%20%20%20var%20popup_bceb5a5f37424fcbba053fc6caceea0f%20%3D%20L.popup%28%7BmaxWidth%3A%20%27300%27%7D%29%3B%0A%0A%20%20%20%20%20%20%20%20%20%20%20%20%0A%20%20%20%20%20%20%20%20%20%20%20%20%20%20%20%20var%20html_25588d7b0bfa449da1645d202d6b27db%20%3D%20%24%28%27%3Cdiv%20id%3D%22html_25588d7b0bfa449da1645d202d6b27db%22%20style%3D%22width%3A%20100.0%25%3B%20height%3A%20100.0%25%3B%22%3ECITT%C3%80%20STUDI%3C/div%3E%27%29%5B0%5D%3B%0A%20%20%20%20%20%20%20%20%20%20%20%20%20%20%20%20popup_bceb5a5f37424fcbba053fc6caceea0f.setContent%28html_25588d7b0bfa449da1645d202d6b27db%29%3B%0A%20%20%20%20%20%20%20%20%20%20%20%20%0A%0A%20%20%20%20%20%20%20%20%20%20%20%20circle_marker_885e1e3bac0a4aed846f86477ae5eef2.bindPopup%28popup_bceb5a5f37424fcbba053fc6caceea0f%29%3B%0A%0A%20%20%20%20%20%20%20%20%20%20%20%20%0A%20%20%20%20%20%20%20%20%0A%20%20%20%20%0A%20%20%20%20%20%20%20%20%20%20%20%20var%20circle_marker_73fff013a58047a7a683713dc84abb21%20%3D%20L.circleMarker%28%0A%20%20%20%20%20%20%20%20%20%20%20%20%20%20%20%20%5B45.47347885%2C9.188407990372653%5D%2C%0A%20%20%20%20%20%20%20%20%20%20%20%20%20%20%20%20%7B%0A%20%20%22bubblingMouseEvents%22%3A%20true%2C%0A%20%20%22color%22%3A%20%22blue%22%2C%0A%20%20%22dashArray%22%3A%20null%2C%0A%20%20%22dashOffset%22%3A%20null%2C%0A%20%20%22fill%22%3A%20true%2C%0A%20%20%22fillColor%22%3A%20%22%233199cc%22%2C%0A%20%20%22fillOpacity%22%3A%200.3%2C%0A%20%20%22fillRule%22%3A%20%22evenodd%22%2C%0A%20%20%22lineCap%22%3A%20%22round%22%2C%0A%20%20%22lineJoin%22%3A%20%22round%22%2C%0A%20%20%22opacity%22%3A%201.0%2C%0A%20%20%22radius%22%3A%202%2C%0A%20%20%22stroke%22%3A%20true%2C%0A%20%20%22weight%22%3A%203%0A%7D%0A%20%20%20%20%20%20%20%20%20%20%20%20%20%20%20%20%29.addTo%28map_da06769d5e19429a9a792f12bf246aab%29%3B%0A%20%20%20%20%20%20%20%20%20%20%20%20%0A%20%20%20%20%0A%20%20%20%20%20%20%20%20%20%20%20%20var%20popup_cbe8f79f7e734baa826fe3fd4ce78832%20%3D%20L.popup%28%7BmaxWidth%3A%20%27300%27%7D%29%3B%0A%0A%20%20%20%20%20%20%20%20%20%20%20%20%0A%20%20%20%20%20%20%20%20%20%20%20%20%20%20%20%20var%20html_03c4faeaea394812b2dc453063cd84d2%20%3D%20%24%28%27%3Cdiv%20id%3D%22html_03c4faeaea394812b2dc453063cd84d2%22%20style%3D%22width%3A%20100.0%25%3B%20height%3A%20100.0%25%3B%22%3EBRERA%3C/div%3E%27%29%5B0%5D%3B%0A%20%20%20%20%20%20%20%20%20%20%20%20%20%20%20%20popup_cbe8f79f7e734baa826fe3fd4ce78832.setContent%28html_03c4faeaea394812b2dc453063cd84d2%29%3B%0A%20%20%20%20%20%20%20%20%20%20%20%20%0A%0A%20%20%20%20%20%20%20%20%20%20%20%20circle_marker_73fff013a58047a7a683713dc84abb21.bindPopup%28popup_cbe8f79f7e734baa826fe3fd4ce78832%29%3B%0A%0A%20%20%20%20%20%20%20%20%20%20%20%20%0A%20%20%20%20%20%20%20%20%0A%20%20%20%20%0A%20%20%20%20%20%20%20%20%20%20%20%20var%20circle_marker_0fc2edf9b4dd4ce89f81796b04a78fff%20%3D%20L.circleMarker%28%0A%20%20%20%20%20%20%20%20%20%20%20%20%20%20%20%20%5B45.4613906%2C9.1729167%5D%2C%0A%20%20%20%20%20%20%20%20%20%20%20%20%20%20%20%20%7B%0A%20%20%22bubblingMouseEvents%22%3A%20true%2C%0A%20%20%22color%22%3A%20%22blue%22%2C%0A%20%20%22dashArray%22%3A%20null%2C%0A%20%20%22dashOffset%22%3A%20null%2C%0A%20%20%22fill%22%3A%20true%2C%0A%20%20%22fillColor%22%3A%20%22%233199cc%22%2C%0A%20%20%22fillOpacity%22%3A%200.3%2C%0A%20%20%22fillRule%22%3A%20%22evenodd%22%2C%0A%20%20%22lineCap%22%3A%20%22round%22%2C%0A%20%20%22lineJoin%22%3A%20%22round%22%2C%0A%20%20%22opacity%22%3A%201.0%2C%0A%20%20%22radius%22%3A%202%2C%0A%20%20%22stroke%22%3A%20true%2C%0A%20%20%22weight%22%3A%203%0A%7D%0A%20%20%20%20%20%20%20%20%20%20%20%20%20%20%20%20%29.addTo%28map_da06769d5e19429a9a792f12bf246aab%29%3B%0A%20%20%20%20%20%20%20%20%20%20%20%20%0A%20%20%20%20%0A%20%20%20%20%20%20%20%20%20%20%20%20var%20popup_cbbd2b3a1ba64d07a57949e5b009a309%20%3D%20L.popup%28%7BmaxWidth%3A%20%27300%27%7D%29%3B%0A%0A%20%20%20%20%20%20%20%20%20%20%20%20%0A%20%20%20%20%20%20%20%20%20%20%20%20%20%20%20%20var%20html_93698f2b043546be9e0bee9bedc67272%20%3D%20%24%28%27%3Cdiv%20id%3D%22html_93698f2b043546be9e0bee9bedc67272%22%20style%3D%22width%3A%20100.0%25%3B%20height%3A%20100.0%25%3B%22%3ESANT%60AMBROGIO%3C/div%3E%27%29%5B0%5D%3B%0A%20%20%20%20%20%20%20%20%20%20%20%20%20%20%20%20popup_cbbd2b3a1ba64d07a57949e5b009a309.setContent%28html_93698f2b043546be9e0bee9bedc67272%29%3B%0A%20%20%20%20%20%20%20%20%20%20%20%20%0A%0A%20%20%20%20%20%20%20%20%20%20%20%20circle_marker_0fc2edf9b4dd4ce89f81796b04a78fff.bindPopup%28popup_cbbd2b3a1ba64d07a57949e5b009a309%29%3B%0A%0A%20%20%20%20%20%20%20%20%20%20%20%20%0A%20%20%20%20%20%20%20%20%0A%20%20%20%20%0A%20%20%20%20%20%20%20%20%20%20%20%20var%20circle_marker_68104e6009054a1f88a6737c2b665770%20%3D%20L.circleMarker%28%0A%20%20%20%20%20%20%20%20%20%20%20%20%20%20%20%20%5B45.4681551%2C9.1771024%5D%2C%0A%20%20%20%20%20%20%20%20%20%20%20%20%20%20%20%20%7B%0A%20%20%22bubblingMouseEvents%22%3A%20true%2C%0A%20%20%22color%22%3A%20%22blue%22%2C%0A%20%20%22dashArray%22%3A%20null%2C%0A%20%20%22dashOffset%22%3A%20null%2C%0A%20%20%22fill%22%3A%20true%2C%0A%20%20%22fillColor%22%3A%20%22%233199cc%22%2C%0A%20%20%22fillOpacity%22%3A%200.3%2C%0A%20%20%22fillRule%22%3A%20%22evenodd%22%2C%0A%20%20%22lineCap%22%3A%20%22round%22%2C%0A%20%20%22lineJoin%22%3A%20%22round%22%2C%0A%20%20%22opacity%22%3A%201.0%2C%0A%20%20%22radius%22%3A%202%2C%0A%20%20%22stroke%22%3A%20true%2C%0A%20%20%22weight%22%3A%203%0A%7D%0A%20%20%20%20%20%20%20%20%20%20%20%20%20%20%20%20%29.addTo%28map_da06769d5e19429a9a792f12bf246aab%29%3B%0A%20%20%20%20%20%20%20%20%20%20%20%20%0A%20%20%20%20%0A%20%20%20%20%20%20%20%20%20%20%20%20var%20popup_187ab306b81244b28741a5e037a19f84%20%3D%20L.popup%28%7BmaxWidth%3A%20%27300%27%7D%29%3B%0A%0A%20%20%20%20%20%20%20%20%20%20%20%20%0A%20%20%20%20%20%20%20%20%20%20%20%20%20%20%20%20var%20html_bc081aa55e914bd4be197a36da3e20eb%20%3D%20%24%28%27%3Cdiv%20id%3D%22html_bc081aa55e914bd4be197a36da3e20eb%22%20style%3D%22width%3A%20100.0%25%3B%20height%3A%20100.0%25%3B%22%3ECADORNA%3C/div%3E%27%29%5B0%5D%3B%0A%20%20%20%20%20%20%20%20%20%20%20%20%20%20%20%20popup_187ab306b81244b28741a5e037a19f84.setContent%28html_bc081aa55e914bd4be197a36da3e20eb%29%3B%0A%20%20%20%20%20%20%20%20%20%20%20%20%0A%0A%20%20%20%20%20%20%20%20%20%20%20%20circle_marker_68104e6009054a1f88a6737c2b665770.bindPopup%28popup_187ab306b81244b28741a5e037a19f84%29%3B%0A%0A%20%20%20%20%20%20%20%20%20%20%20%20%0A%20%20%20%20%20%20%20%20%0A%20%20%20%20%0A%20%20%20%20%20%20%20%20%20%20%20%20var%20circle_marker_4e46123e66414e8abcae387d63024f94%20%3D%20L.circleMarker%28%0A%20%20%20%20%20%20%20%20%20%20%20%20%20%20%20%20%5B45.4663326%2C9.1847796%5D%2C%0A%20%20%20%20%20%20%20%20%20%20%20%20%20%20%20%20%7B%0A%20%20%22bubblingMouseEvents%22%3A%20true%2C%0A%20%20%22color%22%3A%20%22blue%22%2C%0A%20%20%22dashArray%22%3A%20null%2C%0A%20%20%22dashOffset%22%3A%20null%2C%0A%20%20%22fill%22%3A%20true%2C%0A%20%20%22fillColor%22%3A%20%22%233199cc%22%2C%0A%20%20%22fillOpacity%22%3A%200.3%2C%0A%20%20%22fillRule%22%3A%20%22evenodd%22%2C%0A%20%20%22lineCap%22%3A%20%22round%22%2C%0A%20%20%22lineJoin%22%3A%20%22round%22%2C%0A%20%20%22opacity%22%3A%201.0%2C%0A%20%20%22radius%22%3A%202%2C%0A%20%20%22stroke%22%3A%20true%2C%0A%20%20%22weight%22%3A%203%0A%7D%0A%20%20%20%20%20%20%20%20%20%20%20%20%20%20%20%20%29.addTo%28map_da06769d5e19429a9a792f12bf246aab%29%3B%0A%20%20%20%20%20%20%20%20%20%20%20%20%0A%20%20%20%20%0A%20%20%20%20%20%20%20%20%20%20%20%20var%20popup_703a0793f58e44e7b1e9cfce5fba35ab%20%3D%20L.popup%28%7BmaxWidth%3A%20%27300%27%7D%29%3B%0A%0A%20%20%20%20%20%20%20%20%20%20%20%20%0A%20%20%20%20%20%20%20%20%20%20%20%20%20%20%20%20var%20html_8af039c613244271b1cd0ee1755953a4%20%3D%20%24%28%27%3Cdiv%20id%3D%22html_8af039c613244271b1cd0ee1755953a4%22%20style%3D%22width%3A%20100.0%25%3B%20height%3A%20100.0%25%3B%22%3EVIA%20DANTE%3C/div%3E%27%29%5B0%5D%3B%0A%20%20%20%20%20%20%20%20%20%20%20%20%20%20%20%20popup_703a0793f58e44e7b1e9cfce5fba35ab.setContent%28html_8af039c613244271b1cd0ee1755953a4%29%3B%0A%20%20%20%20%20%20%20%20%20%20%20%20%0A%0A%20%20%20%20%20%20%20%20%20%20%20%20circle_marker_4e46123e66414e8abcae387d63024f94.bindPopup%28popup_703a0793f58e44e7b1e9cfce5fba35ab%29%3B%0A%0A%20%20%20%20%20%20%20%20%20%20%20%20%0A%20%20%20%20%20%20%20%20%0A%20%20%20%20%0A%20%20%20%20%20%20%20%20%20%20%20%20var%20circle_marker_c529de1fe0fd4c458fcd73fe1d0f9419%20%3D%20L.circleMarker%28%0A%20%20%20%20%20%20%20%20%20%20%20%20%20%20%20%20%5B45.47301905%2C9.176969268773153%5D%2C%0A%20%20%20%20%20%20%20%20%20%20%20%20%20%20%20%20%7B%0A%20%20%22bubblingMouseEvents%22%3A%20true%2C%0A%20%20%22color%22%3A%20%22blue%22%2C%0A%20%20%22dashArray%22%3A%20null%2C%0A%20%20%22dashOffset%22%3A%20null%2C%0A%20%20%22fill%22%3A%20true%2C%0A%20%20%22fillColor%22%3A%20%22%233199cc%22%2C%0A%20%20%22fillOpacity%22%3A%200.3%2C%0A%20%20%22fillRule%22%3A%20%22evenodd%22%2C%0A%20%20%22lineCap%22%3A%20%22round%22%2C%0A%20%20%22lineJoin%22%3A%20%22round%22%2C%0A%20%20%22opacity%22%3A%201.0%2C%0A%20%20%22radius%22%3A%202%2C%0A%20%20%22stroke%22%3A%20true%2C%0A%20%20%22weight%22%3A%203%0A%7D%0A%20%20%20%20%20%20%20%20%20%20%20%20%20%20%20%20%29.addTo%28map_da06769d5e19429a9a792f12bf246aab%29%3B%0A%20%20%20%20%20%20%20%20%20%20%20%20%0A%20%20%20%20%0A%20%20%20%20%20%20%20%20%20%20%20%20var%20popup_59df8f19c86946edbcb2be2b6ac06a70%20%3D%20L.popup%28%7BmaxWidth%3A%20%27300%27%7D%29%3B%0A%0A%20%20%20%20%20%20%20%20%20%20%20%20%0A%20%20%20%20%20%20%20%20%20%20%20%20%20%20%20%20var%20html_9ed4ac64bc7c42a89b9502c7c5d200a0%20%3D%20%24%28%27%3Cdiv%20id%3D%22html_9ed4ac64bc7c42a89b9502c7c5d200a0%22%20style%3D%22width%3A%20100.0%25%3B%20height%3A%20100.0%25%3B%22%3EPARCO%20SEMPIONE%3C/div%3E%27%29%5B0%5D%3B%0A%20%20%20%20%20%20%20%20%20%20%20%20%20%20%20%20popup_59df8f19c86946edbcb2be2b6ac06a70.setContent%28html_9ed4ac64bc7c42a89b9502c7c5d200a0%29%3B%0A%20%20%20%20%20%20%20%20%20%20%20%20%0A%0A%20%20%20%20%20%20%20%20%20%20%20%20circle_marker_c529de1fe0fd4c458fcd73fe1d0f9419.bindPopup%28popup_59df8f19c86946edbcb2be2b6ac06a70%29%3B%0A%0A%20%20%20%20%20%20%20%20%20%20%20%20%0A%20%20%20%20%20%20%20%20%0A%20%20%20%20%0A%20%20%20%20%20%20%20%20%20%20%20%20var%20circle_marker_d0bc2cb11fa242309d7b0fd31b660c50%20%3D%20L.circleMarker%28%0A%20%20%20%20%20%20%20%20%20%20%20%20%20%20%20%20%5B45.47569195%2C9.172427802834267%5D%2C%0A%20%20%20%20%20%20%20%20%20%20%20%20%20%20%20%20%7B%0A%20%20%22bubblingMouseEvents%22%3A%20true%2C%0A%20%20%22color%22%3A%20%22blue%22%2C%0A%20%20%22dashArray%22%3A%20null%2C%0A%20%20%22dashOffset%22%3A%20null%2C%0A%20%20%22fill%22%3A%20true%2C%0A%20%20%22fillColor%22%3A%20%22%233199cc%22%2C%0A%20%20%22fillOpacity%22%3A%200.3%2C%0A%20%20%22fillRule%22%3A%20%22evenodd%22%2C%0A%20%20%22lineCap%22%3A%20%22round%22%2C%0A%20%20%22lineJoin%22%3A%20%22round%22%2C%0A%20%20%22opacity%22%3A%201.0%2C%0A%20%20%22radius%22%3A%202%2C%0A%20%20%22stroke%22%3A%20true%2C%0A%20%20%22weight%22%3A%203%0A%7D%0A%20%20%20%20%20%20%20%20%20%20%20%20%20%20%20%20%29.addTo%28map_da06769d5e19429a9a792f12bf246aab%29%3B%0A%20%20%20%20%20%20%20%20%20%20%20%20%0A%20%20%20%20%0A%20%20%20%20%20%20%20%20%20%20%20%20var%20popup_7c4af33aaa13456d8ed8be3af9c721bd%20%3D%20L.popup%28%7BmaxWidth%3A%20%27300%27%7D%29%3B%0A%0A%20%20%20%20%20%20%20%20%20%20%20%20%0A%20%20%20%20%20%20%20%20%20%20%20%20%20%20%20%20var%20html_15a0e19383d84de8ae51ac78a7400e2e%20%3D%20%24%28%27%3Cdiv%20id%3D%22html_15a0e19383d84de8ae51ac78a7400e2e%22%20style%3D%22width%3A%20100.0%25%3B%20height%3A%20100.0%25%3B%22%3EARCO%20DELLA%20PACE%3C/div%3E%27%29%5B0%5D%3B%0A%20%20%20%20%20%20%20%20%20%20%20%20%20%20%20%20popup_7c4af33aaa13456d8ed8be3af9c721bd.setContent%28html_15a0e19383d84de8ae51ac78a7400e2e%29%3B%0A%20%20%20%20%20%20%20%20%20%20%20%20%0A%0A%20%20%20%20%20%20%20%20%20%20%20%20circle_marker_d0bc2cb11fa242309d7b0fd31b660c50.bindPopup%28popup_7c4af33aaa13456d8ed8be3af9c721bd%29%3B%0A%0A%20%20%20%20%20%20%20%20%20%20%20%20%0A%20%20%20%20%20%20%20%20%0A%20%20%20%20%0A%20%20%20%20%20%20%20%20%20%20%20%20var%20circle_marker_b1b4432c9db54e838f8a34cfb1252188%20%3D%20L.circleMarker%28%0A%20%20%20%20%20%20%20%20%20%20%20%20%20%20%20%20%5B45.475039%2C9.1947243%5D%2C%0A%20%20%20%20%20%20%20%20%20%20%20%20%20%20%20%20%7B%0A%20%20%22bubblingMouseEvents%22%3A%20true%2C%0A%20%20%22color%22%3A%20%22blue%22%2C%0A%20%20%22dashArray%22%3A%20null%2C%0A%20%20%22dashOffset%22%3A%20null%2C%0A%20%20%22fill%22%3A%20true%2C%0A%20%20%22fillColor%22%3A%20%22%233199cc%22%2C%0A%20%20%22fillOpacity%22%3A%200.3%2C%0A%20%20%22fillRule%22%3A%20%22evenodd%22%2C%0A%20%20%22lineCap%22%3A%20%22round%22%2C%0A%20%20%22lineJoin%22%3A%20%22round%22%2C%0A%20%20%22opacity%22%3A%201.0%2C%0A%20%20%22radius%22%3A%202%2C%0A%20%20%22stroke%22%3A%20true%2C%0A%20%20%22weight%22%3A%203%0A%7D%0A%20%20%20%20%20%20%20%20%20%20%20%20%20%20%20%20%29.addTo%28map_da06769d5e19429a9a792f12bf246aab%29%3B%0A%20%20%20%20%20%20%20%20%20%20%20%20%0A%20%20%20%20%0A%20%20%20%20%20%20%20%20%20%20%20%20var%20popup_90e86a6a64f046329e8278a4a5d6a22f%20%3D%20L.popup%28%7BmaxWidth%3A%20%27300%27%7D%29%3B%0A%0A%20%20%20%20%20%20%20%20%20%20%20%20%0A%20%20%20%20%20%20%20%20%20%20%20%20%20%20%20%20var%20html_1b8dfce9586944dba038b56f704c81fe%20%3D%20%24%28%27%3Cdiv%20id%3D%22html_1b8dfce9586944dba038b56f704c81fe%22%20style%3D%22width%3A%20100.0%25%3B%20height%3A%20100.0%25%3B%22%3ETURATI%3C/div%3E%27%29%5B0%5D%3B%0A%20%20%20%20%20%20%20%20%20%20%20%20%20%20%20%20popup_90e86a6a64f046329e8278a4a5d6a22f.setContent%28html_1b8dfce9586944dba038b56f704c81fe%29%3B%0A%20%20%20%20%20%20%20%20%20%20%20%20%0A%0A%20%20%20%20%20%20%20%20%20%20%20%20circle_marker_b1b4432c9db54e838f8a34cfb1252188.bindPopup%28popup_90e86a6a64f046329e8278a4a5d6a22f%29%3B%0A%0A%20%20%20%20%20%20%20%20%20%20%20%20%0A%20%20%20%20%20%20%20%20%0A%20%20%20%20%0A%20%20%20%20%20%20%20%20%20%20%20%20var%20circle_marker_9d2102d1ab54457e90d916826832e1c0%20%3D%20L.circleMarker%28%0A%20%20%20%20%20%20%20%20%20%20%20%20%20%20%20%20%5B45.4770906%2C9.1843416%5D%2C%0A%20%20%20%20%20%20%20%20%20%20%20%20%20%20%20%20%7B%0A%20%20%22bubblingMouseEvents%22%3A%20true%2C%0A%20%20%22color%22%3A%20%22blue%22%2C%0A%20%20%22dashArray%22%3A%20null%2C%0A%20%20%22dashOffset%22%3A%20null%2C%0A%20%20%22fill%22%3A%20true%2C%0A%20%20%22fillColor%22%3A%20%22%233199cc%22%2C%0A%20%20%22fillOpacity%22%3A%200.3%2C%0A%20%20%22fillRule%22%3A%20%22evenodd%22%2C%0A%20%20%22lineCap%22%3A%20%22round%22%2C%0A%20%20%22lineJoin%22%3A%20%22round%22%2C%0A%20%20%22opacity%22%3A%201.0%2C%0A%20%20%22radius%22%3A%202%2C%0A%20%20%22stroke%22%3A%20true%2C%0A%20%20%22weight%22%3A%203%0A%7D%0A%20%20%20%20%20%20%20%20%20%20%20%20%20%20%20%20%29.addTo%28map_da06769d5e19429a9a792f12bf246aab%29%3B%0A%20%20%20%20%20%20%20%20%20%20%20%20%0A%20%20%20%20%0A%20%20%20%20%20%20%20%20%20%20%20%20var%20popup_a2e009f59328495da3a58990d788e430%20%3D%20L.popup%28%7BmaxWidth%3A%20%27300%27%7D%29%3B%0A%0A%20%20%20%20%20%20%20%20%20%20%20%20%0A%20%20%20%20%20%20%20%20%20%20%20%20%20%20%20%20var%20html_1a1acc9cf85e46ac976abaa19edd81cf%20%3D%20%24%28%27%3Cdiv%20id%3D%22html_1a1acc9cf85e46ac976abaa19edd81cf%22%20style%3D%22width%3A%20100.0%25%3B%20height%3A%20100.0%25%3B%22%3EMOSCOVA%3C/div%3E%27%29%5B0%5D%3B%0A%20%20%20%20%20%20%20%20%20%20%20%20%20%20%20%20popup_a2e009f59328495da3a58990d788e430.setContent%28html_1a1acc9cf85e46ac976abaa19edd81cf%29%3B%0A%20%20%20%20%20%20%20%20%20%20%20%20%0A%0A%20%20%20%20%20%20%20%20%20%20%20%20circle_marker_9d2102d1ab54457e90d916826832e1c0.bindPopup%28popup_a2e009f59328495da3a58990d788e430%29%3B%0A%0A%20%20%20%20%20%20%20%20%20%20%20%20%0A%20%20%20%20%20%20%20%20%0A%20%20%20%20%0A%20%20%20%20%20%20%20%20%20%20%20%20var%20circle_marker_831b8d24c47f43e59b2607da3157062f%20%3D%20L.circleMarker%28%0A%20%20%20%20%20%20%20%20%20%20%20%20%20%20%20%20%5B45.474282099999996%2C9.205226499999997%5D%2C%0A%20%20%20%20%20%20%20%20%20%20%20%20%20%20%20%20%7B%0A%20%20%22bubblingMouseEvents%22%3A%20true%2C%0A%20%20%22color%22%3A%20%22blue%22%2C%0A%20%20%22dashArray%22%3A%20null%2C%0A%20%20%22dashOffset%22%3A%20null%2C%0A%20%20%22fill%22%3A%20true%2C%0A%20%20%22fillColor%22%3A%20%22%233199cc%22%2C%0A%20%20%22fillOpacity%22%3A%200.3%2C%0A%20%20%22fillRule%22%3A%20%22evenodd%22%2C%0A%20%20%22lineCap%22%3A%20%22round%22%2C%0A%20%20%22lineJoin%22%3A%20%22round%22%2C%0A%20%20%22opacity%22%3A%201.0%2C%0A%20%20%22radius%22%3A%202%2C%0A%20%20%22stroke%22%3A%20true%2C%0A%20%20%22weight%22%3A%203%0A%7D%0A%20%20%20%20%20%20%20%20%20%20%20%20%20%20%20%20%29.addTo%28map_da06769d5e19429a9a792f12bf246aab%29%3B%0A%20%20%20%20%20%20%20%20%20%20%20%20%0A%20%20%20%20%0A%20%20%20%20%20%20%20%20%20%20%20%20var%20popup_597fbcf1d78d448882d74920230b901d%20%3D%20L.popup%28%7BmaxWidth%3A%20%27300%27%7D%29%3B%0A%0A%20%20%20%20%20%20%20%20%20%20%20%20%0A%20%20%20%20%20%20%20%20%20%20%20%20%20%20%20%20var%20html_8cddc01f946b406fbe2c00e116d16fdd%20%3D%20%24%28%27%3Cdiv%20id%3D%22html_8cddc01f946b406fbe2c00e116d16fdd%22%20style%3D%22width%3A%20100.0%25%3B%20height%3A%20100.0%25%3B%22%3EPORTA%20VENEZIA%3C/div%3E%27%29%5B0%5D%3B%0A%20%20%20%20%20%20%20%20%20%20%20%20%20%20%20%20popup_597fbcf1d78d448882d74920230b901d.setContent%28html_8cddc01f946b406fbe2c00e116d16fdd%29%3B%0A%20%20%20%20%20%20%20%20%20%20%20%20%0A%0A%20%20%20%20%20%20%20%20%20%20%20%20circle_marker_831b8d24c47f43e59b2607da3157062f.bindPopup%28popup_597fbcf1d78d448882d74920230b901d%29%3B%0A%0A%20%20%20%20%20%20%20%20%20%20%20%20%0A%20%20%20%20%20%20%20%20%0A%20%20%20%20%0A%20%20%20%20%20%20%20%20%20%20%20%20var%20circle_marker_bac8bbc870714d45b7296f632e717bd3%20%3D%20L.circleMarker%28%0A%20%20%20%20%20%20%20%20%20%20%20%20%20%20%20%20%5B45.1403353%2C8.4530285%5D%2C%0A%20%20%20%20%20%20%20%20%20%20%20%20%20%20%20%20%7B%0A%20%20%22bubblingMouseEvents%22%3A%20true%2C%0A%20%20%22color%22%3A%20%22blue%22%2C%0A%20%20%22dashArray%22%3A%20null%2C%0A%20%20%22dashOffset%22%3A%20null%2C%0A%20%20%22fill%22%3A%20true%2C%0A%20%20%22fillColor%22%3A%20%22%233199cc%22%2C%0A%20%20%22fillOpacity%22%3A%200.3%2C%0A%20%20%22fillRule%22%3A%20%22evenodd%22%2C%0A%20%20%22lineCap%22%3A%20%22round%22%2C%0A%20%20%22lineJoin%22%3A%20%22round%22%2C%0A%20%20%22opacity%22%3A%201.0%2C%0A%20%20%22radius%22%3A%202%2C%0A%20%20%22stroke%22%3A%20true%2C%0A%20%20%22weight%22%3A%203%0A%7D%0A%20%20%20%20%20%20%20%20%20%20%20%20%20%20%20%20%29.addTo%28map_da06769d5e19429a9a792f12bf246aab%29%3B%0A%20%20%20%20%20%20%20%20%20%20%20%20%0A%20%20%20%20%0A%20%20%20%20%20%20%20%20%20%20%20%20var%20popup_ce1b7bc743e74e79850f936436a7a2ff%20%3D%20L.popup%28%7BmaxWidth%3A%20%27300%27%7D%29%3B%0A%0A%20%20%20%20%20%20%20%20%20%20%20%20%0A%20%20%20%20%20%20%20%20%20%20%20%20%20%20%20%20var%20html_f2e7ac30bfce4692b6eb4703f451625c%20%3D%20%24%28%27%3Cdiv%20id%3D%22html_f2e7ac30bfce4692b6eb4703f451625c%22%20style%3D%22width%3A%20100.0%25%3B%20height%3A%20100.0%25%3B%22%3EVENEZIA%3C/div%3E%27%29%5B0%5D%3B%0A%20%20%20%20%20%20%20%20%20%20%20%20%20%20%20%20popup_ce1b7bc743e74e79850f936436a7a2ff.setContent%28html_f2e7ac30bfce4692b6eb4703f451625c%29%3B%0A%20%20%20%20%20%20%20%20%20%20%20%20%0A%0A%20%20%20%20%20%20%20%20%20%20%20%20circle_marker_bac8bbc870714d45b7296f632e717bd3.bindPopup%28popup_ce1b7bc743e74e79850f936436a7a2ff%29%3B%0A%0A%20%20%20%20%20%20%20%20%20%20%20%20%0A%20%20%20%20%20%20%20%20%0A%20%20%20%20%0A%20%20%20%20%20%20%20%20%20%20%20%20var%20circle_marker_31ca81518ebf413c92a16d9e63ed691d%20%3D%20L.circleMarker%28%0A%20%20%20%20%20%20%20%20%20%20%20%20%20%20%20%20%5B45.4622607%2C9.2095796%5D%2C%0A%20%20%20%20%20%20%20%20%20%20%20%20%20%20%20%20%7B%0A%20%20%22bubblingMouseEvents%22%3A%20true%2C%0A%20%20%22color%22%3A%20%22blue%22%2C%0A%20%20%22dashArray%22%3A%20null%2C%0A%20%20%22dashOffset%22%3A%20null%2C%0A%20%20%22fill%22%3A%20true%2C%0A%20%20%22fillColor%22%3A%20%22%233199cc%22%2C%0A%20%20%22fillOpacity%22%3A%200.3%2C%0A%20%20%22fillRule%22%3A%20%22evenodd%22%2C%0A%20%20%22lineCap%22%3A%20%22round%22%2C%0A%20%20%22lineJoin%22%3A%20%22round%22%2C%0A%20%20%22opacity%22%3A%201.0%2C%0A%20%20%22radius%22%3A%202%2C%0A%20%20%22stroke%22%3A%20true%2C%0A%20%20%22weight%22%3A%203%0A%7D%0A%20%20%20%20%20%20%20%20%20%20%20%20%20%20%20%20%29.addTo%28map_da06769d5e19429a9a792f12bf246aab%29%3B%0A%20%20%20%20%20%20%20%20%20%20%20%20%0A%20%20%20%20%0A%20%20%20%20%20%20%20%20%20%20%20%20var%20popup_eddba63b65a641dc991ca03f8db45f1e%20%3D%20L.popup%28%7BmaxWidth%3A%20%27300%27%7D%29%3B%0A%0A%20%20%20%20%20%20%20%20%20%20%20%20%0A%20%20%20%20%20%20%20%20%20%20%20%20%20%20%20%20var%20html_1b00be017d2d4d048b96edc3e6848ea7%20%3D%20%24%28%27%3Cdiv%20id%3D%22html_1b00be017d2d4d048b96edc3e6848ea7%22%20style%3D%22width%3A%20100.0%25%3B%20height%3A%20100.0%25%3B%22%3EPORTA%20VITTORIA%3C/div%3E%27%29%5B0%5D%3B%0A%20%20%20%20%20%20%20%20%20%20%20%20%20%20%20%20popup_eddba63b65a641dc991ca03f8db45f1e.setContent%28html_1b00be017d2d4d048b96edc3e6848ea7%29%3B%0A%20%20%20%20%20%20%20%20%20%20%20%20%0A%0A%20%20%20%20%20%20%20%20%20%20%20%20circle_marker_31ca81518ebf413c92a16d9e63ed691d.bindPopup%28popup_eddba63b65a641dc991ca03f8db45f1e%29%3B%0A%0A%20%20%20%20%20%20%20%20%20%20%20%20%0A%20%20%20%20%20%20%20%20%0A%20%20%20%20%0A%20%20%20%20%20%20%20%20%20%20%20%20var%20circle_marker_fa54c101a734416aafa4a2c69fb17a91%20%3D%20L.circleMarker%28%0A%20%20%20%20%20%20%20%20%20%20%20%20%20%20%20%20%5B45.4522392%2C9.20205595%5D%2C%0A%20%20%20%20%20%20%20%20%20%20%20%20%20%20%20%20%7B%0A%20%20%22bubblingMouseEvents%22%3A%20true%2C%0A%20%20%22color%22%3A%20%22blue%22%2C%0A%20%20%22dashArray%22%3A%20null%2C%0A%20%20%22dashOffset%22%3A%20null%2C%0A%20%20%22fill%22%3A%20true%2C%0A%20%20%22fillColor%22%3A%20%22%233199cc%22%2C%0A%20%20%22fillOpacity%22%3A%200.3%2C%0A%20%20%22fillRule%22%3A%20%22evenodd%22%2C%0A%20%20%22lineCap%22%3A%20%22round%22%2C%0A%20%20%22lineJoin%22%3A%20%22round%22%2C%0A%20%20%22opacity%22%3A%201.0%2C%0A%20%20%22radius%22%3A%202%2C%0A%20%20%22stroke%22%3A%20true%2C%0A%20%20%22weight%22%3A%203%0A%7D%0A%20%20%20%20%20%20%20%20%20%20%20%20%20%20%20%20%29.addTo%28map_da06769d5e19429a9a792f12bf246aab%29%3B%0A%20%20%20%20%20%20%20%20%20%20%20%20%0A%20%20%20%20%0A%20%20%20%20%20%20%20%20%20%20%20%20var%20popup_c82de5cf94914c83bb05d4f4e90289f0%20%3D%20L.popup%28%7BmaxWidth%3A%20%27300%27%7D%29%3B%0A%0A%20%20%20%20%20%20%20%20%20%20%20%20%0A%20%20%20%20%20%20%20%20%20%20%20%20%20%20%20%20var%20html_1e51ca949bbf4feb96ea8f4a30072707%20%3D%20%24%28%27%3Cdiv%20id%3D%22html_1e51ca949bbf4feb96ea8f4a30072707%22%20style%3D%22width%3A%20100.0%25%3B%20height%3A%20100.0%25%3B%22%3EPORTA%20ROMANA%3C/div%3E%27%29%5B0%5D%3B%0A%20%20%20%20%20%20%20%20%20%20%20%20%20%20%20%20popup_c82de5cf94914c83bb05d4f4e90289f0.setContent%28html_1e51ca949bbf4feb96ea8f4a30072707%29%3B%0A%20%20%20%20%20%20%20%20%20%20%20%20%0A%0A%20%20%20%20%20%20%20%20%20%20%20%20circle_marker_fa54c101a734416aafa4a2c69fb17a91.bindPopup%28popup_c82de5cf94914c83bb05d4f4e90289f0%29%3B%0A%0A%20%20%20%20%20%20%20%20%20%20%20%20%0A%20%20%20%20%20%20%20%20%0A%20%20%20%20%0A%20%20%20%20%20%20%20%20%20%20%20%20var%20circle_marker_62d734bd3ce44653adf111ce0972d763%20%3D%20L.circleMarker%28%0A%20%20%20%20%20%20%20%20%20%20%20%20%20%20%20%20%5B45.451351%2C9.1964451%5D%2C%0A%20%20%20%20%20%20%20%20%20%20%20%20%20%20%20%20%7B%0A%20%20%22bubblingMouseEvents%22%3A%20true%2C%0A%20%20%22color%22%3A%20%22blue%22%2C%0A%20%20%22dashArray%22%3A%20null%2C%0A%20%20%22dashOffset%22%3A%20null%2C%0A%20%20%22fill%22%3A%20true%2C%0A%20%20%22fillColor%22%3A%20%22%233199cc%22%2C%0A%20%20%22fillOpacity%22%3A%200.3%2C%0A%20%20%22fillRule%22%3A%20%22evenodd%22%2C%0A%20%20%22lineCap%22%3A%20%22round%22%2C%0A%20%20%22lineJoin%22%3A%20%22round%22%2C%0A%20%20%22opacity%22%3A%201.0%2C%0A%20%20%22radius%22%3A%202%2C%0A%20%20%22stroke%22%3A%20true%2C%0A%20%20%22weight%22%3A%203%0A%7D%0A%20%20%20%20%20%20%20%20%20%20%20%20%20%20%20%20%29.addTo%28map_da06769d5e19429a9a792f12bf246aab%29%3B%0A%20%20%20%20%20%20%20%20%20%20%20%20%0A%20%20%20%20%0A%20%20%20%20%20%20%20%20%20%20%20%20var%20popup_36bf0f73a46a42549d0459cda084623c%20%3D%20L.popup%28%7BmaxWidth%3A%20%27300%27%7D%29%3B%0A%0A%20%20%20%20%20%20%20%20%20%20%20%20%0A%20%20%20%20%20%20%20%20%20%20%20%20%20%20%20%20var%20html_a1816282c9e64d3fba8596650998f685%20%3D%20%24%28%27%3Cdiv%20id%3D%22html_a1816282c9e64d3fba8596650998f685%22%20style%3D%22width%3A%20100.0%25%3B%20height%3A%20100.0%25%3B%22%3EPORTA%20VIGENTINA%3C/div%3E%27%29%5B0%5D%3B%0A%20%20%20%20%20%20%20%20%20%20%20%20%20%20%20%20popup_36bf0f73a46a42549d0459cda084623c.setContent%28html_a1816282c9e64d3fba8596650998f685%29%3B%0A%20%20%20%20%20%20%20%20%20%20%20%20%0A%0A%20%20%20%20%20%20%20%20%20%20%20%20circle_marker_62d734bd3ce44653adf111ce0972d763.bindPopup%28popup_36bf0f73a46a42549d0459cda084623c%29%3B%0A%0A%20%20%20%20%20%20%20%20%20%20%20%20%0A%20%20%20%20%20%20%20%20%0A%20%20%20%20%0A%20%20%20%20%20%20%20%20%20%20%20%20var%20circle_marker_ca95bf02bc9c4fbdaded9e3ad0e50a96%20%3D%20L.circleMarker%28%0A%20%20%20%20%20%20%20%20%20%20%20%20%20%20%20%20%5B45.4522392%2C9.20205595%5D%2C%0A%20%20%20%20%20%20%20%20%20%20%20%20%20%20%20%20%7B%0A%20%20%22bubblingMouseEvents%22%3A%20true%2C%0A%20%20%22color%22%3A%20%22blue%22%2C%0A%20%20%22dashArray%22%3A%20null%2C%0A%20%20%22dashOffset%22%3A%20null%2C%0A%20%20%22fill%22%3A%20true%2C%0A%20%20%22fillColor%22%3A%20%22%233199cc%22%2C%0A%20%20%22fillOpacity%22%3A%200.3%2C%0A%20%20%22fillRule%22%3A%20%22evenodd%22%2C%0A%20%20%22lineCap%22%3A%20%22round%22%2C%0A%20%20%22lineJoin%22%3A%20%22round%22%2C%0A%20%20%22opacity%22%3A%201.0%2C%0A%20%20%22radius%22%3A%202%2C%0A%20%20%22stroke%22%3A%20true%2C%0A%20%20%22weight%22%3A%203%0A%7D%0A%20%20%20%20%20%20%20%20%20%20%20%20%20%20%20%20%29.addTo%28map_da06769d5e19429a9a792f12bf246aab%29%3B%0A%20%20%20%20%20%20%20%20%20%20%20%20%0A%20%20%20%20%0A%20%20%20%20%20%20%20%20%20%20%20%20var%20popup_7bf63785bbb848df901f366d9b3244ad%20%3D%20L.popup%28%7BmaxWidth%3A%20%27300%27%7D%29%3B%0A%0A%20%20%20%20%20%20%20%20%20%20%20%20%0A%20%20%20%20%20%20%20%20%20%20%20%20%20%20%20%20var%20html_d197edfbb2ba4450831e9557b86a46ae%20%3D%20%24%28%27%3Cdiv%20id%3D%22html_d197edfbb2ba4450831e9557b86a46ae%22%20style%3D%22width%3A%20100.0%25%3B%20height%3A%20100.0%25%3B%22%3EPORTA%20ROMANA%3C/div%3E%27%29%5B0%5D%3B%0A%20%20%20%20%20%20%20%20%20%20%20%20%20%20%20%20popup_7bf63785bbb848df901f366d9b3244ad.setContent%28html_d197edfbb2ba4450831e9557b86a46ae%29%3B%0A%20%20%20%20%20%20%20%20%20%20%20%20%0A%0A%20%20%20%20%20%20%20%20%20%20%20%20circle_marker_ca95bf02bc9c4fbdaded9e3ad0e50a96.bindPopup%28popup_7bf63785bbb848df901f366d9b3244ad%29%3B%0A%0A%20%20%20%20%20%20%20%20%20%20%20%20%0A%20%20%20%20%20%20%20%20%0A%20%20%20%20%0A%20%20%20%20%20%20%20%20%20%20%20%20var%20circle_marker_891c1c68452c4fa9b4d9d9beb1c588f7%20%3D%20L.circleMarker%28%0A%20%20%20%20%20%20%20%20%20%20%20%20%20%20%20%20%5B45.45248575%2C9.18020677095896%5D%2C%0A%20%20%20%20%20%20%20%20%20%20%20%20%20%20%20%20%7B%0A%20%20%22bubblingMouseEvents%22%3A%20true%2C%0A%20%20%22color%22%3A%20%22blue%22%2C%0A%20%20%22dashArray%22%3A%20null%2C%0A%20%20%22dashOffset%22%3A%20null%2C%0A%20%20%22fill%22%3A%20true%2C%0A%20%20%22fillColor%22%3A%20%22%233199cc%22%2C%0A%20%20%22fillOpacity%22%3A%200.3%2C%0A%20%20%22fillRule%22%3A%20%22evenodd%22%2C%0A%20%20%22lineCap%22%3A%20%22round%22%2C%0A%20%20%22lineJoin%22%3A%20%22round%22%2C%0A%20%20%22opacity%22%3A%201.0%2C%0A%20%20%22radius%22%3A%202%2C%0A%20%20%22stroke%22%3A%20true%2C%0A%20%20%22weight%22%3A%203%0A%7D%0A%20%20%20%20%20%20%20%20%20%20%20%20%20%20%20%20%29.addTo%28map_da06769d5e19429a9a792f12bf246aab%29%3B%0A%20%20%20%20%20%20%20%20%20%20%20%20%0A%20%20%20%20%0A%20%20%20%20%20%20%20%20%20%20%20%20var%20popup_5a0269dc77414e0eba93d0aa3f5d893a%20%3D%20L.popup%28%7BmaxWidth%3A%20%27300%27%7D%29%3B%0A%0A%20%20%20%20%20%20%20%20%20%20%20%20%0A%20%20%20%20%20%20%20%20%20%20%20%20%20%20%20%20var%20html_7d18403911a24e8c9e45e45db9c0cacf%20%3D%20%24%28%27%3Cdiv%20id%3D%22html_7d18403911a24e8c9e45e45db9c0cacf%22%20style%3D%22width%3A%20100.0%25%3B%20height%3A%20100.0%25%3B%22%3EPORTA%20TICINESE%3C/div%3E%27%29%5B0%5D%3B%0A%20%20%20%20%20%20%20%20%20%20%20%20%20%20%20%20popup_5a0269dc77414e0eba93d0aa3f5d893a.setContent%28html_7d18403911a24e8c9e45e45db9c0cacf%29%3B%0A%20%20%20%20%20%20%20%20%20%20%20%20%0A%0A%20%20%20%20%20%20%20%20%20%20%20%20circle_marker_891c1c68452c4fa9b4d9d9beb1c588f7.bindPopup%28popup_5a0269dc77414e0eba93d0aa3f5d893a%29%3B%0A%0A%20%20%20%20%20%20%20%20%20%20%20%20%0A%20%20%20%20%20%20%20%20%0A%20%20%20%20%0A%20%20%20%20%20%20%20%20%20%20%20%20var%20circle_marker_be39a757ec8f493b832b0740505e820f%20%3D%20L.circleMarker%28%0A%20%20%20%20%20%20%20%20%20%20%20%20%20%20%20%20%5B45.4566646%2C9.174606%5D%2C%0A%20%20%20%20%20%20%20%20%20%20%20%20%20%20%20%20%7B%0A%20%20%22bubblingMouseEvents%22%3A%20true%2C%0A%20%20%22color%22%3A%20%22blue%22%2C%0A%20%20%22dashArray%22%3A%20null%2C%0A%20%20%22dashOffset%22%3A%20null%2C%0A%20%20%22fill%22%3A%20true%2C%0A%20%20%22fillColor%22%3A%20%22%233199cc%22%2C%0A%20%20%22fillOpacity%22%3A%200.3%2C%0A%20%20%22fillRule%22%3A%20%22evenodd%22%2C%0A%20%20%22lineCap%22%3A%20%22round%22%2C%0A%20%20%22lineJoin%22%3A%20%22round%22%2C%0A%20%20%22opacity%22%3A%201.0%2C%0A%20%20%22radius%22%3A%202%2C%0A%20%20%22stroke%22%3A%20true%2C%0A%20%20%22weight%22%3A%203%0A%7D%0A%20%20%20%20%20%20%20%20%20%20%20%20%20%20%20%20%29.addTo%28map_da06769d5e19429a9a792f12bf246aab%29%3B%0A%20%20%20%20%20%20%20%20%20%20%20%20%0A%20%20%20%20%0A%20%20%20%20%20%20%20%20%20%20%20%20var%20popup_5806066d326b4c968646caec48ad9ad4%20%3D%20L.popup%28%7BmaxWidth%3A%20%27300%27%7D%29%3B%0A%0A%20%20%20%20%20%20%20%20%20%20%20%20%0A%20%20%20%20%20%20%20%20%20%20%20%20%20%20%20%20var%20html_489d230642834ae1adb936924eb2d8d4%20%3D%20%24%28%27%3Cdiv%20id%3D%22html_489d230642834ae1adb936924eb2d8d4%22%20style%3D%22width%3A%20100.0%25%3B%20height%3A%20100.0%25%3B%22%3EPORTA%20GENOVA%3C/div%3E%27%29%5B0%5D%3B%0A%20%20%20%20%20%20%20%20%20%20%20%20%20%20%20%20popup_5806066d326b4c968646caec48ad9ad4.setContent%28html_489d230642834ae1adb936924eb2d8d4%29%3B%0A%20%20%20%20%20%20%20%20%20%20%20%20%0A%0A%20%20%20%20%20%20%20%20%20%20%20%20circle_marker_be39a757ec8f493b832b0740505e820f.bindPopup%28popup_5806066d326b4c968646caec48ad9ad4%29%3B%0A%0A%20%20%20%20%20%20%20%20%20%20%20%20%0A%20%20%20%20%20%20%20%20%0A%20%20%20%20%0A%20%20%20%20%20%20%20%20%20%20%20%20var%20circle_marker_8d0813ccfecf4495be4c141374175eed%20%3D%20L.circleMarker%28%0A%20%20%20%20%20%20%20%20%20%20%20%20%20%20%20%20%5B45.4775766%2C9.2082162%5D%2C%0A%20%20%20%20%20%20%20%20%20%20%20%20%20%20%20%20%7B%0A%20%20%22bubblingMouseEvents%22%3A%20true%2C%0A%20%20%22color%22%3A%20%22green%22%2C%0A%20%20%22dashArray%22%3A%20null%2C%0A%20%20%22dashOffset%22%3A%20null%2C%0A%20%20%22fill%22%3A%20true%2C%0A%20%20%22fillColor%22%3A%20%22%233199cc%22%2C%0A%20%20%22fillOpacity%22%3A%200.3%2C%0A%20%20%22fillRule%22%3A%20%22evenodd%22%2C%0A%20%20%22lineCap%22%3A%20%22round%22%2C%0A%20%20%22lineJoin%22%3A%20%22round%22%2C%0A%20%20%22opacity%22%3A%201.0%2C%0A%20%20%22radius%22%3A%202%2C%0A%20%20%22stroke%22%3A%20true%2C%0A%20%20%22weight%22%3A%203%0A%7D%0A%20%20%20%20%20%20%20%20%20%20%20%20%20%20%20%20%29.addTo%28map_da06769d5e19429a9a792f12bf246aab%29%3B%0A%20%20%20%20%20%20%20%20%20%20%20%20%0A%20%20%20%20%0A%20%20%20%20%20%20%20%20%20%20%20%20var%20popup_fbcb2d25061c4d3eb38e161302fb10c1%20%3D%20L.popup%28%7BmaxWidth%3A%20%27300%27%7D%29%3B%0A%0A%20%20%20%20%20%20%20%20%20%20%20%20%0A%20%20%20%20%20%20%20%20%20%20%20%20%20%20%20%20var%20html_1992721f3a1641fbb3f171c8161f2444%20%3D%20%24%28%27%3Cdiv%20id%3D%22html_1992721f3a1641fbb3f171c8161f2444%22%20style%3D%22width%3A%20100.0%25%3B%20height%3A%20100.0%25%3B%22%3ECORSO%20BUENOS%20AIRES%3C/div%3E%27%29%5B0%5D%3B%0A%20%20%20%20%20%20%20%20%20%20%20%20%20%20%20%20popup_fbcb2d25061c4d3eb38e161302fb10c1.setContent%28html_1992721f3a1641fbb3f171c8161f2444%29%3B%0A%20%20%20%20%20%20%20%20%20%20%20%20%0A%0A%20%20%20%20%20%20%20%20%20%20%20%20circle_marker_8d0813ccfecf4495be4c141374175eed.bindPopup%28popup_fbcb2d25061c4d3eb38e161302fb10c1%29%3B%0A%0A%20%20%20%20%20%20%20%20%20%20%20%20%0A%20%20%20%20%20%20%20%20%0A%20%20%20%20%0A%20%20%20%20%20%20%20%20%20%20%20%20var%20circle_marker_65c02caaef694dababc08506a4beffc3%20%3D%20L.circleMarker%28%0A%20%20%20%20%20%20%20%20%20%20%20%20%20%20%20%20%5B45.4738157%2C9.2132568%5D%2C%0A%20%20%20%20%20%20%20%20%20%20%20%20%20%20%20%20%7B%0A%20%20%22bubblingMouseEvents%22%3A%20true%2C%0A%20%20%22color%22%3A%20%22green%22%2C%0A%20%20%22dashArray%22%3A%20null%2C%0A%20%20%22dashOffset%22%3A%20null%2C%0A%20%20%22fill%22%3A%20true%2C%0A%20%20%22fillColor%22%3A%20%22%233199cc%22%2C%0A%20%20%22fillOpacity%22%3A%200.3%2C%0A%20%20%22fillRule%22%3A%20%22evenodd%22%2C%0A%20%20%22lineCap%22%3A%20%22round%22%2C%0A%20%20%22lineJoin%22%3A%20%22round%22%2C%0A%20%20%22opacity%22%3A%201.0%2C%0A%20%20%22radius%22%3A%202%2C%0A%20%20%22stroke%22%3A%20true%2C%0A%20%20%22weight%22%3A%203%0A%7D%0A%20%20%20%20%20%20%20%20%20%20%20%20%20%20%20%20%29.addTo%28map_da06769d5e19429a9a792f12bf246aab%29%3B%0A%20%20%20%20%20%20%20%20%20%20%20%20%0A%20%20%20%20%0A%20%20%20%20%20%20%20%20%20%20%20%20var%20popup_30c8120ce3cd479caf818c9eda1bcd03%20%3D%20L.popup%28%7BmaxWidth%3A%20%27300%27%7D%29%3B%0A%0A%20%20%20%20%20%20%20%20%20%20%20%20%0A%20%20%20%20%20%20%20%20%20%20%20%20%20%20%20%20var%20html_da4b067c7933446d98bc7b992349a500%20%3D%20%24%28%27%3Cdiv%20id%3D%22html_da4b067c7933446d98bc7b992349a500%22%20style%3D%22width%3A%20100.0%25%3B%20height%3A%20100.0%25%3B%22%3EVIALE%20REGINA%20GIOVANNA%3C/div%3E%27%29%5B0%5D%3B%0A%20%20%20%20%20%20%20%20%20%20%20%20%20%20%20%20popup_30c8120ce3cd479caf818c9eda1bcd03.setContent%28html_da4b067c7933446d98bc7b992349a500%29%3B%0A%20%20%20%20%20%20%20%20%20%20%20%20%0A%0A%20%20%20%20%20%20%20%20%20%20%20%20circle_marker_65c02caaef694dababc08506a4beffc3.bindPopup%28popup_30c8120ce3cd479caf818c9eda1bcd03%29%3B%0A%0A%20%20%20%20%20%20%20%20%20%20%20%20%0A%20%20%20%20%20%20%20%20%0A%20%20%20%20%0A%20%20%20%20%20%20%20%20%20%20%20%20var%20circle_marker_ed1176f232ab43afae1a3003b2e96993%20%3D%20L.circleMarker%28%0A%20%20%20%20%20%20%20%20%20%20%20%20%20%20%20%20%5B45.4833239%2C9.2022214%5D%2C%0A%20%20%20%20%20%20%20%20%20%20%20%20%20%20%20%20%7B%0A%20%20%22bubblingMouseEvents%22%3A%20true%2C%0A%20%20%22color%22%3A%20%22green%22%2C%0A%20%20%22dashArray%22%3A%20null%2C%0A%20%20%22dashOffset%22%3A%20null%2C%0A%20%20%22fill%22%3A%20true%2C%0A%20%20%22fillColor%22%3A%20%22%233199cc%22%2C%0A%20%20%22fillOpacity%22%3A%200.3%2C%0A%20%20%22fillRule%22%3A%20%22evenodd%22%2C%0A%20%20%22lineCap%22%3A%20%22round%22%2C%0A%20%20%22lineJoin%22%3A%20%22round%22%2C%0A%20%20%22opacity%22%3A%201.0%2C%0A%20%20%22radius%22%3A%202%2C%0A%20%20%22stroke%22%3A%20true%2C%0A%20%20%22weight%22%3A%203%0A%7D%0A%20%20%20%20%20%20%20%20%20%20%20%20%20%20%20%20%29.addTo%28map_da06769d5e19429a9a792f12bf246aab%29%3B%0A%20%20%20%20%20%20%20%20%20%20%20%20%0A%20%20%20%20%0A%20%20%20%20%20%20%20%20%20%20%20%20var%20popup_85e3524b002c401c9aa93e147dd592e5%20%3D%20L.popup%28%7BmaxWidth%3A%20%27300%27%7D%29%3B%0A%0A%20%20%20%20%20%20%20%20%20%20%20%20%0A%20%20%20%20%20%20%20%20%20%20%20%20%20%20%20%20var%20html_e8dfcd64319a4355996755205cb526b1%20%3D%20%24%28%27%3Cdiv%20id%3D%22html_e8dfcd64319a4355996755205cb526b1%22%20style%3D%22width%3A%20100.0%25%3B%20height%3A%20100.0%25%3B%22%3ECITY%20LIFE%3C/div%3E%27%29%5B0%5D%3B%0A%20%20%20%20%20%20%20%20%20%20%20%20%20%20%20%20popup_85e3524b002c401c9aa93e147dd592e5.setContent%28html_e8dfcd64319a4355996755205cb526b1%29%3B%0A%20%20%20%20%20%20%20%20%20%20%20%20%0A%0A%20%20%20%20%20%20%20%20%20%20%20%20circle_marker_ed1176f232ab43afae1a3003b2e96993.bindPopup%28popup_85e3524b002c401c9aa93e147dd592e5%29%3B%0A%0A%20%20%20%20%20%20%20%20%20%20%20%20%0A%20%20%20%20%20%20%20%20%0A%20%20%20%20%0A%20%20%20%20%20%20%20%20%20%20%20%20var%20circle_marker_80cdd5eb3af44d448bb9b9db44a7e8fe%20%3D%20L.circleMarker%28%0A%20%20%20%20%20%20%20%20%20%20%20%20%20%20%20%20%5B45.4798577%2C9.192694240094355%5D%2C%0A%20%20%20%20%20%20%20%20%20%20%20%20%20%20%20%20%7B%0A%20%20%22bubblingMouseEvents%22%3A%20true%2C%0A%20%20%22color%22%3A%20%22green%22%2C%0A%20%20%22dashArray%22%3A%20null%2C%0A%20%20%22dashOffset%22%3A%20null%2C%0A%20%20%22fill%22%3A%20true%2C%0A%20%20%22fillColor%22%3A%20%22%233199cc%22%2C%0A%20%20%22fillOpacity%22%3A%200.3%2C%0A%20%20%22fillRule%22%3A%20%22evenodd%22%2C%0A%20%20%22lineCap%22%3A%20%22round%22%2C%0A%20%20%22lineJoin%22%3A%20%22round%22%2C%0A%20%20%22opacity%22%3A%201.0%2C%0A%20%20%22radius%22%3A%202%2C%0A%20%20%22stroke%22%3A%20true%2C%0A%20%20%22weight%22%3A%203%0A%7D%0A%20%20%20%20%20%20%20%20%20%20%20%20%20%20%20%20%29.addTo%28map_da06769d5e19429a9a792f12bf246aab%29%3B%0A%20%20%20%20%20%20%20%20%20%20%20%20%0A%20%20%20%20%0A%20%20%20%20%20%20%20%20%20%20%20%20var%20popup_bfae383e3fb547668581080d655f0662%20%3D%20L.popup%28%7BmaxWidth%3A%20%27300%27%7D%29%3B%0A%0A%20%20%20%20%20%20%20%20%20%20%20%20%0A%20%20%20%20%20%20%20%20%20%20%20%20%20%20%20%20var%20html_f2478ff22093481895cf973d2a880e7e%20%3D%20%24%28%27%3Cdiv%20id%3D%22html_f2478ff22093481895cf973d2a880e7e%22%20style%3D%22width%3A%20100.0%25%3B%20height%3A%20100.0%25%3B%22%3EPORTA%20NUOVA%3C/div%3E%27%29%5B0%5D%3B%0A%20%20%20%20%20%20%20%20%20%20%20%20%20%20%20%20popup_bfae383e3fb547668581080d655f0662.setContent%28html_f2478ff22093481895cf973d2a880e7e%29%3B%0A%20%20%20%20%20%20%20%20%20%20%20%20%0A%0A%20%20%20%20%20%20%20%20%20%20%20%20circle_marker_80cdd5eb3af44d448bb9b9db44a7e8fe.bindPopup%28popup_bfae383e3fb547668581080d655f0662%29%3B%0A%0A%20%20%20%20%20%20%20%20%20%20%20%20%0A%20%20%20%20%20%20%20%20%0A%20%20%20%20%0A%20%20%20%20%20%20%20%20%20%20%20%20var%20circle_marker_bd8d0153278f435fafd4f6e106782773%20%3D%20L.circleMarker%28%0A%20%20%20%20%20%20%20%20%20%20%20%20%20%20%20%20%5B45.4865088%2C9.2073553%5D%2C%0A%20%20%20%20%20%20%20%20%20%20%20%20%20%20%20%20%7B%0A%20%20%22bubblingMouseEvents%22%3A%20true%2C%0A%20%20%22color%22%3A%20%22green%22%2C%0A%20%20%22dashArray%22%3A%20null%2C%0A%20%20%22dashOffset%22%3A%20null%2C%0A%20%20%22fill%22%3A%20true%2C%0A%20%20%22fillColor%22%3A%20%22%233199cc%22%2C%0A%20%20%22fillOpacity%22%3A%200.3%2C%0A%20%20%22fillRule%22%3A%20%22evenodd%22%2C%0A%20%20%22lineCap%22%3A%20%22round%22%2C%0A%20%20%22lineJoin%22%3A%20%22round%22%2C%0A%20%20%22opacity%22%3A%201.0%2C%0A%20%20%22radius%22%3A%202%2C%0A%20%20%22stroke%22%3A%20true%2C%0A%20%20%22weight%22%3A%203%0A%7D%0A%20%20%20%20%20%20%20%20%20%20%20%20%20%20%20%20%29.addTo%28map_da06769d5e19429a9a792f12bf246aab%29%3B%0A%20%20%20%20%20%20%20%20%20%20%20%20%0A%20%20%20%20%0A%20%20%20%20%20%20%20%20%20%20%20%20var%20popup_f9c2137635504440863eccaf671a6c04%20%3D%20L.popup%28%7BmaxWidth%3A%20%27300%27%7D%29%3B%0A%0A%20%20%20%20%20%20%20%20%20%20%20%20%0A%20%20%20%20%20%20%20%20%20%20%20%20%20%20%20%20var%20html_47148bacb2cb488bb68c0baef388a4df%20%3D%20%24%28%27%3Cdiv%20id%3D%22html_47148bacb2cb488bb68c0baef388a4df%22%20style%3D%22width%3A%20100.0%25%3B%20height%3A%20100.0%25%3B%22%3ESTAZIONE%20CENTRALE%3C/div%3E%27%29%5B0%5D%3B%0A%20%20%20%20%20%20%20%20%20%20%20%20%20%20%20%20popup_f9c2137635504440863eccaf671a6c04.setContent%28html_47148bacb2cb488bb68c0baef388a4df%29%3B%0A%20%20%20%20%20%20%20%20%20%20%20%20%0A%0A%20%20%20%20%20%20%20%20%20%20%20%20circle_marker_bd8d0153278f435fafd4f6e106782773.bindPopup%28popup_f9c2137635504440863eccaf671a6c04%29%3B%0A%0A%20%20%20%20%20%20%20%20%20%20%20%20%0A%20%20%20%20%20%20%20%20%0A%20%20%20%20%0A%20%20%20%20%20%20%20%20%20%20%20%20var%20circle_marker_d33f3d5322ad4f0996562c3c829617e3%20%3D%20L.circleMarker%28%0A%20%20%20%20%20%20%20%20%20%20%20%20%20%20%20%20%5B45.4875646%2C9.1722651%5D%2C%0A%20%20%20%20%20%20%20%20%20%20%20%20%20%20%20%20%7B%0A%20%20%22bubblingMouseEvents%22%3A%20true%2C%0A%20%20%22color%22%3A%20%22green%22%2C%0A%20%20%22dashArray%22%3A%20null%2C%0A%20%20%22dashOffset%22%3A%20null%2C%0A%20%20%22fill%22%3A%20true%2C%0A%20%20%22fillColor%22%3A%20%22%233199cc%22%2C%0A%20%20%22fillOpacity%22%3A%200.3%2C%0A%20%20%22fillRule%22%3A%20%22evenodd%22%2C%0A%20%20%22lineCap%22%3A%20%22round%22%2C%0A%20%20%22lineJoin%22%3A%20%22round%22%2C%0A%20%20%22opacity%22%3A%201.0%2C%0A%20%20%22radius%22%3A%202%2C%0A%20%20%22stroke%22%3A%20true%2C%0A%20%20%22weight%22%3A%203%0A%7D%0A%20%20%20%20%20%20%20%20%20%20%20%20%20%20%20%20%29.addTo%28map_da06769d5e19429a9a792f12bf246aab%29%3B%0A%20%20%20%20%20%20%20%20%20%20%20%20%0A%20%20%20%20%0A%20%20%20%20%20%20%20%20%20%20%20%20var%20popup_0538b705abbf4fd986ffe2d6742c461e%20%3D%20L.popup%28%7BmaxWidth%3A%20%27300%27%7D%29%3B%0A%0A%20%20%20%20%20%20%20%20%20%20%20%20%0A%20%20%20%20%20%20%20%20%20%20%20%20%20%20%20%20var%20html_b98e4f5d6b004737a7dc3c1656919b0d%20%3D%20%24%28%27%3Cdiv%20id%3D%22html_b98e4f5d6b004737a7dc3c1656919b0d%22%20style%3D%22width%3A%20100.0%25%3B%20height%3A%20100.0%25%3B%22%3ECENISIO%3C/div%3E%27%29%5B0%5D%3B%0A%20%20%20%20%20%20%20%20%20%20%20%20%20%20%20%20popup_0538b705abbf4fd986ffe2d6742c461e.setContent%28html_b98e4f5d6b004737a7dc3c1656919b0d%29%3B%0A%20%20%20%20%20%20%20%20%20%20%20%20%0A%0A%20%20%20%20%20%20%20%20%20%20%20%20circle_marker_d33f3d5322ad4f0996562c3c829617e3.bindPopup%28popup_0538b705abbf4fd986ffe2d6742c461e%29%3B%0A%0A%20%20%20%20%20%20%20%20%20%20%20%20%0A%20%20%20%20%20%20%20%20%0A%20%20%20%20%0A%20%20%20%20%20%20%20%20%20%20%20%20var%20circle_marker_2f05106a80b94a4ba65090443627b95f%20%3D%20L.circleMarker%28%0A%20%20%20%20%20%20%20%20%20%20%20%20%20%20%20%20%5B45.49287940000001%2C9.175108231228549%5D%2C%0A%20%20%20%20%20%20%20%20%20%20%20%20%20%20%20%20%7B%0A%20%20%22bubblingMouseEvents%22%3A%20true%2C%0A%20%20%22color%22%3A%20%22green%22%2C%0A%20%20%22dashArray%22%3A%20null%2C%0A%20%20%22dashOffset%22%3A%20null%2C%0A%20%20%22fill%22%3A%20true%2C%0A%20%20%22fillColor%22%3A%20%22%233199cc%22%2C%0A%20%20%22fillOpacity%22%3A%200.3%2C%0A%20%20%22fillRule%22%3A%20%22evenodd%22%2C%0A%20%20%22lineCap%22%3A%20%22round%22%2C%0A%20%20%22lineJoin%22%3A%20%22round%22%2C%0A%20%20%22opacity%22%3A%201.0%2C%0A%20%20%22radius%22%3A%202%2C%0A%20%20%22stroke%22%3A%20true%2C%0A%20%20%22weight%22%3A%203%0A%7D%0A%20%20%20%20%20%20%20%20%20%20%20%20%20%20%20%20%29.addTo%28map_da06769d5e19429a9a792f12bf246aab%29%3B%0A%20%20%20%20%20%20%20%20%20%20%20%20%0A%20%20%20%20%0A%20%20%20%20%20%20%20%20%20%20%20%20var%20popup_4cdfe30eebb144558b8d884dea1201cc%20%3D%20L.popup%28%7BmaxWidth%3A%20%27300%27%7D%29%3B%0A%0A%20%20%20%20%20%20%20%20%20%20%20%20%0A%20%20%20%20%20%20%20%20%20%20%20%20%20%20%20%20var%20html_cd544de3a9f441edaba5c334bad87583%20%3D%20%24%28%27%3Cdiv%20id%3D%22html_cd544de3a9f441edaba5c334bad87583%22%20style%3D%22width%3A%20100.0%25%3B%20height%3A%20100.0%25%3B%22%3EFARINI%3C/div%3E%27%29%5B0%5D%3B%0A%20%20%20%20%20%20%20%20%20%20%20%20%20%20%20%20popup_4cdfe30eebb144558b8d884dea1201cc.setContent%28html_cd544de3a9f441edaba5c334bad87583%29%3B%0A%20%20%20%20%20%20%20%20%20%20%20%20%0A%0A%20%20%20%20%20%20%20%20%20%20%20%20circle_marker_2f05106a80b94a4ba65090443627b95f.bindPopup%28popup_4cdfe30eebb144558b8d884dea1201cc%29%3B%0A%0A%20%20%20%20%20%20%20%20%20%20%20%20%0A%20%20%20%20%20%20%20%20%0A%20%20%20%20%0A%20%20%20%20%20%20%20%20%20%20%20%20var%20circle_marker_e270d0d815094dbe92e5483afd8b1dd4%20%3D%20L.circleMarker%28%0A%20%20%20%20%20%20%20%20%20%20%20%20%20%20%20%20%5B45.4830418%2C9.172131735619073%5D%2C%0A%20%20%20%20%20%20%20%20%20%20%20%20%20%20%20%20%7B%0A%20%20%22bubblingMouseEvents%22%3A%20true%2C%0A%20%20%22color%22%3A%20%22green%22%2C%0A%20%20%22dashArray%22%3A%20null%2C%0A%20%20%22dashOffset%22%3A%20null%2C%0A%20%20%22fill%22%3A%20true%2C%0A%20%20%22fillColor%22%3A%20%22%233199cc%22%2C%0A%20%20%22fillOpacity%22%3A%200.3%2C%0A%20%20%22fillRule%22%3A%20%22evenodd%22%2C%0A%20%20%22lineCap%22%3A%20%22round%22%2C%0A%20%20%22lineJoin%22%3A%20%22round%22%2C%0A%20%20%22opacity%22%3A%201.0%2C%0A%20%20%22radius%22%3A%202%2C%0A%20%20%22stroke%22%3A%20true%2C%0A%20%20%22weight%22%3A%203%0A%7D%0A%20%20%20%20%20%20%20%20%20%20%20%20%20%20%20%20%29.addTo%28map_da06769d5e19429a9a792f12bf246aab%29%3B%0A%20%20%20%20%20%20%20%20%20%20%20%20%0A%20%20%20%20%0A%20%20%20%20%20%20%20%20%20%20%20%20var%20popup_ca6a102c72c649f291163a88dfceb840%20%3D%20L.popup%28%7BmaxWidth%3A%20%27300%27%7D%29%3B%0A%0A%20%20%20%20%20%20%20%20%20%20%20%20%0A%20%20%20%20%20%20%20%20%20%20%20%20%20%20%20%20var%20html_faba5d0851d84b9f89c2c91cb87c7dff%20%3D%20%24%28%27%3Cdiv%20id%3D%22html_faba5d0851d84b9f89c2c91cb87c7dff%22%20style%3D%22width%3A%20100.0%25%3B%20height%3A%20100.0%25%3B%22%3ESARPI%3C/div%3E%27%29%5B0%5D%3B%0A%20%20%20%20%20%20%20%20%20%20%20%20%20%20%20%20popup_ca6a102c72c649f291163a88dfceb840.setContent%28html_faba5d0851d84b9f89c2c91cb87c7dff%29%3B%0A%20%20%20%20%20%20%20%20%20%20%20%20%0A%0A%20%20%20%20%20%20%20%20%20%20%20%20circle_marker_e270d0d815094dbe92e5483afd8b1dd4.bindPopup%28popup_ca6a102c72c649f291163a88dfceb840%29%3B%0A%0A%20%20%20%20%20%20%20%20%20%20%20%20%0A%20%20%20%20%20%20%20%20%0A%20%20%20%20%0A%20%20%20%20%20%20%20%20%20%20%20%20var%20circle_marker_b88c47589f704018af68c0ed3570ae13%20%3D%20L.circleMarker%28%0A%20%20%20%20%20%20%20%20%20%20%20%20%20%20%20%20%5B45.4771041%2C9.1701771%5D%2C%0A%20%20%20%20%20%20%20%20%20%20%20%20%20%20%20%20%7B%0A%20%20%22bubblingMouseEvents%22%3A%20true%2C%0A%20%20%22color%22%3A%20%22green%22%2C%0A%20%20%22dashArray%22%3A%20null%2C%0A%20%20%22dashOffset%22%3A%20null%2C%0A%20%20%22fill%22%3A%20true%2C%0A%20%20%22fillColor%22%3A%20%22%233199cc%22%2C%0A%20%20%22fillOpacity%22%3A%200.3%2C%0A%20%20%22fillRule%22%3A%20%22evenodd%22%2C%0A%20%20%22lineCap%22%3A%20%22round%22%2C%0A%20%20%22lineJoin%22%3A%20%22round%22%2C%0A%20%20%22opacity%22%3A%201.0%2C%0A%20%20%22radius%22%3A%202%2C%0A%20%20%22stroke%22%3A%20true%2C%0A%20%20%22weight%22%3A%203%0A%7D%0A%20%20%20%20%20%20%20%20%20%20%20%20%20%20%20%20%29.addTo%28map_da06769d5e19429a9a792f12bf246aab%29%3B%0A%20%20%20%20%20%20%20%20%20%20%20%20%0A%20%20%20%20%0A%20%20%20%20%20%20%20%20%20%20%20%20var%20popup_3bb1d87184da46568a3f3a1400b61f40%20%3D%20L.popup%28%7BmaxWidth%3A%20%27300%27%7D%29%3B%0A%0A%20%20%20%20%20%20%20%20%20%20%20%20%0A%20%20%20%20%20%20%20%20%20%20%20%20%20%20%20%20var%20html_2289ec823034447491836487df8fbf60%20%3D%20%24%28%27%3Cdiv%20id%3D%22html_2289ec823034447491836487df8fbf60%22%20style%3D%22width%3A%20100.0%25%3B%20height%3A%20100.0%25%3B%22%3ESEMPIONE%3C/div%3E%27%29%5B0%5D%3B%0A%20%20%20%20%20%20%20%20%20%20%20%20%20%20%20%20popup_3bb1d87184da46568a3f3a1400b61f40.setContent%28html_2289ec823034447491836487df8fbf60%29%3B%0A%20%20%20%20%20%20%20%20%20%20%20%20%0A%0A%20%20%20%20%20%20%20%20%20%20%20%20circle_marker_b88c47589f704018af68c0ed3570ae13.bindPopup%28popup_3bb1d87184da46568a3f3a1400b61f40%29%3B%0A%0A%20%20%20%20%20%20%20%20%20%20%20%20%0A%20%20%20%20%20%20%20%20%0A%20%20%20%20%0A%20%20%20%20%20%20%20%20%20%20%20%20var%20circle_marker_cf6f52f60eba4aa18c252231136b6f51%20%3D%20L.circleMarker%28%0A%20%20%20%20%20%20%20%20%20%20%20%20%20%20%20%20%5B45.4682848%2C9.1610998%5D%2C%0A%20%20%20%20%20%20%20%20%20%20%20%20%20%20%20%20%7B%0A%20%20%22bubblingMouseEvents%22%3A%20true%2C%0A%20%20%22color%22%3A%20%22green%22%2C%0A%20%20%22dashArray%22%3A%20null%2C%0A%20%20%22dashOffset%22%3A%20null%2C%0A%20%20%22fill%22%3A%20true%2C%0A%20%20%22fillColor%22%3A%20%22%233199cc%22%2C%0A%20%20%22fillOpacity%22%3A%200.3%2C%0A%20%20%22fillRule%22%3A%20%22evenodd%22%2C%0A%20%20%22lineCap%22%3A%20%22round%22%2C%0A%20%20%22lineJoin%22%3A%20%22round%22%2C%0A%20%20%22opacity%22%3A%201.0%2C%0A%20%20%22radius%22%3A%202%2C%0A%20%20%22stroke%22%3A%20true%2C%0A%20%20%22weight%22%3A%203%0A%7D%0A%20%20%20%20%20%20%20%20%20%20%20%20%20%20%20%20%29.addTo%28map_da06769d5e19429a9a792f12bf246aab%29%3B%0A%20%20%20%20%20%20%20%20%20%20%20%20%0A%20%20%20%20%0A%20%20%20%20%20%20%20%20%20%20%20%20var%20popup_a6cc08f40dcd40adae0d277820635fba%20%3D%20L.popup%28%7BmaxWidth%3A%20%27300%27%7D%29%3B%0A%0A%20%20%20%20%20%20%20%20%20%20%20%20%0A%20%20%20%20%20%20%20%20%20%20%20%20%20%20%20%20var%20html_35a6a99141d943ddb3f23d7ce2b4a896%20%3D%20%24%28%27%3Cdiv%20id%3D%22html_35a6a99141d943ddb3f23d7ce2b4a896%22%20style%3D%22width%3A%20100.0%25%3B%20height%3A%20100.0%25%3B%22%3EPAGANO%3C/div%3E%27%29%5B0%5D%3B%0A%20%20%20%20%20%20%20%20%20%20%20%20%20%20%20%20popup_a6cc08f40dcd40adae0d277820635fba.setContent%28html_35a6a99141d943ddb3f23d7ce2b4a896%29%3B%0A%20%20%20%20%20%20%20%20%20%20%20%20%0A%0A%20%20%20%20%20%20%20%20%20%20%20%20circle_marker_cf6f52f60eba4aa18c252231136b6f51.bindPopup%28popup_a6cc08f40dcd40adae0d277820635fba%29%3B%0A%0A%20%20%20%20%20%20%20%20%20%20%20%20%0A%20%20%20%20%20%20%20%20%0A%20%20%20%20%0A%20%20%20%20%20%20%20%20%20%20%20%20var%20circle_marker_b15e3df8cb7046f780868d57bf4a1abf%20%3D%20L.circleMarker%28%0A%20%20%20%20%20%20%20%20%20%20%20%20%20%20%20%20%5B45.4612061%2C9.15631041155902%5D%2C%0A%20%20%20%20%20%20%20%20%20%20%20%20%20%20%20%20%7B%0A%20%20%22bubblingMouseEvents%22%3A%20true%2C%0A%20%20%22color%22%3A%20%22green%22%2C%0A%20%20%22dashArray%22%3A%20null%2C%0A%20%20%22dashOffset%22%3A%20null%2C%0A%20%20%22fill%22%3A%20true%2C%0A%20%20%22fillColor%22%3A%20%22%233199cc%22%2C%0A%20%20%22fillOpacity%22%3A%200.3%2C%0A%20%20%22fillRule%22%3A%20%22evenodd%22%2C%0A%20%20%22lineCap%22%3A%20%22round%22%2C%0A%20%20%22lineJoin%22%3A%20%22round%22%2C%0A%20%20%22opacity%22%3A%201.0%2C%0A%20%20%22radius%22%3A%202%2C%0A%20%20%22stroke%22%3A%20true%2C%0A%20%20%22weight%22%3A%203%0A%7D%0A%20%20%20%20%20%20%20%20%20%20%20%20%20%20%20%20%29.addTo%28map_da06769d5e19429a9a792f12bf246aab%29%3B%0A%20%20%20%20%20%20%20%20%20%20%20%20%0A%20%20%20%20%0A%20%20%20%20%20%20%20%20%20%20%20%20var%20popup_dfb50c135d2d438ebdc0d75b29937e53%20%3D%20L.popup%28%7BmaxWidth%3A%20%27300%27%7D%29%3B%0A%0A%20%20%20%20%20%20%20%20%20%20%20%20%0A%20%20%20%20%20%20%20%20%20%20%20%20%20%20%20%20var%20html_4d4653f83b0e469fba887678ef706cfe%20%3D%20%24%28%27%3Cdiv%20id%3D%22html_4d4653f83b0e469fba887678ef706cfe%22%20style%3D%22width%3A%20100.0%25%3B%20height%3A%20100.0%25%3B%22%3EWASHINGTON%3C/div%3E%27%29%5B0%5D%3B%0A%20%20%20%20%20%20%20%20%20%20%20%20%20%20%20%20popup_dfb50c135d2d438ebdc0d75b29937e53.setContent%28html_4d4653f83b0e469fba887678ef706cfe%29%3B%0A%20%20%20%20%20%20%20%20%20%20%20%20%0A%0A%20%20%20%20%20%20%20%20%20%20%20%20circle_marker_b15e3df8cb7046f780868d57bf4a1abf.bindPopup%28popup_dfb50c135d2d438ebdc0d75b29937e53%29%3B%0A%0A%20%20%20%20%20%20%20%20%20%20%20%20%0A%20%20%20%20%20%20%20%20%0A%20%20%20%20%0A%20%20%20%20%20%20%20%20%20%20%20%20var%20circle_marker_dd647de726f7461285d41e53e210cbf2%20%3D%20L.circleMarker%28%0A%20%20%20%20%20%20%20%20%20%20%20%20%20%20%20%20%5B45.4590225%2C9.1648878%5D%2C%0A%20%20%20%20%20%20%20%20%20%20%20%20%20%20%20%20%7B%0A%20%20%22bubblingMouseEvents%22%3A%20true%2C%0A%20%20%22color%22%3A%20%22green%22%2C%0A%20%20%22dashArray%22%3A%20null%2C%0A%20%20%22dashOffset%22%3A%20null%2C%0A%20%20%22fill%22%3A%20true%2C%0A%20%20%22fillColor%22%3A%20%22%233199cc%22%2C%0A%20%20%22fillOpacity%22%3A%200.3%2C%0A%20%20%22fillRule%22%3A%20%22evenodd%22%2C%0A%20%20%22lineCap%22%3A%20%22round%22%2C%0A%20%20%22lineJoin%22%3A%20%22round%22%2C%0A%20%20%22opacity%22%3A%201.0%2C%0A%20%20%22radius%22%3A%202%2C%0A%20%20%22stroke%22%3A%20true%2C%0A%20%20%22weight%22%3A%203%0A%7D%0A%20%20%20%20%20%20%20%20%20%20%20%20%20%20%20%20%29.addTo%28map_da06769d5e19429a9a792f12bf246aab%29%3B%0A%20%20%20%20%20%20%20%20%20%20%20%20%0A%20%20%20%20%0A%20%20%20%20%20%20%20%20%20%20%20%20var%20popup_1405d97fbd8049488f98bab1496a0c06%20%3D%20L.popup%28%7BmaxWidth%3A%20%27300%27%7D%29%3B%0A%0A%20%20%20%20%20%20%20%20%20%20%20%20%0A%20%20%20%20%20%20%20%20%20%20%20%20%20%20%20%20var%20html_9a4c6e3a86bb4ebbbe2fd1da7fb4ac60%20%3D%20%24%28%27%3Cdiv%20id%3D%22html_9a4c6e3a86bb4ebbbe2fd1da7fb4ac60%22%20style%3D%22width%3A%20100.0%25%3B%20height%3A%20100.0%25%3B%22%3ESOLARI%3C/div%3E%27%29%5B0%5D%3B%0A%20%20%20%20%20%20%20%20%20%20%20%20%20%20%20%20popup_1405d97fbd8049488f98bab1496a0c06.setContent%28html_9a4c6e3a86bb4ebbbe2fd1da7fb4ac60%29%3B%0A%20%20%20%20%20%20%20%20%20%20%20%20%0A%0A%20%20%20%20%20%20%20%20%20%20%20%20circle_marker_dd647de726f7461285d41e53e210cbf2.bindPopup%28popup_1405d97fbd8049488f98bab1496a0c06%29%3B%0A%0A%20%20%20%20%20%20%20%20%20%20%20%20%0A%20%20%20%20%20%20%20%20%0A%20%20%20%20%0A%20%20%20%20%20%20%20%20%20%20%20%20var%20circle_marker_24e78eee67a944f397c81cdd8a2ddf8f%20%3D%20L.circleMarker%28%0A%20%20%20%20%20%20%20%20%20%20%20%20%20%20%20%20%5B45.4566646%2C9.174606%5D%2C%0A%20%20%20%20%20%20%20%20%20%20%20%20%20%20%20%20%7B%0A%20%20%22bubblingMouseEvents%22%3A%20true%2C%0A%20%20%22color%22%3A%20%22green%22%2C%0A%20%20%22dashArray%22%3A%20null%2C%0A%20%20%22dashOffset%22%3A%20null%2C%0A%20%20%22fill%22%3A%20true%2C%0A%20%20%22fillColor%22%3A%20%22%233199cc%22%2C%0A%20%20%22fillOpacity%22%3A%200.3%2C%0A%20%20%22fillRule%22%3A%20%22evenodd%22%2C%0A%20%20%22lineCap%22%3A%20%22round%22%2C%0A%20%20%22lineJoin%22%3A%20%22round%22%2C%0A%20%20%22opacity%22%3A%201.0%2C%0A%20%20%22radius%22%3A%202%2C%0A%20%20%22stroke%22%3A%20true%2C%0A%20%20%22weight%22%3A%203%0A%7D%0A%20%20%20%20%20%20%20%20%20%20%20%20%20%20%20%20%29.addTo%28map_da06769d5e19429a9a792f12bf246aab%29%3B%0A%20%20%20%20%20%20%20%20%20%20%20%20%0A%20%20%20%20%0A%20%20%20%20%20%20%20%20%20%20%20%20var%20popup_f54ffb49c5f04874ada077085bd3abe3%20%3D%20L.popup%28%7BmaxWidth%3A%20%27300%27%7D%29%3B%0A%0A%20%20%20%20%20%20%20%20%20%20%20%20%0A%20%20%20%20%20%20%20%20%20%20%20%20%20%20%20%20var%20html_ce4d99e108434efcb83de1688aa219ad%20%3D%20%24%28%27%3Cdiv%20id%3D%22html_ce4d99e108434efcb83de1688aa219ad%22%20style%3D%22width%3A%20100.0%25%3B%20height%3A%20100.0%25%3B%22%3EP.TA%20GENOVA%3C/div%3E%27%29%5B0%5D%3B%0A%20%20%20%20%20%20%20%20%20%20%20%20%20%20%20%20popup_f54ffb49c5f04874ada077085bd3abe3.setContent%28html_ce4d99e108434efcb83de1688aa219ad%29%3B%0A%20%20%20%20%20%20%20%20%20%20%20%20%0A%0A%20%20%20%20%20%20%20%20%20%20%20%20circle_marker_24e78eee67a944f397c81cdd8a2ddf8f.bindPopup%28popup_f54ffb49c5f04874ada077085bd3abe3%29%3B%0A%0A%20%20%20%20%20%20%20%20%20%20%20%20%0A%20%20%20%20%20%20%20%20%0A%20%20%20%20%0A%20%20%20%20%20%20%20%20%20%20%20%20var%20circle_marker_0af12270ea124406bc52ab646d6425e0%20%3D%20L.circleMarker%28%0A%20%20%20%20%20%20%20%20%20%20%20%20%20%20%20%20%5B45.4500128%2C9.1777002%5D%2C%0A%20%20%20%20%20%20%20%20%20%20%20%20%20%20%20%20%7B%0A%20%20%22bubblingMouseEvents%22%3A%20true%2C%0A%20%20%22color%22%3A%20%22green%22%2C%0A%20%20%22dashArray%22%3A%20null%2C%0A%20%20%22dashOffset%22%3A%20null%2C%0A%20%20%22fill%22%3A%20true%2C%0A%20%20%22fillColor%22%3A%20%22%233199cc%22%2C%0A%20%20%22fillOpacity%22%3A%200.3%2C%0A%20%20%22fillRule%22%3A%20%22evenodd%22%2C%0A%20%20%22lineCap%22%3A%20%22round%22%2C%0A%20%20%22lineJoin%22%3A%20%22round%22%2C%0A%20%20%22opacity%22%3A%201.0%2C%0A%20%20%22radius%22%3A%202%2C%0A%20%20%22stroke%22%3A%20true%2C%0A%20%20%22weight%22%3A%203%0A%7D%0A%20%20%20%20%20%20%20%20%20%20%20%20%20%20%20%20%29.addTo%28map_da06769d5e19429a9a792f12bf246aab%29%3B%0A%20%20%20%20%20%20%20%20%20%20%20%20%0A%20%20%20%20%0A%20%20%20%20%20%20%20%20%20%20%20%20var%20popup_754b63cd21294f6bac9e473af5b8674c%20%3D%20L.popup%28%7BmaxWidth%3A%20%27300%27%7D%29%3B%0A%0A%20%20%20%20%20%20%20%20%20%20%20%20%0A%20%20%20%20%20%20%20%20%20%20%20%20%20%20%20%20var%20html_176a93314e924a27ac2de105ec3a5019%20%3D%20%24%28%27%3Cdiv%20id%3D%22html_176a93314e924a27ac2de105ec3a5019%22%20style%3D%22width%3A%20100.0%25%3B%20height%3A%20100.0%25%3B%22%3EVIA%20ASCANIO%20SFORZA%3C/div%3E%27%29%5B0%5D%3B%0A%20%20%20%20%20%20%20%20%20%20%20%20%20%20%20%20popup_754b63cd21294f6bac9e473af5b8674c.setContent%28html_176a93314e924a27ac2de105ec3a5019%29%3B%0A%20%20%20%20%20%20%20%20%20%20%20%20%0A%0A%20%20%20%20%20%20%20%20%20%20%20%20circle_marker_0af12270ea124406bc52ab646d6425e0.bindPopup%28popup_754b63cd21294f6bac9e473af5b8674c%29%3B%0A%0A%20%20%20%20%20%20%20%20%20%20%20%20%0A%20%20%20%20%20%20%20%20%0A%20%20%20%20%0A%20%20%20%20%20%20%20%20%20%20%20%20var%20circle_marker_5020ed3d2b384413a95921c67e58f080%20%3D%20L.circleMarker%28%0A%20%20%20%20%20%20%20%20%20%20%20%20%20%20%20%20%5B45.4867765%2C9.1982143%5D%2C%0A%20%20%20%20%20%20%20%20%20%20%20%20%20%20%20%20%7B%0A%20%20%22bubblingMouseEvents%22%3A%20true%2C%0A%20%20%22color%22%3A%20%22green%22%2C%0A%20%20%22dashArray%22%3A%20null%2C%0A%20%20%22dashOffset%22%3A%20null%2C%0A%20%20%22fill%22%3A%20true%2C%0A%20%20%22fillColor%22%3A%20%22%233199cc%22%2C%0A%20%20%22fillOpacity%22%3A%200.3%2C%0A%20%20%22fillRule%22%3A%20%22evenodd%22%2C%0A%20%20%22lineCap%22%3A%20%22round%22%2C%0A%20%20%22lineJoin%22%3A%20%22round%22%2C%0A%20%20%22opacity%22%3A%201.0%2C%0A%20%20%22radius%22%3A%202%2C%0A%20%20%22stroke%22%3A%20true%2C%0A%20%20%22weight%22%3A%203%0A%7D%0A%20%20%20%20%20%20%20%20%20%20%20%20%20%20%20%20%29.addTo%28map_da06769d5e19429a9a792f12bf246aab%29%3B%0A%20%20%20%20%20%20%20%20%20%20%20%20%0A%20%20%20%20%0A%20%20%20%20%20%20%20%20%20%20%20%20var%20popup_17141e8cfb664b66a9a90d82774d7da7%20%3D%20L.popup%28%7BmaxWidth%3A%20%27300%27%7D%29%3B%0A%0A%20%20%20%20%20%20%20%20%20%20%20%20%0A%20%20%20%20%20%20%20%20%20%20%20%20%20%20%20%20var%20html_18e9a9eb3a8846f8a3c0e44cc5a5f974%20%3D%20%24%28%27%3Cdiv%20id%3D%22html_18e9a9eb3a8846f8a3c0e44cc5a5f974%22%20style%3D%22width%3A%20100.0%25%3B%20height%3A%20100.0%25%3B%22%3ETABACCHI%3C/div%3E%27%29%5B0%5D%3B%0A%20%20%20%20%20%20%20%20%20%20%20%20%20%20%20%20popup_17141e8cfb664b66a9a90d82774d7da7.setContent%28html_18e9a9eb3a8846f8a3c0e44cc5a5f974%29%3B%0A%20%20%20%20%20%20%20%20%20%20%20%20%0A%0A%20%20%20%20%20%20%20%20%20%20%20%20circle_marker_5020ed3d2b384413a95921c67e58f080.bindPopup%28popup_17141e8cfb664b66a9a90d82774d7da7%29%3B%0A%0A%20%20%20%20%20%20%20%20%20%20%20%20%0A%20%20%20%20%20%20%20%20%0A%20%20%20%20%0A%20%20%20%20%20%20%20%20%20%20%20%20var%20circle_marker_e76b924bb1714631a072e1464c24b4ab%20%3D%20L.circleMarker%28%0A%20%20%20%20%20%20%20%20%20%20%20%20%20%20%20%20%5B45.4482692%2C9.1891795%5D%2C%0A%20%20%20%20%20%20%20%20%20%20%20%20%20%20%20%20%7B%0A%20%20%22bubblingMouseEvents%22%3A%20true%2C%0A%20%20%22color%22%3A%20%22green%22%2C%0A%20%20%22dashArray%22%3A%20null%2C%0A%20%20%22dashOffset%22%3A%20null%2C%0A%20%20%22fill%22%3A%20true%2C%0A%20%20%22fillColor%22%3A%20%22%233199cc%22%2C%0A%20%20%22fillOpacity%22%3A%200.3%2C%0A%20%20%22fillRule%22%3A%20%22evenodd%22%2C%0A%20%20%22lineCap%22%3A%20%22round%22%2C%0A%20%20%22lineJoin%22%3A%20%22round%22%2C%0A%20%20%22opacity%22%3A%201.0%2C%0A%20%20%22radius%22%3A%202%2C%0A%20%20%22stroke%22%3A%20true%2C%0A%20%20%22weight%22%3A%203%0A%7D%0A%20%20%20%20%20%20%20%20%20%20%20%20%20%20%20%20%29.addTo%28map_da06769d5e19429a9a792f12bf246aab%29%3B%0A%20%20%20%20%20%20%20%20%20%20%20%20%0A%20%20%20%20%0A%20%20%20%20%20%20%20%20%20%20%20%20var%20popup_11c9012ca2a94475856dda56303454d5%20%3D%20L.popup%28%7BmaxWidth%3A%20%27300%27%7D%29%3B%0A%0A%20%20%20%20%20%20%20%20%20%20%20%20%0A%20%20%20%20%20%20%20%20%20%20%20%20%20%20%20%20var%20html_5d64f847a4c54674afa8d4618f68ebcc%20%3D%20%24%28%27%3Cdiv%20id%3D%22html_5d64f847a4c54674afa8d4618f68ebcc%22%20style%3D%22width%3A%20100.0%25%3B%20height%3A%20100.0%25%3B%22%3ESARFATTI%3C/div%3E%27%29%5B0%5D%3B%0A%20%20%20%20%20%20%20%20%20%20%20%20%20%20%20%20popup_11c9012ca2a94475856dda56303454d5.setContent%28html_5d64f847a4c54674afa8d4618f68ebcc%29%3B%0A%20%20%20%20%20%20%20%20%20%20%20%20%0A%0A%20%20%20%20%20%20%20%20%20%20%20%20circle_marker_e76b924bb1714631a072e1464c24b4ab.bindPopup%28popup_11c9012ca2a94475856dda56303454d5%29%3B%0A%0A%20%20%20%20%20%20%20%20%20%20%20%20%0A%20%20%20%20%20%20%20%20%0A%20%20%20%20%0A%20%20%20%20%20%20%20%20%20%20%20%20var%20circle_marker_484e43ea137942ed985b09f578e3be55%20%3D%20L.circleMarker%28%0A%20%20%20%20%20%20%20%20%20%20%20%20%20%20%20%20%5B45.496842799999996%2C9.250524307072563%5D%2C%0A%20%20%20%20%20%20%20%20%20%20%20%20%20%20%20%20%7B%0A%20%20%22bubblingMouseEvents%22%3A%20true%2C%0A%20%20%22color%22%3A%20%22purple%22%2C%0A%20%20%22dashArray%22%3A%20null%2C%0A%20%20%22dashOffset%22%3A%20null%2C%0A%20%20%22fill%22%3A%20true%2C%0A%20%20%22fillColor%22%3A%20%22%233199cc%22%2C%0A%20%20%22fillOpacity%22%3A%200.3%2C%0A%20%20%22fillRule%22%3A%20%22evenodd%22%2C%0A%20%20%22lineCap%22%3A%20%22round%22%2C%0A%20%20%22lineJoin%22%3A%20%22round%22%2C%0A%20%20%22opacity%22%3A%201.0%2C%0A%20%20%22radius%22%3A%202%2C%0A%20%20%22stroke%22%3A%20true%2C%0A%20%20%22weight%22%3A%203%0A%7D%0A%20%20%20%20%20%20%20%20%20%20%20%20%20%20%20%20%29.addTo%28map_da06769d5e19429a9a792f12bf246aab%29%3B%0A%20%20%20%20%20%20%20%20%20%20%20%20%0A%20%20%20%20%0A%20%20%20%20%20%20%20%20%20%20%20%20var%20popup_0ef830bf0a2e4678af81eda8efa57e62%20%3D%20L.popup%28%7BmaxWidth%3A%20%27300%27%7D%29%3B%0A%0A%20%20%20%20%20%20%20%20%20%20%20%20%0A%20%20%20%20%20%20%20%20%20%20%20%20%20%20%20%20var%20html_f439a3025aa942599d1f6970953252a4%20%3D%20%24%28%27%3Cdiv%20id%3D%22html_f439a3025aa942599d1f6970953252a4%22%20style%3D%22width%3A%20100.0%25%3B%20height%3A%20100.0%25%3B%22%3EPARCO%20LAMBRO%3C/div%3E%27%29%5B0%5D%3B%0A%20%20%20%20%20%20%20%20%20%20%20%20%20%20%20%20popup_0ef830bf0a2e4678af81eda8efa57e62.setContent%28html_f439a3025aa942599d1f6970953252a4%29%3B%0A%20%20%20%20%20%20%20%20%20%20%20%20%0A%0A%20%20%20%20%20%20%20%20%20%20%20%20circle_marker_484e43ea137942ed985b09f578e3be55.bindPopup%28popup_0ef830bf0a2e4678af81eda8efa57e62%29%3B%0A%0A%20%20%20%20%20%20%20%20%20%20%20%20%0A%20%20%20%20%20%20%20%20%0A%20%20%20%20%0A%20%20%20%20%20%20%20%20%20%20%20%20var%20circle_marker_209ec60d72fd41d09ac98a5f2e9b77b3%20%3D%20L.circleMarker%28%0A%20%20%20%20%20%20%20%20%20%20%20%20%20%20%20%20%5B45.4892131%2C9.2461182%5D%2C%0A%20%20%20%20%20%20%20%20%20%20%20%20%20%20%20%20%7B%0A%20%20%22bubblingMouseEvents%22%3A%20true%2C%0A%20%20%22color%22%3A%20%22purple%22%2C%0A%20%20%22dashArray%22%3A%20null%2C%0A%20%20%22dashOffset%22%3A%20null%2C%0A%20%20%22fill%22%3A%20true%2C%0A%20%20%22fillColor%22%3A%20%22%233199cc%22%2C%0A%20%20%22fillOpacity%22%3A%200.3%2C%0A%20%20%22fillRule%22%3A%20%22evenodd%22%2C%0A%20%20%22lineCap%22%3A%20%22round%22%2C%0A%20%20%22lineJoin%22%3A%20%22round%22%2C%0A%20%20%22opacity%22%3A%201.0%2C%0A%20%20%22radius%22%3A%202%2C%0A%20%20%22stroke%22%3A%20true%2C%0A%20%20%22weight%22%3A%203%0A%7D%0A%20%20%20%20%20%20%20%20%20%20%20%20%20%20%20%20%29.addTo%28map_da06769d5e19429a9a792f12bf246aab%29%3B%0A%20%20%20%20%20%20%20%20%20%20%20%20%0A%20%20%20%20%0A%20%20%20%20%20%20%20%20%20%20%20%20var%20popup_e411cd818f03466093c20ff8036aa8ed%20%3D%20L.popup%28%7BmaxWidth%3A%20%27300%27%7D%29%3B%0A%0A%20%20%20%20%20%20%20%20%20%20%20%20%0A%20%20%20%20%20%20%20%20%20%20%20%20%20%20%20%20var%20html_872e13a4ae8f435fbeaae46c57b5790d%20%3D%20%24%28%27%3Cdiv%20id%3D%22html_872e13a4ae8f435fbeaae46c57b5790d%22%20style%3D%22width%3A%20100.0%25%3B%20height%3A%20100.0%25%3B%22%3EFELTRE%3C/div%3E%27%29%5B0%5D%3B%0A%20%20%20%20%20%20%20%20%20%20%20%20%20%20%20%20popup_e411cd818f03466093c20ff8036aa8ed.setContent%28html_872e13a4ae8f435fbeaae46c57b5790d%29%3B%0A%20%20%20%20%20%20%20%20%20%20%20%20%0A%0A%20%20%20%20%20%20%20%20%20%20%20%20circle_marker_209ec60d72fd41d09ac98a5f2e9b77b3.bindPopup%28popup_e411cd818f03466093c20ff8036aa8ed%29%3B%0A%0A%20%20%20%20%20%20%20%20%20%20%20%20%0A%20%20%20%20%20%20%20%20%0A%20%20%20%20%0A%20%20%20%20%20%20%20%20%20%20%20%20var%20circle_marker_052d16d676e14b0c95dd97776042a1a5%20%3D%20L.circleMarker%28%0A%20%20%20%20%20%20%20%20%20%20%20%20%20%20%20%20%5B45.4912044%2C9.2369964%5D%2C%0A%20%20%20%20%20%20%20%20%20%20%20%20%20%20%20%20%7B%0A%20%20%22bubblingMouseEvents%22%3A%20true%2C%0A%20%20%22color%22%3A%20%22purple%22%2C%0A%20%20%22dashArray%22%3A%20null%2C%0A%20%20%22dashOffset%22%3A%20null%2C%0A%20%20%22fill%22%3A%20true%2C%0A%20%20%22fillColor%22%3A%20%22%233199cc%22%2C%0A%20%20%22fillOpacity%22%3A%200.3%2C%0A%20%20%22fillRule%22%3A%20%22evenodd%22%2C%0A%20%20%22lineCap%22%3A%20%22round%22%2C%0A%20%20%22lineJoin%22%3A%20%22round%22%2C%0A%20%20%22opacity%22%3A%201.0%2C%0A%20%20%22radius%22%3A%202%2C%0A%20%20%22stroke%22%3A%20true%2C%0A%20%20%22weight%22%3A%203%0A%7D%0A%20%20%20%20%20%20%20%20%20%20%20%20%20%20%20%20%29.addTo%28map_da06769d5e19429a9a792f12bf246aab%29%3B%0A%20%20%20%20%20%20%20%20%20%20%20%20%0A%20%20%20%20%0A%20%20%20%20%20%20%20%20%20%20%20%20var%20popup_c531974216d94938a7869ca4bb3bc1dc%20%3D%20L.popup%28%7BmaxWidth%3A%20%27300%27%7D%29%3B%0A%0A%20%20%20%20%20%20%20%20%20%20%20%20%0A%20%20%20%20%20%20%20%20%20%20%20%20%20%20%20%20var%20html_dbb442a895c34edb92a8c541414f28c0%20%3D%20%24%28%27%3Cdiv%20id%3D%22html_dbb442a895c34edb92a8c541414f28c0%22%20style%3D%22width%3A%20100.0%25%3B%20height%3A%20100.0%25%3B%22%3EUDINE%3C/div%3E%27%29%5B0%5D%3B%0A%20%20%20%20%20%20%20%20%20%20%20%20%20%20%20%20popup_c531974216d94938a7869ca4bb3bc1dc.setContent%28html_dbb442a895c34edb92a8c541414f28c0%29%3B%0A%20%20%20%20%20%20%20%20%20%20%20%20%0A%0A%20%20%20%20%20%20%20%20%20%20%20%20circle_marker_052d16d676e14b0c95dd97776042a1a5.bindPopup%28popup_c531974216d94938a7869ca4bb3bc1dc%29%3B%0A%0A%20%20%20%20%20%20%20%20%20%20%20%20%0A%20%20%20%20%20%20%20%20%0A%20%20%20%20%0A%20%20%20%20%20%20%20%20%20%20%20%20var%20circle_marker_eb64c1d83fad42c0863264c601710414%20%3D%20L.circleMarker%28%0A%20%20%20%20%20%20%20%20%20%20%20%20%20%20%20%20%5B45.481145%2C9.2259168%5D%2C%0A%20%20%20%20%20%20%20%20%20%20%20%20%20%20%20%20%7B%0A%20%20%22bubblingMouseEvents%22%3A%20true%2C%0A%20%20%22color%22%3A%20%22purple%22%2C%0A%20%20%22dashArray%22%3A%20null%2C%0A%20%20%22dashOffset%22%3A%20null%2C%0A%20%20%22fill%22%3A%20true%2C%0A%20%20%22fillColor%22%3A%20%22%233199cc%22%2C%0A%20%20%22fillOpacity%22%3A%200.3%2C%0A%20%20%22fillRule%22%3A%20%22evenodd%22%2C%0A%20%20%22lineCap%22%3A%20%22round%22%2C%0A%20%20%22lineJoin%22%3A%20%22round%22%2C%0A%20%20%22opacity%22%3A%201.0%2C%0A%20%20%22radius%22%3A%202%2C%0A%20%20%22stroke%22%3A%20true%2C%0A%20%20%22weight%22%3A%203%0A%7D%0A%20%20%20%20%20%20%20%20%20%20%20%20%20%20%20%20%29.addTo%28map_da06769d5e19429a9a792f12bf246aab%29%3B%0A%20%20%20%20%20%20%20%20%20%20%20%20%0A%20%20%20%20%0A%20%20%20%20%20%20%20%20%20%20%20%20var%20popup_c32323385ddb4344817a5dcd2c1c42c6%20%3D%20L.popup%28%7BmaxWidth%3A%20%27300%27%7D%29%3B%0A%0A%20%20%20%20%20%20%20%20%20%20%20%20%0A%20%20%20%20%20%20%20%20%20%20%20%20%20%20%20%20var%20html_6e86364c698a484ea7ec8cc6f9a08dcc%20%3D%20%24%28%27%3Cdiv%20id%3D%22html_6e86364c698a484ea7ec8cc6f9a08dcc%22%20style%3D%22width%3A%20100.0%25%3B%20height%3A%20100.0%25%3B%22%3EPIOLA%3C/div%3E%27%29%5B0%5D%3B%0A%20%20%20%20%20%20%20%20%20%20%20%20%20%20%20%20popup_c32323385ddb4344817a5dcd2c1c42c6.setContent%28html_6e86364c698a484ea7ec8cc6f9a08dcc%29%3B%0A%20%20%20%20%20%20%20%20%20%20%20%20%0A%0A%20%20%20%20%20%20%20%20%20%20%20%20circle_marker_eb64c1d83fad42c0863264c601710414.bindPopup%28popup_c32323385ddb4344817a5dcd2c1c42c6%29%3B%0A%0A%20%20%20%20%20%20%20%20%20%20%20%20%0A%20%20%20%20%20%20%20%20%0A%20%20%20%20%0A%20%20%20%20%20%20%20%20%20%20%20%20var%20circle_marker_1cffd7e07a2c4e02b910f3af6a171d6f%20%3D%20L.circleMarker%28%0A%20%20%20%20%20%20%20%20%20%20%20%20%20%20%20%20%5B45.4670479%2C9.2303962%5D%2C%0A%20%20%20%20%20%20%20%20%20%20%20%20%20%20%20%20%7B%0A%20%20%22bubblingMouseEvents%22%3A%20true%2C%0A%20%20%22color%22%3A%20%22purple%22%2C%0A%20%20%22dashArray%22%3A%20null%2C%0A%20%20%22dashOffset%22%3A%20null%2C%0A%20%20%22fill%22%3A%20true%2C%0A%20%20%22fillColor%22%3A%20%22%233199cc%22%2C%0A%20%20%22fillOpacity%22%3A%200.3%2C%0A%20%20%22fillRule%22%3A%20%22evenodd%22%2C%0A%20%20%22lineCap%22%3A%20%22round%22%2C%0A%20%20%22lineJoin%22%3A%20%22round%22%2C%0A%20%20%22opacity%22%3A%201.0%2C%0A%20%20%22radius%22%3A%202%2C%0A%20%20%22stroke%22%3A%20true%2C%0A%20%20%22weight%22%3A%203%0A%7D%0A%20%20%20%20%20%20%20%20%20%20%20%20%20%20%20%20%29.addTo%28map_da06769d5e19429a9a792f12bf246aab%29%3B%0A%20%20%20%20%20%20%20%20%20%20%20%20%0A%20%20%20%20%0A%20%20%20%20%20%20%20%20%20%20%20%20var%20popup_70427a313f25412aa8a98d7efefe052c%20%3D%20L.popup%28%7BmaxWidth%3A%20%27300%27%7D%29%3B%0A%0A%20%20%20%20%20%20%20%20%20%20%20%20%0A%20%20%20%20%20%20%20%20%20%20%20%20%20%20%20%20var%20html_21f2858bd5bd4dcb93b50ef88b82cf12%20%3D%20%24%28%27%3Cdiv%20id%3D%22html_21f2858bd5bd4dcb93b50ef88b82cf12%22%20style%3D%22width%3A%20100.0%25%3B%20height%3A%20100.0%25%3B%22%3EARGONNE%3C/div%3E%27%29%5B0%5D%3B%0A%20%20%20%20%20%20%20%20%20%20%20%20%20%20%20%20popup_70427a313f25412aa8a98d7efefe052c.setContent%28html_21f2858bd5bd4dcb93b50ef88b82cf12%29%3B%0A%20%20%20%20%20%20%20%20%20%20%20%20%0A%0A%20%20%20%20%20%20%20%20%20%20%20%20circle_marker_1cffd7e07a2c4e02b910f3af6a171d6f.bindPopup%28popup_70427a313f25412aa8a98d7efefe052c%29%3B%0A%0A%20%20%20%20%20%20%20%20%20%20%20%20%0A%20%20%20%20%20%20%20%20%0A%20%20%20%20%0A%20%20%20%20%20%20%20%20%20%20%20%20var%20circle_marker_9e160ea3d02b4c77acfd985db29fe9cf%20%3D%20L.circleMarker%28%0A%20%20%20%20%20%20%20%20%20%20%20%20%20%20%20%20%5B45.463908599999996%2C9.23080179796616%5D%2C%0A%20%20%20%20%20%20%20%20%20%20%20%20%20%20%20%20%7B%0A%20%20%22bubblingMouseEvents%22%3A%20true%2C%0A%20%20%22color%22%3A%20%22purple%22%2C%0A%20%20%22dashArray%22%3A%20null%2C%0A%20%20%22dashOffset%22%3A%20null%2C%0A%20%20%22fill%22%3A%20true%2C%0A%20%20%22fillColor%22%3A%20%22%233199cc%22%2C%0A%20%20%22fillOpacity%22%3A%200.3%2C%0A%20%20%22fillRule%22%3A%20%22evenodd%22%2C%0A%20%20%22lineCap%22%3A%20%22round%22%2C%0A%20%20%22lineJoin%22%3A%20%22round%22%2C%0A%20%20%22opacity%22%3A%201.0%2C%0A%20%20%22radius%22%3A%202%2C%0A%20%20%22stroke%22%3A%20true%2C%0A%20%20%22weight%22%3A%203%0A%7D%0A%20%20%20%20%20%20%20%20%20%20%20%20%20%20%20%20%29.addTo%28map_da06769d5e19429a9a792f12bf246aab%29%3B%0A%20%20%20%20%20%20%20%20%20%20%20%20%0A%20%20%20%20%0A%20%20%20%20%20%20%20%20%20%20%20%20var%20popup_85604743f6714cc5adcd8c39150bf756%20%3D%20L.popup%28%7BmaxWidth%3A%20%27300%27%7D%29%3B%0A%0A%20%20%20%20%20%20%20%20%20%20%20%20%0A%20%20%20%20%20%20%20%20%20%20%20%20%20%20%20%20var%20html_4758c4d7b19344d5974e1ad2e89d7982%20%3D%20%24%28%27%3Cdiv%20id%3D%22html_4758c4d7b19344d5974e1ad2e89d7982%22%20style%3D%22width%3A%20100.0%25%3B%20height%3A%20100.0%25%3B%22%3ECORSICA%3C/div%3E%27%29%5B0%5D%3B%0A%20%20%20%20%20%20%20%20%20%20%20%20%20%20%20%20popup_85604743f6714cc5adcd8c39150bf756.setContent%28html_4758c4d7b19344d5974e1ad2e89d7982%29%3B%0A%20%20%20%20%20%20%20%20%20%20%20%20%0A%0A%20%20%20%20%20%20%20%20%20%20%20%20circle_marker_9e160ea3d02b4c77acfd985db29fe9cf.bindPopup%28popup_85604743f6714cc5adcd8c39150bf756%29%3B%0A%0A%20%20%20%20%20%20%20%20%20%20%20%20%0A%20%20%20%20%20%20%20%20%0A%20%20%20%20%0A%20%20%20%20%20%20%20%20%20%20%20%20var%20circle_marker_82422a3db0c248848a0b2b983c7621a8%20%3D%20L.circleMarker%28%0A%20%20%20%20%20%20%20%20%20%20%20%20%20%20%20%20%5B45.4831483%2C9.2419983%5D%2C%0A%20%20%20%20%20%20%20%20%20%20%20%20%20%20%20%20%7B%0A%20%20%22bubblingMouseEvents%22%3A%20true%2C%0A%20%20%22color%22%3A%20%22purple%22%2C%0A%20%20%22dashArray%22%3A%20null%2C%0A%20%20%22dashOffset%22%3A%20null%2C%0A%20%20%22fill%22%3A%20true%2C%0A%20%20%22fillColor%22%3A%20%22%233199cc%22%2C%0A%20%20%22fillOpacity%22%3A%200.3%2C%0A%20%20%22fillRule%22%3A%20%22evenodd%22%2C%0A%20%20%22lineCap%22%3A%20%22round%22%2C%0A%20%20%22lineJoin%22%3A%20%22round%22%2C%0A%20%20%22opacity%22%3A%201.0%2C%0A%20%20%22radius%22%3A%202%2C%0A%20%20%22stroke%22%3A%20true%2C%0A%20%20%22weight%22%3A%203%0A%7D%0A%20%20%20%20%20%20%20%20%20%20%20%20%20%20%20%20%29.addTo%28map_da06769d5e19429a9a792f12bf246aab%29%3B%0A%20%20%20%20%20%20%20%20%20%20%20%20%0A%20%20%20%20%0A%20%20%20%20%20%20%20%20%20%20%20%20var%20popup_e74f968068574dc0af5e14a91a064b9c%20%3D%20L.popup%28%7BmaxWidth%3A%20%27300%27%7D%29%3B%0A%0A%20%20%20%20%20%20%20%20%20%20%20%20%0A%20%20%20%20%20%20%20%20%20%20%20%20%20%20%20%20var%20html_e17289064da049a3a41744f688e23fc4%20%3D%20%24%28%27%3Cdiv%20id%3D%22html_e17289064da049a3a41744f688e23fc4%22%20style%3D%22width%3A%20100.0%25%3B%20height%3A%20100.0%25%3B%22%3ELAMBRATE%3C/div%3E%27%29%5B0%5D%3B%0A%20%20%20%20%20%20%20%20%20%20%20%20%20%20%20%20popup_e74f968068574dc0af5e14a91a064b9c.setContent%28html_e17289064da049a3a41744f688e23fc4%29%3B%0A%20%20%20%20%20%20%20%20%20%20%20%20%0A%0A%20%20%20%20%20%20%20%20%20%20%20%20circle_marker_82422a3db0c248848a0b2b983c7621a8.bindPopup%28popup_e74f968068574dc0af5e14a91a064b9c%29%3B%0A%0A%20%20%20%20%20%20%20%20%20%20%20%20%0A%20%20%20%20%20%20%20%20%0A%20%20%20%20%0A%20%20%20%20%20%20%20%20%20%20%20%20var%20circle_marker_170fb9af87d543eb8317bd8e88a74443%20%3D%20L.circleMarker%28%0A%20%20%20%20%20%20%20%20%20%20%20%20%20%20%20%20%5B45.4774421%2C9.2523668%5D%2C%0A%20%20%20%20%20%20%20%20%20%20%20%20%20%20%20%20%7B%0A%20%20%22bubblingMouseEvents%22%3A%20true%2C%0A%20%20%22color%22%3A%20%22purple%22%2C%0A%20%20%22dashArray%22%3A%20null%2C%0A%20%20%22dashOffset%22%3A%20null%2C%0A%20%20%22fill%22%3A%20true%2C%0A%20%20%22fillColor%22%3A%20%22%233199cc%22%2C%0A%20%20%22fillOpacity%22%3A%200.3%2C%0A%20%20%22fillRule%22%3A%20%22evenodd%22%2C%0A%20%20%22lineCap%22%3A%20%22round%22%2C%0A%20%20%22lineJoin%22%3A%20%22round%22%2C%0A%20%20%22opacity%22%3A%201.0%2C%0A%20%20%22radius%22%3A%202%2C%0A%20%20%22stroke%22%3A%20true%2C%0A%20%20%22weight%22%3A%203%0A%7D%0A%20%20%20%20%20%20%20%20%20%20%20%20%20%20%20%20%29.addTo%28map_da06769d5e19429a9a792f12bf246aab%29%3B%0A%20%20%20%20%20%20%20%20%20%20%20%20%0A%20%20%20%20%0A%20%20%20%20%20%20%20%20%20%20%20%20var%20popup_c2fa59acfdb1418d9c4e116eee11b357%20%3D%20L.popup%28%7BmaxWidth%3A%20%27300%27%7D%29%3B%0A%0A%20%20%20%20%20%20%20%20%20%20%20%20%0A%20%20%20%20%20%20%20%20%20%20%20%20%20%20%20%20var%20html_883c7c7c8777488bb92899540c6bec49%20%3D%20%24%28%27%3Cdiv%20id%3D%22html_883c7c7c8777488bb92899540c6bec49%22%20style%3D%22width%3A%20100.0%25%3B%20height%3A%20100.0%25%3B%22%3ERUBATTINO%3C/div%3E%27%29%5B0%5D%3B%0A%20%20%20%20%20%20%20%20%20%20%20%20%20%20%20%20popup_c2fa59acfdb1418d9c4e116eee11b357.setContent%28html_883c7c7c8777488bb92899540c6bec49%29%3B%0A%20%20%20%20%20%20%20%20%20%20%20%20%0A%0A%20%20%20%20%20%20%20%20%20%20%20%20circle_marker_170fb9af87d543eb8317bd8e88a74443.bindPopup%28popup_c2fa59acfdb1418d9c4e116eee11b357%29%3B%0A%0A%20%20%20%20%20%20%20%20%20%20%20%20%0A%20%20%20%20%20%20%20%20%0A%20%20%20%20%0A%20%20%20%20%20%20%20%20%20%20%20%20var%20circle_marker_ddedd74e4e0342b4a717edcbcc7d5890%20%3D%20L.circleMarker%28%0A%20%20%20%20%20%20%20%20%20%20%20%20%20%20%20%20%5B45.4864231%2C9.2409806%5D%2C%0A%20%20%20%20%20%20%20%20%20%20%20%20%20%20%20%20%7B%0A%20%20%22bubblingMouseEvents%22%3A%20true%2C%0A%20%20%22color%22%3A%20%22purple%22%2C%0A%20%20%22dashArray%22%3A%20null%2C%0A%20%20%22dashOffset%22%3A%20null%2C%0A%20%20%22fill%22%3A%20true%2C%0A%20%20%22fillColor%22%3A%20%22%233199cc%22%2C%0A%20%20%22fillOpacity%22%3A%200.3%2C%0A%20%20%22fillRule%22%3A%20%22evenodd%22%2C%0A%20%20%22lineCap%22%3A%20%22round%22%2C%0A%20%20%22lineJoin%22%3A%20%22round%22%2C%0A%20%20%22opacity%22%3A%201.0%2C%0A%20%20%22radius%22%3A%202%2C%0A%20%20%22stroke%22%3A%20true%2C%0A%20%20%22weight%22%3A%203%0A%7D%0A%20%20%20%20%20%20%20%20%20%20%20%20%20%20%20%20%29.addTo%28map_da06769d5e19429a9a792f12bf246aab%29%3B%0A%20%20%20%20%20%20%20%20%20%20%20%20%0A%20%20%20%20%0A%20%20%20%20%20%20%20%20%20%20%20%20var%20popup_f97980e4c5784243b24c80a60e89d964%20%3D%20L.popup%28%7BmaxWidth%3A%20%27300%27%7D%29%3B%0A%0A%20%20%20%20%20%20%20%20%20%20%20%20%0A%20%20%20%20%20%20%20%20%20%20%20%20%20%20%20%20var%20html_c868da7c530c492e9f98aacd13a8c0f9%20%3D%20%24%28%27%3Cdiv%20id%3D%22html_c868da7c530c492e9f98aacd13a8c0f9%22%20style%3D%22width%3A%20100.0%25%3B%20height%3A%20100.0%25%3B%22%3EROMBON%3C/div%3E%27%29%5B0%5D%3B%0A%20%20%20%20%20%20%20%20%20%20%20%20%20%20%20%20popup_f97980e4c5784243b24c80a60e89d964.setContent%28html_c868da7c530c492e9f98aacd13a8c0f9%29%3B%0A%20%20%20%20%20%20%20%20%20%20%20%20%0A%0A%20%20%20%20%20%20%20%20%20%20%20%20circle_marker_ddedd74e4e0342b4a717edcbcc7d5890.bindPopup%28popup_f97980e4c5784243b24c80a60e89d964%29%3B%0A%0A%20%20%20%20%20%20%20%20%20%20%20%20%0A%20%20%20%20%20%20%20%20%0A%20%20%20%20%0A%20%20%20%20%20%20%20%20%20%20%20%20var%20circle_marker_3cf310ba3333496ba1e59237463a18c5%20%3D%20L.circleMarker%28%0A%20%20%20%20%20%20%20%20%20%20%20%20%20%20%20%20%5B45.4675255%2C9.2135715%5D%2C%0A%20%20%20%20%20%20%20%20%20%20%20%20%20%20%20%20%7B%0A%20%20%22bubblingMouseEvents%22%3A%20true%2C%0A%20%20%22color%22%3A%20%22purple%22%2C%0A%20%20%22dashArray%22%3A%20null%2C%0A%20%20%22dashOffset%22%3A%20null%2C%0A%20%20%22fill%22%3A%20true%2C%0A%20%20%22fillColor%22%3A%20%22%233199cc%22%2C%0A%20%20%22fillOpacity%22%3A%200.3%2C%0A%20%20%22fillRule%22%3A%20%22evenodd%22%2C%0A%20%20%22lineCap%22%3A%20%22round%22%2C%0A%20%20%22lineJoin%22%3A%20%22round%22%2C%0A%20%20%22opacity%22%3A%201.0%2C%0A%20%20%22radius%22%3A%202%2C%0A%20%20%22stroke%22%3A%20true%2C%0A%20%20%22weight%22%3A%203%0A%7D%0A%20%20%20%20%20%20%20%20%20%20%20%20%20%20%20%20%29.addTo%28map_da06769d5e19429a9a792f12bf246aab%29%3B%0A%20%20%20%20%20%20%20%20%20%20%20%20%0A%20%20%20%20%0A%20%20%20%20%20%20%20%20%20%20%20%20var%20popup_308ab43d4819437ba028d025326fbe6f%20%3D%20L.popup%28%7BmaxWidth%3A%20%27300%27%7D%29%3B%0A%0A%20%20%20%20%20%20%20%20%20%20%20%20%0A%20%20%20%20%20%20%20%20%20%20%20%20%20%20%20%20var%20html_3d5c052cfb3243c09e877bda5e204347%20%3D%20%24%28%27%3Cdiv%20id%3D%22html_3d5c052cfb3243c09e877bda5e204347%22%20style%3D%22width%3A%20100.0%25%3B%20height%3A%20100.0%25%3B%22%3EFORLANINI%3C/div%3E%27%29%5B0%5D%3B%0A%20%20%20%20%20%20%20%20%20%20%20%20%20%20%20%20popup_308ab43d4819437ba028d025326fbe6f.setContent%28html_3d5c052cfb3243c09e877bda5e204347%29%3B%0A%20%20%20%20%20%20%20%20%20%20%20%20%0A%0A%20%20%20%20%20%20%20%20%20%20%20%20circle_marker_3cf310ba3333496ba1e59237463a18c5.bindPopup%28popup_308ab43d4819437ba028d025326fbe6f%29%3B%0A%0A%20%20%20%20%20%20%20%20%20%20%20%20%0A%20%20%20%20%20%20%20%20%0A%20%20%20%20%0A%20%20%20%20%20%20%20%20%20%20%20%20var%20circle_marker_559179074791445d9e5bcfc156918696%20%3D%20L.circleMarker%28%0A%20%20%20%20%20%20%20%20%20%20%20%20%20%20%20%20%5B45.4477791%2C9.247090719928508%5D%2C%0A%20%20%20%20%20%20%20%20%20%20%20%20%20%20%20%20%7B%0A%20%20%22bubblingMouseEvents%22%3A%20true%2C%0A%20%20%22color%22%3A%20%22purple%22%2C%0A%20%20%22dashArray%22%3A%20null%2C%0A%20%20%22dashOffset%22%3A%20null%2C%0A%20%20%22fill%22%3A%20true%2C%0A%20%20%22fillColor%22%3A%20%22%233199cc%22%2C%0A%20%20%22fillOpacity%22%3A%200.3%2C%0A%20%20%22fillRule%22%3A%20%22evenodd%22%2C%0A%20%20%22lineCap%22%3A%20%22round%22%2C%0A%20%20%22lineJoin%22%3A%20%22round%22%2C%0A%20%20%22opacity%22%3A%201.0%2C%0A%20%20%22radius%22%3A%202%2C%0A%20%20%22stroke%22%3A%20true%2C%0A%20%20%22weight%22%3A%203%0A%7D%0A%20%20%20%20%20%20%20%20%20%20%20%20%20%20%20%20%29.addTo%28map_da06769d5e19429a9a792f12bf246aab%29%3B%0A%20%20%20%20%20%20%20%20%20%20%20%20%0A%20%20%20%20%0A%20%20%20%20%20%20%20%20%20%20%20%20var%20popup_3a448d482bff4e4196ef2ba85fea4e57%20%3D%20L.popup%28%7BmaxWidth%3A%20%27300%27%7D%29%3B%0A%0A%20%20%20%20%20%20%20%20%20%20%20%20%0A%20%20%20%20%20%20%20%20%20%20%20%20%20%20%20%20var%20html_05abccc2acb342d88e13c2dc3df9f494%20%3D%20%24%28%27%3Cdiv%20id%3D%22html_05abccc2acb342d88e13c2dc3df9f494%22%20style%3D%22width%3A%20100.0%25%3B%20height%3A%20100.0%25%3B%22%3EMECENATE%3C/div%3E%27%29%5B0%5D%3B%0A%20%20%20%20%20%20%20%20%20%20%20%20%20%20%20%20popup_3a448d482bff4e4196ef2ba85fea4e57.setContent%28html_05abccc2acb342d88e13c2dc3df9f494%29%3B%0A%20%20%20%20%20%20%20%20%20%20%20%20%0A%0A%20%20%20%20%20%20%20%20%20%20%20%20circle_marker_559179074791445d9e5bcfc156918696.bindPopup%28popup_3a448d482bff4e4196ef2ba85fea4e57%29%3B%0A%0A%20%20%20%20%20%20%20%20%20%20%20%20%0A%20%20%20%20%20%20%20%20%0A%20%20%20%20%0A%20%20%20%20%20%20%20%20%20%20%20%20var%20circle_marker_9b79db0d54df472d96b3ea870a5c4564%20%3D%20L.circleMarker%28%0A%20%20%20%20%20%20%20%20%20%20%20%20%20%20%20%20%5B45.45330395%2C9.23059287245498%5D%2C%0A%20%20%20%20%20%20%20%20%20%20%20%20%20%20%20%20%7B%0A%20%20%22bubblingMouseEvents%22%3A%20true%2C%0A%20%20%22color%22%3A%20%22purple%22%2C%0A%20%20%22dashArray%22%3A%20null%2C%0A%20%20%22dashOffset%22%3A%20null%2C%0A%20%20%22fill%22%3A%20true%2C%0A%20%20%22fillColor%22%3A%20%22%233199cc%22%2C%0A%20%20%22fillOpacity%22%3A%200.3%2C%0A%20%20%22fillRule%22%3A%20%22evenodd%22%2C%0A%20%20%22lineCap%22%3A%20%22round%22%2C%0A%20%20%22lineJoin%22%3A%20%22round%22%2C%0A%20%20%22opacity%22%3A%201.0%2C%0A%20%20%22radius%22%3A%202%2C%0A%20%20%22stroke%22%3A%20true%2C%0A%20%20%22weight%22%3A%203%0A%7D%0A%20%20%20%20%20%20%20%20%20%20%20%20%20%20%20%20%29.addTo%28map_da06769d5e19429a9a792f12bf246aab%29%3B%0A%20%20%20%20%20%20%20%20%20%20%20%20%0A%20%20%20%20%0A%20%20%20%20%20%20%20%20%20%20%20%20var%20popup_a2ab4ce5cb934a54b61ce9dca66ee2eb%20%3D%20L.popup%28%7BmaxWidth%3A%20%27300%27%7D%29%3B%0A%0A%20%20%20%20%20%20%20%20%20%20%20%20%0A%20%20%20%20%20%20%20%20%20%20%20%20%20%20%20%20var%20html_e781f7c8187f4523ba525d5a61f9720c%20%3D%20%24%28%27%3Cdiv%20id%3D%22html_e781f7c8187f4523ba525d5a61f9720c%22%20style%3D%22width%3A%20100.0%25%3B%20height%3A%20100.0%25%3B%22%3EORTOMERCATO%3C/div%3E%27%29%5B0%5D%3B%0A%20%20%20%20%20%20%20%20%20%20%20%20%20%20%20%20popup_a2ab4ce5cb934a54b61ce9dca66ee2eb.setContent%28html_e781f7c8187f4523ba525d5a61f9720c%29%3B%0A%20%20%20%20%20%20%20%20%20%20%20%20%0A%0A%20%20%20%20%20%20%20%20%20%20%20%20circle_marker_9b79db0d54df472d96b3ea870a5c4564.bindPopup%28popup_a2ab4ce5cb934a54b61ce9dca66ee2eb%29%3B%0A%0A%20%20%20%20%20%20%20%20%20%20%20%20%0A%20%20%20%20%20%20%20%20%0A%20%20%20%20%0A%20%20%20%20%20%20%20%20%20%20%20%20var%20circle_marker_b1090695f8f64f6bb1a34bc7b6e9f322%20%3D%20L.circleMarker%28%0A%20%20%20%20%20%20%20%20%20%20%20%20%20%20%20%20%5B44.838555%2C12.3765338%5D%2C%0A%20%20%20%20%20%20%20%20%20%20%20%20%20%20%20%20%7B%0A%20%20%22bubblingMouseEvents%22%3A%20true%2C%0A%20%20%22color%22%3A%20%22purple%22%2C%0A%20%20%22dashArray%22%3A%20null%2C%0A%20%20%22dashOffset%22%3A%20null%2C%0A%20%20%22fill%22%3A%20true%2C%0A%20%20%22fillColor%22%3A%20%22%233199cc%22%2C%0A%20%20%22fillOpacity%22%3A%200.3%2C%0A%20%20%22fillRule%22%3A%20%22evenodd%22%2C%0A%20%20%22lineCap%22%3A%20%22round%22%2C%0A%20%20%22lineJoin%22%3A%20%22round%22%2C%0A%20%20%22opacity%22%3A%201.0%2C%0A%20%20%22radius%22%3A%202%2C%0A%20%20%22stroke%22%3A%20true%2C%0A%20%20%22weight%22%3A%203%0A%7D%0A%20%20%20%20%20%20%20%20%20%20%20%20%20%20%20%20%29.addTo%28map_da06769d5e19429a9a792f12bf246aab%29%3B%0A%20%20%20%20%20%20%20%20%20%20%20%20%0A%20%20%20%20%0A%20%20%20%20%20%20%20%20%20%20%20%20var%20popup_3c9c3c330fbd4d3781c1179e91d746f9%20%3D%20L.popup%28%7BmaxWidth%3A%20%27300%27%7D%29%3B%0A%0A%20%20%20%20%20%20%20%20%20%20%20%20%0A%20%20%20%20%20%20%20%20%20%20%20%20%20%20%20%20var%20html_ad6702ea7ec94e5f803aea069e287494%20%3D%20%24%28%27%3Cdiv%20id%3D%22html_ad6702ea7ec94e5f803aea069e287494%22%20style%3D%22width%3A%20100.0%25%3B%20height%3A%20100.0%25%3B%22%3ESANTA%20GIULIA%3C/div%3E%27%29%5B0%5D%3B%0A%20%20%20%20%20%20%20%20%20%20%20%20%20%20%20%20popup_3c9c3c330fbd4d3781c1179e91d746f9.setContent%28html_ad6702ea7ec94e5f803aea069e287494%29%3B%0A%20%20%20%20%20%20%20%20%20%20%20%20%0A%0A%20%20%20%20%20%20%20%20%20%20%20%20circle_marker_b1090695f8f64f6bb1a34bc7b6e9f322.bindPopup%28popup_3c9c3c330fbd4d3781c1179e91d746f9%29%3B%0A%0A%20%20%20%20%20%20%20%20%20%20%20%20%0A%20%20%20%20%20%20%20%20%0A%20%20%20%20%0A%20%20%20%20%20%20%20%20%20%20%20%20var%20circle_marker_5262fb77e4574e8a98eaf2f9f6d6a98e%20%3D%20L.circleMarker%28%0A%20%20%20%20%20%20%20%20%20%20%20%20%20%20%20%20%5B45.4393538%2C9.2252418%5D%2C%0A%20%20%20%20%20%20%20%20%20%20%20%20%20%20%20%20%7B%0A%20%20%22bubblingMouseEvents%22%3A%20true%2C%0A%20%20%22color%22%3A%20%22purple%22%2C%0A%20%20%22dashArray%22%3A%20null%2C%0A%20%20%22dashOffset%22%3A%20null%2C%0A%20%20%22fill%22%3A%20true%2C%0A%20%20%22fillColor%22%3A%20%22%233199cc%22%2C%0A%20%20%22fillOpacity%22%3A%200.3%2C%0A%20%20%22fillRule%22%3A%20%22evenodd%22%2C%0A%20%20%22lineCap%22%3A%20%22round%22%2C%0A%20%20%22lineJoin%22%3A%20%22round%22%2C%0A%20%20%22opacity%22%3A%201.0%2C%0A%20%20%22radius%22%3A%202%2C%0A%20%20%22stroke%22%3A%20true%2C%0A%20%20%22weight%22%3A%203%0A%7D%0A%20%20%20%20%20%20%20%20%20%20%20%20%20%20%20%20%29.addTo%28map_da06769d5e19429a9a792f12bf246aab%29%3B%0A%20%20%20%20%20%20%20%20%20%20%20%20%0A%20%20%20%20%0A%20%20%20%20%20%20%20%20%20%20%20%20var%20popup_3117323068a74d508779610b18f352ca%20%3D%20L.popup%28%7BmaxWidth%3A%20%27300%27%7D%29%3B%0A%0A%20%20%20%20%20%20%20%20%20%20%20%20%0A%20%20%20%20%20%20%20%20%20%20%20%20%20%20%20%20var%20html_e1a548c456e3444c9c11e34911de4806%20%3D%20%24%28%27%3Cdiv%20id%3D%22html_e1a548c456e3444c9c11e34911de4806%22%20style%3D%22width%3A%20100.0%25%3B%20height%3A%20100.0%25%3B%22%3EVIA%20CARLO%20MAROCHETTI%3C/div%3E%27%29%5B0%5D%3B%0A%20%20%20%20%20%20%20%20%20%20%20%20%20%20%20%20popup_3117323068a74d508779610b18f352ca.setContent%28html_e1a548c456e3444c9c11e34911de4806%29%3B%0A%20%20%20%20%20%20%20%20%20%20%20%20%0A%0A%20%20%20%20%20%20%20%20%20%20%20%20circle_marker_5262fb77e4574e8a98eaf2f9f6d6a98e.bindPopup%28popup_3117323068a74d508779610b18f352ca%29%3B%0A%0A%20%20%20%20%20%20%20%20%20%20%20%20%0A%20%20%20%20%20%20%20%20%0A%20%20%20%20%0A%20%20%20%20%20%20%20%20%20%20%20%20var%20circle_marker_5396234053984b5fb1a2fa733fd6a1c5%20%3D%20L.circleMarker%28%0A%20%20%20%20%20%20%20%20%20%20%20%20%20%20%20%20%5B45.4351394%2C9.1986952%5D%2C%0A%20%20%20%20%20%20%20%20%20%20%20%20%20%20%20%20%7B%0A%20%20%22bubblingMouseEvents%22%3A%20true%2C%0A%20%20%22color%22%3A%20%22purple%22%2C%0A%20%20%22dashArray%22%3A%20null%2C%0A%20%20%22dashOffset%22%3A%20null%2C%0A%20%20%22fill%22%3A%20true%2C%0A%20%20%22fillColor%22%3A%20%22%233199cc%22%2C%0A%20%20%22fillOpacity%22%3A%200.3%2C%0A%20%20%22fillRule%22%3A%20%22evenodd%22%2C%0A%20%20%22lineCap%22%3A%20%22round%22%2C%0A%20%20%22lineJoin%22%3A%20%22round%22%2C%0A%20%20%22opacity%22%3A%201.0%2C%0A%20%20%22radius%22%3A%202%2C%0A%20%20%22stroke%22%3A%20true%2C%0A%20%20%22weight%22%3A%203%0A%7D%0A%20%20%20%20%20%20%20%20%20%20%20%20%20%20%20%20%29.addTo%28map_da06769d5e19429a9a792f12bf246aab%29%3B%0A%20%20%20%20%20%20%20%20%20%20%20%20%0A%20%20%20%20%0A%20%20%20%20%20%20%20%20%20%20%20%20var%20popup_fc3f25041bd74383a9eef2e6c6f78a5b%20%3D%20L.popup%28%7BmaxWidth%3A%20%27300%27%7D%29%3B%0A%0A%20%20%20%20%20%20%20%20%20%20%20%20%0A%20%20%20%20%20%20%20%20%20%20%20%20%20%20%20%20var%20html_6870dce1da794b0dbcac6da10291bf7d%20%3D%20%24%28%27%3Cdiv%20id%3D%22html_6870dce1da794b0dbcac6da10291bf7d%22%20style%3D%22width%3A%20100.0%25%3B%20height%3A%20100.0%25%3B%22%3EVIGENTINO%3C/div%3E%27%29%5B0%5D%3B%0A%20%20%20%20%20%20%20%20%20%20%20%20%20%20%20%20popup_fc3f25041bd74383a9eef2e6c6f78a5b.setContent%28html_6870dce1da794b0dbcac6da10291bf7d%29%3B%0A%20%20%20%20%20%20%20%20%20%20%20%20%0A%0A%20%20%20%20%20%20%20%20%20%20%20%20circle_marker_5396234053984b5fb1a2fa733fd6a1c5.bindPopup%28popup_fc3f25041bd74383a9eef2e6c6f78a5b%29%3B%0A%0A%20%20%20%20%20%20%20%20%20%20%20%20%0A%20%20%20%20%20%20%20%20%0A%20%20%20%20%0A%20%20%20%20%20%20%20%20%20%20%20%20var%20circle_marker_a22cb1723cf943e6a3c899ad033b7eb2%20%3D%20L.circleMarker%28%0A%20%20%20%20%20%20%20%20%20%20%20%20%20%20%20%20%5B45.4277094%2C9.17457%5D%2C%0A%20%20%20%20%20%20%20%20%20%20%20%20%20%20%20%20%7B%0A%20%20%22bubblingMouseEvents%22%3A%20true%2C%0A%20%20%22color%22%3A%20%22purple%22%2C%0A%20%20%22dashArray%22%3A%20null%2C%0A%20%20%22dashOffset%22%3A%20null%2C%0A%20%20%22fill%22%3A%20true%2C%0A%20%20%22fillColor%22%3A%20%22%233199cc%22%2C%0A%20%20%22fillOpacity%22%3A%200.3%2C%0A%20%20%22fillRule%22%3A%20%22evenodd%22%2C%0A%20%20%22lineCap%22%3A%20%22round%22%2C%0A%20%20%22lineJoin%22%3A%20%22round%22%2C%0A%20%20%22opacity%22%3A%201.0%2C%0A%20%20%22radius%22%3A%202%2C%0A%20%20%22stroke%22%3A%20true%2C%0A%20%20%22weight%22%3A%203%0A%7D%0A%20%20%20%20%20%20%20%20%20%20%20%20%20%20%20%20%29.addTo%28map_da06769d5e19429a9a792f12bf246aab%29%3B%0A%20%20%20%20%20%20%20%20%20%20%20%20%0A%20%20%20%20%0A%20%20%20%20%20%20%20%20%20%20%20%20var%20popup_3847726b35ea47e7adc164436c86fb88%20%3D%20L.popup%28%7BmaxWidth%3A%20%27300%27%7D%29%3B%0A%0A%20%20%20%20%20%20%20%20%20%20%20%20%0A%20%20%20%20%20%20%20%20%20%20%20%20%20%20%20%20var%20html_2eb1f9b2da52478e956292a2f4782a92%20%3D%20%24%28%27%3Cdiv%20id%3D%22html_2eb1f9b2da52478e956292a2f4782a92%22%20style%3D%22width%3A%20100.0%25%3B%20height%3A%20100.0%25%3B%22%3ECHIESA%20ROSSA%3C/div%3E%27%29%5B0%5D%3B%0A%20%20%20%20%20%20%20%20%20%20%20%20%20%20%20%20popup_3847726b35ea47e7adc164436c86fb88.setContent%28html_2eb1f9b2da52478e956292a2f4782a92%29%3B%0A%20%20%20%20%20%20%20%20%20%20%20%20%0A%0A%20%20%20%20%20%20%20%20%20%20%20%20circle_marker_a22cb1723cf943e6a3c899ad033b7eb2.bindPopup%28popup_3847726b35ea47e7adc164436c86fb88%29%3B%0A%0A%20%20%20%20%20%20%20%20%20%20%20%20%0A%20%20%20%20%20%20%20%20%0A%20%20%20%20%0A%20%20%20%20%20%20%20%20%20%20%20%20var%20circle_marker_6dbd046015a245dc8c602774a8e29be4%20%3D%20L.circleMarker%28%0A%20%20%20%20%20%20%20%20%20%20%20%20%20%20%20%20%5B45.4391034%2C9.2014801%5D%2C%0A%20%20%20%20%20%20%20%20%20%20%20%20%20%20%20%20%7B%0A%20%20%22bubblingMouseEvents%22%3A%20true%2C%0A%20%20%22color%22%3A%20%22purple%22%2C%0A%20%20%22dashArray%22%3A%20null%2C%0A%20%20%22dashOffset%22%3A%20null%2C%0A%20%20%22fill%22%3A%20true%2C%0A%20%20%22fillColor%22%3A%20%22%233199cc%22%2C%0A%20%20%22fillOpacity%22%3A%200.3%2C%0A%20%20%22fillRule%22%3A%20%22evenodd%22%2C%0A%20%20%22lineCap%22%3A%20%22round%22%2C%0A%20%20%22lineJoin%22%3A%20%22round%22%2C%0A%20%20%22opacity%22%3A%201.0%2C%0A%20%20%22radius%22%3A%202%2C%0A%20%20%22stroke%22%3A%20true%2C%0A%20%20%22weight%22%3A%203%0A%7D%0A%20%20%20%20%20%20%20%20%20%20%20%20%20%20%20%20%29.addTo%28map_da06769d5e19429a9a792f12bf246aab%29%3B%0A%20%20%20%20%20%20%20%20%20%20%20%20%0A%20%20%20%20%0A%20%20%20%20%20%20%20%20%20%20%20%20var%20popup_51e21a153b0c4a8aaa71a9974039afc4%20%3D%20L.popup%28%7BmaxWidth%3A%20%27300%27%7D%29%3B%0A%0A%20%20%20%20%20%20%20%20%20%20%20%20%0A%20%20%20%20%20%20%20%20%20%20%20%20%20%20%20%20var%20html_262b4a9544b34a789ccdcc141c7b79f9%20%3D%20%24%28%27%3Cdiv%20id%3D%22html_262b4a9544b34a789ccdcc141c7b79f9%22%20style%3D%22width%3A%20100.0%25%3B%20height%3A%20100.0%25%3B%22%3EORTLES%3C/div%3E%27%29%5B0%5D%3B%0A%20%20%20%20%20%20%20%20%20%20%20%20%20%20%20%20popup_51e21a153b0c4a8aaa71a9974039afc4.setContent%28html_262b4a9544b34a789ccdcc141c7b79f9%29%3B%0A%20%20%20%20%20%20%20%20%20%20%20%20%0A%0A%20%20%20%20%20%20%20%20%20%20%20%20circle_marker_6dbd046015a245dc8c602774a8e29be4.bindPopup%28popup_51e21a153b0c4a8aaa71a9974039afc4%29%3B%0A%0A%20%20%20%20%20%20%20%20%20%20%20%20%0A%20%20%20%20%20%20%20%20%0A%20%20%20%20%0A%20%20%20%20%20%20%20%20%20%20%20%20var%20circle_marker_ffcbdedea557467a99d94e0bbb5aaa12%20%3D%20L.circleMarker%28%0A%20%20%20%20%20%20%20%20%20%20%20%20%20%20%20%20%5B45.5341831%2C9.1310169%5D%2C%0A%20%20%20%20%20%20%20%20%20%20%20%20%20%20%20%20%7B%0A%20%20%22bubblingMouseEvents%22%3A%20true%2C%0A%20%20%22color%22%3A%20%22purple%22%2C%0A%20%20%22dashArray%22%3A%20null%2C%0A%20%20%22dashOffset%22%3A%20null%2C%0A%20%20%22fill%22%3A%20true%2C%0A%20%20%22fillColor%22%3A%20%22%233199cc%22%2C%0A%20%20%22fillOpacity%22%3A%200.3%2C%0A%20%20%22fillRule%22%3A%20%22evenodd%22%2C%0A%20%20%22lineCap%22%3A%20%22round%22%2C%0A%20%20%22lineJoin%22%3A%20%22round%22%2C%0A%20%20%22opacity%22%3A%201.0%2C%0A%20%20%22radius%22%3A%202%2C%0A%20%20%22stroke%22%3A%20true%2C%0A%20%20%22weight%22%3A%203%0A%7D%0A%20%20%20%20%20%20%20%20%20%20%20%20%20%20%20%20%29.addTo%28map_da06769d5e19429a9a792f12bf246aab%29%3B%0A%20%20%20%20%20%20%20%20%20%20%20%20%0A%20%20%20%20%0A%20%20%20%20%20%20%20%20%20%20%20%20var%20popup_33780ca54ae34ef586c3653285260330%20%3D%20L.popup%28%7BmaxWidth%3A%20%27300%27%7D%29%3B%0A%0A%20%20%20%20%20%20%20%20%20%20%20%20%0A%20%20%20%20%20%20%20%20%20%20%20%20%20%20%20%20var%20html_7e37ab4e4cff481eaf8126caa5403fab%20%3D%20%24%28%27%3Cdiv%20id%3D%22html_7e37ab4e4cff481eaf8126caa5403fab%22%20style%3D%22width%3A%20100.0%25%3B%20height%3A%20100.0%25%3B%22%3ESPADOLINI%3C/div%3E%27%29%5B0%5D%3B%0A%20%20%20%20%20%20%20%20%20%20%20%20%20%20%20%20popup_33780ca54ae34ef586c3653285260330.setContent%28html_7e37ab4e4cff481eaf8126caa5403fab%29%3B%0A%20%20%20%20%20%20%20%20%20%20%20%20%0A%0A%20%20%20%20%20%20%20%20%20%20%20%20circle_marker_ffcbdedea557467a99d94e0bbb5aaa12.bindPopup%28popup_33780ca54ae34ef586c3653285260330%29%3B%0A%0A%20%20%20%20%20%20%20%20%20%20%20%20%0A%20%20%20%20%20%20%20%20%0A%20%20%20%20%0A%20%20%20%20%20%20%20%20%20%20%20%20var%20circle_marker_83139c2e7920415b879c8b048a486e85%20%3D%20L.circleMarker%28%0A%20%20%20%20%20%20%20%20%20%20%20%20%20%20%20%20%5B45.442518%2C9.1880159%5D%2C%0A%20%20%20%20%20%20%20%20%20%20%20%20%20%20%20%20%7B%0A%20%20%22bubblingMouseEvents%22%3A%20true%2C%0A%20%20%22color%22%3A%20%22purple%22%2C%0A%20%20%22dashArray%22%3A%20null%2C%0A%20%20%22dashOffset%22%3A%20null%2C%0A%20%20%22fill%22%3A%20true%2C%0A%20%20%22fillColor%22%3A%20%22%233199cc%22%2C%0A%20%20%22fillOpacity%22%3A%200.3%2C%0A%20%20%22fillRule%22%3A%20%22evenodd%22%2C%0A%20%20%22lineCap%22%3A%20%22round%22%2C%0A%20%20%22lineJoin%22%3A%20%22round%22%2C%0A%20%20%22opacity%22%3A%201.0%2C%0A%20%20%22radius%22%3A%202%2C%0A%20%20%22stroke%22%3A%20true%2C%0A%20%20%22weight%22%3A%203%0A%7D%0A%20%20%20%20%20%20%20%20%20%20%20%20%20%20%20%20%29.addTo%28map_da06769d5e19429a9a792f12bf246aab%29%3B%0A%20%20%20%20%20%20%20%20%20%20%20%20%0A%20%20%20%20%0A%20%20%20%20%20%20%20%20%20%20%20%20var%20popup_d8da83afbe884420b245f54d7e1eb412%20%3D%20L.popup%28%7BmaxWidth%3A%20%27300%27%7D%29%3B%0A%0A%20%20%20%20%20%20%20%20%20%20%20%20%0A%20%20%20%20%20%20%20%20%20%20%20%20%20%20%20%20var%20html_c21e558125da4b4d8eacb2cd85a92dbd%20%3D%20%24%28%27%3Cdiv%20id%3D%22html_c21e558125da4b4d8eacb2cd85a92dbd%22%20style%3D%22width%3A%20100.0%25%3B%20height%3A%20100.0%25%3B%22%3EBAZZI%3C/div%3E%27%29%5B0%5D%3B%0A%20%20%20%20%20%20%20%20%20%20%20%20%20%20%20%20popup_d8da83afbe884420b245f54d7e1eb412.setContent%28html_c21e558125da4b4d8eacb2cd85a92dbd%29%3B%0A%20%20%20%20%20%20%20%20%20%20%20%20%0A%0A%20%20%20%20%20%20%20%20%20%20%20%20circle_marker_83139c2e7920415b879c8b048a486e85.bindPopup%28popup_d8da83afbe884420b245f54d7e1eb412%29%3B%0A%0A%20%20%20%20%20%20%20%20%20%20%20%20%0A%20%20%20%20%20%20%20%20%0A%20%20%20%20%0A%20%20%20%20%20%20%20%20%20%20%20%20var%20circle_marker_f3ed4b49efa7425a86e4d77006b6ff94%20%3D%20L.circleMarker%28%0A%20%20%20%20%20%20%20%20%20%20%20%20%20%20%20%20%5B45.4307236%2C9.153586498645359%5D%2C%0A%20%20%20%20%20%20%20%20%20%20%20%20%20%20%20%20%7B%0A%20%20%22bubblingMouseEvents%22%3A%20true%2C%0A%20%20%22color%22%3A%20%22purple%22%2C%0A%20%20%22dashArray%22%3A%20null%2C%0A%20%20%22dashOffset%22%3A%20null%2C%0A%20%20%22fill%22%3A%20true%2C%0A%20%20%22fillColor%22%3A%20%22%233199cc%22%2C%0A%20%20%22fillOpacity%22%3A%200.3%2C%0A%20%20%22fillRule%22%3A%20%22evenodd%22%2C%0A%20%20%22lineCap%22%3A%20%22round%22%2C%0A%20%20%22lineJoin%22%3A%20%22round%22%2C%0A%20%20%22opacity%22%3A%201.0%2C%0A%20%20%22radius%22%3A%202%2C%0A%20%20%22stroke%22%3A%20true%2C%0A%20%20%22weight%22%3A%203%0A%7D%0A%20%20%20%20%20%20%20%20%20%20%20%20%20%20%20%20%29.addTo%28map_da06769d5e19429a9a792f12bf246aab%29%3B%0A%20%20%20%20%20%20%20%20%20%20%20%20%0A%20%20%20%20%0A%20%20%20%20%20%20%20%20%20%20%20%20var%20popup_f2e9dc6dc0fa4b16859bd198cdf1c517%20%3D%20L.popup%28%7BmaxWidth%3A%20%27300%27%7D%29%3B%0A%0A%20%20%20%20%20%20%20%20%20%20%20%20%0A%20%20%20%20%20%20%20%20%20%20%20%20%20%20%20%20var%20html_13977e2ea07b413087b6de3464a9cb64%20%3D%20%24%28%27%3Cdiv%20id%3D%22html_13977e2ea07b413087b6de3464a9cb64%22%20style%3D%22width%3A%20100.0%25%3B%20height%3A%20100.0%25%3B%22%3EBARONA%3C/div%3E%27%29%5B0%5D%3B%0A%20%20%20%20%20%20%20%20%20%20%20%20%20%20%20%20popup_f2e9dc6dc0fa4b16859bd198cdf1c517.setContent%28html_13977e2ea07b413087b6de3464a9cb64%29%3B%0A%20%20%20%20%20%20%20%20%20%20%20%20%0A%0A%20%20%20%20%20%20%20%20%20%20%20%20circle_marker_f3ed4b49efa7425a86e4d77006b6ff94.bindPopup%28popup_f2e9dc6dc0fa4b16859bd198cdf1c517%29%3B%0A%0A%20%20%20%20%20%20%20%20%20%20%20%20%0A%20%20%20%20%20%20%20%20%0A%20%20%20%20%0A%20%20%20%20%20%20%20%20%20%20%20%20var%20circle_marker_ee13a148225a4a539f3491ea9514b0b1%20%3D%20L.circleMarker%28%0A%20%20%20%20%20%20%20%20%20%20%20%20%20%20%20%20%5B45.436895%2C9.1680126%5D%2C%0A%20%20%20%20%20%20%20%20%20%20%20%20%20%20%20%20%7B%0A%20%20%22bubblingMouseEvents%22%3A%20true%2C%0A%20%20%22color%22%3A%20%22purple%22%2C%0A%20%20%22dashArray%22%3A%20null%2C%0A%20%20%22dashOffset%22%3A%20null%2C%0A%20%20%22fill%22%3A%20true%2C%0A%20%20%22fillColor%22%3A%20%22%233199cc%22%2C%0A%20%20%22fillOpacity%22%3A%200.3%2C%0A%20%20%22fillRule%22%3A%20%22evenodd%22%2C%0A%20%20%22lineCap%22%3A%20%22round%22%2C%0A%20%20%22lineJoin%22%3A%20%22round%22%2C%0A%20%20%22opacity%22%3A%201.0%2C%0A%20%20%22radius%22%3A%202%2C%0A%20%20%22stroke%22%3A%20true%2C%0A%20%20%22weight%22%3A%203%0A%7D%0A%20%20%20%20%20%20%20%20%20%20%20%20%20%20%20%20%29.addTo%28map_da06769d5e19429a9a792f12bf246aab%29%3B%0A%20%20%20%20%20%20%20%20%20%20%20%20%0A%20%20%20%20%0A%20%20%20%20%20%20%20%20%20%20%20%20var%20popup_81e0128498e64cc896d77a07133cdcae%20%3D%20L.popup%28%7BmaxWidth%3A%20%27300%27%7D%29%3B%0A%0A%20%20%20%20%20%20%20%20%20%20%20%20%0A%20%20%20%20%20%20%20%20%20%20%20%20%20%20%20%20var%20html_70447d80e0484405870396c9e6c72e67%20%3D%20%24%28%27%3Cdiv%20id%3D%22html_70447d80e0484405870396c9e6c72e67%22%20style%3D%22width%3A%20100.0%25%3B%20height%3A%20100.0%25%3B%22%3EFAMAGOSTA%3C/div%3E%27%29%5B0%5D%3B%0A%20%20%20%20%20%20%20%20%20%20%20%20%20%20%20%20popup_81e0128498e64cc896d77a07133cdcae.setContent%28html_70447d80e0484405870396c9e6c72e67%29%3B%0A%20%20%20%20%20%20%20%20%20%20%20%20%0A%0A%20%20%20%20%20%20%20%20%20%20%20%20circle_marker_ee13a148225a4a539f3491ea9514b0b1.bindPopup%28popup_81e0128498e64cc896d77a07133cdcae%29%3B%0A%0A%20%20%20%20%20%20%20%20%20%20%20%20%0A%20%20%20%20%20%20%20%20%0A%20%20%20%20%0A%20%20%20%20%20%20%20%20%20%20%20%20var%20circle_marker_c9e291c70ea3465c8124431c77dcc514%20%3D%20L.circleMarker%28%0A%20%20%20%20%20%20%20%20%20%20%20%20%20%20%20%20%5B45.4369963%2C9.1505196%5D%2C%0A%20%20%20%20%20%20%20%20%20%20%20%20%20%20%20%20%7B%0A%20%20%22bubblingMouseEvents%22%3A%20true%2C%0A%20%20%22color%22%3A%20%22purple%22%2C%0A%20%20%22dashArray%22%3A%20null%2C%0A%20%20%22dashOffset%22%3A%20null%2C%0A%20%20%22fill%22%3A%20true%2C%0A%20%20%22fillColor%22%3A%20%22%233199cc%22%2C%0A%20%20%22fillOpacity%22%3A%200.3%2C%0A%20%20%22fillRule%22%3A%20%22evenodd%22%2C%0A%20%20%22lineCap%22%3A%20%22round%22%2C%0A%20%20%22lineJoin%22%3A%20%22round%22%2C%0A%20%20%22opacity%22%3A%201.0%2C%0A%20%20%22radius%22%3A%202%2C%0A%20%20%22stroke%22%3A%20true%2C%0A%20%20%22weight%22%3A%203%0A%7D%0A%20%20%20%20%20%20%20%20%20%20%20%20%20%20%20%20%29.addTo%28map_da06769d5e19429a9a792f12bf246aab%29%3B%0A%20%20%20%20%20%20%20%20%20%20%20%20%0A%20%20%20%20%0A%20%20%20%20%20%20%20%20%20%20%20%20var%20popup_2944a9e98cc947b88ad90c9087257376%20%3D%20L.popup%28%7BmaxWidth%3A%20%27300%27%7D%29%3B%0A%0A%20%20%20%20%20%20%20%20%20%20%20%20%0A%20%20%20%20%20%20%20%20%20%20%20%20%20%20%20%20var%20html_fee15d8eab0741b2b36c6217d533c37d%20%3D%20%24%28%27%3Cdiv%20id%3D%22html_fee15d8eab0741b2b36c6217d533c37d%22%20style%3D%22width%3A%20100.0%25%3B%20height%3A%20100.0%25%3B%22%3EVIALE%20FAENZA%3C/div%3E%27%29%5B0%5D%3B%0A%20%20%20%20%20%20%20%20%20%20%20%20%20%20%20%20popup_2944a9e98cc947b88ad90c9087257376.setContent%28html_fee15d8eab0741b2b36c6217d533c37d%29%3B%0A%20%20%20%20%20%20%20%20%20%20%20%20%0A%0A%20%20%20%20%20%20%20%20%20%20%20%20circle_marker_c9e291c70ea3465c8124431c77dcc514.bindPopup%28popup_2944a9e98cc947b88ad90c9087257376%29%3B%0A%0A%20%20%20%20%20%20%20%20%20%20%20%20%0A%20%20%20%20%20%20%20%20%0A%20%20%20%20%0A%20%20%20%20%20%20%20%20%20%20%20%20var%20circle_marker_3f4134eef1a446b28ac1b5a9a6198e7f%20%3D%20L.circleMarker%28%0A%20%20%20%20%20%20%20%20%20%20%20%20%20%20%20%20%5B45.4458965%2C9.1263786%5D%2C%0A%20%20%20%20%20%20%20%20%20%20%20%20%20%20%20%20%7B%0A%20%20%22bubblingMouseEvents%22%3A%20true%2C%0A%20%20%22color%22%3A%20%22purple%22%2C%0A%20%20%22dashArray%22%3A%20null%2C%0A%20%20%22dashOffset%22%3A%20null%2C%0A%20%20%22fill%22%3A%20true%2C%0A%20%20%22fillColor%22%3A%20%22%233199cc%22%2C%0A%20%20%22fillOpacity%22%3A%200.3%2C%0A%20%20%22fillRule%22%3A%20%22evenodd%22%2C%0A%20%20%22lineCap%22%3A%20%22round%22%2C%0A%20%20%22lineJoin%22%3A%20%22round%22%2C%0A%20%20%22opacity%22%3A%201.0%2C%0A%20%20%22radius%22%3A%202%2C%0A%20%20%22stroke%22%3A%20true%2C%0A%20%20%22weight%22%3A%203%0A%7D%0A%20%20%20%20%20%20%20%20%20%20%20%20%20%20%20%20%29.addTo%28map_da06769d5e19429a9a792f12bf246aab%29%3B%0A%20%20%20%20%20%20%20%20%20%20%20%20%0A%20%20%20%20%0A%20%20%20%20%20%20%20%20%20%20%20%20var%20popup_694a6c221d0246f6865bc3bb5eb8cf07%20%3D%20L.popup%28%7BmaxWidth%3A%20%27300%27%7D%29%3B%0A%0A%20%20%20%20%20%20%20%20%20%20%20%20%0A%20%20%20%20%20%20%20%20%20%20%20%20%20%20%20%20var%20html_6217389787d94d1e91e7eb191301caf1%20%3D%20%24%28%27%3Cdiv%20id%3D%22html_6217389787d94d1e91e7eb191301caf1%22%20style%3D%22width%3A%20100.0%25%3B%20height%3A%20100.0%25%3B%22%3ELORENTEGGIO%3C/div%3E%27%29%5B0%5D%3B%0A%20%20%20%20%20%20%20%20%20%20%20%20%20%20%20%20popup_694a6c221d0246f6865bc3bb5eb8cf07.setContent%28html_6217389787d94d1e91e7eb191301caf1%29%3B%0A%20%20%20%20%20%20%20%20%20%20%20%20%0A%0A%20%20%20%20%20%20%20%20%20%20%20%20circle_marker_3f4134eef1a446b28ac1b5a9a6198e7f.bindPopup%28popup_694a6c221d0246f6865bc3bb5eb8cf07%29%3B%0A%0A%20%20%20%20%20%20%20%20%20%20%20%20%0A%20%20%20%20%20%20%20%20%0A%20%20%20%20%0A%20%20%20%20%20%20%20%20%20%20%20%20var%20circle_marker_60514d73f7704ed890e1960cf8315b86%20%3D%20L.circleMarker%28%0A%20%20%20%20%20%20%20%20%20%20%20%20%20%20%20%20%5B45.457563%2C9.1222629%5D%2C%0A%20%20%20%20%20%20%20%20%20%20%20%20%20%20%20%20%7B%0A%20%20%22bubblingMouseEvents%22%3A%20true%2C%0A%20%20%22color%22%3A%20%22purple%22%2C%0A%20%20%22dashArray%22%3A%20null%2C%0A%20%20%22dashOffset%22%3A%20null%2C%0A%20%20%22fill%22%3A%20true%2C%0A%20%20%22fillColor%22%3A%20%22%233199cc%22%2C%0A%20%20%22fillOpacity%22%3A%200.3%2C%0A%20%20%22fillRule%22%3A%20%22evenodd%22%2C%0A%20%20%22lineCap%22%3A%20%22round%22%2C%0A%20%20%22lineJoin%22%3A%20%22round%22%2C%0A%20%20%22opacity%22%3A%201.0%2C%0A%20%20%22radius%22%3A%202%2C%0A%20%20%22stroke%22%3A%20true%2C%0A%20%20%22weight%22%3A%203%0A%7D%0A%20%20%20%20%20%20%20%20%20%20%20%20%20%20%20%20%29.addTo%28map_da06769d5e19429a9a792f12bf246aab%29%3B%0A%20%20%20%20%20%20%20%20%20%20%20%20%0A%20%20%20%20%0A%20%20%20%20%20%20%20%20%20%20%20%20var%20popup_0c41dda5ce7d4b54b464773ef1876b97%20%3D%20L.popup%28%7BmaxWidth%3A%20%27300%27%7D%29%3B%0A%0A%20%20%20%20%20%20%20%20%20%20%20%20%0A%20%20%20%20%20%20%20%20%20%20%20%20%20%20%20%20var%20html_6352e23594094a219bf6569cc5e2daa4%20%3D%20%24%28%27%3Cdiv%20id%3D%22html_6352e23594094a219bf6569cc5e2daa4%22%20style%3D%22width%3A%20100.0%25%3B%20height%3A%20100.0%25%3B%22%3EINGANNI%3C/div%3E%27%29%5B0%5D%3B%0A%20%20%20%20%20%20%20%20%20%20%20%20%20%20%20%20popup_0c41dda5ce7d4b54b464773ef1876b97.setContent%28html_6352e23594094a219bf6569cc5e2daa4%29%3B%0A%20%20%20%20%20%20%20%20%20%20%20%20%0A%0A%20%20%20%20%20%20%20%20%20%20%20%20circle_marker_60514d73f7704ed890e1960cf8315b86.bindPopup%28popup_0c41dda5ce7d4b54b464773ef1876b97%29%3B%0A%0A%20%20%20%20%20%20%20%20%20%20%20%20%0A%20%20%20%20%20%20%20%20%0A%20%20%20%20%0A%20%20%20%20%20%20%20%20%20%20%20%20var%20circle_marker_38ea57eb781c487fb4d7c877e9409f71%20%3D%20L.circleMarker%28%0A%20%20%20%20%20%20%20%20%20%20%20%20%20%20%20%20%5B45.4554126%2C9.1129589%5D%2C%0A%20%20%20%20%20%20%20%20%20%20%20%20%20%20%20%20%7B%0A%20%20%22bubblingMouseEvents%22%3A%20true%2C%0A%20%20%22color%22%3A%20%22purple%22%2C%0A%20%20%22dashArray%22%3A%20null%2C%0A%20%20%22dashOffset%22%3A%20null%2C%0A%20%20%22fill%22%3A%20true%2C%0A%20%20%22fillColor%22%3A%20%22%233199cc%22%2C%0A%20%20%22fillOpacity%22%3A%200.3%2C%0A%20%20%22fillRule%22%3A%20%22evenodd%22%2C%0A%20%20%22lineCap%22%3A%20%22round%22%2C%0A%20%20%22lineJoin%22%3A%20%22round%22%2C%0A%20%20%22opacity%22%3A%201.0%2C%0A%20%20%22radius%22%3A%202%2C%0A%20%20%22stroke%22%3A%20true%2C%0A%20%20%22weight%22%3A%203%0A%7D%0A%20%20%20%20%20%20%20%20%20%20%20%20%20%20%20%20%29.addTo%28map_da06769d5e19429a9a792f12bf246aab%29%3B%0A%20%20%20%20%20%20%20%20%20%20%20%20%0A%20%20%20%20%0A%20%20%20%20%20%20%20%20%20%20%20%20var%20popup_ac86d39d2c0049b998d5b260ede5438a%20%3D%20L.popup%28%7BmaxWidth%3A%20%27300%27%7D%29%3B%0A%0A%20%20%20%20%20%20%20%20%20%20%20%20%0A%20%20%20%20%20%20%20%20%20%20%20%20%20%20%20%20var%20html_2210a624c06e4b49b1baf7696064e4a4%20%3D%20%24%28%27%3Cdiv%20id%3D%22html_2210a624c06e4b49b1baf7696064e4a4%22%20style%3D%22width%3A%20100.0%25%3B%20height%3A%20100.0%25%3B%22%3EBISCEGLIE%3C/div%3E%27%29%5B0%5D%3B%0A%20%20%20%20%20%20%20%20%20%20%20%20%20%20%20%20popup_ac86d39d2c0049b998d5b260ede5438a.setContent%28html_2210a624c06e4b49b1baf7696064e4a4%29%3B%0A%20%20%20%20%20%20%20%20%20%20%20%20%0A%0A%20%20%20%20%20%20%20%20%20%20%20%20circle_marker_38ea57eb781c487fb4d7c877e9409f71.bindPopup%28popup_ac86d39d2c0049b998d5b260ede5438a%29%3B%0A%0A%20%20%20%20%20%20%20%20%20%20%20%20%0A%20%20%20%20%20%20%20%20%0A%20%20%20%20%0A%20%20%20%20%20%20%20%20%20%20%20%20var%20circle_marker_e99d82627a94462fa65e8ebda55de8ce%20%3D%20L.circleMarker%28%0A%20%20%20%20%20%20%20%20%20%20%20%20%20%20%20%20%5B45.4921361%2C9.2289488%5D%2C%0A%20%20%20%20%20%20%20%20%20%20%20%20%20%20%20%20%7B%0A%20%20%22bubblingMouseEvents%22%3A%20true%2C%0A%20%20%22color%22%3A%20%22purple%22%2C%0A%20%20%22dashArray%22%3A%20null%2C%0A%20%20%22dashOffset%22%3A%20null%2C%0A%20%20%22fill%22%3A%20true%2C%0A%20%20%22fillColor%22%3A%20%22%233199cc%22%2C%0A%20%20%22fillOpacity%22%3A%200.3%2C%0A%20%20%22fillRule%22%3A%20%22evenodd%22%2C%0A%20%20%22lineCap%22%3A%20%22round%22%2C%0A%20%20%22lineJoin%22%3A%20%22round%22%2C%0A%20%20%22opacity%22%3A%201.0%2C%0A%20%20%22radius%22%3A%202%2C%0A%20%20%22stroke%22%3A%20true%2C%0A%20%20%22weight%22%3A%203%0A%7D%0A%20%20%20%20%20%20%20%20%20%20%20%20%20%20%20%20%29.addTo%28map_da06769d5e19429a9a792f12bf246aab%29%3B%0A%20%20%20%20%20%20%20%20%20%20%20%20%0A%20%20%20%20%0A%20%20%20%20%20%20%20%20%20%20%20%20var%20popup_610a8de7d7774a50853b6765334572a7%20%3D%20L.popup%28%7BmaxWidth%3A%20%27300%27%7D%29%3B%0A%0A%20%20%20%20%20%20%20%20%20%20%20%20%0A%20%20%20%20%20%20%20%20%20%20%20%20%20%20%20%20var%20html_95bf6fc90f05425ab2d1d5b001c5d424%20%3D%20%24%28%27%3Cdiv%20id%3D%22html_95bf6fc90f05425ab2d1d5b001c5d424%22%20style%3D%22width%3A%20100.0%25%3B%20height%3A%20100.0%25%3B%22%3ESAN%20CARLO%20B.%3C/div%3E%27%29%5B0%5D%3B%0A%20%20%20%20%20%20%20%20%20%20%20%20%20%20%20%20popup_610a8de7d7774a50853b6765334572a7.setContent%28html_95bf6fc90f05425ab2d1d5b001c5d424%29%3B%0A%20%20%20%20%20%20%20%20%20%20%20%20%0A%0A%20%20%20%20%20%20%20%20%20%20%20%20circle_marker_e99d82627a94462fa65e8ebda55de8ce.bindPopup%28popup_610a8de7d7774a50853b6765334572a7%29%3B%0A%0A%20%20%20%20%20%20%20%20%20%20%20%20%0A%20%20%20%20%20%20%20%20%0A%20%20%20%20%0A%20%20%20%20%20%20%20%20%20%20%20%20var%20circle_marker_222f97430d9c4b17bcd5d0dc4ce9d912%20%3D%20L.circleMarker%28%0A%20%20%20%20%20%20%20%20%20%20%20%20%20%20%20%20%5B45.4761386%2C9.1290346%5D%2C%0A%20%20%20%20%20%20%20%20%20%20%20%20%20%20%20%20%7B%0A%20%20%22bubblingMouseEvents%22%3A%20true%2C%0A%20%20%22color%22%3A%20%22purple%22%2C%0A%20%20%22dashArray%22%3A%20null%2C%0A%20%20%22dashOffset%22%3A%20null%2C%0A%20%20%22fill%22%3A%20true%2C%0A%20%20%22fillColor%22%3A%20%22%233199cc%22%2C%0A%20%20%22fillOpacity%22%3A%200.3%2C%0A%20%20%22fillRule%22%3A%20%22evenodd%22%2C%0A%20%20%22lineCap%22%3A%20%22round%22%2C%0A%20%20%22lineJoin%22%3A%20%22round%22%2C%0A%20%20%22opacity%22%3A%201.0%2C%0A%20%20%22radius%22%3A%202%2C%0A%20%20%22stroke%22%3A%20true%2C%0A%20%20%22weight%22%3A%203%0A%7D%0A%20%20%20%20%20%20%20%20%20%20%20%20%20%20%20%20%29.addTo%28map_da06769d5e19429a9a792f12bf246aab%29%3B%0A%20%20%20%20%20%20%20%20%20%20%20%20%0A%20%20%20%20%0A%20%20%20%20%20%20%20%20%20%20%20%20var%20popup_b15bb9e5d68640adbe7bed1d831023f8%20%3D%20L.popup%28%7BmaxWidth%3A%20%27300%27%7D%29%3B%0A%0A%20%20%20%20%20%20%20%20%20%20%20%20%0A%20%20%20%20%20%20%20%20%20%20%20%20%20%20%20%20var%20html_2384c1cc36b046a885f968ed14650f11%20%3D%20%24%28%27%3Cdiv%20id%3D%22html_2384c1cc36b046a885f968ed14650f11%22%20style%3D%22width%3A%20100.0%25%3B%20height%3A%20100.0%25%3B%22%3EIPPODROMO%3C/div%3E%27%29%5B0%5D%3B%0A%20%20%20%20%20%20%20%20%20%20%20%20%20%20%20%20popup_b15bb9e5d68640adbe7bed1d831023f8.setContent%28html_2384c1cc36b046a885f968ed14650f11%29%3B%0A%20%20%20%20%20%20%20%20%20%20%20%20%0A%0A%20%20%20%20%20%20%20%20%20%20%20%20circle_marker_222f97430d9c4b17bcd5d0dc4ce9d912.bindPopup%28popup_b15bb9e5d68640adbe7bed1d831023f8%29%3B%0A%0A%20%20%20%20%20%20%20%20%20%20%20%20%0A%20%20%20%20%20%20%20%20%0A%20%20%20%20%0A%20%20%20%20%20%20%20%20%20%20%20%20var%20circle_marker_9437b8e1312e44e88b1f68d2cf01a6fc%20%3D%20L.circleMarker%28%0A%20%20%20%20%20%20%20%20%20%20%20%20%20%20%20%20%5B45.4801917%2C9.1329165%5D%2C%0A%20%20%20%20%20%20%20%20%20%20%20%20%20%20%20%20%7B%0A%20%20%22bubblingMouseEvents%22%3A%20true%2C%0A%20%20%22color%22%3A%20%22purple%22%2C%0A%20%20%22dashArray%22%3A%20null%2C%0A%20%20%22dashOffset%22%3A%20null%2C%0A%20%20%22fill%22%3A%20true%2C%0A%20%20%22fillColor%22%3A%20%22%233199cc%22%2C%0A%20%20%22fillOpacity%22%3A%200.3%2C%0A%20%20%22fillRule%22%3A%20%22evenodd%22%2C%0A%20%20%22lineCap%22%3A%20%22round%22%2C%0A%20%20%22lineJoin%22%3A%20%22round%22%2C%0A%20%20%22opacity%22%3A%201.0%2C%0A%20%20%22radius%22%3A%202%2C%0A%20%20%22stroke%22%3A%20true%2C%0A%20%20%22weight%22%3A%203%0A%7D%0A%20%20%20%20%20%20%20%20%20%20%20%20%20%20%20%20%29.addTo%28map_da06769d5e19429a9a792f12bf246aab%29%3B%0A%20%20%20%20%20%20%20%20%20%20%20%20%0A%20%20%20%20%0A%20%20%20%20%20%20%20%20%20%20%20%20var%20popup_439c8387d54e4f44963d6ac74461644d%20%3D%20L.popup%28%7BmaxWidth%3A%20%27300%27%7D%29%3B%0A%0A%20%20%20%20%20%20%20%20%20%20%20%20%0A%20%20%20%20%20%20%20%20%20%20%20%20%20%20%20%20var%20html_946c16cd37544183a18a2a4fcac2a8ff%20%3D%20%24%28%27%3Cdiv%20id%3D%22html_946c16cd37544183a18a2a4fcac2a8ff%22%20style%3D%22width%3A%20100.0%25%3B%20height%3A%20100.0%25%3B%22%3ECAPRILLI%3C/div%3E%27%29%5B0%5D%3B%0A%20%20%20%20%20%20%20%20%20%20%20%20%20%20%20%20popup_439c8387d54e4f44963d6ac74461644d.setContent%28html_946c16cd37544183a18a2a4fcac2a8ff%29%3B%0A%20%20%20%20%20%20%20%20%20%20%20%20%0A%0A%20%20%20%20%20%20%20%20%20%20%20%20circle_marker_9437b8e1312e44e88b1f68d2cf01a6fc.bindPopup%28popup_439c8387d54e4f44963d6ac74461644d%29%3B%0A%0A%20%20%20%20%20%20%20%20%20%20%20%20%0A%20%20%20%20%20%20%20%20%0A%20%20%20%20%0A%20%20%20%20%20%20%20%20%20%20%20%20var%20circle_marker_4d898779640647c881c03ebfd20b3a00%20%3D%20L.circleMarker%28%0A%20%20%20%20%20%20%20%20%20%20%20%20%20%20%20%20%5B45.4905858%2C9.1346218%5D%2C%0A%20%20%20%20%20%20%20%20%20%20%20%20%20%20%20%20%7B%0A%20%20%22bubblingMouseEvents%22%3A%20true%2C%0A%20%20%22color%22%3A%20%22purple%22%2C%0A%20%20%22dashArray%22%3A%20null%2C%0A%20%20%22dashOffset%22%3A%20null%2C%0A%20%20%22fill%22%3A%20true%2C%0A%20%20%22fillColor%22%3A%20%22%233199cc%22%2C%0A%20%20%22fillOpacity%22%3A%200.3%2C%0A%20%20%22fillRule%22%3A%20%22evenodd%22%2C%0A%20%20%22lineCap%22%3A%20%22round%22%2C%0A%20%20%22lineJoin%22%3A%20%22round%22%2C%0A%20%20%22opacity%22%3A%201.0%2C%0A%20%20%22radius%22%3A%202%2C%0A%20%20%22stroke%22%3A%20true%2C%0A%20%20%22weight%22%3A%203%0A%7D%0A%20%20%20%20%20%20%20%20%20%20%20%20%20%20%20%20%29.addTo%28map_da06769d5e19429a9a792f12bf246aab%29%3B%0A%20%20%20%20%20%20%20%20%20%20%20%20%0A%20%20%20%20%0A%20%20%20%20%20%20%20%20%20%20%20%20var%20popup_f2418bd9e399401686f804ba1dfe0182%20%3D%20L.popup%28%7BmaxWidth%3A%20%27300%27%7D%29%3B%0A%0A%20%20%20%20%20%20%20%20%20%20%20%20%0A%20%20%20%20%20%20%20%20%20%20%20%20%20%20%20%20var%20html_4abffffa9ed341d08ef94132bf2e4702%20%3D%20%24%28%27%3Cdiv%20id%3D%22html_4abffffa9ed341d08ef94132bf2e4702%22%20style%3D%22width%3A%20100.0%25%3B%20height%3A%20100.0%25%3B%22%3EMONTE%20STELLA%3C/div%3E%27%29%5B0%5D%3B%0A%20%20%20%20%20%20%20%20%20%20%20%20%20%20%20%20popup_f2418bd9e399401686f804ba1dfe0182.setContent%28html_4abffffa9ed341d08ef94132bf2e4702%29%3B%0A%20%20%20%20%20%20%20%20%20%20%20%20%0A%0A%20%20%20%20%20%20%20%20%20%20%20%20circle_marker_4d898779640647c881c03ebfd20b3a00.bindPopup%28popup_f2418bd9e399401686f804ba1dfe0182%29%3B%0A%0A%20%20%20%20%20%20%20%20%20%20%20%20%0A%20%20%20%20%20%20%20%20%0A%20%20%20%20%0A%20%20%20%20%20%20%20%20%20%20%20%20var%20circle_marker_f256eb4b5b1b4f49912156895daa4830%20%3D%20L.circleMarker%28%0A%20%20%20%20%20%20%20%20%20%20%20%20%20%20%20%20%5B45.5093132%2C9.1319408%5D%2C%0A%20%20%20%20%20%20%20%20%20%20%20%20%20%20%20%20%7B%0A%20%20%22bubblingMouseEvents%22%3A%20true%2C%0A%20%20%22color%22%3A%20%22purple%22%2C%0A%20%20%22dashArray%22%3A%20null%2C%0A%20%20%22dashOffset%22%3A%20null%2C%0A%20%20%22fill%22%3A%20true%2C%0A%20%20%22fillColor%22%3A%20%22%233199cc%22%2C%0A%20%20%22fillOpacity%22%3A%200.3%2C%0A%20%20%22fillRule%22%3A%20%22evenodd%22%2C%0A%20%20%22lineCap%22%3A%20%22round%22%2C%0A%20%20%22lineJoin%22%3A%20%22round%22%2C%0A%20%20%22opacity%22%3A%201.0%2C%0A%20%20%22radius%22%3A%202%2C%0A%20%20%22stroke%22%3A%20true%2C%0A%20%20%22weight%22%3A%203%0A%7D%0A%20%20%20%20%20%20%20%20%20%20%20%20%20%20%20%20%29.addTo%28map_da06769d5e19429a9a792f12bf246aab%29%3B%0A%20%20%20%20%20%20%20%20%20%20%20%20%0A%20%20%20%20%0A%20%20%20%20%20%20%20%20%20%20%20%20var%20popup_7ee4fb76f8c14b82af5a6ee313d08635%20%3D%20L.popup%28%7BmaxWidth%3A%20%27300%27%7D%29%3B%0A%0A%20%20%20%20%20%20%20%20%20%20%20%20%0A%20%20%20%20%20%20%20%20%20%20%20%20%20%20%20%20var%20html_3f9e0fa2989149228cfa4aa53db979d4%20%3D%20%24%28%27%3Cdiv%20id%3D%22html_3f9e0fa2989149228cfa4aa53db979d4%22%20style%3D%22width%3A%20100.0%25%3B%20height%3A%20100.0%25%3B%22%3EMUSOCCO%3C/div%3E%27%29%5B0%5D%3B%0A%20%20%20%20%20%20%20%20%20%20%20%20%20%20%20%20popup_7ee4fb76f8c14b82af5a6ee313d08635.setContent%28html_3f9e0fa2989149228cfa4aa53db979d4%29%3B%0A%20%20%20%20%20%20%20%20%20%20%20%20%0A%0A%20%20%20%20%20%20%20%20%20%20%20%20circle_marker_f256eb4b5b1b4f49912156895daa4830.bindPopup%28popup_7ee4fb76f8c14b82af5a6ee313d08635%29%3B%0A%0A%20%20%20%20%20%20%20%20%20%20%20%20%0A%20%20%20%20%20%20%20%20%0A%20%20%20%20%0A%20%20%20%20%20%20%20%20%20%20%20%20var%20circle_marker_8646844a20e84f0485b0295651392fa6%20%3D%20L.circleMarker%28%0A%20%20%20%20%20%20%20%20%20%20%20%20%20%20%20%20%5B45.5024894%2C9.1278477%5D%2C%0A%20%20%20%20%20%20%20%20%20%20%20%20%20%20%20%20%7B%0A%20%20%22bubblingMouseEvents%22%3A%20true%2C%0A%20%20%22color%22%3A%20%22purple%22%2C%0A%20%20%22dashArray%22%3A%20null%2C%0A%20%20%22dashOffset%22%3A%20null%2C%0A%20%20%22fill%22%3A%20true%2C%0A%20%20%22fillColor%22%3A%20%22%233199cc%22%2C%0A%20%20%22fillOpacity%22%3A%200.3%2C%0A%20%20%22fillRule%22%3A%20%22evenodd%22%2C%0A%20%20%22lineCap%22%3A%20%22round%22%2C%0A%20%20%22lineJoin%22%3A%20%22round%22%2C%0A%20%20%22opacity%22%3A%201.0%2C%0A%20%20%22radius%22%3A%202%2C%0A%20%20%22stroke%22%3A%20true%2C%0A%20%20%22weight%22%3A%203%0A%7D%0A%20%20%20%20%20%20%20%20%20%20%20%20%20%20%20%20%29.addTo%28map_da06769d5e19429a9a792f12bf246aab%29%3B%0A%20%20%20%20%20%20%20%20%20%20%20%20%0A%20%20%20%20%0A%20%20%20%20%20%20%20%20%20%20%20%20var%20popup_320437775d2f42ccb03ae850eefc8d8c%20%3D%20L.popup%28%7BmaxWidth%3A%20%27300%27%7D%29%3B%0A%0A%20%20%20%20%20%20%20%20%20%20%20%20%0A%20%20%20%20%20%20%20%20%20%20%20%20%20%20%20%20var%20html_a4ee6500ff1a4031b878b5a5c06addd8%20%3D%20%24%28%27%3Cdiv%20id%3D%22html_a4ee6500ff1a4031b878b5a5c06addd8%22%20style%3D%22width%3A%20100.0%25%3B%20height%3A%20100.0%25%3B%22%3ECERTOSA%3C/div%3E%27%29%5B0%5D%3B%0A%20%20%20%20%20%20%20%20%20%20%20%20%20%20%20%20popup_320437775d2f42ccb03ae850eefc8d8c.setContent%28html_a4ee6500ff1a4031b878b5a5c06addd8%29%3B%0A%20%20%20%20%20%20%20%20%20%20%20%20%0A%0A%20%20%20%20%20%20%20%20%20%20%20%20circle_marker_8646844a20e84f0485b0295651392fa6.bindPopup%28popup_320437775d2f42ccb03ae850eefc8d8c%29%3B%0A%0A%20%20%20%20%20%20%20%20%20%20%20%20%0A%20%20%20%20%20%20%20%20%0A%20%20%20%20%0A%20%20%20%20%20%20%20%20%20%20%20%20var%20circle_marker_b331b65958494fae9b3a3c2be875ea4d%20%3D%20L.circleMarker%28%0A%20%20%20%20%20%20%20%20%20%20%20%20%20%20%20%20%5B45.5229171%2C9.0940419%5D%2C%0A%20%20%20%20%20%20%20%20%20%20%20%20%20%20%20%20%7B%0A%20%20%22bubblingMouseEvents%22%3A%20true%2C%0A%20%20%22color%22%3A%20%22purple%22%2C%0A%20%20%22dashArray%22%3A%20null%2C%0A%20%20%22dashOffset%22%3A%20null%2C%0A%20%20%22fill%22%3A%20true%2C%0A%20%20%22fillColor%22%3A%20%22%233199cc%22%2C%0A%20%20%22fillOpacity%22%3A%200.3%2C%0A%20%20%22fillRule%22%3A%20%22evenodd%22%2C%0A%20%20%22lineCap%22%3A%20%22round%22%2C%0A%20%20%22lineJoin%22%3A%20%22round%22%2C%0A%20%20%22opacity%22%3A%201.0%2C%0A%20%20%22radius%22%3A%202%2C%0A%20%20%22stroke%22%3A%20true%2C%0A%20%20%22weight%22%3A%203%0A%7D%0A%20%20%20%20%20%20%20%20%20%20%20%20%20%20%20%20%29.addTo%28map_da06769d5e19429a9a792f12bf246aab%29%3B%0A%20%20%20%20%20%20%20%20%20%20%20%20%0A%20%20%20%20%0A%20%20%20%20%20%20%20%20%20%20%20%20var%20popup_83391effa9204340afd879c5fa02e03f%20%3D%20L.popup%28%7BmaxWidth%3A%20%27300%27%7D%29%3B%0A%0A%20%20%20%20%20%20%20%20%20%20%20%20%0A%20%20%20%20%20%20%20%20%20%20%20%20%20%20%20%20var%20html_ac7a34d5721744e8ad6088499ec53a8b%20%3D%20%24%28%27%3Cdiv%20id%3D%22html_ac7a34d5721744e8ad6088499ec53a8b%22%20style%3D%22width%3A%20100.0%25%3B%20height%3A%20100.0%25%3B%22%3EEXPO%3C/div%3E%27%29%5B0%5D%3B%0A%20%20%20%20%20%20%20%20%20%20%20%20%20%20%20%20popup_83391effa9204340afd879c5fa02e03f.setContent%28html_ac7a34d5721744e8ad6088499ec53a8b%29%3B%0A%20%20%20%20%20%20%20%20%20%20%20%20%0A%0A%20%20%20%20%20%20%20%20%20%20%20%20circle_marker_b331b65958494fae9b3a3c2be875ea4d.bindPopup%28popup_83391effa9204340afd879c5fa02e03f%29%3B%0A%0A%20%20%20%20%20%20%20%20%20%20%20%20%0A%20%20%20%20%20%20%20%20%0A%20%20%20%20%0A%20%20%20%20%20%20%20%20%20%20%20%20var%20circle_marker_e2b32510bf9d4175a1c8a8821c32993a%20%3D%20L.circleMarker%28%0A%20%20%20%20%20%20%20%20%20%20%20%20%20%20%20%20%5B45.508611%2C9.104424%5D%2C%0A%20%20%20%20%20%20%20%20%20%20%20%20%20%20%20%20%7B%0A%20%20%22bubblingMouseEvents%22%3A%20true%2C%0A%20%20%22color%22%3A%20%22purple%22%2C%0A%20%20%22dashArray%22%3A%20null%2C%0A%20%20%22dashOffset%22%3A%20null%2C%0A%20%20%22fill%22%3A%20true%2C%0A%20%20%22fillColor%22%3A%20%22%233199cc%22%2C%0A%20%20%22fillOpacity%22%3A%200.3%2C%0A%20%20%22fillRule%22%3A%20%22evenodd%22%2C%0A%20%20%22lineCap%22%3A%20%22round%22%2C%0A%20%20%22lineJoin%22%3A%20%22round%22%2C%0A%20%20%22opacity%22%3A%201.0%2C%0A%20%20%22radius%22%3A%202%2C%0A%20%20%22stroke%22%3A%20true%2C%0A%20%20%22weight%22%3A%203%0A%7D%0A%20%20%20%20%20%20%20%20%20%20%20%20%20%20%20%20%29.addTo%28map_da06769d5e19429a9a792f12bf246aab%29%3B%0A%20%20%20%20%20%20%20%20%20%20%20%20%0A%20%20%20%20%0A%20%20%20%20%20%20%20%20%20%20%20%20var%20popup_3ea74db386654332b8fd15e3e1d752aa%20%3D%20L.popup%28%7BmaxWidth%3A%20%27300%27%7D%29%3B%0A%0A%20%20%20%20%20%20%20%20%20%20%20%20%0A%20%20%20%20%20%20%20%20%20%20%20%20%20%20%20%20var%20html_80f19b5091a24300b232ee9d1d6ac5ad%20%3D%20%24%28%27%3Cdiv%20id%3D%22html_80f19b5091a24300b232ee9d1d6ac5ad%22%20style%3D%22width%3A%20100.0%25%3B%20height%3A%20100.0%25%3B%22%3ECASCINA%20MERLATA%3C/div%3E%27%29%5B0%5D%3B%0A%20%20%20%20%20%20%20%20%20%20%20%20%20%20%20%20popup_3ea74db386654332b8fd15e3e1d752aa.setContent%28html_80f19b5091a24300b232ee9d1d6ac5ad%29%3B%0A%20%20%20%20%20%20%20%20%20%20%20%20%0A%0A%20%20%20%20%20%20%20%20%20%20%20%20circle_marker_e2b32510bf9d4175a1c8a8821c32993a.bindPopup%28popup_3ea74db386654332b8fd15e3e1d752aa%29%3B%0A%0A%20%20%20%20%20%20%20%20%20%20%20%20%0A%20%20%20%20%20%20%20%20%0A%20%20%20%20%0A%20%20%20%20%20%20%20%20%20%20%20%20var%20circle_marker_dc4342437c6843aa984285ab14e47d61%20%3D%20L.circleMarker%28%0A%20%20%20%20%20%20%20%20%20%20%20%20%20%20%20%20%5B45.5027696%2C9.1612638%5D%2C%0A%20%20%20%20%20%20%20%20%20%20%20%20%20%20%20%20%7B%0A%20%20%22bubblingMouseEvents%22%3A%20true%2C%0A%20%20%22color%22%3A%20%22purple%22%2C%0A%20%20%22dashArray%22%3A%20null%2C%0A%20%20%22dashOffset%22%3A%20null%2C%0A%20%20%22fill%22%3A%20true%2C%0A%20%20%22fillColor%22%3A%20%22%233199cc%22%2C%0A%20%20%22fillOpacity%22%3A%200.3%2C%0A%20%20%22fillRule%22%3A%20%22evenodd%22%2C%0A%20%20%22lineCap%22%3A%20%22round%22%2C%0A%20%20%22lineJoin%22%3A%20%22round%22%2C%0A%20%20%22opacity%22%3A%201.0%2C%0A%20%20%22radius%22%3A%202%2C%0A%20%20%22stroke%22%3A%20true%2C%0A%20%20%22weight%22%3A%203%0A%7D%0A%20%20%20%20%20%20%20%20%20%20%20%20%20%20%20%20%29.addTo%28map_da06769d5e19429a9a792f12bf246aab%29%3B%0A%20%20%20%20%20%20%20%20%20%20%20%20%0A%20%20%20%20%0A%20%20%20%20%20%20%20%20%20%20%20%20var%20popup_27d387034e564a1b83387c00383b571d%20%3D%20L.popup%28%7BmaxWidth%3A%20%27300%27%7D%29%3B%0A%0A%20%20%20%20%20%20%20%20%20%20%20%20%0A%20%20%20%20%20%20%20%20%20%20%20%20%20%20%20%20var%20html_f0697854bf2b405a801ffee0eeacffe3%20%3D%20%24%28%27%3Cdiv%20id%3D%22html_f0697854bf2b405a801ffee0eeacffe3%22%20style%3D%22width%3A%20100.0%25%3B%20height%3A%20100.0%25%3B%22%3EBOVISA%3C/div%3E%27%29%5B0%5D%3B%0A%20%20%20%20%20%20%20%20%20%20%20%20%20%20%20%20popup_27d387034e564a1b83387c00383b571d.setContent%28html_f0697854bf2b405a801ffee0eeacffe3%29%3B%0A%20%20%20%20%20%20%20%20%20%20%20%20%0A%0A%20%20%20%20%20%20%20%20%20%20%20%20circle_marker_dc4342437c6843aa984285ab14e47d61.bindPopup%28popup_27d387034e564a1b83387c00383b571d%29%3B%0A%0A%20%20%20%20%20%20%20%20%20%20%20%20%0A%20%20%20%20%20%20%20%20%0A%20%20%20%20%0A%20%20%20%20%20%20%20%20%20%20%20%20var%20circle_marker_9528d4448cf84d35910a84f57147a1b0%20%3D%20L.circleMarker%28%0A%20%20%20%20%20%20%20%20%20%20%20%20%20%20%20%20%5B45.5026343%2C9.1663739%5D%2C%0A%20%20%20%20%20%20%20%20%20%20%20%20%20%20%20%20%7B%0A%20%20%22bubblingMouseEvents%22%3A%20true%2C%0A%20%20%22color%22%3A%20%22purple%22%2C%0A%20%20%22dashArray%22%3A%20null%2C%0A%20%20%22dashOffset%22%3A%20null%2C%0A%20%20%22fill%22%3A%20true%2C%0A%20%20%22fillColor%22%3A%20%22%233199cc%22%2C%0A%20%20%22fillOpacity%22%3A%200.3%2C%0A%20%20%22fillRule%22%3A%20%22evenodd%22%2C%0A%20%20%22lineCap%22%3A%20%22round%22%2C%0A%20%20%22lineJoin%22%3A%20%22round%22%2C%0A%20%20%22opacity%22%3A%201.0%2C%0A%20%20%22radius%22%3A%202%2C%0A%20%20%22stroke%22%3A%20true%2C%0A%20%20%22weight%22%3A%203%0A%7D%0A%20%20%20%20%20%20%20%20%20%20%20%20%20%20%20%20%29.addTo%28map_da06769d5e19429a9a792f12bf246aab%29%3B%0A%20%20%20%20%20%20%20%20%20%20%20%20%0A%20%20%20%20%0A%20%20%20%20%20%20%20%20%20%20%20%20var%20popup_164f5216611a42d3a495462a03fab9e1%20%3D%20L.popup%28%7BmaxWidth%3A%20%27300%27%7D%29%3B%0A%0A%20%20%20%20%20%20%20%20%20%20%20%20%0A%20%20%20%20%20%20%20%20%20%20%20%20%20%20%20%20var%20html_868d251896c14913966ed3fc5c4d6ea1%20%3D%20%24%28%27%3Cdiv%20id%3D%22html_868d251896c14913966ed3fc5c4d6ea1%22%20style%3D%22width%3A%20100.0%25%3B%20height%3A%20100.0%25%3B%22%3EBAUSAN%3C/div%3E%27%29%5B0%5D%3B%0A%20%20%20%20%20%20%20%20%20%20%20%20%20%20%20%20popup_164f5216611a42d3a495462a03fab9e1.setContent%28html_868d251896c14913966ed3fc5c4d6ea1%29%3B%0A%20%20%20%20%20%20%20%20%20%20%20%20%0A%0A%20%20%20%20%20%20%20%20%20%20%20%20circle_marker_9528d4448cf84d35910a84f57147a1b0.bindPopup%28popup_164f5216611a42d3a495462a03fab9e1%29%3B%0A%0A%20%20%20%20%20%20%20%20%20%20%20%20%0A%20%20%20%20%20%20%20%20%0A%20%20%20%20%0A%20%20%20%20%20%20%20%20%20%20%20%20var%20circle_marker_97e9a66f0217465fb595379fe9ae2416%20%3D%20L.circleMarker%28%0A%20%20%20%20%20%20%20%20%20%20%20%20%20%20%20%20%5B45.4388011%2C9.20482096513496%5D%2C%0A%20%20%20%20%20%20%20%20%20%20%20%20%20%20%20%20%7B%0A%20%20%22bubblingMouseEvents%22%3A%20true%2C%0A%20%20%22color%22%3A%20%22purple%22%2C%0A%20%20%22dashArray%22%3A%20null%2C%0A%20%20%22dashOffset%22%3A%20null%2C%0A%20%20%22fill%22%3A%20true%2C%0A%20%20%22fillColor%22%3A%20%22%233199cc%22%2C%0A%20%20%22fillOpacity%22%3A%200.3%2C%0A%20%20%22fillRule%22%3A%20%22evenodd%22%2C%0A%20%20%22lineCap%22%3A%20%22round%22%2C%0A%20%20%22lineJoin%22%3A%20%22round%22%2C%0A%20%20%22opacity%22%3A%201.0%2C%0A%20%20%22radius%22%3A%202%2C%0A%20%20%22stroke%22%3A%20true%2C%0A%20%20%22weight%22%3A%203%0A%7D%0A%20%20%20%20%20%20%20%20%20%20%20%20%20%20%20%20%29.addTo%28map_da06769d5e19429a9a792f12bf246aab%29%3B%0A%20%20%20%20%20%20%20%20%20%20%20%20%0A%20%20%20%20%0A%20%20%20%20%20%20%20%20%20%20%20%20var%20popup_696d342aa45d408aa4415379b45fe808%20%3D%20L.popup%28%7BmaxWidth%3A%20%27300%27%7D%29%3B%0A%0A%20%20%20%20%20%20%20%20%20%20%20%20%0A%20%20%20%20%20%20%20%20%20%20%20%20%20%20%20%20var%20html_8c53957facc942cdadeec05102a446aa%20%3D%20%24%28%27%3Cdiv%20id%3D%22html_8c53957facc942cdadeec05102a446aa%22%20style%3D%22width%3A%20100.0%25%3B%20height%3A%20100.0%25%3B%22%3EIMBONATI%3C/div%3E%27%29%5B0%5D%3B%0A%20%20%20%20%20%20%20%20%20%20%20%20%20%20%20%20popup_696d342aa45d408aa4415379b45fe808.setContent%28html_8c53957facc942cdadeec05102a446aa%29%3B%0A%20%20%20%20%20%20%20%20%20%20%20%20%0A%0A%20%20%20%20%20%20%20%20%20%20%20%20circle_marker_97e9a66f0217465fb595379fe9ae2416.bindPopup%28popup_696d342aa45d408aa4415379b45fe808%29%3B%0A%0A%20%20%20%20%20%20%20%20%20%20%20%20%0A%20%20%20%20%20%20%20%20%0A%20%20%20%20%0A%20%20%20%20%20%20%20%20%20%20%20%20var%20circle_marker_04f1623344f64f6c8406bd411b7a44ae%20%3D%20L.circleMarker%28%0A%20%20%20%20%20%20%20%20%20%20%20%20%20%20%20%20%5B45.5158419%2C9.1537779%5D%2C%0A%20%20%20%20%20%20%20%20%20%20%20%20%20%20%20%20%7B%0A%20%20%22bubblingMouseEvents%22%3A%20true%2C%0A%20%20%22color%22%3A%20%22purple%22%2C%0A%20%20%22dashArray%22%3A%20null%2C%0A%20%20%22dashOffset%22%3A%20null%2C%0A%20%20%22fill%22%3A%20true%2C%0A%20%20%22fillColor%22%3A%20%22%233199cc%22%2C%0A%20%20%22fillOpacity%22%3A%200.3%2C%0A%20%20%22fillRule%22%3A%20%22evenodd%22%2C%0A%20%20%22lineCap%22%3A%20%22round%22%2C%0A%20%20%22lineJoin%22%3A%20%22round%22%2C%0A%20%20%22opacity%22%3A%201.0%2C%0A%20%20%22radius%22%3A%202%2C%0A%20%20%22stroke%22%3A%20true%2C%0A%20%20%22weight%22%3A%203%0A%7D%0A%20%20%20%20%20%20%20%20%20%20%20%20%20%20%20%20%29.addTo%28map_da06769d5e19429a9a792f12bf246aab%29%3B%0A%20%20%20%20%20%20%20%20%20%20%20%20%0A%20%20%20%20%0A%20%20%20%20%20%20%20%20%20%20%20%20var%20popup_39946d0b7da94c7d8967dcb46ae05b2c%20%3D%20L.popup%28%7BmaxWidth%3A%20%27300%27%7D%29%3B%0A%0A%20%20%20%20%20%20%20%20%20%20%20%20%0A%20%20%20%20%20%20%20%20%20%20%20%20%20%20%20%20var%20html_8430b9dc44bd4b7298390225fd2d8e5a%20%3D%20%24%28%27%3Cdiv%20id%3D%22html_8430b9dc44bd4b7298390225fd2d8e5a%22%20style%3D%22width%3A%20100.0%25%3B%20height%3A%20100.0%25%3B%22%3EBOVISASCA%3C/div%3E%27%29%5B0%5D%3B%0A%20%20%20%20%20%20%20%20%20%20%20%20%20%20%20%20popup_39946d0b7da94c7d8967dcb46ae05b2c.setContent%28html_8430b9dc44bd4b7298390225fd2d8e5a%29%3B%0A%20%20%20%20%20%20%20%20%20%20%20%20%0A%0A%20%20%20%20%20%20%20%20%20%20%20%20circle_marker_04f1623344f64f6c8406bd411b7a44ae.bindPopup%28popup_39946d0b7da94c7d8967dcb46ae05b2c%29%3B%0A%0A%20%20%20%20%20%20%20%20%20%20%20%20%0A%20%20%20%20%20%20%20%20%0A%20%20%20%20%0A%20%20%20%20%20%20%20%20%20%20%20%20var%20circle_marker_7c384b6b615c44ee93b374cc174c9bc2%20%3D%20L.circleMarker%28%0A%20%20%20%20%20%20%20%20%20%20%20%20%20%20%20%20%5B45.5170295%2C9.1696533%5D%2C%0A%20%20%20%20%20%20%20%20%20%20%20%20%20%20%20%20%7B%0A%20%20%22bubblingMouseEvents%22%3A%20true%2C%0A%20%20%22color%22%3A%20%22purple%22%2C%0A%20%20%22dashArray%22%3A%20null%2C%0A%20%20%22dashOffset%22%3A%20null%2C%0A%20%20%22fill%22%3A%20true%2C%0A%20%20%22fillColor%22%3A%20%22%233199cc%22%2C%0A%20%20%22fillOpacity%22%3A%200.3%2C%0A%20%20%22fillRule%22%3A%20%22evenodd%22%2C%0A%20%20%22lineCap%22%3A%20%22round%22%2C%0A%20%20%22lineJoin%22%3A%20%22round%22%2C%0A%20%20%22opacity%22%3A%201.0%2C%0A%20%20%22radius%22%3A%202%2C%0A%20%20%22stroke%22%3A%20true%2C%0A%20%20%22weight%22%3A%203%0A%7D%0A%20%20%20%20%20%20%20%20%20%20%20%20%20%20%20%20%29.addTo%28map_da06769d5e19429a9a792f12bf246aab%29%3B%0A%20%20%20%20%20%20%20%20%20%20%20%20%0A%20%20%20%20%0A%20%20%20%20%20%20%20%20%20%20%20%20var%20popup_5b3c58ec88af4c1696316ce4c14756cf%20%3D%20L.popup%28%7BmaxWidth%3A%20%27300%27%7D%29%3B%0A%0A%20%20%20%20%20%20%20%20%20%20%20%20%0A%20%20%20%20%20%20%20%20%20%20%20%20%20%20%20%20var%20html_a6d2e997137a4ae5b550acb2729292da%20%3D%20%24%28%27%3Cdiv%20id%3D%22html_a6d2e997137a4ae5b550acb2729292da%22%20style%3D%22width%3A%20100.0%25%3B%20height%3A%20100.0%25%3B%22%3EAFFORI%3C/div%3E%27%29%5B0%5D%3B%0A%20%20%20%20%20%20%20%20%20%20%20%20%20%20%20%20popup_5b3c58ec88af4c1696316ce4c14756cf.setContent%28html_a6d2e997137a4ae5b550acb2729292da%29%3B%0A%20%20%20%20%20%20%20%20%20%20%20%20%0A%0A%20%20%20%20%20%20%20%20%20%20%20%20circle_marker_7c384b6b615c44ee93b374cc174c9bc2.bindPopup%28popup_5b3c58ec88af4c1696316ce4c14756cf%29%3B%0A%0A%20%20%20%20%20%20%20%20%20%20%20%20%0A%20%20%20%20%20%20%20%20%0A%20%20%20%20%0A%20%20%20%20%20%20%20%20%20%20%20%20var%20circle_marker_01dad77e90214a0dafc48eb5e372ad3a%20%3D%20L.circleMarker%28%0A%20%20%20%20%20%20%20%20%20%20%20%20%20%20%20%20%5B44.91709965%2C9.789736517763782%5D%2C%0A%20%20%20%20%20%20%20%20%20%20%20%20%20%20%20%20%7B%0A%20%20%22bubblingMouseEvents%22%3A%20true%2C%0A%20%20%22color%22%3A%20%22purple%22%2C%0A%20%20%22dashArray%22%3A%20null%2C%0A%20%20%22dashOffset%22%3A%20null%2C%0A%20%20%22fill%22%3A%20true%2C%0A%20%20%22fillColor%22%3A%20%22%233199cc%22%2C%0A%20%20%22fillOpacity%22%3A%200.3%2C%0A%20%20%22fillRule%22%3A%20%22evenodd%22%2C%0A%20%20%22lineCap%22%3A%20%22round%22%2C%0A%20%20%22lineJoin%22%3A%20%22round%22%2C%0A%20%20%22opacity%22%3A%201.0%2C%0A%20%20%22radius%22%3A%202%2C%0A%20%20%22stroke%22%3A%20true%2C%0A%20%20%22weight%22%3A%203%0A%7D%0A%20%20%20%20%20%20%20%20%20%20%20%20%20%20%20%20%29.addTo%28map_da06769d5e19429a9a792f12bf246aab%29%3B%0A%20%20%20%20%20%20%20%20%20%20%20%20%0A%20%20%20%20%0A%20%20%20%20%20%20%20%20%20%20%20%20var%20popup_97fb6d0622b64e159b6528ce07f7d591%20%3D%20L.popup%28%7BmaxWidth%3A%20%27300%27%7D%29%3B%0A%0A%20%20%20%20%20%20%20%20%20%20%20%20%0A%20%20%20%20%20%20%20%20%20%20%20%20%20%20%20%20var%20html_7f12afb6af244b14bd626c4cfb895d6c%20%3D%20%24%28%27%3Cdiv%20id%3D%22html_7f12afb6af244b14bd626c4cfb895d6c%22%20style%3D%22width%3A%20100.0%25%3B%20height%3A%20100.0%25%3B%22%3EP.%20ROSSI%20%3C/div%3E%27%29%5B0%5D%3B%0A%20%20%20%20%20%20%20%20%20%20%20%20%20%20%20%20popup_97fb6d0622b64e159b6528ce07f7d591.setContent%28html_7f12afb6af244b14bd626c4cfb895d6c%29%3B%0A%20%20%20%20%20%20%20%20%20%20%20%20%0A%0A%20%20%20%20%20%20%20%20%20%20%20%20circle_marker_01dad77e90214a0dafc48eb5e372ad3a.bindPopup%28popup_97fb6d0622b64e159b6528ce07f7d591%29%3B%0A%0A%20%20%20%20%20%20%20%20%20%20%20%20%0A%20%20%20%20%20%20%20%20%0A%20%20%20%20%0A%20%20%20%20%20%20%20%20%20%20%20%20var%20circle_marker_9f5790781c8d48038da94fe40725900a%20%3D%20L.circleMarker%28%0A%20%20%20%20%20%20%20%20%20%20%20%20%20%20%20%20%5B45.5281326%2C9.1637291%5D%2C%0A%20%20%20%20%20%20%20%20%20%20%20%20%20%20%20%20%7B%0A%20%20%22bubblingMouseEvents%22%3A%20true%2C%0A%20%20%22color%22%3A%20%22purple%22%2C%0A%20%20%22dashArray%22%3A%20null%2C%0A%20%20%22dashOffset%22%3A%20null%2C%0A%20%20%22fill%22%3A%20true%2C%0A%20%20%22fillColor%22%3A%20%22%233199cc%22%2C%0A%20%20%22fillOpacity%22%3A%200.3%2C%0A%20%20%22fillRule%22%3A%20%22evenodd%22%2C%0A%20%20%22lineCap%22%3A%20%22round%22%2C%0A%20%20%22lineJoin%22%3A%20%22round%22%2C%0A%20%20%22opacity%22%3A%201.0%2C%0A%20%20%22radius%22%3A%202%2C%0A%20%20%22stroke%22%3A%20true%2C%0A%20%20%22weight%22%3A%203%0A%7D%0A%20%20%20%20%20%20%20%20%20%20%20%20%20%20%20%20%29.addTo%28map_da06769d5e19429a9a792f12bf246aab%29%3B%0A%20%20%20%20%20%20%20%20%20%20%20%20%0A%20%20%20%20%0A%20%20%20%20%20%20%20%20%20%20%20%20var%20popup_0c6f846e148b4479b3e72d337a976568%20%3D%20L.popup%28%7BmaxWidth%3A%20%27300%27%7D%29%3B%0A%0A%20%20%20%20%20%20%20%20%20%20%20%20%0A%20%20%20%20%20%20%20%20%20%20%20%20%20%20%20%20var%20html_0b2505bf97f5453c87a299a5b7eeb45e%20%3D%20%24%28%27%3Cdiv%20id%3D%22html_0b2505bf97f5453c87a299a5b7eeb45e%22%20style%3D%22width%3A%20100.0%25%3B%20height%3A%20100.0%25%3B%22%3ECOMASINA%3C/div%3E%27%29%5B0%5D%3B%0A%20%20%20%20%20%20%20%20%20%20%20%20%20%20%20%20popup_0c6f846e148b4479b3e72d337a976568.setContent%28html_0b2505bf97f5453c87a299a5b7eeb45e%29%3B%0A%20%20%20%20%20%20%20%20%20%20%20%20%0A%0A%20%20%20%20%20%20%20%20%20%20%20%20circle_marker_9f5790781c8d48038da94fe40725900a.bindPopup%28popup_0c6f846e148b4479b3e72d337a976568%29%3B%0A%0A%20%20%20%20%20%20%20%20%20%20%20%20%0A%20%20%20%20%20%20%20%20%0A%20%20%20%20%0A%20%20%20%20%20%20%20%20%20%20%20%20var%20circle_marker_7576248b8283486794464267227e0b96%20%3D%20L.circleMarker%28%0A%20%20%20%20%20%20%20%20%20%20%20%20%20%20%20%20%5B45.5169738%2C9.1924879%5D%2C%0A%20%20%20%20%20%20%20%20%20%20%20%20%20%20%20%20%7B%0A%20%20%22bubblingMouseEvents%22%3A%20true%2C%0A%20%20%22color%22%3A%20%22purple%22%2C%0A%20%20%22dashArray%22%3A%20null%2C%0A%20%20%22dashOffset%22%3A%20null%2C%0A%20%20%22fill%22%3A%20true%2C%0A%20%20%22fillColor%22%3A%20%22%233199cc%22%2C%0A%20%20%22fillOpacity%22%3A%200.3%2C%0A%20%20%22fillRule%22%3A%20%22evenodd%22%2C%0A%20%20%22lineCap%22%3A%20%22round%22%2C%0A%20%20%22lineJoin%22%3A%20%22round%22%2C%0A%20%20%22opacity%22%3A%201.0%2C%0A%20%20%22radius%22%3A%202%2C%0A%20%20%22stroke%22%3A%20true%2C%0A%20%20%22weight%22%3A%203%0A%7D%0A%20%20%20%20%20%20%20%20%20%20%20%20%20%20%20%20%29.addTo%28map_da06769d5e19429a9a792f12bf246aab%29%3B%0A%20%20%20%20%20%20%20%20%20%20%20%20%0A%20%20%20%20%0A%20%20%20%20%20%20%20%20%20%20%20%20var%20popup_c7ae303be6bd434e80384c80b7a2d209%20%3D%20L.popup%28%7BmaxWidth%3A%20%27300%27%7D%29%3B%0A%0A%20%20%20%20%20%20%20%20%20%20%20%20%0A%20%20%20%20%20%20%20%20%20%20%20%20%20%20%20%20var%20html_e26d260ab8904094a67efca5da89eabe%20%3D%20%24%28%27%3Cdiv%20id%3D%22html_e26d260ab8904094a67efca5da89eabe%22%20style%3D%22width%3A%20100.0%25%3B%20height%3A%20100.0%25%3B%22%3ENIGUARDA%3C/div%3E%27%29%5B0%5D%3B%0A%20%20%20%20%20%20%20%20%20%20%20%20%20%20%20%20popup_c7ae303be6bd434e80384c80b7a2d209.setContent%28html_e26d260ab8904094a67efca5da89eabe%29%3B%0A%20%20%20%20%20%20%20%20%20%20%20%20%0A%0A%20%20%20%20%20%20%20%20%20%20%20%20circle_marker_7576248b8283486794464267227e0b96.bindPopup%28popup_c7ae303be6bd434e80384c80b7a2d209%29%3B%0A%0A%20%20%20%20%20%20%20%20%20%20%20%20%0A%20%20%20%20%20%20%20%20%0A%20%20%20%20%0A%20%20%20%20%20%20%20%20%20%20%20%20var%20circle_marker_710ff5a973ab44c9ab80190da0f528d6%20%3D%20L.circleMarker%28%0A%20%20%20%20%20%20%20%20%20%20%20%20%20%20%20%20%5B45.5267842%2C9.2121805%5D%2C%0A%20%20%20%20%20%20%20%20%20%20%20%20%20%20%20%20%7B%0A%20%20%22bubblingMouseEvents%22%3A%20true%2C%0A%20%20%22color%22%3A%20%22purple%22%2C%0A%20%20%22dashArray%22%3A%20null%2C%0A%20%20%22dashOffset%22%3A%20null%2C%0A%20%20%22fill%22%3A%20true%2C%0A%20%20%22fillColor%22%3A%20%22%233199cc%22%2C%0A%20%20%22fillOpacity%22%3A%200.3%2C%0A%20%20%22fillRule%22%3A%20%22evenodd%22%2C%0A%20%20%22lineCap%22%3A%20%22round%22%2C%0A%20%20%22lineJoin%22%3A%20%22round%22%2C%0A%20%20%22opacity%22%3A%201.0%2C%0A%20%20%22radius%22%3A%202%2C%0A%20%20%22stroke%22%3A%20true%2C%0A%20%20%22weight%22%3A%203%0A%7D%0A%20%20%20%20%20%20%20%20%20%20%20%20%20%20%20%20%29.addTo%28map_da06769d5e19429a9a792f12bf246aab%29%3B%0A%20%20%20%20%20%20%20%20%20%20%20%20%0A%20%20%20%20%0A%20%20%20%20%20%20%20%20%20%20%20%20var%20popup_e94bf4cc3a3043dca3e2690742bdc75d%20%3D%20L.popup%28%7BmaxWidth%3A%20%27300%27%7D%29%3B%0A%0A%20%20%20%20%20%20%20%20%20%20%20%20%0A%20%20%20%20%20%20%20%20%20%20%20%20%20%20%20%20var%20html_aa5beada0c8747a9833de487f5b03406%20%3D%20%24%28%27%3Cdiv%20id%3D%22html_aa5beada0c8747a9833de487f5b03406%22%20style%3D%22width%3A%20100.0%25%3B%20height%3A%20100.0%25%3B%22%3EBIGNAMI%3C/div%3E%27%29%5B0%5D%3B%0A%20%20%20%20%20%20%20%20%20%20%20%20%20%20%20%20popup_e94bf4cc3a3043dca3e2690742bdc75d.setContent%28html_aa5beada0c8747a9833de487f5b03406%29%3B%0A%20%20%20%20%20%20%20%20%20%20%20%20%0A%0A%20%20%20%20%20%20%20%20%20%20%20%20circle_marker_710ff5a973ab44c9ab80190da0f528d6.bindPopup%28popup_e94bf4cc3a3043dca3e2690742bdc75d%29%3B%0A%0A%20%20%20%20%20%20%20%20%20%20%20%20%0A%20%20%20%20%20%20%20%20%0A%20%20%20%20%0A%20%20%20%20%20%20%20%20%20%20%20%20var%20circle_marker_d6bef6b44d4b407fbfba33e9b61ee76b%20%3D%20L.circleMarker%28%0A%20%20%20%20%20%20%20%20%20%20%20%20%20%20%20%20%5B45.51994475%2C9.181313083892288%5D%2C%0A%20%20%20%20%20%20%20%20%20%20%20%20%20%20%20%20%7B%0A%20%20%22bubblingMouseEvents%22%3A%20true%2C%0A%20%20%22color%22%3A%20%22purple%22%2C%0A%20%20%22dashArray%22%3A%20null%2C%0A%20%20%22dashOffset%22%3A%20null%2C%0A%20%20%22fill%22%3A%20true%2C%0A%20%20%22fillColor%22%3A%20%22%233199cc%22%2C%0A%20%20%22fillOpacity%22%3A%200.3%2C%0A%20%20%22fillRule%22%3A%20%22evenodd%22%2C%0A%20%20%22lineCap%22%3A%20%22round%22%2C%0A%20%20%22lineJoin%22%3A%20%22round%22%2C%0A%20%20%22opacity%22%3A%201.0%2C%0A%20%20%22radius%22%3A%202%2C%0A%20%20%22stroke%22%3A%20true%2C%0A%20%20%22weight%22%3A%203%0A%7D%0A%20%20%20%20%20%20%20%20%20%20%20%20%20%20%20%20%29.addTo%28map_da06769d5e19429a9a792f12bf246aab%29%3B%0A%20%20%20%20%20%20%20%20%20%20%20%20%0A%20%20%20%20%0A%20%20%20%20%20%20%20%20%20%20%20%20var%20popup_09cb0cc2431a4a05bbfafd49f6697473%20%3D%20L.popup%28%7BmaxWidth%3A%20%27300%27%7D%29%3B%0A%0A%20%20%20%20%20%20%20%20%20%20%20%20%0A%20%20%20%20%20%20%20%20%20%20%20%20%20%20%20%20var%20html_fb0437cd33ea4e73a81cba60f78657c9%20%3D%20%24%28%27%3Cdiv%20id%3D%22html_fb0437cd33ea4e73a81cba60f78657c9%22%20style%3D%22width%3A%20100.0%25%3B%20height%3A%20100.0%25%3B%22%3EPARCO%20NORD%3C/div%3E%27%29%5B0%5D%3B%0A%20%20%20%20%20%20%20%20%20%20%20%20%20%20%20%20popup_09cb0cc2431a4a05bbfafd49f6697473.setContent%28html_fb0437cd33ea4e73a81cba60f78657c9%29%3B%0A%20%20%20%20%20%20%20%20%20%20%20%20%0A%0A%20%20%20%20%20%20%20%20%20%20%20%20circle_marker_d6bef6b44d4b407fbfba33e9b61ee76b.bindPopup%28popup_09cb0cc2431a4a05bbfafd49f6697473%29%3B%0A%0A%20%20%20%20%20%20%20%20%20%20%20%20%0A%20%20%20%20%20%20%20%20%0A%20%20%20%20%0A%20%20%20%20%20%20%20%20%20%20%20%20var%20circle_marker_ca0c021ca6604314bf96a2d53fd2aa4e%20%3D%20L.circleMarker%28%0A%20%20%20%20%20%20%20%20%20%20%20%20%20%20%20%20%5B45.50521689999999%2C9.203916460372216%5D%2C%0A%20%20%20%20%20%20%20%20%20%20%20%20%20%20%20%20%7B%0A%20%20%22bubblingMouseEvents%22%3A%20true%2C%0A%20%20%22color%22%3A%20%22purple%22%2C%0A%20%20%22dashArray%22%3A%20null%2C%0A%20%20%22dashOffset%22%3A%20null%2C%0A%20%20%22fill%22%3A%20true%2C%0A%20%20%22fillColor%22%3A%20%22%233199cc%22%2C%0A%20%20%22fillOpacity%22%3A%200.3%2C%0A%20%20%22fillRule%22%3A%20%22evenodd%22%2C%0A%20%20%22lineCap%22%3A%20%22round%22%2C%0A%20%20%22lineJoin%22%3A%20%22round%22%2C%0A%20%20%22opacity%22%3A%201.0%2C%0A%20%20%22radius%22%3A%202%2C%0A%20%20%22stroke%22%3A%20true%2C%0A%20%20%22weight%22%3A%203%0A%7D%0A%20%20%20%20%20%20%20%20%20%20%20%20%20%20%20%20%29.addTo%28map_da06769d5e19429a9a792f12bf246aab%29%3B%0A%20%20%20%20%20%20%20%20%20%20%20%20%0A%20%20%20%20%0A%20%20%20%20%20%20%20%20%20%20%20%20var%20popup_56faf7ff84204848b83e688b6e8ffb88%20%3D%20L.popup%28%7BmaxWidth%3A%20%27300%27%7D%29%3B%0A%0A%20%20%20%20%20%20%20%20%20%20%20%20%0A%20%20%20%20%20%20%20%20%20%20%20%20%20%20%20%20var%20html_07f01eb124c34e1d9b05c15199338092%20%3D%20%24%28%27%3Cdiv%20id%3D%22html_07f01eb124c34e1d9b05c15199338092%22%20style%3D%22width%3A%20100.0%25%3B%20height%3A%20100.0%25%3B%22%3ESARCA%3C/div%3E%27%29%5B0%5D%3B%0A%20%20%20%20%20%20%20%20%20%20%20%20%20%20%20%20popup_56faf7ff84204848b83e688b6e8ffb88.setContent%28html_07f01eb124c34e1d9b05c15199338092%29%3B%0A%20%20%20%20%20%20%20%20%20%20%20%20%0A%0A%20%20%20%20%20%20%20%20%20%20%20%20circle_marker_ca0c021ca6604314bf96a2d53fd2aa4e.bindPopup%28popup_56faf7ff84204848b83e688b6e8ffb88%29%3B%0A%0A%20%20%20%20%20%20%20%20%20%20%20%20%0A%20%20%20%20%20%20%20%20%0A%20%20%20%20%0A%20%20%20%20%20%20%20%20%20%20%20%20var%20circle_marker_90edabaf7fa64b6ca10e2ecb23298d25%20%3D%20L.circleMarker%28%0A%20%20%20%20%20%20%20%20%20%20%20%20%20%20%20%20%5B45.5149166%2C9.2111381%5D%2C%0A%20%20%20%20%20%20%20%20%20%20%20%20%20%20%20%20%7B%0A%20%20%22bubblingMouseEvents%22%3A%20true%2C%0A%20%20%22color%22%3A%20%22purple%22%2C%0A%20%20%22dashArray%22%3A%20null%2C%0A%20%20%22dashOffset%22%3A%20null%2C%0A%20%20%22fill%22%3A%20true%2C%0A%20%20%22fillColor%22%3A%20%22%233199cc%22%2C%0A%20%20%22fillOpacity%22%3A%200.3%2C%0A%20%20%22fillRule%22%3A%20%22evenodd%22%2C%0A%20%20%22lineCap%22%3A%20%22round%22%2C%0A%20%20%22lineJoin%22%3A%20%22round%22%2C%0A%20%20%22opacity%22%3A%201.0%2C%0A%20%20%22radius%22%3A%202%2C%0A%20%20%22stroke%22%3A%20true%2C%0A%20%20%22weight%22%3A%203%0A%7D%0A%20%20%20%20%20%20%20%20%20%20%20%20%20%20%20%20%29.addTo%28map_da06769d5e19429a9a792f12bf246aab%29%3B%0A%20%20%20%20%20%20%20%20%20%20%20%20%0A%20%20%20%20%0A%20%20%20%20%20%20%20%20%20%20%20%20var%20popup_92bb315106f24b29b69e8a364760daa2%20%3D%20L.popup%28%7BmaxWidth%3A%20%27300%27%7D%29%3B%0A%0A%20%20%20%20%20%20%20%20%20%20%20%20%0A%20%20%20%20%20%20%20%20%20%20%20%20%20%20%20%20var%20html_0807bb9040724b96aabed72db07c8867%20%3D%20%24%28%27%3Cdiv%20id%3D%22html_0807bb9040724b96aabed72db07c8867%22%20style%3D%22width%3A%20100.0%25%3B%20height%3A%20100.0%25%3B%22%3EBICOCCA%3C/div%3E%27%29%5B0%5D%3B%0A%20%20%20%20%20%20%20%20%20%20%20%20%20%20%20%20popup_92bb315106f24b29b69e8a364760daa2.setContent%28html_0807bb9040724b96aabed72db07c8867%29%3B%0A%20%20%20%20%20%20%20%20%20%20%20%20%0A%0A%20%20%20%20%20%20%20%20%20%20%20%20circle_marker_90edabaf7fa64b6ca10e2ecb23298d25.bindPopup%28popup_92bb315106f24b29b69e8a364760daa2%29%3B%0A%0A%20%20%20%20%20%20%20%20%20%20%20%20%0A%20%20%20%20%20%20%20%20%0A%20%20%20%20%0A%20%20%20%20%20%20%20%20%20%20%20%20var%20circle_marker_40daf1ff647841729cf8526a7b55ef82%20%3D%20L.circleMarker%28%0A%20%20%20%20%20%20%20%20%20%20%20%20%20%20%20%20%5B45.51248185%2C9.22433270585019%5D%2C%0A%20%20%20%20%20%20%20%20%20%20%20%20%20%20%20%20%7B%0A%20%20%22bubblingMouseEvents%22%3A%20true%2C%0A%20%20%22color%22%3A%20%22purple%22%2C%0A%20%20%22dashArray%22%3A%20null%2C%0A%20%20%22dashOffset%22%3A%20null%2C%0A%20%20%22fill%22%3A%20true%2C%0A%20%20%22fillColor%22%3A%20%22%233199cc%22%2C%0A%20%20%22fillOpacity%22%3A%200.3%2C%0A%20%20%22fillRule%22%3A%20%22evenodd%22%2C%0A%20%20%22lineCap%22%3A%20%22round%22%2C%0A%20%20%22lineJoin%22%3A%20%22round%22%2C%0A%20%20%22opacity%22%3A%201.0%2C%0A%20%20%22radius%22%3A%202%2C%0A%20%20%22stroke%22%3A%20true%2C%0A%20%20%22weight%22%3A%203%0A%7D%0A%20%20%20%20%20%20%20%20%20%20%20%20%20%20%20%20%29.addTo%28map_da06769d5e19429a9a792f12bf246aab%29%3B%0A%20%20%20%20%20%20%20%20%20%20%20%20%0A%20%20%20%20%0A%20%20%20%20%20%20%20%20%20%20%20%20var%20popup_6dc877fa8ee146bd848646b05faff9b8%20%3D%20L.popup%28%7BmaxWidth%3A%20%27300%27%7D%29%3B%0A%0A%20%20%20%20%20%20%20%20%20%20%20%20%0A%20%20%20%20%20%20%20%20%20%20%20%20%20%20%20%20var%20html_c280dbd1ff3b4813bf073226143e50f0%20%3D%20%24%28%27%3Cdiv%20id%3D%22html_c280dbd1ff3b4813bf073226143e50f0%22%20style%3D%22width%3A%20100.0%25%3B%20height%3A%20100.0%25%3B%22%3EVIALE%20MONZA%3C/div%3E%27%29%5B0%5D%3B%0A%20%20%20%20%20%20%20%20%20%20%20%20%20%20%20%20popup_6dc877fa8ee146bd848646b05faff9b8.setContent%28html_c280dbd1ff3b4813bf073226143e50f0%29%3B%0A%20%20%20%20%20%20%20%20%20%20%20%20%0A%0A%20%20%20%20%20%20%20%20%20%20%20%20circle_marker_40daf1ff647841729cf8526a7b55ef82.bindPopup%28popup_6dc877fa8ee146bd848646b05faff9b8%29%3B%0A%0A%20%20%20%20%20%20%20%20%20%20%20%20%0A%20%20%20%20%20%20%20%20%0A%20%20%20%20%0A%20%20%20%20%20%20%20%20%20%20%20%20var%20circle_marker_f0a5ea226c37479c8bcd27bfcd02b90b%20%3D%20L.circleMarker%28%0A%20%20%20%20%20%20%20%20%20%20%20%20%20%20%20%20%5B45.5092191%2C9.2474843%5D%2C%0A%20%20%20%20%20%20%20%20%20%20%20%20%20%20%20%20%7B%0A%20%20%22bubblingMouseEvents%22%3A%20true%2C%0A%20%20%22color%22%3A%20%22purple%22%2C%0A%20%20%22dashArray%22%3A%20null%2C%0A%20%20%22dashOffset%22%3A%20null%2C%0A%20%20%22fill%22%3A%20true%2C%0A%20%20%22fillColor%22%3A%20%22%233199cc%22%2C%0A%20%20%22fillOpacity%22%3A%200.3%2C%0A%20%20%22fillRule%22%3A%20%22evenodd%22%2C%0A%20%20%22lineCap%22%3A%20%22round%22%2C%0A%20%20%22lineJoin%22%3A%20%22round%22%2C%0A%20%20%22opacity%22%3A%201.0%2C%0A%20%20%22radius%22%3A%202%2C%0A%20%20%22stroke%22%3A%20true%2C%0A%20%20%22weight%22%3A%203%0A%7D%0A%20%20%20%20%20%20%20%20%20%20%20%20%20%20%20%20%29.addTo%28map_da06769d5e19429a9a792f12bf246aab%29%3B%0A%20%20%20%20%20%20%20%20%20%20%20%20%0A%20%20%20%20%0A%20%20%20%20%20%20%20%20%20%20%20%20var%20popup_3ba47af770a34eaca934dd273295d17a%20%3D%20L.popup%28%7BmaxWidth%3A%20%27300%27%7D%29%3B%0A%0A%20%20%20%20%20%20%20%20%20%20%20%20%0A%20%20%20%20%20%20%20%20%20%20%20%20%20%20%20%20var%20html_2fc287ff086f4d5fb5d4935822a27743%20%3D%20%24%28%27%3Cdiv%20id%3D%22html_2fc287ff086f4d5fb5d4935822a27743%22%20style%3D%22width%3A%20100.0%25%3B%20height%3A%20100.0%25%3B%22%3ECRESCENZAGO%3C/div%3E%27%29%5B0%5D%3B%0A%20%20%20%20%20%20%20%20%20%20%20%20%20%20%20%20popup_3ba47af770a34eaca934dd273295d17a.setContent%28html_2fc287ff086f4d5fb5d4935822a27743%29%3B%0A%20%20%20%20%20%20%20%20%20%20%20%20%0A%0A%20%20%20%20%20%20%20%20%20%20%20%20circle_marker_f0a5ea226c37479c8bcd27bfcd02b90b.bindPopup%28popup_3ba47af770a34eaca934dd273295d17a%29%3B%0A%0A%20%20%20%20%20%20%20%20%20%20%20%20%0A%20%20%20%20%20%20%20%20%0A%20%20%20%20%0A%20%20%20%20%20%20%20%20%20%20%20%20var%20circle_marker_942ca791a0974b41a50bd54f1c8a22bb%20%3D%20L.circleMarker%28%0A%20%20%20%20%20%20%20%20%20%20%20%20%20%20%20%20%5B45.5049445%2C9.2245393%5D%2C%0A%20%20%20%20%20%20%20%20%20%20%20%20%20%20%20%20%7B%0A%20%20%22bubblingMouseEvents%22%3A%20true%2C%0A%20%20%22color%22%3A%20%22purple%22%2C%0A%20%20%22dashArray%22%3A%20null%2C%0A%20%20%22dashOffset%22%3A%20null%2C%0A%20%20%22fill%22%3A%20true%2C%0A%20%20%22fillColor%22%3A%20%22%233199cc%22%2C%0A%20%20%22fillOpacity%22%3A%200.3%2C%0A%20%20%22fillRule%22%3A%20%22evenodd%22%2C%0A%20%20%22lineCap%22%3A%20%22round%22%2C%0A%20%20%22lineJoin%22%3A%20%22round%22%2C%0A%20%20%22opacity%22%3A%201.0%2C%0A%20%20%22radius%22%3A%202%2C%0A%20%20%22stroke%22%3A%20true%2C%0A%20%20%22weight%22%3A%203%0A%7D%0A%20%20%20%20%20%20%20%20%20%20%20%20%20%20%20%20%29.addTo%28map_da06769d5e19429a9a792f12bf246aab%29%3B%0A%20%20%20%20%20%20%20%20%20%20%20%20%0A%20%20%20%20%0A%20%20%20%20%20%20%20%20%20%20%20%20var%20popup_a3bdb235e5044a28b09dc2c47e745508%20%3D%20L.popup%28%7BmaxWidth%3A%20%27300%27%7D%29%3B%0A%0A%20%20%20%20%20%20%20%20%20%20%20%20%0A%20%20%20%20%20%20%20%20%20%20%20%20%20%20%20%20var%20html_d4021c9028f14d539067e1bcc055e62c%20%3D%20%24%28%27%3Cdiv%20id%3D%22html_d4021c9028f14d539067e1bcc055e62c%22%20style%3D%22width%3A%20100.0%25%3B%20height%3A%20100.0%25%3B%22%3EGORLA%3C/div%3E%27%29%5B0%5D%3B%0A%20%20%20%20%20%20%20%20%20%20%20%20%20%20%20%20popup_a3bdb235e5044a28b09dc2c47e745508.setContent%28html_d4021c9028f14d539067e1bcc055e62c%29%3B%0A%20%20%20%20%20%20%20%20%20%20%20%20%0A%0A%20%20%20%20%20%20%20%20%20%20%20%20circle_marker_942ca791a0974b41a50bd54f1c8a22bb.bindPopup%28popup_a3bdb235e5044a28b09dc2c47e745508%29%3B%0A%0A%20%20%20%20%20%20%20%20%20%20%20%20%0A%20%20%20%20%20%20%20%20%0A%20%20%20%20%0A%20%20%20%20%20%20%20%20%20%20%20%20var%20circle_marker_a100dbd080b44d61ada02e9ef9aa346b%20%3D%20L.circleMarker%28%0A%20%20%20%20%20%20%20%20%20%20%20%20%20%20%20%20%5B45.5160356%2C9.2444433%5D%2C%0A%20%20%20%20%20%20%20%20%20%20%20%20%20%20%20%20%7B%0A%20%20%22bubblingMouseEvents%22%3A%20true%2C%0A%20%20%22color%22%3A%20%22purple%22%2C%0A%20%20%22dashArray%22%3A%20null%2C%0A%20%20%22dashOffset%22%3A%20null%2C%0A%20%20%22fill%22%3A%20true%2C%0A%20%20%22fillColor%22%3A%20%22%233199cc%22%2C%0A%20%20%22fillOpacity%22%3A%200.3%2C%0A%20%20%22fillRule%22%3A%20%22evenodd%22%2C%0A%20%20%22lineCap%22%3A%20%22round%22%2C%0A%20%20%22lineJoin%22%3A%20%22round%22%2C%0A%20%20%22opacity%22%3A%201.0%2C%0A%20%20%22radius%22%3A%202%2C%0A%20%20%22stroke%22%3A%20true%2C%0A%20%20%22weight%22%3A%203%0A%7D%0A%20%20%20%20%20%20%20%20%20%20%20%20%20%20%20%20%29.addTo%28map_da06769d5e19429a9a792f12bf246aab%29%3B%0A%20%20%20%20%20%20%20%20%20%20%20%20%0A%20%20%20%20%0A%20%20%20%20%20%20%20%20%20%20%20%20var%20popup_7f2501302fab412f8c6f4d41cf922bb2%20%3D%20L.popup%28%7BmaxWidth%3A%20%27300%27%7D%29%3B%0A%0A%20%20%20%20%20%20%20%20%20%20%20%20%0A%20%20%20%20%20%20%20%20%20%20%20%20%20%20%20%20var%20html_89138b0a13fc46808bb1ce59b475d8a0%20%3D%20%24%28%27%3Cdiv%20id%3D%22html_89138b0a13fc46808bb1ce59b475d8a0%22%20style%3D%22width%3A%20100.0%25%3B%20height%3A%20100.0%25%3B%22%3EQUARTIERE%20ADRIANO%3C/div%3E%27%29%5B0%5D%3B%0A%20%20%20%20%20%20%20%20%20%20%20%20%20%20%20%20popup_7f2501302fab412f8c6f4d41cf922bb2.setContent%28html_89138b0a13fc46808bb1ce59b475d8a0%29%3B%0A%20%20%20%20%20%20%20%20%20%20%20%20%0A%0A%20%20%20%20%20%20%20%20%20%20%20%20circle_marker_a100dbd080b44d61ada02e9ef9aa346b.bindPopup%28popup_7f2501302fab412f8c6f4d41cf922bb2%29%3B%0A%0A%20%20%20%20%20%20%20%20%20%20%20%20%0A%20%20%20%20%20%20%20%20%0A%20%20%20%20%0A%20%20%20%20%20%20%20%20%20%20%20%20var%20circle_marker_0401e6b2073b475db2f1d0ffb6060b9e%20%3D%20L.circleMarker%28%0A%20%20%20%20%20%20%20%20%20%20%20%20%20%20%20%20%5B45.4920365%2C9.2018846%5D%2C%0A%20%20%20%20%20%20%20%20%20%20%20%20%20%20%20%20%7B%0A%20%20%22bubblingMouseEvents%22%3A%20true%2C%0A%20%20%22color%22%3A%20%22purple%22%2C%0A%20%20%22dashArray%22%3A%20null%2C%0A%20%20%22dashOffset%22%3A%20null%2C%0A%20%20%22fill%22%3A%20true%2C%0A%20%20%22fillColor%22%3A%20%22%233199cc%22%2C%0A%20%20%22fillOpacity%22%3A%200.3%2C%0A%20%20%22fillRule%22%3A%20%22evenodd%22%2C%0A%20%20%22lineCap%22%3A%20%22round%22%2C%0A%20%20%22lineJoin%22%3A%20%22round%22%2C%0A%20%20%22opacity%22%3A%201.0%2C%0A%20%20%22radius%22%3A%202%2C%0A%20%20%22stroke%22%3A%20true%2C%0A%20%20%22weight%22%3A%203%0A%7D%0A%20%20%20%20%20%20%20%20%20%20%20%20%20%20%20%20%29.addTo%28map_da06769d5e19429a9a792f12bf246aab%29%3B%0A%20%20%20%20%20%20%20%20%20%20%20%20%0A%20%20%20%20%0A%20%20%20%20%20%20%20%20%20%20%20%20var%20popup_0cc8f141ca9c4764a0134899e30c850f%20%3D%20L.popup%28%7BmaxWidth%3A%20%27300%27%7D%29%3B%0A%0A%20%20%20%20%20%20%20%20%20%20%20%20%0A%20%20%20%20%20%20%20%20%20%20%20%20%20%20%20%20var%20html_3f2f638c82264c8ab2179eb3f835e10c%20%3D%20%24%28%27%3Cdiv%20id%3D%22html_3f2f638c82264c8ab2179eb3f835e10c%22%20style%3D%22width%3A%20100.0%25%3B%20height%3A%20100.0%25%3B%22%3EMAGGIOLINA%3C/div%3E%27%29%5B0%5D%3B%0A%20%20%20%20%20%20%20%20%20%20%20%20%20%20%20%20popup_0cc8f141ca9c4764a0134899e30c850f.setContent%28html_3f2f638c82264c8ab2179eb3f835e10c%29%3B%0A%20%20%20%20%20%20%20%20%20%20%20%20%0A%0A%20%20%20%20%20%20%20%20%20%20%20%20circle_marker_0401e6b2073b475db2f1d0ffb6060b9e.bindPopup%28popup_0cc8f141ca9c4764a0134899e30c850f%29%3B%0A%0A%20%20%20%20%20%20%20%20%20%20%20%20%0A%20%20%20%20%20%20%20%20%0A%20%20%20%20%0A%20%20%20%20%20%20%20%20%20%20%20%20var%20circle_marker_9e8f7c4a9e734e21b20379a8c0942f09%20%3D%20L.circleMarker%28%0A%20%20%20%20%20%20%20%20%20%20%20%20%20%20%20%20%5B45.494495900000004%2C9.22419935442353%5D%2C%0A%20%20%20%20%20%20%20%20%20%20%20%20%20%20%20%20%7B%0A%20%20%22bubblingMouseEvents%22%3A%20true%2C%0A%20%20%22color%22%3A%20%22purple%22%2C%0A%20%20%22dashArray%22%3A%20null%2C%0A%20%20%22dashOffset%22%3A%20null%2C%0A%20%20%22fill%22%3A%20true%2C%0A%20%20%22fillColor%22%3A%20%22%233199cc%22%2C%0A%20%20%22fillOpacity%22%3A%200.3%2C%0A%20%20%22fillRule%22%3A%20%22evenodd%22%2C%0A%20%20%22lineCap%22%3A%20%22round%22%2C%0A%20%20%22lineJoin%22%3A%20%22round%22%2C%0A%20%20%22opacity%22%3A%201.0%2C%0A%20%20%22radius%22%3A%202%2C%0A%20%20%22stroke%22%3A%20true%2C%0A%20%20%22weight%22%3A%203%0A%7D%0A%20%20%20%20%20%20%20%20%20%20%20%20%20%20%20%20%29.addTo%28map_da06769d5e19429a9a792f12bf246aab%29%3B%0A%20%20%20%20%20%20%20%20%20%20%20%20%0A%20%20%20%20%0A%20%20%20%20%20%20%20%20%20%20%20%20var%20popup_5bc125620aec4dd792113a2571a0bca4%20%3D%20L.popup%28%7BmaxWidth%3A%20%27300%27%7D%29%3B%0A%0A%20%20%20%20%20%20%20%20%20%20%20%20%0A%20%20%20%20%20%20%20%20%20%20%20%20%20%20%20%20var%20html_279137d5719c4ee9b61d4d334f52ee45%20%3D%20%24%28%27%3Cdiv%20id%3D%22html_279137d5719c4ee9b61d4d334f52ee45%22%20style%3D%22width%3A%20100.0%25%3B%20height%3A%20100.0%25%3B%22%3EPARCO%20TROTTER%3C/div%3E%27%29%5B0%5D%3B%0A%20%20%20%20%20%20%20%20%20%20%20%20%20%20%20%20popup_5bc125620aec4dd792113a2571a0bca4.setContent%28html_279137d5719c4ee9b61d4d334f52ee45%29%3B%0A%20%20%20%20%20%20%20%20%20%20%20%20%0A%0A%20%20%20%20%20%20%20%20%20%20%20%20circle_marker_9e8f7c4a9e734e21b20379a8c0942f09.bindPopup%28popup_5bc125620aec4dd792113a2571a0bca4%29%3B%0A%0A%20%20%20%20%20%20%20%20%20%20%20%20%0A%20%20%20%20%20%20%20%20%0A%20%20%20%20%0A%20%20%20%20%20%20%20%20%20%20%20%20var%20circle_marker_6b3f1fdc984f4eba9ea7fdf432507333%20%3D%20L.circleMarker%28%0A%20%20%20%20%20%20%20%20%20%20%20%20%20%20%20%20%5B45.490367%2C9.2247833%5D%2C%0A%20%20%20%20%20%20%20%20%20%20%20%20%20%20%20%20%7B%0A%20%20%22bubblingMouseEvents%22%3A%20true%2C%0A%20%20%22color%22%3A%20%22purple%22%2C%0A%20%20%22dashArray%22%3A%20null%2C%0A%20%20%22dashOffset%22%3A%20null%2C%0A%20%20%22fill%22%3A%20true%2C%0A%20%20%22fillColor%22%3A%20%22%233199cc%22%2C%0A%20%20%22fillOpacity%22%3A%200.3%2C%0A%20%20%22fillRule%22%3A%20%22evenodd%22%2C%0A%20%20%22lineCap%22%3A%20%22round%22%2C%0A%20%20%22lineJoin%22%3A%20%22round%22%2C%0A%20%20%22opacity%22%3A%201.0%2C%0A%20%20%22radius%22%3A%202%2C%0A%20%20%22stroke%22%3A%20true%2C%0A%20%20%22weight%22%3A%203%0A%7D%0A%20%20%20%20%20%20%20%20%20%20%20%20%20%20%20%20%29.addTo%28map_da06769d5e19429a9a792f12bf246aab%29%3B%0A%20%20%20%20%20%20%20%20%20%20%20%20%0A%20%20%20%20%0A%20%20%20%20%20%20%20%20%20%20%20%20var%20popup_3fc012c3cf1441739e98749805b81e4f%20%3D%20L.popup%28%7BmaxWidth%3A%20%27300%27%7D%29%3B%0A%0A%20%20%20%20%20%20%20%20%20%20%20%20%0A%20%20%20%20%20%20%20%20%20%20%20%20%20%20%20%20var%20html_49ad84f08c424b3aa23e1d13cb04ddb0%20%3D%20%24%28%27%3Cdiv%20id%3D%22html_49ad84f08c424b3aa23e1d13cb04ddb0%22%20style%3D%22width%3A%20100.0%25%3B%20height%3A%20100.0%25%3B%22%3ELEONCAVALLO%3C/div%3E%27%29%5B0%5D%3B%0A%20%20%20%20%20%20%20%20%20%20%20%20%20%20%20%20popup_3fc012c3cf1441739e98749805b81e4f.setContent%28html_49ad84f08c424b3aa23e1d13cb04ddb0%29%3B%0A%20%20%20%20%20%20%20%20%20%20%20%20%0A%0A%20%20%20%20%20%20%20%20%20%20%20%20circle_marker_6b3f1fdc984f4eba9ea7fdf432507333.bindPopup%28popup_3fc012c3cf1441739e98749805b81e4f%29%3B%0A%0A%20%20%20%20%20%20%20%20%20%20%20%20%0A%20%20%20%20%20%20%20%20%0A%20%20%20%20%0A%20%20%20%20%20%20%20%20%20%20%20%20var%20circle_marker_8bb9a3195f5549c69a98a6ac46a50886%20%3D%20L.circleMarker%28%0A%20%20%20%20%20%20%20%20%20%20%20%20%20%20%20%20%5B45.4613839%2C9.089843%5D%2C%0A%20%20%20%20%20%20%20%20%20%20%20%20%20%20%20%20%7B%0A%20%20%22bubblingMouseEvents%22%3A%20true%2C%0A%20%20%22color%22%3A%20%22red%22%2C%0A%20%20%22dashArray%22%3A%20null%2C%0A%20%20%22dashOffset%22%3A%20null%2C%0A%20%20%22fill%22%3A%20true%2C%0A%20%20%22fillColor%22%3A%20%22%233199cc%22%2C%0A%20%20%22fillOpacity%22%3A%200.3%2C%0A%20%20%22fillRule%22%3A%20%22evenodd%22%2C%0A%20%20%22lineCap%22%3A%20%22round%22%2C%0A%20%20%22lineJoin%22%3A%20%22round%22%2C%0A%20%20%22opacity%22%3A%201.0%2C%0A%20%20%22radius%22%3A%202%2C%0A%20%20%22stroke%22%3A%20true%2C%0A%20%20%22weight%22%3A%203%0A%7D%0A%20%20%20%20%20%20%20%20%20%20%20%20%20%20%20%20%29.addTo%28map_da06769d5e19429a9a792f12bf246aab%29%3B%0A%20%20%20%20%20%20%20%20%20%20%20%20%0A%20%20%20%20%0A%20%20%20%20%20%20%20%20%20%20%20%20var%20popup_81b477011685443999d4a6cf3fef1c22%20%3D%20L.popup%28%7BmaxWidth%3A%20%27300%27%7D%29%3B%0A%0A%20%20%20%20%20%20%20%20%20%20%20%20%0A%20%20%20%20%20%20%20%20%20%20%20%20%20%20%20%20var%20html_ab69cdb8cc3442e7be3edb16700070a3%20%3D%20%24%28%27%3Cdiv%20id%3D%22html_ab69cdb8cc3442e7be3edb16700070a3%22%20style%3D%22width%3A%20100.0%25%3B%20height%3A%20100.0%25%3B%22%3EBAGGIO%3C/div%3E%27%29%5B0%5D%3B%0A%20%20%20%20%20%20%20%20%20%20%20%20%20%20%20%20popup_81b477011685443999d4a6cf3fef1c22.setContent%28html_ab69cdb8cc3442e7be3edb16700070a3%29%3B%0A%20%20%20%20%20%20%20%20%20%20%20%20%0A%0A%20%20%20%20%20%20%20%20%20%20%20%20circle_marker_8bb9a3195f5549c69a98a6ac46a50886.bindPopup%28popup_81b477011685443999d4a6cf3fef1c22%29%3B%0A%0A%20%20%20%20%20%20%20%20%20%20%20%20%0A%20%20%20%20%20%20%20%20%0A%20%20%20%20%0A%20%20%20%20%20%20%20%20%20%20%20%20var%20circle_marker_e48d1b9ed76b4101ba5085b404e2543c%20%3D%20L.circleMarker%28%0A%20%20%20%20%20%20%20%20%20%20%20%20%20%20%20%20%5B45.4756791%2C9.0888066%5D%2C%0A%20%20%20%20%20%20%20%20%20%20%20%20%20%20%20%20%7B%0A%20%20%22bubblingMouseEvents%22%3A%20true%2C%0A%20%20%22color%22%3A%20%22red%22%2C%0A%20%20%22dashArray%22%3A%20null%2C%0A%20%20%22dashOffset%22%3A%20null%2C%0A%20%20%22fill%22%3A%20true%2C%0A%20%20%22fillColor%22%3A%20%22%233199cc%22%2C%0A%20%20%22fillOpacity%22%3A%200.3%2C%0A%20%20%22fillRule%22%3A%20%22evenodd%22%2C%0A%20%20%22lineCap%22%3A%20%22round%22%2C%0A%20%20%22lineJoin%22%3A%20%22round%22%2C%0A%20%20%22opacity%22%3A%201.0%2C%0A%20%20%22radius%22%3A%202%2C%0A%20%20%22stroke%22%3A%20true%2C%0A%20%20%22weight%22%3A%203%0A%7D%0A%20%20%20%20%20%20%20%20%20%20%20%20%20%20%20%20%29.addTo%28map_da06769d5e19429a9a792f12bf246aab%29%3B%0A%20%20%20%20%20%20%20%20%20%20%20%20%0A%20%20%20%20%0A%20%20%20%20%20%20%20%20%20%20%20%20var%20popup_9a5d6477bccf4103a2ba88e656f26b09%20%3D%20L.popup%28%7BmaxWidth%3A%20%27300%27%7D%29%3B%0A%0A%20%20%20%20%20%20%20%20%20%20%20%20%0A%20%20%20%20%20%20%20%20%20%20%20%20%20%20%20%20var%20html_b0ca03bb77e64c52abf415e6889d0eb3%20%3D%20%24%28%27%3Cdiv%20id%3D%22html_b0ca03bb77e64c52abf415e6889d0eb3%22%20style%3D%22width%3A%20100.0%25%3B%20height%3A%20100.0%25%3B%22%3EQUINTO%20ROMANO%3C/div%3E%27%29%5B0%5D%3B%0A%20%20%20%20%20%20%20%20%20%20%20%20%20%20%20%20popup_9a5d6477bccf4103a2ba88e656f26b09.setContent%28html_b0ca03bb77e64c52abf415e6889d0eb3%29%3B%0A%20%20%20%20%20%20%20%20%20%20%20%20%0A%0A%20%20%20%20%20%20%20%20%20%20%20%20circle_marker_e48d1b9ed76b4101ba5085b404e2543c.bindPopup%28popup_9a5d6477bccf4103a2ba88e656f26b09%29%3B%0A%0A%20%20%20%20%20%20%20%20%20%20%20%20%0A%20%20%20%20%20%20%20%20%0A%20%20%20%20%0A%20%20%20%20%20%20%20%20%20%20%20%20var%20circle_marker_13e6b9c8f80c426792517f820fb87404%20%3D%20L.circleMarker%28%0A%20%20%20%20%20%20%20%20%20%20%20%20%20%20%20%20%5B45.4510311%2C9.0697581%5D%2C%0A%20%20%20%20%20%20%20%20%20%20%20%20%20%20%20%20%7B%0A%20%20%22bubblingMouseEvents%22%3A%20true%2C%0A%20%20%22color%22%3A%20%22red%22%2C%0A%20%20%22dashArray%22%3A%20null%2C%0A%20%20%22dashOffset%22%3A%20null%2C%0A%20%20%22fill%22%3A%20true%2C%0A%20%20%22fillColor%22%3A%20%22%233199cc%22%2C%0A%20%20%22fillOpacity%22%3A%200.3%2C%0A%20%20%22fillRule%22%3A%20%22evenodd%22%2C%0A%20%20%22lineCap%22%3A%20%22round%22%2C%0A%20%20%22lineJoin%22%3A%20%22round%22%2C%0A%20%20%22opacity%22%3A%201.0%2C%0A%20%20%22radius%22%3A%202%2C%0A%20%20%22stroke%22%3A%20true%2C%0A%20%20%22weight%22%3A%203%0A%7D%0A%20%20%20%20%20%20%20%20%20%20%20%20%20%20%20%20%29.addTo%28map_da06769d5e19429a9a792f12bf246aab%29%3B%0A%20%20%20%20%20%20%20%20%20%20%20%20%0A%20%20%20%20%0A%20%20%20%20%20%20%20%20%20%20%20%20var%20popup_a1fc042e52cb44fdae6ce8c42be7fcf8%20%3D%20L.popup%28%7BmaxWidth%3A%20%27300%27%7D%29%3B%0A%0A%20%20%20%20%20%20%20%20%20%20%20%20%0A%20%20%20%20%20%20%20%20%20%20%20%20%20%20%20%20var%20html_8f4fc8d0359945c69e66650ffd839f4b%20%3D%20%24%28%27%3Cdiv%20id%3D%22html_8f4fc8d0359945c69e66650ffd839f4b%22%20style%3D%22width%3A%20100.0%25%3B%20height%3A%20100.0%25%3B%22%3EMUGGIANO%3C/div%3E%27%29%5B0%5D%3B%0A%20%20%20%20%20%20%20%20%20%20%20%20%20%20%20%20popup_a1fc042e52cb44fdae6ce8c42be7fcf8.setContent%28html_8f4fc8d0359945c69e66650ffd839f4b%29%3B%0A%20%20%20%20%20%20%20%20%20%20%20%20%0A%0A%20%20%20%20%20%20%20%20%20%20%20%20circle_marker_13e6b9c8f80c426792517f820fb87404.bindPopup%28popup_a1fc042e52cb44fdae6ce8c42be7fcf8%29%3B%0A%0A%20%20%20%20%20%20%20%20%20%20%20%20%0A%20%20%20%20%20%20%20%20%0A%20%20%20%20%0A%20%20%20%20%20%20%20%20%20%20%20%20var%20circle_marker_7fda687f5140472a90b99236700b7eea%20%3D%20L.circleMarker%28%0A%20%20%20%20%20%20%20%20%20%20%20%20%20%20%20%20%5B45.4980249%2C9.1086684%5D%2C%0A%20%20%20%20%20%20%20%20%20%20%20%20%20%20%20%20%7B%0A%20%20%22bubblingMouseEvents%22%3A%20true%2C%0A%20%20%22color%22%3A%20%22red%22%2C%0A%20%20%22dashArray%22%3A%20null%2C%0A%20%20%22dashOffset%22%3A%20null%2C%0A%20%20%22fill%22%3A%20true%2C%0A%20%20%22fillColor%22%3A%20%22%233199cc%22%2C%0A%20%20%22fillOpacity%22%3A%200.3%2C%0A%20%20%22fillRule%22%3A%20%22evenodd%22%2C%0A%20%20%22lineCap%22%3A%20%22round%22%2C%0A%20%20%22lineJoin%22%3A%20%22round%22%2C%0A%20%20%22opacity%22%3A%201.0%2C%0A%20%20%22radius%22%3A%202%2C%0A%20%20%22stroke%22%3A%20true%2C%0A%20%20%22weight%22%3A%203%0A%7D%0A%20%20%20%20%20%20%20%20%20%20%20%20%20%20%20%20%29.addTo%28map_da06769d5e19429a9a792f12bf246aab%29%3B%0A%20%20%20%20%20%20%20%20%20%20%20%20%0A%20%20%20%20%0A%20%20%20%20%20%20%20%20%20%20%20%20var%20popup_65c3701d6c5941ea9e5ac901acd84e10%20%3D%20L.popup%28%7BmaxWidth%3A%20%27300%27%7D%29%3B%0A%0A%20%20%20%20%20%20%20%20%20%20%20%20%0A%20%20%20%20%20%20%20%20%20%20%20%20%20%20%20%20var%20html_dd85abd570cc47dca9b1ffc2278d08cb%20%3D%20%24%28%27%3Cdiv%20id%3D%22html_dd85abd570cc47dca9b1ffc2278d08cb%22%20style%3D%22width%3A%20100.0%25%3B%20height%3A%20100.0%25%3B%22%3EGALLARATESE%3C/div%3E%27%29%5B0%5D%3B%0A%20%20%20%20%20%20%20%20%20%20%20%20%20%20%20%20popup_65c3701d6c5941ea9e5ac901acd84e10.setContent%28html_dd85abd570cc47dca9b1ffc2278d08cb%29%3B%0A%20%20%20%20%20%20%20%20%20%20%20%20%0A%0A%20%20%20%20%20%20%20%20%20%20%20%20circle_marker_7fda687f5140472a90b99236700b7eea.bindPopup%28popup_65c3701d6c5941ea9e5ac901acd84e10%29%3B%0A%0A%20%20%20%20%20%20%20%20%20%20%20%20%0A%20%20%20%20%20%20%20%20%0A%20%20%20%20%0A%20%20%20%20%20%20%20%20%20%20%20%20var%20circle_marker_c3a30be75d2d4e88a15b65216dfa4929%20%3D%20L.circleMarker%28%0A%20%20%20%20%20%20%20%20%20%20%20%20%20%20%20%20%5B45.4866108%2C9.1250144%5D%2C%0A%20%20%20%20%20%20%20%20%20%20%20%20%20%20%20%20%7B%0A%20%20%22bubblingMouseEvents%22%3A%20true%2C%0A%20%20%22color%22%3A%20%22red%22%2C%0A%20%20%22dashArray%22%3A%20null%2C%0A%20%20%22dashOffset%22%3A%20null%2C%0A%20%20%22fill%22%3A%20true%2C%0A%20%20%22fillColor%22%3A%20%22%233199cc%22%2C%0A%20%20%22fillOpacity%22%3A%200.3%2C%0A%20%20%22fillRule%22%3A%20%22evenodd%22%2C%0A%20%20%22lineCap%22%3A%20%22round%22%2C%0A%20%20%22lineJoin%22%3A%20%22round%22%2C%0A%20%20%22opacity%22%3A%201.0%2C%0A%20%20%22radius%22%3A%202%2C%0A%20%20%22stroke%22%3A%20true%2C%0A%20%20%22weight%22%3A%203%0A%7D%0A%20%20%20%20%20%20%20%20%20%20%20%20%20%20%20%20%29.addTo%28map_da06769d5e19429a9a792f12bf246aab%29%3B%0A%20%20%20%20%20%20%20%20%20%20%20%20%0A%20%20%20%20%0A%20%20%20%20%20%20%20%20%20%20%20%20var%20popup_eee4d09ad8dc42a393a5ee42b6ae4937%20%3D%20L.popup%28%7BmaxWidth%3A%20%27300%27%7D%29%3B%0A%0A%20%20%20%20%20%20%20%20%20%20%20%20%0A%20%20%20%20%20%20%20%20%20%20%20%20%20%20%20%20var%20html_ff8e019450c44b63a597b209f5699aa9%20%3D%20%24%28%27%3Cdiv%20id%3D%22html_ff8e019450c44b63a597b209f5699aa9%22%20style%3D%22width%3A%20100.0%25%3B%20height%3A%20100.0%25%3B%22%3ELAMPUGNANO%3C/div%3E%27%29%5B0%5D%3B%0A%20%20%20%20%20%20%20%20%20%20%20%20%20%20%20%20popup_eee4d09ad8dc42a393a5ee42b6ae4937.setContent%28html_ff8e019450c44b63a597b209f5699aa9%29%3B%0A%20%20%20%20%20%20%20%20%20%20%20%20%0A%0A%20%20%20%20%20%20%20%20%20%20%20%20circle_marker_c3a30be75d2d4e88a15b65216dfa4929.bindPopup%28popup_eee4d09ad8dc42a393a5ee42b6ae4937%29%3B%0A%0A%20%20%20%20%20%20%20%20%20%20%20%20%0A%20%20%20%20%20%20%20%20%0A%20%20%20%20%0A%20%20%20%20%20%20%20%20%20%20%20%20var%20circle_marker_6637654bcb3e47db8de548a7a47026ec%20%3D%20L.circleMarker%28%0A%20%20%20%20%20%20%20%20%20%20%20%20%20%20%20%20%5B45.4906416%2C9.1008711%5D%2C%0A%20%20%20%20%20%20%20%20%20%20%20%20%20%20%20%20%7B%0A%20%20%22bubblingMouseEvents%22%3A%20true%2C%0A%20%20%22color%22%3A%20%22red%22%2C%0A%20%20%22dashArray%22%3A%20null%2C%0A%20%20%22dashOffset%22%3A%20null%2C%0A%20%20%22fill%22%3A%20true%2C%0A%20%20%22fillColor%22%3A%20%22%233199cc%22%2C%0A%20%20%22fillOpacity%22%3A%200.3%2C%0A%20%20%22fillRule%22%3A%20%22evenodd%22%2C%0A%20%20%22lineCap%22%3A%20%22round%22%2C%0A%20%20%22lineJoin%22%3A%20%22round%22%2C%0A%20%20%22opacity%22%3A%201.0%2C%0A%20%20%22radius%22%3A%202%2C%0A%20%20%22stroke%22%3A%20true%2C%0A%20%20%22weight%22%3A%203%0A%7D%0A%20%20%20%20%20%20%20%20%20%20%20%20%20%20%20%20%29.addTo%28map_da06769d5e19429a9a792f12bf246aab%29%3B%0A%20%20%20%20%20%20%20%20%20%20%20%20%0A%20%20%20%20%0A%20%20%20%20%20%20%20%20%20%20%20%20var%20popup_5d870d892f534726b3ac156ee368713e%20%3D%20L.popup%28%7BmaxWidth%3A%20%27300%27%7D%29%3B%0A%0A%20%20%20%20%20%20%20%20%20%20%20%20%0A%20%20%20%20%20%20%20%20%20%20%20%20%20%20%20%20var%20html_f0f005e8eecb413db177c880c106e770%20%3D%20%24%28%27%3Cdiv%20id%3D%22html_f0f005e8eecb413db177c880c106e770%22%20style%3D%22width%3A%20100.0%25%3B%20height%3A%20100.0%25%3B%22%3EP.%20TRENNO%3C/div%3E%27%29%5B0%5D%3B%0A%20%20%20%20%20%20%20%20%20%20%20%20%20%20%20%20popup_5d870d892f534726b3ac156ee368713e.setContent%28html_f0f005e8eecb413db177c880c106e770%29%3B%0A%20%20%20%20%20%20%20%20%20%20%20%20%0A%0A%20%20%20%20%20%20%20%20%20%20%20%20circle_marker_6637654bcb3e47db8de548a7a47026ec.bindPopup%28popup_5d870d892f534726b3ac156ee368713e%29%3B%0A%0A%20%20%20%20%20%20%20%20%20%20%20%20%0A%20%20%20%20%20%20%20%20%0A%20%20%20%20%0A%20%20%20%20%20%20%20%20%20%20%20%20var%20circle_marker_ccdde453e56744709c866b08cb8da9d7%20%3D%20L.circleMarker%28%0A%20%20%20%20%20%20%20%20%20%20%20%20%20%20%20%20%5B45.4971385%2C9.1098414%5D%2C%0A%20%20%20%20%20%20%20%20%20%20%20%20%20%20%20%20%7B%0A%20%20%22bubblingMouseEvents%22%3A%20true%2C%0A%20%20%22color%22%3A%20%22red%22%2C%0A%20%20%22dashArray%22%3A%20null%2C%0A%20%20%22dashOffset%22%3A%20null%2C%0A%20%20%22fill%22%3A%20true%2C%0A%20%20%22fillColor%22%3A%20%22%233199cc%22%2C%0A%20%20%22fillOpacity%22%3A%200.3%2C%0A%20%20%22fillRule%22%3A%20%22evenodd%22%2C%0A%20%20%22lineCap%22%3A%20%22round%22%2C%0A%20%20%22lineJoin%22%3A%20%22round%22%2C%0A%20%20%22opacity%22%3A%201.0%2C%0A%20%20%22radius%22%3A%202%2C%0A%20%20%22stroke%22%3A%20true%2C%0A%20%20%22weight%22%3A%203%0A%7D%0A%20%20%20%20%20%20%20%20%20%20%20%20%20%20%20%20%29.addTo%28map_da06769d5e19429a9a792f12bf246aab%29%3B%0A%20%20%20%20%20%20%20%20%20%20%20%20%0A%20%20%20%20%0A%20%20%20%20%20%20%20%20%20%20%20%20var%20popup_2be9e2f57bef4de2bac80e2cb1511848%20%3D%20L.popup%28%7BmaxWidth%3A%20%27300%27%7D%29%3B%0A%0A%20%20%20%20%20%20%20%20%20%20%20%20%0A%20%20%20%20%20%20%20%20%20%20%20%20%20%20%20%20var%20html_f014b663b4674bcab10e53b6e39cb486%20%3D%20%24%28%27%3Cdiv%20id%3D%22html_f014b663b4674bcab10e53b6e39cb486%22%20style%3D%22width%3A%20100.0%25%3B%20height%3A%20100.0%25%3B%22%3EBONOLA%3C/div%3E%27%29%5B0%5D%3B%0A%20%20%20%20%20%20%20%20%20%20%20%20%20%20%20%20popup_2be9e2f57bef4de2bac80e2cb1511848.setContent%28html_f014b663b4674bcab10e53b6e39cb486%29%3B%0A%20%20%20%20%20%20%20%20%20%20%20%20%0A%0A%20%20%20%20%20%20%20%20%20%20%20%20circle_marker_ccdde453e56744709c866b08cb8da9d7.bindPopup%28popup_2be9e2f57bef4de2bac80e2cb1511848%29%3B%0A%0A%20%20%20%20%20%20%20%20%20%20%20%20%0A%20%20%20%20%20%20%20%20%0A%20%20%20%20%0A%20%20%20%20%20%20%20%20%20%20%20%20var%20circle_marker_b3ba943602dd4d54aa0c3f221614641a%20%3D%20L.circleMarker%28%0A%20%20%20%20%20%20%20%20%20%20%20%20%20%20%20%20%5B45.7087169%2C9.335754%5D%2C%0A%20%20%20%20%20%20%20%20%20%20%20%20%20%20%20%20%7B%0A%20%20%22bubblingMouseEvents%22%3A%20true%2C%0A%20%20%22color%22%3A%20%22red%22%2C%0A%20%20%22dashArray%22%3A%20null%2C%0A%20%20%22dashOffset%22%3A%20null%2C%0A%20%20%22fill%22%3A%20true%2C%0A%20%20%22fillColor%22%3A%20%22%233199cc%22%2C%0A%20%20%22fillOpacity%22%3A%200.3%2C%0A%20%20%22fillRule%22%3A%20%22evenodd%22%2C%0A%20%20%22lineCap%22%3A%20%22round%22%2C%0A%20%20%22lineJoin%22%3A%20%22round%22%2C%0A%20%20%22opacity%22%3A%201.0%2C%0A%20%20%22radius%22%3A%202%2C%0A%20%20%22stroke%22%3A%20true%2C%0A%20%20%22weight%22%3A%203%0A%7D%0A%20%20%20%20%20%20%20%20%20%20%20%20%20%20%20%20%29.addTo%28map_da06769d5e19429a9a792f12bf246aab%29%3B%0A%20%20%20%20%20%20%20%20%20%20%20%20%0A%20%20%20%20%0A%20%20%20%20%20%20%20%20%20%20%20%20var%20popup_23a5d76081a24ec0b10249780325a09e%20%3D%20L.popup%28%7BmaxWidth%3A%20%27300%27%7D%29%3B%0A%0A%20%20%20%20%20%20%20%20%20%20%20%20%0A%20%20%20%20%20%20%20%20%20%20%20%20%20%20%20%20var%20html_e4f7b06293074f5d9eb66a2c828bd5b2%20%3D%20%24%28%27%3Cdiv%20id%3D%22html_e4f7b06293074f5d9eb66a2c828bd5b2%22%20style%3D%22width%3A%20100.0%25%3B%20height%3A%20100.0%25%3B%22%3EMISSAGLIA%3C/div%3E%27%29%5B0%5D%3B%0A%20%20%20%20%20%20%20%20%20%20%20%20%20%20%20%20popup_23a5d76081a24ec0b10249780325a09e.setContent%28html_e4f7b06293074f5d9eb66a2c828bd5b2%29%3B%0A%20%20%20%20%20%20%20%20%20%20%20%20%0A%0A%20%20%20%20%20%20%20%20%20%20%20%20circle_marker_b3ba943602dd4d54aa0c3f221614641a.bindPopup%28popup_23a5d76081a24ec0b10249780325a09e%29%3B%0A%0A%20%20%20%20%20%20%20%20%20%20%20%20%0A%20%20%20%20%20%20%20%20%0A%20%20%20%20%0A%20%20%20%20%20%20%20%20%20%20%20%20var%20circle_marker_8d2a0ce8f318423bb7f3e491f6943b3d%20%3D%20L.circleMarker%28%0A%20%20%20%20%20%20%20%20%20%20%20%20%20%20%20%20%5B45.407321%2C9.1712557%5D%2C%0A%20%20%20%20%20%20%20%20%20%20%20%20%20%20%20%20%7B%0A%20%20%22bubblingMouseEvents%22%3A%20true%2C%0A%20%20%22color%22%3A%20%22red%22%2C%0A%20%20%22dashArray%22%3A%20null%2C%0A%20%20%22dashOffset%22%3A%20null%2C%0A%20%20%22fill%22%3A%20true%2C%0A%20%20%22fillColor%22%3A%20%22%233199cc%22%2C%0A%20%20%22fillOpacity%22%3A%200.3%2C%0A%20%20%22fillRule%22%3A%20%22evenodd%22%2C%0A%20%20%22lineCap%22%3A%20%22round%22%2C%0A%20%20%22lineJoin%22%3A%20%22round%22%2C%0A%20%20%22opacity%22%3A%201.0%2C%0A%20%20%22radius%22%3A%202%2C%0A%20%20%22stroke%22%3A%20true%2C%0A%20%20%22weight%22%3A%203%0A%7D%0A%20%20%20%20%20%20%20%20%20%20%20%20%20%20%20%20%29.addTo%28map_da06769d5e19429a9a792f12bf246aab%29%3B%0A%20%20%20%20%20%20%20%20%20%20%20%20%0A%20%20%20%20%0A%20%20%20%20%20%20%20%20%20%20%20%20var%20popup_3516522bf96b413386e85a67bb681979%20%3D%20L.popup%28%7BmaxWidth%3A%20%27300%27%7D%29%3B%0A%0A%20%20%20%20%20%20%20%20%20%20%20%20%0A%20%20%20%20%20%20%20%20%20%20%20%20%20%20%20%20var%20html_7ea898ae632a4b39859dec1844a61f5e%20%3D%20%24%28%27%3Cdiv%20id%3D%22html_7ea898ae632a4b39859dec1844a61f5e%22%20style%3D%22width%3A%20100.0%25%3B%20height%3A%20100.0%25%3B%22%3EGRATOSOGLIO%3C/div%3E%27%29%5B0%5D%3B%0A%20%20%20%20%20%20%20%20%20%20%20%20%20%20%20%20popup_3516522bf96b413386e85a67bb681979.setContent%28html_7ea898ae632a4b39859dec1844a61f5e%29%3B%0A%20%20%20%20%20%20%20%20%20%20%20%20%0A%0A%20%20%20%20%20%20%20%20%20%20%20%20circle_marker_8d2a0ce8f318423bb7f3e491f6943b3d.bindPopup%28popup_3516522bf96b413386e85a67bb681979%29%3B%0A%0A%20%20%20%20%20%20%20%20%20%20%20%20%0A%20%20%20%20%20%20%20%20%0A%20%20%20%20%0A%20%20%20%20%20%20%20%20%20%20%20%20var%20circle_marker_0ff60ca4e88744fbb8fea67639cc97e4%20%3D%20L.circleMarker%28%0A%20%20%20%20%20%20%20%20%20%20%20%20%20%20%20%20%5B45.5143752%2C9.1406811%5D%2C%0A%20%20%20%20%20%20%20%20%20%20%20%20%20%20%20%20%7B%0A%20%20%22bubblingMouseEvents%22%3A%20true%2C%0A%20%20%22color%22%3A%20%22red%22%2C%0A%20%20%22dashArray%22%3A%20null%2C%0A%20%20%22dashOffset%22%3A%20null%2C%0A%20%20%22fill%22%3A%20true%2C%0A%20%20%22fillColor%22%3A%20%22%233199cc%22%2C%0A%20%20%22fillOpacity%22%3A%200.3%2C%0A%20%20%22fillRule%22%3A%20%22evenodd%22%2C%0A%20%20%22lineCap%22%3A%20%22round%22%2C%0A%20%20%22lineJoin%22%3A%20%22round%22%2C%0A%20%20%22opacity%22%3A%201.0%2C%0A%20%20%22radius%22%3A%202%2C%0A%20%20%22stroke%22%3A%20true%2C%0A%20%20%22weight%22%3A%203%0A%7D%0A%20%20%20%20%20%20%20%20%20%20%20%20%20%20%20%20%29.addTo%28map_da06769d5e19429a9a792f12bf246aab%29%3B%0A%20%20%20%20%20%20%20%20%20%20%20%20%0A%20%20%20%20%0A%20%20%20%20%20%20%20%20%20%20%20%20var%20popup_92126773240943bfa3fd901b53855f02%20%3D%20L.popup%28%7BmaxWidth%3A%20%27300%27%7D%29%3B%0A%0A%20%20%20%20%20%20%20%20%20%20%20%20%0A%20%20%20%20%20%20%20%20%20%20%20%20%20%20%20%20var%20html_66125c59f91d4eda846fd84e04d4cf18%20%3D%20%24%28%27%3Cdiv%20id%3D%22html_66125c59f91d4eda846fd84e04d4cf18%22%20style%3D%22width%3A%20100.0%25%3B%20height%3A%20100.0%25%3B%22%3EQUARTO%20OGGIARO%3C/div%3E%27%29%5B0%5D%3B%0A%20%20%20%20%20%20%20%20%20%20%20%20%20%20%20%20popup_92126773240943bfa3fd901b53855f02.setContent%28html_66125c59f91d4eda846fd84e04d4cf18%29%3B%0A%20%20%20%20%20%20%20%20%20%20%20%20%0A%0A%20%20%20%20%20%20%20%20%20%20%20%20circle_marker_0ff60ca4e88744fbb8fea67639cc97e4.bindPopup%28popup_92126773240943bfa3fd901b53855f02%29%3B%0A%0A%20%20%20%20%20%20%20%20%20%20%20%20%0A%20%20%20%20%20%20%20%20%0A%20%20%20%20%0A%20%20%20%20%20%20%20%20%20%20%20%20var%20circle_marker_cc77c45bc135404bab0c59dc9cf1247e%20%3D%20L.circleMarker%28%0A%20%20%20%20%20%20%20%20%20%20%20%20%20%20%20%20%5B45.5203654%2C9.123898569900575%5D%2C%0A%20%20%20%20%20%20%20%20%20%20%20%20%20%20%20%20%7B%0A%20%20%22bubblingMouseEvents%22%3A%20true%2C%0A%20%20%22color%22%3A%20%22red%22%2C%0A%20%20%22dashArray%22%3A%20null%2C%0A%20%20%22dashOffset%22%3A%20null%2C%0A%20%20%22fill%22%3A%20true%2C%0A%20%20%22fillColor%22%3A%20%22%233199cc%22%2C%0A%20%20%22fillOpacity%22%3A%200.3%2C%0A%20%20%22fillRule%22%3A%20%22evenodd%22%2C%0A%20%20%22lineCap%22%3A%20%22round%22%2C%0A%20%20%22lineJoin%22%3A%20%22round%22%2C%0A%20%20%22opacity%22%3A%201.0%2C%0A%20%20%22radius%22%3A%202%2C%0A%20%20%22stroke%22%3A%20true%2C%0A%20%20%22weight%22%3A%203%0A%7D%0A%20%20%20%20%20%20%20%20%20%20%20%20%20%20%20%20%29.addTo%28map_da06769d5e19429a9a792f12bf246aab%29%3B%0A%20%20%20%20%20%20%20%20%20%20%20%20%0A%20%20%20%20%0A%20%20%20%20%20%20%20%20%20%20%20%20var%20popup_6e61cec6fb164e258a6131f4b0d2eba9%20%3D%20L.popup%28%7BmaxWidth%3A%20%27300%27%7D%29%3B%0A%0A%20%20%20%20%20%20%20%20%20%20%20%20%0A%20%20%20%20%20%20%20%20%20%20%20%20%20%20%20%20var%20html_ae0e8f6ff9e843ee9eb82bc0fe928c67%20%3D%20%24%28%27%3Cdiv%20id%3D%22html_ae0e8f6ff9e843ee9eb82bc0fe928c67%22%20style%3D%22width%3A%20100.0%25%3B%20height%3A%20100.0%25%3B%22%3ESACCO%3C/div%3E%27%29%5B0%5D%3B%0A%20%20%20%20%20%20%20%20%20%20%20%20%20%20%20%20popup_6e61cec6fb164e258a6131f4b0d2eba9.setContent%28html_ae0e8f6ff9e843ee9eb82bc0fe928c67%29%3B%0A%20%20%20%20%20%20%20%20%20%20%20%20%0A%0A%20%20%20%20%20%20%20%20%20%20%20%20circle_marker_cc77c45bc135404bab0c59dc9cf1247e.bindPopup%28popup_6e61cec6fb164e258a6131f4b0d2eba9%29%3B%0A%0A%20%20%20%20%20%20%20%20%20%20%20%20%0A%20%20%20%20%20%20%20%20%0A%20%20%20%20%0A%20%20%20%20%20%20%20%20%20%20%20%20var%20circle_marker_231ec200f99f459389bfa8b26518e421%20%3D%20L.circleMarker%28%0A%20%20%20%20%20%20%20%20%20%20%20%20%20%20%20%20%5B45.525659950000005%2C9.382790861222784%5D%2C%0A%20%20%20%20%20%20%20%20%20%20%20%20%20%20%20%20%7B%0A%20%20%22bubblingMouseEvents%22%3A%20true%2C%0A%20%20%22color%22%3A%20%22red%22%2C%0A%20%20%22dashArray%22%3A%20null%2C%0A%20%20%22dashOffset%22%3A%20null%2C%0A%20%20%22fill%22%3A%20true%2C%0A%20%20%22fillColor%22%3A%20%22%233199cc%22%2C%0A%20%20%22fillOpacity%22%3A%200.3%2C%0A%20%20%22fillRule%22%3A%20%22evenodd%22%2C%0A%20%20%22lineCap%22%3A%20%22round%22%2C%0A%20%20%22lineJoin%22%3A%20%22round%22%2C%0A%20%20%22opacity%22%3A%201.0%2C%0A%20%20%22radius%22%3A%202%2C%0A%20%20%22stroke%22%3A%20true%2C%0A%20%20%22weight%22%3A%203%0A%7D%0A%20%20%20%20%20%20%20%20%20%20%20%20%20%20%20%20%29.addTo%28map_da06769d5e19429a9a792f12bf246aab%29%3B%0A%20%20%20%20%20%20%20%20%20%20%20%20%0A%20%20%20%20%0A%20%20%20%20%20%20%20%20%20%20%20%20var%20popup_f9a9252d73954644a090cb2bbdadf7ce%20%3D%20L.popup%28%7BmaxWidth%3A%20%27300%27%7D%29%3B%0A%0A%20%20%20%20%20%20%20%20%20%20%20%20%0A%20%20%20%20%20%20%20%20%20%20%20%20%20%20%20%20var%20html_078613f84a824b9b99420ab20d839be3%20%3D%20%24%28%27%3Cdiv%20id%3D%22html_078613f84a824b9b99420ab20d839be3%22%20style%3D%22width%3A%20100.0%25%3B%20height%3A%20100.0%25%3B%22%3ERONCHETTO%3C/div%3E%27%29%5B0%5D%3B%0A%20%20%20%20%20%20%20%20%20%20%20%20%20%20%20%20popup_f9a9252d73954644a090cb2bbdadf7ce.setContent%28html_078613f84a824b9b99420ab20d839be3%29%3B%0A%20%20%20%20%20%20%20%20%20%20%20%20%0A%0A%20%20%20%20%20%20%20%20%20%20%20%20circle_marker_231ec200f99f459389bfa8b26518e421.bindPopup%28popup_f9a9252d73954644a090cb2bbdadf7ce%29%3B%0A%0A%20%20%20%20%20%20%20%20%20%20%20%20%0A%20%20%20%20%20%20%20%20%0A%20%20%20%20%0A%20%20%20%20%20%20%20%20%20%20%20%20var%20circle_marker_34be71a773114e859dbaf0c85586f203%20%3D%20L.circleMarker%28%0A%20%20%20%20%20%20%20%20%20%20%20%20%20%20%20%20%5B45.4166968%2C9.2374208%5D%2C%0A%20%20%20%20%20%20%20%20%20%20%20%20%20%20%20%20%7B%0A%20%20%22bubblingMouseEvents%22%3A%20true%2C%0A%20%20%22color%22%3A%20%22red%22%2C%0A%20%20%22dashArray%22%3A%20null%2C%0A%20%20%22dashOffset%22%3A%20null%2C%0A%20%20%22fill%22%3A%20true%2C%0A%20%20%22fillColor%22%3A%20%22%233199cc%22%2C%0A%20%20%22fillOpacity%22%3A%200.3%2C%0A%20%20%22fillRule%22%3A%20%22evenodd%22%2C%0A%20%20%22lineCap%22%3A%20%22round%22%2C%0A%20%20%22lineJoin%22%3A%20%22round%22%2C%0A%20%20%22opacity%22%3A%201.0%2C%0A%20%20%22radius%22%3A%202%2C%0A%20%20%22stroke%22%3A%20true%2C%0A%20%20%22weight%22%3A%203%0A%7D%0A%20%20%20%20%20%20%20%20%20%20%20%20%20%20%20%20%29.addTo%28map_da06769d5e19429a9a792f12bf246aab%29%3B%0A%20%20%20%20%20%20%20%20%20%20%20%20%0A%20%20%20%20%0A%20%20%20%20%20%20%20%20%20%20%20%20var%20popup_50f33dffac984c3ebf843be9a0afd183%20%3D%20L.popup%28%7BmaxWidth%3A%20%27300%27%7D%29%3B%0A%0A%20%20%20%20%20%20%20%20%20%20%20%20%0A%20%20%20%20%20%20%20%20%20%20%20%20%20%20%20%20var%20html_4ba4a12cfb7e41878c47b9f13e4b4a00%20%3D%20%24%28%27%3Cdiv%20id%3D%22html_4ba4a12cfb7e41878c47b9f13e4b4a00%22%20style%3D%22width%3A%20100.0%25%3B%20height%3A%20100.0%25%3B%22%3ECHIARAVALLE%3C/div%3E%27%29%5B0%5D%3B%0A%20%20%20%20%20%20%20%20%20%20%20%20%20%20%20%20popup_50f33dffac984c3ebf843be9a0afd183.setContent%28html_4ba4a12cfb7e41878c47b9f13e4b4a00%29%3B%0A%20%20%20%20%20%20%20%20%20%20%20%20%0A%0A%20%20%20%20%20%20%20%20%20%20%20%20circle_marker_34be71a773114e859dbaf0c85586f203.bindPopup%28popup_50f33dffac984c3ebf843be9a0afd183%29%3B%0A%0A%20%20%20%20%20%20%20%20%20%20%20%20%0A%20%20%20%20%20%20%20%20%0A%20%20%20%20%0A%20%20%20%20%20%20%20%20%20%20%20%20var%20circle_marker_64687bc5fe2a44cc88a06929d05112c7%20%3D%20L.circleMarker%28%0A%20%20%20%20%20%20%20%20%20%20%20%20%20%20%20%20%5B45.42851865%2C9.203143715025023%5D%2C%0A%20%20%20%20%20%20%20%20%20%20%20%20%20%20%20%20%7B%0A%20%20%22bubblingMouseEvents%22%3A%20true%2C%0A%20%20%22color%22%3A%20%22red%22%2C%0A%20%20%22dashArray%22%3A%20null%2C%0A%20%20%22dashOffset%22%3A%20null%2C%0A%20%20%22fill%22%3A%20true%2C%0A%20%20%22fillColor%22%3A%20%22%233199cc%22%2C%0A%20%20%22fillOpacity%22%3A%200.3%2C%0A%20%20%22fillRule%22%3A%20%22evenodd%22%2C%0A%20%20%22lineCap%22%3A%20%22round%22%2C%0A%20%20%22lineJoin%22%3A%20%22round%22%2C%0A%20%20%22opacity%22%3A%201.0%2C%0A%20%20%22radius%22%3A%202%2C%0A%20%20%22stroke%22%3A%20true%2C%0A%20%20%22weight%22%3A%203%0A%7D%0A%20%20%20%20%20%20%20%20%20%20%20%20%20%20%20%20%29.addTo%28map_da06769d5e19429a9a792f12bf246aab%29%3B%0A%20%20%20%20%20%20%20%20%20%20%20%20%0A%20%20%20%20%0A%20%20%20%20%20%20%20%20%20%20%20%20var%20popup_41463c3efb174b0b874b26e68612d63d%20%3D%20L.popup%28%7BmaxWidth%3A%20%27300%27%7D%29%3B%0A%0A%20%20%20%20%20%20%20%20%20%20%20%20%0A%20%20%20%20%20%20%20%20%20%20%20%20%20%20%20%20var%20html_265418eb5cc049f1b6591494be6ac207%20%3D%20%24%28%27%3Cdiv%20id%3D%22html_265418eb5cc049f1b6591494be6ac207%22%20style%3D%22width%3A%20100.0%25%3B%20height%3A%20100.0%25%3B%22%3ERIPAMONTI%3C/div%3E%27%29%5B0%5D%3B%0A%20%20%20%20%20%20%20%20%20%20%20%20%20%20%20%20popup_41463c3efb174b0b874b26e68612d63d.setContent%28html_265418eb5cc049f1b6591494be6ac207%29%3B%0A%20%20%20%20%20%20%20%20%20%20%20%20%0A%0A%20%20%20%20%20%20%20%20%20%20%20%20circle_marker_64687bc5fe2a44cc88a06929d05112c7.bindPopup%28popup_41463c3efb174b0b874b26e68612d63d%29%3B%0A%0A%20%20%20%20%20%20%20%20%20%20%20%20%0A%20%20%20%20%20%20%20%20%0A%3C/script%3E onload=\"this.contentDocument.open();this.contentDocument.write(    decodeURIComponent(this.getAttribute('data-html')));this.contentDocument.close();\" allowfullscreen webkitallowfullscreen mozallowfullscreen></iframe></div></div>"
      ],
      "text/plain": [
       "<folium.folium.Map at 0x1a1ae9ca58>"
      ]
     },
     "execution_count": 227,
     "metadata": {},
     "output_type": "execute_result"
    }
   ],
   "source": [
    "Milan_map=folium.Map(location=[lat,lon],zoom_start=11)\n",
    "\n",
    "def color(letter): \n",
    "    if letter == 'B': \n",
    "        col = 'blue'\n",
    "    elif letter == 'C': \n",
    "        col = 'green'\n",
    "    elif letter == 'D': \n",
    "        col = 'purple'\n",
    "    else: \n",
    "        col='red'\n",
    "    return col \n",
    "\n",
    "for lat, long, nieghborhood, letter in zip(neighborhoods_coordinates['Latitude'], neighborhoods_coordinates['Longitude'], neighborhoods_coordinates['Neighborhoods'], neighborhoods_coordinates['Area']):\n",
    "    label=folium.Popup(nieghborhood, parse_html=True)\n",
    "    folium.CircleMarker(\n",
    "        [lat, long],\n",
    "        radius=2,\n",
    "        popup=label,\n",
    "        color= color(letter),\n",
    "        fill=True,\n",
    "        fill_color='#3199cc',\n",
    "        fill_opacity=0.3,\n",
    "        parse_html=False, legend_name='SCALE').add_to(Milan_map)\n",
    "    \n",
    "legend_html = '''\n",
    "    <div style=\"position: fixed;  \n",
    "        bottom: 10px; left: 10px; width: 100px; height: 120px; \n",
    "        border:2px solid grey; z-index:9999; font-size:11px;\">&nbsp; Legend <br>\n",
    "        &nbsp; <b> Area B </b> &nbsp; <i class=\"fa fa-map-marker fa-2x\" style=\"color:blue\"></i><br>\n",
    "        &nbsp; <b> Area C </b> &nbsp; <i class=\"fa fa-map-marker fa-2x\" style=\"color:green\"></i><br>\n",
    "        &nbsp; <b> Area D </b> &nbsp; <i class=\"fa fa-map-marker fa-2x\" style=\"color:purple\"></i><br>\n",
    "        &nbsp; <b> Area E </b> &nbsp; <i class=\"fa fa-map-marker fa-2x\" style=\"color:red\"></i><br>\n",
    "    </div>\n",
    "    '''\n",
    "Milan_map.get_root().html.add_child(folium.Element(legend_html))\n",
    "\n",
    "Milan_map"
   ]
  },
  {
   "cell_type": "markdown",
   "id": "synthetic-introduction",
   "metadata": {},
   "source": [
    "## 3.4 OMI quotations housing price dataset <a class='anchor' id='3.4.'><a/>"
   ]
  },
  {
   "cell_type": "code",
   "execution_count": 276,
   "id": "impressive-longer",
   "metadata": {},
   "outputs": [
    {
     "name": "stdout",
     "output_type": "stream",
     "text": [
      "Page download successful\n"
     ]
    }
   ],
   "source": [
    "url = \"https://raw.githubusercontent.com/pierluigisegatto/Data_Science_Material/main/IBM%20Data%20Science%20Professional%20Certificate/8-ML_Full_Project/Real%20estate%20Milan%20/Market%20values%20of%20house%20in%20Milan.csv\"\n",
    "page = requests.get(url)\n",
    "if page.status_code == 200:\n",
    "    print('Page download successful')\n",
    "else:\n",
    "    print('Page download error. Error code: {}'.format(page.status_code))"
   ]
  },
  {
   "cell_type": "code",
   "execution_count": 277,
   "id": "generous-earthquake",
   "metadata": {},
   "outputs": [
    {
     "data": {
      "text/html": [
       "<div>\n",
       "<style scoped>\n",
       "    .dataframe tbody tr th:only-of-type {\n",
       "        vertical-align: middle;\n",
       "    }\n",
       "\n",
       "    .dataframe tbody tr th {\n",
       "        vertical-align: top;\n",
       "    }\n",
       "\n",
       "    .dataframe thead th {\n",
       "        text-align: right;\n",
       "    }\n",
       "</style>\n",
       "<table border=\"1\" class=\"dataframe\">\n",
       "  <thead>\n",
       "    <tr style=\"text-align: right;\">\n",
       "      <th></th>\n",
       "      <th>Area_territoriale</th>\n",
       "      <th>Regione</th>\n",
       "      <th>Prov</th>\n",
       "      <th>Comune_ISTAT</th>\n",
       "      <th>Comune_cat</th>\n",
       "      <th>Sez</th>\n",
       "      <th>Comune_amm</th>\n",
       "      <th>Comune_descrizione</th>\n",
       "      <th>Fascia</th>\n",
       "      <th>Zona</th>\n",
       "      <th>LinkZona</th>\n",
       "      <th>Cod_Tip</th>\n",
       "      <th>Descr_Tipologia</th>\n",
       "      <th>Stato</th>\n",
       "      <th>Stato_prev</th>\n",
       "      <th>Compr_min</th>\n",
       "      <th>Compr_max</th>\n",
       "      <th>Sup_NL_compr</th>\n",
       "      <th>Loc_min</th>\n",
       "      <th>Loc_max</th>\n",
       "      <th>Sup_NL_loc</th>\n",
       "    </tr>\n",
       "  </thead>\n",
       "  <tbody>\n",
       "    <tr>\n",
       "      <th>0</th>\n",
       "      <td>NORD-OVEST</td>\n",
       "      <td>LOMBARDIA</td>\n",
       "      <td>MI</td>\n",
       "      <td>3015146</td>\n",
       "      <td>C1AA</td>\n",
       "      <td></td>\n",
       "      <td>F205</td>\n",
       "      <td>MILANO</td>\n",
       "      <td>B</td>\n",
       "      <td>B12</td>\n",
       "      <td>MI00003228</td>\n",
       "      <td>20</td>\n",
       "      <td>Abitazioni civili</td>\n",
       "      <td>OTTIMO</td>\n",
       "      <td>NaN</td>\n",
       "      <td>9000</td>\n",
       "      <td>12300</td>\n",
       "      <td>L</td>\n",
       "      <td>28</td>\n",
       "      <td>37,5</td>\n",
       "      <td>L</td>\n",
       "    </tr>\n",
       "    <tr>\n",
       "      <th>1</th>\n",
       "      <td>NORD-OVEST</td>\n",
       "      <td>LOMBARDIA</td>\n",
       "      <td>MI</td>\n",
       "      <td>3015146</td>\n",
       "      <td>C1AA</td>\n",
       "      <td></td>\n",
       "      <td>F205</td>\n",
       "      <td>MILANO</td>\n",
       "      <td>B</td>\n",
       "      <td>B12</td>\n",
       "      <td>MI00003228</td>\n",
       "      <td>20</td>\n",
       "      <td>Abitazioni civili</td>\n",
       "      <td>NORMALE</td>\n",
       "      <td>P</td>\n",
       "      <td>7400</td>\n",
       "      <td>9000</td>\n",
       "      <td>L</td>\n",
       "      <td>23</td>\n",
       "      <td>28</td>\n",
       "      <td>L</td>\n",
       "    </tr>\n",
       "    <tr>\n",
       "      <th>2</th>\n",
       "      <td>NORD-OVEST</td>\n",
       "      <td>LOMBARDIA</td>\n",
       "      <td>MI</td>\n",
       "      <td>3015146</td>\n",
       "      <td>C1AA</td>\n",
       "      <td></td>\n",
       "      <td>F205</td>\n",
       "      <td>MILANO</td>\n",
       "      <td>B</td>\n",
       "      <td>B12</td>\n",
       "      <td>MI00003228</td>\n",
       "      <td>21</td>\n",
       "      <td>Abitazioni di tipo economico</td>\n",
       "      <td>NORMALE</td>\n",
       "      <td>P</td>\n",
       "      <td>6500</td>\n",
       "      <td>7800</td>\n",
       "      <td>L</td>\n",
       "      <td>18</td>\n",
       "      <td>22</td>\n",
       "      <td>L</td>\n",
       "    </tr>\n",
       "    <tr>\n",
       "      <th>3</th>\n",
       "      <td>NORD-OVEST</td>\n",
       "      <td>LOMBARDIA</td>\n",
       "      <td>MI</td>\n",
       "      <td>3015146</td>\n",
       "      <td>C1AA</td>\n",
       "      <td></td>\n",
       "      <td>F205</td>\n",
       "      <td>MILANO</td>\n",
       "      <td>B</td>\n",
       "      <td>B12</td>\n",
       "      <td>MI00003228</td>\n",
       "      <td>21</td>\n",
       "      <td>Abitazioni di tipo economico</td>\n",
       "      <td>OTTIMO</td>\n",
       "      <td>NaN</td>\n",
       "      <td>7800</td>\n",
       "      <td>9000</td>\n",
       "      <td>L</td>\n",
       "      <td>24</td>\n",
       "      <td>30</td>\n",
       "      <td>L</td>\n",
       "    </tr>\n",
       "    <tr>\n",
       "      <th>4</th>\n",
       "      <td>NORD-OVEST</td>\n",
       "      <td>LOMBARDIA</td>\n",
       "      <td>MI</td>\n",
       "      <td>3015146</td>\n",
       "      <td>C1AA</td>\n",
       "      <td></td>\n",
       "      <td>F205</td>\n",
       "      <td>MILANO</td>\n",
       "      <td>B</td>\n",
       "      <td>B12</td>\n",
       "      <td>MI00003228</td>\n",
       "      <td>19</td>\n",
       "      <td>Abitazioni signorili</td>\n",
       "      <td>OTTIMO</td>\n",
       "      <td>P</td>\n",
       "      <td>11200</td>\n",
       "      <td>14300</td>\n",
       "      <td>L</td>\n",
       "      <td>37,5</td>\n",
       "      <td>46</td>\n",
       "      <td>L</td>\n",
       "    </tr>\n",
       "    <tr>\n",
       "      <th>5</th>\n",
       "      <td>NORD-OVEST</td>\n",
       "      <td>LOMBARDIA</td>\n",
       "      <td>MI</td>\n",
       "      <td>3015146</td>\n",
       "      <td>C1AA</td>\n",
       "      <td></td>\n",
       "      <td>F205</td>\n",
       "      <td>MILANO</td>\n",
       "      <td>B</td>\n",
       "      <td>B12</td>\n",
       "      <td>MI00003228</td>\n",
       "      <td>13</td>\n",
       "      <td>Box</td>\n",
       "      <td>NORMALE</td>\n",
       "      <td>P</td>\n",
       "      <td>4700</td>\n",
       "      <td>6600</td>\n",
       "      <td>L</td>\n",
       "      <td>14,5</td>\n",
       "      <td>21,5</td>\n",
       "      <td>L</td>\n",
       "    </tr>\n",
       "    <tr>\n",
       "      <th>6</th>\n",
       "      <td>NORD-OVEST</td>\n",
       "      <td>LOMBARDIA</td>\n",
       "      <td>MI</td>\n",
       "      <td>3015146</td>\n",
       "      <td>C1AA</td>\n",
       "      <td></td>\n",
       "      <td>F205</td>\n",
       "      <td>MILANO</td>\n",
       "      <td>B</td>\n",
       "      <td>B12</td>\n",
       "      <td>MI00003228</td>\n",
       "      <td>9</td>\n",
       "      <td>Magazzini</td>\n",
       "      <td>NORMALE</td>\n",
       "      <td>P</td>\n",
       "      <td>2550</td>\n",
       "      <td>3300</td>\n",
       "      <td>L</td>\n",
       "      <td>14</td>\n",
       "      <td>18</td>\n",
       "      <td>L</td>\n",
       "    </tr>\n",
       "    <tr>\n",
       "      <th>7</th>\n",
       "      <td>NORD-OVEST</td>\n",
       "      <td>LOMBARDIA</td>\n",
       "      <td>MI</td>\n",
       "      <td>3015146</td>\n",
       "      <td>C1AA</td>\n",
       "      <td></td>\n",
       "      <td>F205</td>\n",
       "      <td>MILANO</td>\n",
       "      <td>B</td>\n",
       "      <td>B12</td>\n",
       "      <td>MI00003228</td>\n",
       "      <td>5</td>\n",
       "      <td>Negozi</td>\n",
       "      <td>OTTIMO</td>\n",
       "      <td>NaN</td>\n",
       "      <td>15100</td>\n",
       "      <td>21600</td>\n",
       "      <td>L</td>\n",
       "      <td>83</td>\n",
       "      <td>124</td>\n",
       "      <td>L</td>\n",
       "    </tr>\n",
       "    <tr>\n",
       "      <th>8</th>\n",
       "      <td>NORD-OVEST</td>\n",
       "      <td>LOMBARDIA</td>\n",
       "      <td>MI</td>\n",
       "      <td>3015146</td>\n",
       "      <td>C1AA</td>\n",
       "      <td></td>\n",
       "      <td>F205</td>\n",
       "      <td>MILANO</td>\n",
       "      <td>B</td>\n",
       "      <td>B12</td>\n",
       "      <td>MI00003228</td>\n",
       "      <td>5</td>\n",
       "      <td>Negozi</td>\n",
       "      <td>NORMALE</td>\n",
       "      <td>P</td>\n",
       "      <td>8800</td>\n",
       "      <td>12400</td>\n",
       "      <td>L</td>\n",
       "      <td>40</td>\n",
       "      <td>59</td>\n",
       "      <td>L</td>\n",
       "    </tr>\n",
       "    <tr>\n",
       "      <th>9</th>\n",
       "      <td>NORD-OVEST</td>\n",
       "      <td>LOMBARDIA</td>\n",
       "      <td>MI</td>\n",
       "      <td>3015146</td>\n",
       "      <td>C1AA</td>\n",
       "      <td></td>\n",
       "      <td>F205</td>\n",
       "      <td>MILANO</td>\n",
       "      <td>B</td>\n",
       "      <td>B12</td>\n",
       "      <td>MI00003228</td>\n",
       "      <td>6</td>\n",
       "      <td>Uffici</td>\n",
       "      <td>OTTIMO</td>\n",
       "      <td>P</td>\n",
       "      <td>5800</td>\n",
       "      <td>9000</td>\n",
       "      <td>L</td>\n",
       "      <td>21,3</td>\n",
       "      <td>36</td>\n",
       "      <td>L</td>\n",
       "    </tr>\n",
       "  </tbody>\n",
       "</table>\n",
       "</div>"
      ],
      "text/plain": [
       "  Area_territoriale    Regione Prov  Comune_ISTAT Comune_cat Sez Comune_amm  \\\n",
       "0        NORD-OVEST  LOMBARDIA   MI       3015146       C1AA           F205   \n",
       "1        NORD-OVEST  LOMBARDIA   MI       3015146       C1AA           F205   \n",
       "2        NORD-OVEST  LOMBARDIA   MI       3015146       C1AA           F205   \n",
       "3        NORD-OVEST  LOMBARDIA   MI       3015146       C1AA           F205   \n",
       "4        NORD-OVEST  LOMBARDIA   MI       3015146       C1AA           F205   \n",
       "5        NORD-OVEST  LOMBARDIA   MI       3015146       C1AA           F205   \n",
       "6        NORD-OVEST  LOMBARDIA   MI       3015146       C1AA           F205   \n",
       "7        NORD-OVEST  LOMBARDIA   MI       3015146       C1AA           F205   \n",
       "8        NORD-OVEST  LOMBARDIA   MI       3015146       C1AA           F205   \n",
       "9        NORD-OVEST  LOMBARDIA   MI       3015146       C1AA           F205   \n",
       "\n",
       "  Comune_descrizione Fascia Zona    LinkZona  Cod_Tip  \\\n",
       "0             MILANO      B  B12  MI00003228       20   \n",
       "1             MILANO      B  B12  MI00003228       20   \n",
       "2             MILANO      B  B12  MI00003228       21   \n",
       "3             MILANO      B  B12  MI00003228       21   \n",
       "4             MILANO      B  B12  MI00003228       19   \n",
       "5             MILANO      B  B12  MI00003228       13   \n",
       "6             MILANO      B  B12  MI00003228        9   \n",
       "7             MILANO      B  B12  MI00003228        5   \n",
       "8             MILANO      B  B12  MI00003228        5   \n",
       "9             MILANO      B  B12  MI00003228        6   \n",
       "\n",
       "                Descr_Tipologia    Stato Stato_prev  Compr_min  Compr_max  \\\n",
       "0             Abitazioni civili   OTTIMO        NaN       9000      12300   \n",
       "1             Abitazioni civili  NORMALE          P       7400       9000   \n",
       "2  Abitazioni di tipo economico  NORMALE          P       6500       7800   \n",
       "3  Abitazioni di tipo economico   OTTIMO        NaN       7800       9000   \n",
       "4          Abitazioni signorili   OTTIMO          P      11200      14300   \n",
       "5                           Box  NORMALE          P       4700       6600   \n",
       "6                     Magazzini  NORMALE          P       2550       3300   \n",
       "7                        Negozi   OTTIMO        NaN      15100      21600   \n",
       "8                        Negozi  NORMALE          P       8800      12400   \n",
       "9                        Uffici   OTTIMO          P       5800       9000   \n",
       "\n",
       "  Sup_NL_compr Loc_min Loc_max Sup_NL_loc  \n",
       "0            L      28    37,5          L  \n",
       "1            L      23      28          L  \n",
       "2            L      18      22          L  \n",
       "3            L      24      30          L  \n",
       "4            L    37,5      46          L  \n",
       "5            L    14,5    21,5          L  \n",
       "6            L      14      18          L  \n",
       "7            L      83     124          L  \n",
       "8            L      40      59          L  \n",
       "9            L    21,3      36          L  "
      ]
     },
     "execution_count": 277,
     "metadata": {},
     "output_type": "execute_result"
    }
   ],
   "source": [
    "values=pd.read_csv(url, sep=';')\n",
    "values.head(10)"
   ]
  },
  {
   "cell_type": "markdown",
   "id": "exempt-patio",
   "metadata": {},
   "source": [
    "This dataset presents for each zone and for each housing type and status (if existing) combination the average observed price. \n"
   ]
  },
  {
   "cell_type": "code",
   "execution_count": 278,
   "id": "ecological-concrete",
   "metadata": {},
   "outputs": [
    {
     "data": {
      "text/plain": [
       "(484, 21)"
      ]
     },
     "execution_count": 278,
     "metadata": {},
     "output_type": "execute_result"
    }
   ],
   "source": [
    "values.shape"
   ]
  },
  {
   "cell_type": "code",
   "execution_count": 280,
   "id": "hundred-agriculture",
   "metadata": {},
   "outputs": [
    {
     "data": {
      "text/plain": [
       "array(['Abitazioni civili', 'Abitazioni di tipo economico',\n",
       "       'Abitazioni signorili', 'Box', 'Magazzini', 'Negozi', 'Uffici',\n",
       "       'Uffici strutturati', 'Laboratori', 'Capannoni industriali',\n",
       "       'Capannoni tipici', 'Ville e Villini'], dtype=object)"
      ]
     },
     "execution_count": 280,
     "metadata": {},
     "output_type": "execute_result"
    }
   ],
   "source": [
    "# check the housing types available\n",
    "values['Descr_Tipologia'].unique()"
   ]
  },
  {
   "cell_type": "markdown",
   "id": "rural-appraisal",
   "metadata": {},
   "source": [
    "In order to merge this dataset with the neighborhoods I am interested in collecting the zone code along with the housing description and prices."
   ]
  },
  {
   "cell_type": "code",
   "execution_count": 287,
   "id": "negative-september",
   "metadata": {},
   "outputs": [
    {
     "data": {
      "text/html": [
       "<div>\n",
       "<style scoped>\n",
       "    .dataframe tbody tr th:only-of-type {\n",
       "        vertical-align: middle;\n",
       "    }\n",
       "\n",
       "    .dataframe tbody tr th {\n",
       "        vertical-align: top;\n",
       "    }\n",
       "\n",
       "    .dataframe thead th {\n",
       "        text-align: right;\n",
       "    }\n",
       "</style>\n",
       "<table border=\"1\" class=\"dataframe\">\n",
       "  <thead>\n",
       "    <tr style=\"text-align: right;\">\n",
       "      <th></th>\n",
       "      <th>Zona</th>\n",
       "      <th>Descr_Tipologia</th>\n",
       "      <th>Stato</th>\n",
       "      <th>Compr_min</th>\n",
       "      <th>Compr_max</th>\n",
       "      <th>Loc_min</th>\n",
       "      <th>Loc_max</th>\n",
       "    </tr>\n",
       "  </thead>\n",
       "  <tbody>\n",
       "    <tr>\n",
       "      <th>0</th>\n",
       "      <td>B12</td>\n",
       "      <td>Abitazioni civili</td>\n",
       "      <td>OTTIMO</td>\n",
       "      <td>9000</td>\n",
       "      <td>12300</td>\n",
       "      <td>28</td>\n",
       "      <td>37,5</td>\n",
       "    </tr>\n",
       "    <tr>\n",
       "      <th>1</th>\n",
       "      <td>B12</td>\n",
       "      <td>Abitazioni civili</td>\n",
       "      <td>NORMALE</td>\n",
       "      <td>7400</td>\n",
       "      <td>9000</td>\n",
       "      <td>23</td>\n",
       "      <td>28</td>\n",
       "    </tr>\n",
       "    <tr>\n",
       "      <th>2</th>\n",
       "      <td>B12</td>\n",
       "      <td>Abitazioni di tipo economico</td>\n",
       "      <td>NORMALE</td>\n",
       "      <td>6500</td>\n",
       "      <td>7800</td>\n",
       "      <td>18</td>\n",
       "      <td>22</td>\n",
       "    </tr>\n",
       "    <tr>\n",
       "      <th>3</th>\n",
       "      <td>B12</td>\n",
       "      <td>Abitazioni di tipo economico</td>\n",
       "      <td>OTTIMO</td>\n",
       "      <td>7800</td>\n",
       "      <td>9000</td>\n",
       "      <td>24</td>\n",
       "      <td>30</td>\n",
       "    </tr>\n",
       "    <tr>\n",
       "      <th>4</th>\n",
       "      <td>B12</td>\n",
       "      <td>Abitazioni signorili</td>\n",
       "      <td>OTTIMO</td>\n",
       "      <td>11200</td>\n",
       "      <td>14300</td>\n",
       "      <td>37,5</td>\n",
       "      <td>46</td>\n",
       "    </tr>\n",
       "  </tbody>\n",
       "</table>\n",
       "</div>"
      ],
      "text/plain": [
       "  Zona               Descr_Tipologia    Stato  Compr_min  Compr_max Loc_min  \\\n",
       "0  B12             Abitazioni civili   OTTIMO       9000      12300      28   \n",
       "1  B12             Abitazioni civili  NORMALE       7400       9000      23   \n",
       "2  B12  Abitazioni di tipo economico  NORMALE       6500       7800      18   \n",
       "3  B12  Abitazioni di tipo economico   OTTIMO       7800       9000      24   \n",
       "4  B12          Abitazioni signorili   OTTIMO      11200      14300    37,5   \n",
       "\n",
       "  Loc_max  \n",
       "0    37,5  \n",
       "1      28  \n",
       "2      22  \n",
       "3      30  \n",
       "4      46  "
      ]
     },
     "execution_count": 287,
     "metadata": {},
     "output_type": "execute_result"
    }
   ],
   "source": [
    "columns = ['Zona','Descr_Tipologia','Stato','Compr_min','Compr_max','Loc_min','Loc_max']\n",
    "omi = values[columns].copy()\n",
    "omi.head()"
   ]
  },
  {
   "cell_type": "markdown",
   "id": "subtle-phone",
   "metadata": {},
   "source": [
    "**N.B:** Since I am interested in analyzing houses, I drop all occurrences of non living places. "
   ]
  },
  {
   "cell_type": "code",
   "execution_count": 288,
   "id": "potential-mediterranean",
   "metadata": {},
   "outputs": [
    {
     "name": "stdout",
     "output_type": "stream",
     "text": [
      "(484, 7)\n",
      "(88, 7)\n"
     ]
    },
    {
     "data": {
      "text/html": [
       "<div>\n",
       "<style scoped>\n",
       "    .dataframe tbody tr th:only-of-type {\n",
       "        vertical-align: middle;\n",
       "    }\n",
       "\n",
       "    .dataframe tbody tr th {\n",
       "        vertical-align: top;\n",
       "    }\n",
       "\n",
       "    .dataframe thead th {\n",
       "        text-align: right;\n",
       "    }\n",
       "</style>\n",
       "<table border=\"1\" class=\"dataframe\">\n",
       "  <thead>\n",
       "    <tr style=\"text-align: right;\">\n",
       "      <th></th>\n",
       "      <th>Code</th>\n",
       "      <th>Housing_type</th>\n",
       "      <th>Condition</th>\n",
       "      <th>Min_market_value (€/m2)</th>\n",
       "      <th>Max_market_value (€/m2)</th>\n",
       "      <th>Min_rental_value (€/m2 x month)</th>\n",
       "      <th>Max_rental_value (€/m2 x month)</th>\n",
       "    </tr>\n",
       "  </thead>\n",
       "  <tbody>\n",
       "    <tr>\n",
       "      <th>0</th>\n",
       "      <td>B12</td>\n",
       "      <td>Residential houses</td>\n",
       "      <td>Excellent</td>\n",
       "      <td>9000</td>\n",
       "      <td>12300</td>\n",
       "      <td>28</td>\n",
       "      <td>37,5</td>\n",
       "    </tr>\n",
       "    <tr>\n",
       "      <th>1</th>\n",
       "      <td>B12</td>\n",
       "      <td>Residential houses</td>\n",
       "      <td>Normal</td>\n",
       "      <td>7400</td>\n",
       "      <td>9000</td>\n",
       "      <td>23</td>\n",
       "      <td>28</td>\n",
       "    </tr>\n",
       "    <tr>\n",
       "      <th>4</th>\n",
       "      <td>B12</td>\n",
       "      <td>Stately houses</td>\n",
       "      <td>Excellent</td>\n",
       "      <td>11200</td>\n",
       "      <td>14300</td>\n",
       "      <td>37,5</td>\n",
       "      <td>46</td>\n",
       "    </tr>\n",
       "    <tr>\n",
       "      <th>12</th>\n",
       "      <td>B13</td>\n",
       "      <td>Residential houses</td>\n",
       "      <td>Excellent</td>\n",
       "      <td>6900</td>\n",
       "      <td>8200</td>\n",
       "      <td>18,5</td>\n",
       "      <td>27,3</td>\n",
       "    </tr>\n",
       "    <tr>\n",
       "      <th>13</th>\n",
       "      <td>B13</td>\n",
       "      <td>Residential houses</td>\n",
       "      <td>Normal</td>\n",
       "      <td>5000</td>\n",
       "      <td>6900</td>\n",
       "      <td>14,5</td>\n",
       "      <td>18,5</td>\n",
       "    </tr>\n",
       "  </tbody>\n",
       "</table>\n",
       "</div>"
      ],
      "text/plain": [
       "   Code        Housing_type  Condition  Min_market_value (€/m2)  \\\n",
       "0   B12  Residential houses  Excellent                     9000   \n",
       "1   B12  Residential houses     Normal                     7400   \n",
       "4   B12      Stately houses  Excellent                    11200   \n",
       "12  B13  Residential houses  Excellent                     6900   \n",
       "13  B13  Residential houses     Normal                     5000   \n",
       "\n",
       "    Max_market_value (€/m2) Min_rental_value (€/m2 x month)  \\\n",
       "0                     12300                              28   \n",
       "1                      9000                              23   \n",
       "4                     14300                            37,5   \n",
       "12                     8200                            18,5   \n",
       "13                     6900                            14,5   \n",
       "\n",
       "   Max_rental_value (€/m2 x month)  \n",
       "0                             37,5  \n",
       "1                               28  \n",
       "4                               46  \n",
       "12                            27,3  \n",
       "13                            18,5  "
      ]
     },
     "execution_count": 288,
     "metadata": {},
     "output_type": "execute_result"
    }
   ],
   "source": [
    "# translate column headers\n",
    "omi.rename(columns={'Zona' : 'Code', 'Descr_Tipologia' : 'Housing_type', 'Stato' : 'Condition', 'Compr_min' : 'Min_market_value (€/m2)', 'Compr_max' : 'Max_market_value (€/m2)', 'Loc_min' : 'Min_rental_value (€/m2 x month)', 'Loc_max' : 'Max_rental_value (€/m2 x month)',}, inplace=True)\n",
    "print(omi.shape)\n",
    "\n",
    "# drop non-living quotations\n",
    "omi = omi[(omi['Housing_type'] == 'Abitazioni civili') | (omi['Housing_type'] == 'Abitazioni signorili')]\n",
    "# Translate to english housing types, condition values\n",
    "omi = omi.replace(regex={'OTTIMO': 'Excellent','NORMALE':'Normal','Abitazioni civili':'Residential houses','Abitazioni signorili':'Stately houses'})\n",
    "print(omi.shape)\n",
    "omi.head()"
   ]
  },
  {
   "cell_type": "markdown",
   "id": "extensive-indiana",
   "metadata": {},
   "source": [
    "### Adjust the data type of the dataframe "
   ]
  },
  {
   "cell_type": "code",
   "execution_count": 289,
   "id": "harmful-diesel",
   "metadata": {},
   "outputs": [
    {
     "data": {
      "text/plain": [
       "Code                               object\n",
       "Housing_type                       object\n",
       "Condition                          object\n",
       "Min_market_value (€/m2)             int64\n",
       "Max_market_value (€/m2)             int64\n",
       "Min_rental_value (€/m2 x month)    object\n",
       "Max_rental_value (€/m2 x month)    object\n",
       "dtype: object"
      ]
     },
     "execution_count": 289,
     "metadata": {},
     "output_type": "execute_result"
    }
   ],
   "source": [
    "omi.dtypes"
   ]
  },
  {
   "cell_type": "markdown",
   "id": "emerging-purpose",
   "metadata": {},
   "source": [
    "We can note that the data type of Min_rental_value and Max_rental_value columns are not correct. For this reason we will transform the columns data type to float. \n",
    "The problem is that decimals are preceded by comma and not by dot. So first we will replace ',' with '.'."
   ]
  },
  {
   "cell_type": "code",
   "execution_count": 290,
   "id": "gentle-indiana",
   "metadata": {},
   "outputs": [
    {
     "data": {
      "text/html": [
       "<div>\n",
       "<style scoped>\n",
       "    .dataframe tbody tr th:only-of-type {\n",
       "        vertical-align: middle;\n",
       "    }\n",
       "\n",
       "    .dataframe tbody tr th {\n",
       "        vertical-align: top;\n",
       "    }\n",
       "\n",
       "    .dataframe thead th {\n",
       "        text-align: right;\n",
       "    }\n",
       "</style>\n",
       "<table border=\"1\" class=\"dataframe\">\n",
       "  <thead>\n",
       "    <tr style=\"text-align: right;\">\n",
       "      <th></th>\n",
       "      <th>Code</th>\n",
       "      <th>Housing_type</th>\n",
       "      <th>Condition</th>\n",
       "      <th>Min_market_value (€/m2)</th>\n",
       "      <th>Max_market_value (€/m2)</th>\n",
       "      <th>Min_rental_value (€/m2 x month)</th>\n",
       "      <th>Max_rental_value (€/m2 x month)</th>\n",
       "    </tr>\n",
       "  </thead>\n",
       "  <tbody>\n",
       "    <tr>\n",
       "      <th>0</th>\n",
       "      <td>B12</td>\n",
       "      <td>Residential houses</td>\n",
       "      <td>Excellent</td>\n",
       "      <td>9000</td>\n",
       "      <td>12300</td>\n",
       "      <td>28.0</td>\n",
       "      <td>37.5</td>\n",
       "    </tr>\n",
       "    <tr>\n",
       "      <th>1</th>\n",
       "      <td>B12</td>\n",
       "      <td>Residential houses</td>\n",
       "      <td>Normal</td>\n",
       "      <td>7400</td>\n",
       "      <td>9000</td>\n",
       "      <td>23.0</td>\n",
       "      <td>28.0</td>\n",
       "    </tr>\n",
       "    <tr>\n",
       "      <th>4</th>\n",
       "      <td>B12</td>\n",
       "      <td>Stately houses</td>\n",
       "      <td>Excellent</td>\n",
       "      <td>11200</td>\n",
       "      <td>14300</td>\n",
       "      <td>37.5</td>\n",
       "      <td>46.0</td>\n",
       "    </tr>\n",
       "    <tr>\n",
       "      <th>12</th>\n",
       "      <td>B13</td>\n",
       "      <td>Residential houses</td>\n",
       "      <td>Excellent</td>\n",
       "      <td>6900</td>\n",
       "      <td>8200</td>\n",
       "      <td>18.5</td>\n",
       "      <td>27.3</td>\n",
       "    </tr>\n",
       "    <tr>\n",
       "      <th>13</th>\n",
       "      <td>B13</td>\n",
       "      <td>Residential houses</td>\n",
       "      <td>Normal</td>\n",
       "      <td>5000</td>\n",
       "      <td>6900</td>\n",
       "      <td>14.5</td>\n",
       "      <td>18.5</td>\n",
       "    </tr>\n",
       "  </tbody>\n",
       "</table>\n",
       "</div>"
      ],
      "text/plain": [
       "   Code        Housing_type  Condition  Min_market_value (€/m2)  \\\n",
       "0   B12  Residential houses  Excellent                     9000   \n",
       "1   B12  Residential houses     Normal                     7400   \n",
       "4   B12      Stately houses  Excellent                    11200   \n",
       "12  B13  Residential houses  Excellent                     6900   \n",
       "13  B13  Residential houses     Normal                     5000   \n",
       "\n",
       "    Max_market_value (€/m2)  Min_rental_value (€/m2 x month)  \\\n",
       "0                     12300                             28.0   \n",
       "1                      9000                             23.0   \n",
       "4                     14300                             37.5   \n",
       "12                     8200                             18.5   \n",
       "13                     6900                             14.5   \n",
       "\n",
       "    Max_rental_value (€/m2 x month)  \n",
       "0                              37.5  \n",
       "1                              28.0  \n",
       "4                              46.0  \n",
       "12                             27.3  \n",
       "13                             18.5  "
      ]
     },
     "execution_count": 290,
     "metadata": {},
     "output_type": "execute_result"
    }
   ],
   "source": [
    "columns_to_change = ['Min_rental_value (€/m2 x month)','Max_rental_value (€/m2 x month)']\n",
    "omi[columns_to_change]=omi[columns_to_change].replace(regex={',':'.'})\n",
    "\n",
    "omi[columns_to_change] = omi[columns_to_change].astype('float')\n",
    "\n",
    "omi.head()"
   ]
  },
  {
   "cell_type": "code",
   "execution_count": 291,
   "id": "elementary-vancouver",
   "metadata": {},
   "outputs": [
    {
     "data": {
      "text/plain": [
       "Code                                object\n",
       "Housing_type                        object\n",
       "Condition                           object\n",
       "Min_market_value (€/m2)              int64\n",
       "Max_market_value (€/m2)              int64\n",
       "Min_rental_value (€/m2 x month)    float64\n",
       "Max_rental_value (€/m2 x month)    float64\n",
       "dtype: object"
      ]
     },
     "execution_count": 291,
     "metadata": {},
     "output_type": "execute_result"
    }
   ],
   "source": [
    "omi.dtypes"
   ]
  },
  {
   "cell_type": "markdown",
   "id": "sexual-knowing",
   "metadata": {},
   "source": [
    "### Merge the neighborhoods_coordinates and omi dataframes on borough codes"
   ]
  },
  {
   "cell_type": "code",
   "execution_count": 297,
   "id": "dynamic-literature",
   "metadata": {},
   "outputs": [
    {
     "data": {
      "text/html": [
       "<div>\n",
       "<style scoped>\n",
       "    .dataframe tbody tr th:only-of-type {\n",
       "        vertical-align: middle;\n",
       "    }\n",
       "\n",
       "    .dataframe tbody tr th {\n",
       "        vertical-align: top;\n",
       "    }\n",
       "\n",
       "    .dataframe thead th {\n",
       "        text-align: right;\n",
       "    }\n",
       "</style>\n",
       "<table border=\"1\" class=\"dataframe\">\n",
       "  <thead>\n",
       "    <tr style=\"text-align: right;\">\n",
       "      <th></th>\n",
       "      <th>Neighborhoods</th>\n",
       "      <th>Latitude</th>\n",
       "      <th>Longitude</th>\n",
       "      <th>Area</th>\n",
       "      <th>Code</th>\n",
       "      <th>Housing_type</th>\n",
       "      <th>Condition</th>\n",
       "      <th>Min_market_value (€/m2)</th>\n",
       "      <th>Max_market_value (€/m2)</th>\n",
       "      <th>Min_rental_value (€/m2 x month)</th>\n",
       "      <th>Max_rental_value (€/m2 x month)</th>\n",
       "    </tr>\n",
       "  </thead>\n",
       "  <tbody>\n",
       "    <tr>\n",
       "      <th>0</th>\n",
       "      <td>DUOMO</td>\n",
       "      <td>45.464585</td>\n",
       "      <td>9.189670</td>\n",
       "      <td>B</td>\n",
       "      <td>B12</td>\n",
       "      <td>Residential houses</td>\n",
       "      <td>Excellent</td>\n",
       "      <td>9000</td>\n",
       "      <td>12300</td>\n",
       "      <td>28.0</td>\n",
       "      <td>37.5</td>\n",
       "    </tr>\n",
       "    <tr>\n",
       "      <th>1</th>\n",
       "      <td>DUOMO</td>\n",
       "      <td>45.464585</td>\n",
       "      <td>9.189670</td>\n",
       "      <td>B</td>\n",
       "      <td>B12</td>\n",
       "      <td>Residential houses</td>\n",
       "      <td>Normal</td>\n",
       "      <td>7400</td>\n",
       "      <td>9000</td>\n",
       "      <td>23.0</td>\n",
       "      <td>28.0</td>\n",
       "    </tr>\n",
       "    <tr>\n",
       "      <th>2</th>\n",
       "      <td>DUOMO</td>\n",
       "      <td>45.464585</td>\n",
       "      <td>9.189670</td>\n",
       "      <td>B</td>\n",
       "      <td>B12</td>\n",
       "      <td>Stately houses</td>\n",
       "      <td>Excellent</td>\n",
       "      <td>11200</td>\n",
       "      <td>14300</td>\n",
       "      <td>37.5</td>\n",
       "      <td>46.0</td>\n",
       "    </tr>\n",
       "    <tr>\n",
       "      <th>3</th>\n",
       "      <td>SAN BABILA</td>\n",
       "      <td>45.466521</td>\n",
       "      <td>9.197529</td>\n",
       "      <td>B</td>\n",
       "      <td>B12</td>\n",
       "      <td>Residential houses</td>\n",
       "      <td>Excellent</td>\n",
       "      <td>9000</td>\n",
       "      <td>12300</td>\n",
       "      <td>28.0</td>\n",
       "      <td>37.5</td>\n",
       "    </tr>\n",
       "    <tr>\n",
       "      <th>4</th>\n",
       "      <td>SAN BABILA</td>\n",
       "      <td>45.466521</td>\n",
       "      <td>9.197529</td>\n",
       "      <td>B</td>\n",
       "      <td>B12</td>\n",
       "      <td>Residential houses</td>\n",
       "      <td>Normal</td>\n",
       "      <td>7400</td>\n",
       "      <td>9000</td>\n",
       "      <td>23.0</td>\n",
       "      <td>28.0</td>\n",
       "    </tr>\n",
       "  </tbody>\n",
       "</table>\n",
       "</div>"
      ],
      "text/plain": [
       "  Neighborhoods   Latitude  Longitude Area Code        Housing_type  \\\n",
       "0         DUOMO  45.464585   9.189670    B  B12  Residential houses   \n",
       "1         DUOMO  45.464585   9.189670    B  B12  Residential houses   \n",
       "2         DUOMO  45.464585   9.189670    B  B12      Stately houses   \n",
       "3    SAN BABILA  45.466521   9.197529    B  B12  Residential houses   \n",
       "4    SAN BABILA  45.466521   9.197529    B  B12  Residential houses   \n",
       "\n",
       "   Condition  Min_market_value (€/m2)  Max_market_value (€/m2)  \\\n",
       "0  Excellent                     9000                    12300   \n",
       "1     Normal                     7400                     9000   \n",
       "2  Excellent                    11200                    14300   \n",
       "3  Excellent                     9000                    12300   \n",
       "4     Normal                     7400                     9000   \n",
       "\n",
       "   Min_rental_value (€/m2 x month)  Max_rental_value (€/m2 x month)  \n",
       "0                             28.0                             37.5  \n",
       "1                             23.0                             28.0  \n",
       "2                             37.5                             46.0  \n",
       "3                             28.0                             37.5  \n",
       "4                             23.0                             28.0  "
      ]
     },
     "execution_count": 297,
     "metadata": {},
     "output_type": "execute_result"
    }
   ],
   "source": [
    "full_df = pd.merge(neighborhoods_coordinates, omi, on='Code')\n",
    "full_df.head()"
   ]
  },
  {
   "cell_type": "code",
   "execution_count": 298,
   "id": "republican-softball",
   "metadata": {},
   "outputs": [
    {
     "data": {
      "text/plain": [
       "(221, 11)"
      ]
     },
     "execution_count": 298,
     "metadata": {},
     "output_type": "execute_result"
    }
   ],
   "source": [
    "full_df.shape"
   ]
  },
  {
   "cell_type": "markdown",
   "id": "overhead-polymer",
   "metadata": {},
   "source": [
    "## 3.5 Neighborhood venues <a class='anchor' id='3.5.'><a/>"
   ]
  },
  {
   "cell_type": "code",
   "execution_count": null,
   "id": "cultural-vatican",
   "metadata": {},
   "outputs": [],
   "source": []
  }
 ],
 "metadata": {
  "kernelspec": {
   "display_name": "Python 3",
   "language": "python",
   "name": "python3"
  },
  "language_info": {
   "codemirror_mode": {
    "name": "ipython",
    "version": 3
   },
   "file_extension": ".py",
   "mimetype": "text/x-python",
   "name": "python",
   "nbconvert_exporter": "python",
   "pygments_lexer": "ipython3",
   "version": "3.6.10"
  },
  "toc-autonumbering": false,
  "toc-showcode": false,
  "toc-showtags": false
 },
 "nbformat": 4,
 "nbformat_minor": 5
}
