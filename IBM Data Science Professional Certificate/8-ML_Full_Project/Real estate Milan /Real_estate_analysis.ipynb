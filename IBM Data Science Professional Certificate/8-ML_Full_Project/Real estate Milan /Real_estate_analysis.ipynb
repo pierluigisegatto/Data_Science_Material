{
 "cells": [
  {
   "cell_type": "markdown",
   "id": "chicken-verse",
   "metadata": {},
   "source": [
    "# **REAL ESTATE ANALYSIS**: BUY/RENT HOUSES IN MILAN\n",
    "## How to select the best opportunities according to OMI price quotations and surrounding VENUES for buying houses in Milan.\n",
    "### Capstone Project - The Battle of Neighborhoods\n",
    "Author: Pier Luigi Segatto, 02/02/2021 <br />\n",
    "contact: pier.segatto@gmail.com"
   ]
  },
  {
   "cell_type": "markdown",
   "id": "primary-affiliate",
   "metadata": {},
   "source": [
    "<img src=\"https://upload.wikimedia.org/wikipedia/commons/3/30/Wide_angle_Milan_skyline_from_Duomo_roof.jpg\">"
   ]
  },
  {
   "cell_type": "markdown",
   "id": "electoral-newark",
   "metadata": {},
   "source": [
    "## Table of Contents\n",
    "\n",
    "* [1. Introduction](#1.)\n",
    "    * [1.1. Business Problem](#1.1.)\n",
    "    * [1.2. Target Audience](#1.2.)\n",
    "* [2. Data](#2.)\n",
    "    * [2.1 Visualization](#2.1.)\n",
    "* [3. Methodology](#3.)\n",
    "    * [3.1. Requirements](#3.1.)\n",
    "    * [3.2. Milan boroughs dataset](#3.2.)\n",
    "    * [3.3. Milan neighborhoods visualization](#3.3.)\n",
    "    * [3.4. OMI quotations housing price dataset](#3.4.)\n",
    "    * [3.5. Neighborhood venues](#3.5.)\n",
    "    "
   ]
  },
  {
   "cell_type": "markdown",
   "id": "isolated-letter",
   "metadata": {},
   "source": [
    "## 1. Introduction <a class=\"anchor\" id=\"1.\"></a>"
   ]
  },
  {
   "cell_type": "markdown",
   "id": "exceptional-superintendent",
   "metadata": {},
   "source": [
    "Milan is the second-most populous city in Italy after Rome. \n",
    "The city proper has a population of about 1.4 million while its metropolitan city has 3.26 million inhabitants ([ISTAT](http://demo.istat.it/bilmens2019gen/index.html)). Its continuously built-up urban area, that stretches well beyond the boundaries of the administrative metropolitan city, is the fourth largest in the EU with 5.27 million inhabitants. The population within the wider Milan metropolitan area, also known as Greater Milan, is estimated at 8.2 million, making it by far the largest metropolitan area in Italy and the 3rd largest in the EU ([source](http://www.old.unimib.it/open/news/Le-aree-metropolitane-in-Italia-occupano-il-9-per-cento-del-territorio/193547881368277998)). <br />\n",
    "Milan is considered a leading global city, with strengths in the field of the art, commerce, design, education, entertainment, fashion, finance, healthcare, media, services, research and tourism. The city has been recognized as one of the world's four fashion capitals thanks to several international events and fairs, including Milan Fashion Week and the Milan Furniture Fair, which are currently among the world's biggest in terms of revenue, visitors and growth. It hosts numerous cultural institutions, academies and universities. <br />\n",
    "Whereas Rome is Italy's political capital, Milan is the country's industrial and financial heart. In 2019 GDP per-capita of Milan is estimated at €49.000, steadily increasing, and significantly higher that the Italian average of €26.000 ([source](https://www.assolombarda.it/media/comunicati-stampa/rassegna-stampa-osservatorio-milano-2019-7-novembre-2019)). <br />\n",
    "Milan is the destination of 11 million visitors in 2019 (as reported in the city website ([source](https://www.comune.milano.it/-/turismo.-nel-2019-sfiorati-11-milioni-di-visitatori)), attracted by its museums and art galleries, that include some of the most important collections in the world, like the major works by Leonardo da Vinci. The city is served by many luxury hotels and dreamy restaurants. <br />\n",
    "Last but not least, Milan will host the 2026 Winter Olympics together with Cortina d'Ampezzo. <br />"
   ]
  },
  {
   "cell_type": "markdown",
   "id": "cardiovascular-finish",
   "metadata": {},
   "source": [
    "## 1.1. Business Problem <a class=\"anchor\" id=\"1.1.\"></a> "
   ]
  },
  {
   "cell_type": "markdown",
   "id": "verbal-residence",
   "metadata": {},
   "source": [
    "Milan represents the epicenter for Italian life and it attracts companies, corporates, and people who move their core businesses and lives there. Due to the huge variety and heterogeneity of services and possibilities, prices for housing in Milan can be high and different among different areas of the city.\n",
    "\n",
    "The goal of this project is to develop a tool for finding the most efficient *venue*- and *price*-wise solution for buying an house in Milan. This project will focus on finding the characteristics of each neighborhood in terms of house prices and relevant venues in the surrounding area (like restaurants, gyms, parks...). By adopting Machine learning solutions such as clustering and regression, this project will answer to the following questions: \n",
    "\n",
    "<font color = \"black\" size = \"+1\">1. If you want to buy or rent an house in Milan, which is the best neighborhood according to your capital, your lifestyle, and needs?</font>\n",
    "\n",
    "<font color = \"black\" size = \"+1\">2. If you want to eat sushi and visit a museum, which neighborhood should you visit? </font>\n",
    "\n",
    "<font color = \"black\" size = \"+1\">3. You are looking for an apartment, close to transportation station and to an italian restaurant, which neighborhood should you consider? </font>"
   ]
  },
  {
   "cell_type": "markdown",
   "id": "presidential-think",
   "metadata": {},
   "source": [
    "<img src=\"https://traveldir.co/wp-content/uploads/2020/12/milan-info-map-of-italy-with-yellow-pin-marking-milano-centro-storico.jpg\">"
   ]
  },
  {
   "cell_type": "markdown",
   "id": "strong-polyester",
   "metadata": {},
   "source": [
    "## 1.2. Target Audience <a class=\"anchor\" id='1.2.'></a>"
   ]
  },
  {
   "cell_type": "markdown",
   "id": "persistent-external",
   "metadata": {},
   "source": [
    "Real estates. \n",
    "\n",
    "Housing investors.\n",
    "\n",
    "Privates looking for the perfect place to rent or buy a house in Milan. \n",
    "\n",
    "Tourists."
   ]
  },
  {
   "cell_type": "markdown",
   "id": "level-static",
   "metadata": {},
   "source": [
    "## 2. Data <a class='anchor' id='2.'><a/>"
   ]
  },
  {
   "cell_type": "markdown",
   "id": "grateful-parliament",
   "metadata": {},
   "source": [
    "The data for this project has been retrieved from multiple sources, paying the utmost attention to the reliability of them. For this reason, the data was collected from:\n",
    "1. [Milan borough dataset](#Borough) and [house market and rental values dataset](#Values): retrieved from the Italian Revenue Agency website ([source](https://www.agenziaentrate.gov.it/portale/schede/fabbricatiterreni/omi/banche-dati/quotazioni-immobiliari)), where the Milan borough list and the information about the market values and the rental values of the houses have been found, related to the 1st half of 2020, depending on the house location and the state of the property, and considering the negative influence brought by the COVID19 pandemic on real estate markets. <br /> In order to access to the CSV file, it's necessary to register to the website.\n",
    "2. [Geo-locational information of Milan city center and the neighborhoods](#Location): using  Google Maps Geocoding API, it is possible to retrieve the geo-locational information (latitude and longitude) of Milan city center and the neighborhoods.\n",
    "3. [Surrounding venues for each neighborhood](#Venues): obtained using FourSquare API platform.\n",
    "\n",
    "These datasets allow to explore and implement ML algorithms to gain insights on Milan and inform the final user on best locations. The [Milan borough dataset](#Borough) allowed to determine the value of the house, on the basis of the borough position and the state of the property. Neighborhoods locations have been fundamental to understand the correlation between the neighborhood positions (in terms of distance from the Milan city center) and the value of the houses. These positions, together with venues data, have been essential to determinate the clusters and identify the most common venues for each of them."
   ]
  },
  {
   "cell_type": "markdown",
   "id": "eastern-sigma",
   "metadata": {},
   "source": [
    "## 3. Methodology <a class='anchor' id='3.'><a/>"
   ]
  },
  {
   "cell_type": "markdown",
   "id": "distant-syndication",
   "metadata": {},
   "source": [
    "In the following sections:\n",
    "- Libraries and external packages are loaded, Milan datasets are imported, cleaned and explored.\n",
    "- Neighborhoods’ location are visualized and venues are downloaded and formatted to meet the required standards."
   ]
  },
  {
   "cell_type": "markdown",
   "id": "awful-demand",
   "metadata": {},
   "source": [
    "## 3.1. Requirements <a class='anchor' id='3.1.'><a/>"
   ]
  },
  {
   "cell_type": "markdown",
   "id": "original-armor",
   "metadata": {},
   "source": [
    "The first and important step in data science is the data retrieval; indeed, there aren’t reliable and precise analysis without using the best data and the most appropriate technique and algorithms. <br/>\n",
    "This analysis starts with the data collection and cleaning, in order to get all the essential data to achieve the goal of this study."
   ]
  },
  {
   "cell_type": "markdown",
   "id": "indian-eating",
   "metadata": {},
   "source": [
    "### Download Libraries"
   ]
  },
  {
   "cell_type": "markdown",
   "id": "agricultural-withdrawal",
   "metadata": {},
   "source": [
    "uncomment the next cell if folium or geopy are not available"
   ]
  },
  {
   "cell_type": "code",
   "execution_count": null,
   "id": "another-potato",
   "metadata": {},
   "outputs": [],
   "source": [
    "# !conda install -c conda-forge folium=0.5.0 --yes \n",
    "# !conda install -c conda-forge geopy --yes "
   ]
  },
  {
   "cell_type": "markdown",
   "id": "actual-clock",
   "metadata": {},
   "source": [
    "Import the required libraries. "
   ]
  },
  {
   "cell_type": "code",
   "execution_count": 1,
   "id": "central-polish",
   "metadata": {},
   "outputs": [
    {
     "name": "stdout",
     "output_type": "stream",
     "text": [
      "Libraries imported.\n"
     ]
    }
   ],
   "source": [
    "import numpy as np # library to handle data in a vectorized manner\n",
    "\n",
    "import pandas as pd # library for data analsysis\n",
    "pd.set_option('display.max_columns', None)\n",
    "pd.set_option('display.max_rows', None)\n",
    "\n",
    "# Optimization and machine learning libraries\n",
    "from scipy.optimize import curve_fit # fitting routines\n",
    "from sklearn.cluster import KMeans\n",
    "from sklearn.metrics import silhouette_score\n",
    "\n",
    "from geopy.geocoders import Nominatim # convert an address into latitude and longitude values\n",
    "\n",
    "import requests # library to handle requests\n",
    "\n",
    "# Matplotlib and associated plotting modules\n",
    "import matplotlib as mpl\n",
    "import matplotlib.pyplot as plt\n",
    "import matplotlib.cm as cm\n",
    "import matplotlib.colors as colors\n",
    "from matplotlib.colors import LinearSegmentedColormap\n",
    "\n",
    "# Seaborn library for visualization\n",
    "import seaborn as sns\n",
    "\n",
    "import folium # map rendering library\n",
    "\n",
    "print('Libraries imported.')"
   ]
  },
  {
   "cell_type": "markdown",
   "id": "patent-costa",
   "metadata": {},
   "source": [
    "## 3.2. Milan boroughs dataset <a class='anchor' id='3.2.'><a/>"
   ]
  },
  {
   "cell_type": "markdown",
   "id": "vanilla-participant",
   "metadata": {},
   "source": [
    "Use the requests library to download the Milan dataset."
   ]
  },
  {
   "cell_type": "code",
   "execution_count": 5,
   "id": "urban-mentor",
   "metadata": {},
   "outputs": [
    {
     "name": "stdout",
     "output_type": "stream",
     "text": [
      "Page download error. Error code: 404\n"
     ]
    }
   ],
   "source": [
    "url = \"https://raw.githubusercontent.com/pierluigisegatto/Data_Science_Material/main/IBM%20Data%20Science%20Professional%20Certificate/8-ML_Full_Project/Real%20estate%20Milan%20/Milan%20Neighborhood.csv\"\n",
    "page = requests.get(url)\n",
    "if page.status_code == 200:\n",
    "    print('Page download successful')\n",
    "else:\n",
    "    print('Page download error. Error code: {}'.format(page.status_code))"
   ]
  },
  {
   "cell_type": "code",
   "execution_count": 3,
   "id": "guilty-capital",
   "metadata": {},
   "outputs": [
    {
     "ename": "HTTPError",
     "evalue": "HTTP Error 404: Not Found",
     "output_type": "error",
     "traceback": [
      "\u001b[0;31m---------------------------------------------------------------------------\u001b[0m",
      "\u001b[0;31mHTTPError\u001b[0m                                 Traceback (most recent call last)",
      "\u001b[0;32m<ipython-input-3-83b00db8f208>\u001b[0m in \u001b[0;36m<module>\u001b[0;34m\u001b[0m\n\u001b[1;32m      1\u001b[0m \u001b[0;31m# be careful to use ';' as a separator\u001b[0m\u001b[0;34m\u001b[0m\u001b[0;34m\u001b[0m\u001b[0;34m\u001b[0m\u001b[0m\n\u001b[0;32m----> 2\u001b[0;31m \u001b[0mneighborhoods\u001b[0m\u001b[0;34m=\u001b[0m\u001b[0mpd\u001b[0m\u001b[0;34m.\u001b[0m\u001b[0mread_csv\u001b[0m\u001b[0;34m(\u001b[0m\u001b[0murl\u001b[0m\u001b[0;34m,\u001b[0m \u001b[0msep\u001b[0m\u001b[0;34m=\u001b[0m\u001b[0;34m';'\u001b[0m\u001b[0;34m)\u001b[0m\u001b[0;34m\u001b[0m\u001b[0;34m\u001b[0m\u001b[0m\n\u001b[0m\u001b[1;32m      3\u001b[0m \u001b[0mneighborhoods\u001b[0m\u001b[0;34m.\u001b[0m\u001b[0mhead\u001b[0m\u001b[0;34m(\u001b[0m\u001b[0;36m5\u001b[0m\u001b[0;34m)\u001b[0m\u001b[0;34m\u001b[0m\u001b[0;34m\u001b[0m\u001b[0m\n",
      "\u001b[0;32m~/opt/anaconda3/envs/Data_Science_env/lib/python3.6/site-packages/pandas/io/parsers.py\u001b[0m in \u001b[0;36mread_csv\u001b[0;34m(filepath_or_buffer, sep, delimiter, header, names, index_col, usecols, squeeze, prefix, mangle_dupe_cols, dtype, engine, converters, true_values, false_values, skipinitialspace, skiprows, skipfooter, nrows, na_values, keep_default_na, na_filter, verbose, skip_blank_lines, parse_dates, infer_datetime_format, keep_date_col, date_parser, dayfirst, cache_dates, iterator, chunksize, compression, thousands, decimal, lineterminator, quotechar, quoting, doublequote, escapechar, comment, encoding, dialect, error_bad_lines, warn_bad_lines, delim_whitespace, low_memory, memory_map, float_precision)\u001b[0m\n\u001b[1;32m    684\u001b[0m     )\n\u001b[1;32m    685\u001b[0m \u001b[0;34m\u001b[0m\u001b[0m\n\u001b[0;32m--> 686\u001b[0;31m     \u001b[0;32mreturn\u001b[0m \u001b[0m_read\u001b[0m\u001b[0;34m(\u001b[0m\u001b[0mfilepath_or_buffer\u001b[0m\u001b[0;34m,\u001b[0m \u001b[0mkwds\u001b[0m\u001b[0;34m)\u001b[0m\u001b[0;34m\u001b[0m\u001b[0;34m\u001b[0m\u001b[0m\n\u001b[0m\u001b[1;32m    687\u001b[0m \u001b[0;34m\u001b[0m\u001b[0m\n\u001b[1;32m    688\u001b[0m \u001b[0;34m\u001b[0m\u001b[0m\n",
      "\u001b[0;32m~/opt/anaconda3/envs/Data_Science_env/lib/python3.6/site-packages/pandas/io/parsers.py\u001b[0m in \u001b[0;36m_read\u001b[0;34m(filepath_or_buffer, kwds)\u001b[0m\n\u001b[1;32m    433\u001b[0m     \u001b[0;31m# See https://github.com/python/mypy/issues/1297\u001b[0m\u001b[0;34m\u001b[0m\u001b[0;34m\u001b[0m\u001b[0;34m\u001b[0m\u001b[0m\n\u001b[1;32m    434\u001b[0m     fp_or_buf, _, compression, should_close = get_filepath_or_buffer(\n\u001b[0;32m--> 435\u001b[0;31m         \u001b[0mfilepath_or_buffer\u001b[0m\u001b[0;34m,\u001b[0m \u001b[0mencoding\u001b[0m\u001b[0;34m,\u001b[0m \u001b[0mcompression\u001b[0m\u001b[0;34m\u001b[0m\u001b[0;34m\u001b[0m\u001b[0m\n\u001b[0m\u001b[1;32m    436\u001b[0m     )\n\u001b[1;32m    437\u001b[0m     \u001b[0mkwds\u001b[0m\u001b[0;34m[\u001b[0m\u001b[0;34m\"compression\"\u001b[0m\u001b[0;34m]\u001b[0m \u001b[0;34m=\u001b[0m \u001b[0mcompression\u001b[0m\u001b[0;34m\u001b[0m\u001b[0;34m\u001b[0m\u001b[0m\n",
      "\u001b[0;32m~/opt/anaconda3/envs/Data_Science_env/lib/python3.6/site-packages/pandas/io/common.py\u001b[0m in \u001b[0;36mget_filepath_or_buffer\u001b[0;34m(filepath_or_buffer, encoding, compression, mode, storage_options)\u001b[0m\n\u001b[1;32m    181\u001b[0m     \u001b[0;32mif\u001b[0m \u001b[0misinstance\u001b[0m\u001b[0;34m(\u001b[0m\u001b[0mfilepath_or_buffer\u001b[0m\u001b[0;34m,\u001b[0m \u001b[0mstr\u001b[0m\u001b[0;34m)\u001b[0m \u001b[0;32mand\u001b[0m \u001b[0mis_url\u001b[0m\u001b[0;34m(\u001b[0m\u001b[0mfilepath_or_buffer\u001b[0m\u001b[0;34m)\u001b[0m\u001b[0;34m:\u001b[0m\u001b[0;34m\u001b[0m\u001b[0;34m\u001b[0m\u001b[0m\n\u001b[1;32m    182\u001b[0m         \u001b[0;31m# TODO: fsspec can also handle HTTP via requests, but leaving this unchanged\u001b[0m\u001b[0;34m\u001b[0m\u001b[0;34m\u001b[0m\u001b[0;34m\u001b[0m\u001b[0m\n\u001b[0;32m--> 183\u001b[0;31m         \u001b[0mreq\u001b[0m \u001b[0;34m=\u001b[0m \u001b[0murlopen\u001b[0m\u001b[0;34m(\u001b[0m\u001b[0mfilepath_or_buffer\u001b[0m\u001b[0;34m)\u001b[0m\u001b[0;34m\u001b[0m\u001b[0;34m\u001b[0m\u001b[0m\n\u001b[0m\u001b[1;32m    184\u001b[0m         \u001b[0mcontent_encoding\u001b[0m \u001b[0;34m=\u001b[0m \u001b[0mreq\u001b[0m\u001b[0;34m.\u001b[0m\u001b[0mheaders\u001b[0m\u001b[0;34m.\u001b[0m\u001b[0mget\u001b[0m\u001b[0;34m(\u001b[0m\u001b[0;34m\"Content-Encoding\"\u001b[0m\u001b[0;34m,\u001b[0m \u001b[0;32mNone\u001b[0m\u001b[0;34m)\u001b[0m\u001b[0;34m\u001b[0m\u001b[0;34m\u001b[0m\u001b[0m\n\u001b[1;32m    185\u001b[0m         \u001b[0;32mif\u001b[0m \u001b[0mcontent_encoding\u001b[0m \u001b[0;34m==\u001b[0m \u001b[0;34m\"gzip\"\u001b[0m\u001b[0;34m:\u001b[0m\u001b[0;34m\u001b[0m\u001b[0;34m\u001b[0m\u001b[0m\n",
      "\u001b[0;32m~/opt/anaconda3/envs/Data_Science_env/lib/python3.6/site-packages/pandas/io/common.py\u001b[0m in \u001b[0;36murlopen\u001b[0;34m(*args, **kwargs)\u001b[0m\n\u001b[1;32m    135\u001b[0m     \u001b[0;32mimport\u001b[0m \u001b[0murllib\u001b[0m\u001b[0;34m.\u001b[0m\u001b[0mrequest\u001b[0m\u001b[0;34m\u001b[0m\u001b[0;34m\u001b[0m\u001b[0m\n\u001b[1;32m    136\u001b[0m \u001b[0;34m\u001b[0m\u001b[0m\n\u001b[0;32m--> 137\u001b[0;31m     \u001b[0;32mreturn\u001b[0m \u001b[0murllib\u001b[0m\u001b[0;34m.\u001b[0m\u001b[0mrequest\u001b[0m\u001b[0;34m.\u001b[0m\u001b[0murlopen\u001b[0m\u001b[0;34m(\u001b[0m\u001b[0;34m*\u001b[0m\u001b[0margs\u001b[0m\u001b[0;34m,\u001b[0m \u001b[0;34m**\u001b[0m\u001b[0mkwargs\u001b[0m\u001b[0;34m)\u001b[0m\u001b[0;34m\u001b[0m\u001b[0;34m\u001b[0m\u001b[0m\n\u001b[0m\u001b[1;32m    138\u001b[0m \u001b[0;34m\u001b[0m\u001b[0m\n\u001b[1;32m    139\u001b[0m \u001b[0;34m\u001b[0m\u001b[0m\n",
      "\u001b[0;32m~/opt/anaconda3/envs/Data_Science_env/lib/python3.6/urllib/request.py\u001b[0m in \u001b[0;36murlopen\u001b[0;34m(url, data, timeout, cafile, capath, cadefault, context)\u001b[0m\n\u001b[1;32m    221\u001b[0m     \u001b[0;32melse\u001b[0m\u001b[0;34m:\u001b[0m\u001b[0;34m\u001b[0m\u001b[0;34m\u001b[0m\u001b[0m\n\u001b[1;32m    222\u001b[0m         \u001b[0mopener\u001b[0m \u001b[0;34m=\u001b[0m \u001b[0m_opener\u001b[0m\u001b[0;34m\u001b[0m\u001b[0;34m\u001b[0m\u001b[0m\n\u001b[0;32m--> 223\u001b[0;31m     \u001b[0;32mreturn\u001b[0m \u001b[0mopener\u001b[0m\u001b[0;34m.\u001b[0m\u001b[0mopen\u001b[0m\u001b[0;34m(\u001b[0m\u001b[0murl\u001b[0m\u001b[0;34m,\u001b[0m \u001b[0mdata\u001b[0m\u001b[0;34m,\u001b[0m \u001b[0mtimeout\u001b[0m\u001b[0;34m)\u001b[0m\u001b[0;34m\u001b[0m\u001b[0;34m\u001b[0m\u001b[0m\n\u001b[0m\u001b[1;32m    224\u001b[0m \u001b[0;34m\u001b[0m\u001b[0m\n\u001b[1;32m    225\u001b[0m \u001b[0;32mdef\u001b[0m \u001b[0minstall_opener\u001b[0m\u001b[0;34m(\u001b[0m\u001b[0mopener\u001b[0m\u001b[0;34m)\u001b[0m\u001b[0;34m:\u001b[0m\u001b[0;34m\u001b[0m\u001b[0;34m\u001b[0m\u001b[0m\n",
      "\u001b[0;32m~/opt/anaconda3/envs/Data_Science_env/lib/python3.6/urllib/request.py\u001b[0m in \u001b[0;36mopen\u001b[0;34m(self, fullurl, data, timeout)\u001b[0m\n\u001b[1;32m    530\u001b[0m         \u001b[0;32mfor\u001b[0m \u001b[0mprocessor\u001b[0m \u001b[0;32min\u001b[0m \u001b[0mself\u001b[0m\u001b[0;34m.\u001b[0m\u001b[0mprocess_response\u001b[0m\u001b[0;34m.\u001b[0m\u001b[0mget\u001b[0m\u001b[0;34m(\u001b[0m\u001b[0mprotocol\u001b[0m\u001b[0;34m,\u001b[0m \u001b[0;34m[\u001b[0m\u001b[0;34m]\u001b[0m\u001b[0;34m)\u001b[0m\u001b[0;34m:\u001b[0m\u001b[0;34m\u001b[0m\u001b[0;34m\u001b[0m\u001b[0m\n\u001b[1;32m    531\u001b[0m             \u001b[0mmeth\u001b[0m \u001b[0;34m=\u001b[0m \u001b[0mgetattr\u001b[0m\u001b[0;34m(\u001b[0m\u001b[0mprocessor\u001b[0m\u001b[0;34m,\u001b[0m \u001b[0mmeth_name\u001b[0m\u001b[0;34m)\u001b[0m\u001b[0;34m\u001b[0m\u001b[0;34m\u001b[0m\u001b[0m\n\u001b[0;32m--> 532\u001b[0;31m             \u001b[0mresponse\u001b[0m \u001b[0;34m=\u001b[0m \u001b[0mmeth\u001b[0m\u001b[0;34m(\u001b[0m\u001b[0mreq\u001b[0m\u001b[0;34m,\u001b[0m \u001b[0mresponse\u001b[0m\u001b[0;34m)\u001b[0m\u001b[0;34m\u001b[0m\u001b[0;34m\u001b[0m\u001b[0m\n\u001b[0m\u001b[1;32m    533\u001b[0m \u001b[0;34m\u001b[0m\u001b[0m\n\u001b[1;32m    534\u001b[0m         \u001b[0;32mreturn\u001b[0m \u001b[0mresponse\u001b[0m\u001b[0;34m\u001b[0m\u001b[0;34m\u001b[0m\u001b[0m\n",
      "\u001b[0;32m~/opt/anaconda3/envs/Data_Science_env/lib/python3.6/urllib/request.py\u001b[0m in \u001b[0;36mhttp_response\u001b[0;34m(self, request, response)\u001b[0m\n\u001b[1;32m    640\u001b[0m         \u001b[0;32mif\u001b[0m \u001b[0;32mnot\u001b[0m \u001b[0;34m(\u001b[0m\u001b[0;36m200\u001b[0m \u001b[0;34m<=\u001b[0m \u001b[0mcode\u001b[0m \u001b[0;34m<\u001b[0m \u001b[0;36m300\u001b[0m\u001b[0;34m)\u001b[0m\u001b[0;34m:\u001b[0m\u001b[0;34m\u001b[0m\u001b[0;34m\u001b[0m\u001b[0m\n\u001b[1;32m    641\u001b[0m             response = self.parent.error(\n\u001b[0;32m--> 642\u001b[0;31m                 'http', request, response, code, msg, hdrs)\n\u001b[0m\u001b[1;32m    643\u001b[0m \u001b[0;34m\u001b[0m\u001b[0m\n\u001b[1;32m    644\u001b[0m         \u001b[0;32mreturn\u001b[0m \u001b[0mresponse\u001b[0m\u001b[0;34m\u001b[0m\u001b[0;34m\u001b[0m\u001b[0m\n",
      "\u001b[0;32m~/opt/anaconda3/envs/Data_Science_env/lib/python3.6/urllib/request.py\u001b[0m in \u001b[0;36merror\u001b[0;34m(self, proto, *args)\u001b[0m\n\u001b[1;32m    568\u001b[0m         \u001b[0;32mif\u001b[0m \u001b[0mhttp_err\u001b[0m\u001b[0;34m:\u001b[0m\u001b[0;34m\u001b[0m\u001b[0;34m\u001b[0m\u001b[0m\n\u001b[1;32m    569\u001b[0m             \u001b[0margs\u001b[0m \u001b[0;34m=\u001b[0m \u001b[0;34m(\u001b[0m\u001b[0mdict\u001b[0m\u001b[0;34m,\u001b[0m \u001b[0;34m'default'\u001b[0m\u001b[0;34m,\u001b[0m \u001b[0;34m'http_error_default'\u001b[0m\u001b[0;34m)\u001b[0m \u001b[0;34m+\u001b[0m \u001b[0morig_args\u001b[0m\u001b[0;34m\u001b[0m\u001b[0;34m\u001b[0m\u001b[0m\n\u001b[0;32m--> 570\u001b[0;31m             \u001b[0;32mreturn\u001b[0m \u001b[0mself\u001b[0m\u001b[0;34m.\u001b[0m\u001b[0m_call_chain\u001b[0m\u001b[0;34m(\u001b[0m\u001b[0;34m*\u001b[0m\u001b[0margs\u001b[0m\u001b[0;34m)\u001b[0m\u001b[0;34m\u001b[0m\u001b[0;34m\u001b[0m\u001b[0m\n\u001b[0m\u001b[1;32m    571\u001b[0m \u001b[0;34m\u001b[0m\u001b[0m\n\u001b[1;32m    572\u001b[0m \u001b[0;31m# XXX probably also want an abstract factory that knows when it makes\u001b[0m\u001b[0;34m\u001b[0m\u001b[0;34m\u001b[0m\u001b[0;34m\u001b[0m\u001b[0m\n",
      "\u001b[0;32m~/opt/anaconda3/envs/Data_Science_env/lib/python3.6/urllib/request.py\u001b[0m in \u001b[0;36m_call_chain\u001b[0;34m(self, chain, kind, meth_name, *args)\u001b[0m\n\u001b[1;32m    502\u001b[0m         \u001b[0;32mfor\u001b[0m \u001b[0mhandler\u001b[0m \u001b[0;32min\u001b[0m \u001b[0mhandlers\u001b[0m\u001b[0;34m:\u001b[0m\u001b[0;34m\u001b[0m\u001b[0;34m\u001b[0m\u001b[0m\n\u001b[1;32m    503\u001b[0m             \u001b[0mfunc\u001b[0m \u001b[0;34m=\u001b[0m \u001b[0mgetattr\u001b[0m\u001b[0;34m(\u001b[0m\u001b[0mhandler\u001b[0m\u001b[0;34m,\u001b[0m \u001b[0mmeth_name\u001b[0m\u001b[0;34m)\u001b[0m\u001b[0;34m\u001b[0m\u001b[0;34m\u001b[0m\u001b[0m\n\u001b[0;32m--> 504\u001b[0;31m             \u001b[0mresult\u001b[0m \u001b[0;34m=\u001b[0m \u001b[0mfunc\u001b[0m\u001b[0;34m(\u001b[0m\u001b[0;34m*\u001b[0m\u001b[0margs\u001b[0m\u001b[0;34m)\u001b[0m\u001b[0;34m\u001b[0m\u001b[0;34m\u001b[0m\u001b[0m\n\u001b[0m\u001b[1;32m    505\u001b[0m             \u001b[0;32mif\u001b[0m \u001b[0mresult\u001b[0m \u001b[0;32mis\u001b[0m \u001b[0;32mnot\u001b[0m \u001b[0;32mNone\u001b[0m\u001b[0;34m:\u001b[0m\u001b[0;34m\u001b[0m\u001b[0;34m\u001b[0m\u001b[0m\n\u001b[1;32m    506\u001b[0m                 \u001b[0;32mreturn\u001b[0m \u001b[0mresult\u001b[0m\u001b[0;34m\u001b[0m\u001b[0;34m\u001b[0m\u001b[0m\n",
      "\u001b[0;32m~/opt/anaconda3/envs/Data_Science_env/lib/python3.6/urllib/request.py\u001b[0m in \u001b[0;36mhttp_error_default\u001b[0;34m(self, req, fp, code, msg, hdrs)\u001b[0m\n\u001b[1;32m    648\u001b[0m \u001b[0;32mclass\u001b[0m \u001b[0mHTTPDefaultErrorHandler\u001b[0m\u001b[0;34m(\u001b[0m\u001b[0mBaseHandler\u001b[0m\u001b[0;34m)\u001b[0m\u001b[0;34m:\u001b[0m\u001b[0;34m\u001b[0m\u001b[0;34m\u001b[0m\u001b[0m\n\u001b[1;32m    649\u001b[0m     \u001b[0;32mdef\u001b[0m \u001b[0mhttp_error_default\u001b[0m\u001b[0;34m(\u001b[0m\u001b[0mself\u001b[0m\u001b[0;34m,\u001b[0m \u001b[0mreq\u001b[0m\u001b[0;34m,\u001b[0m \u001b[0mfp\u001b[0m\u001b[0;34m,\u001b[0m \u001b[0mcode\u001b[0m\u001b[0;34m,\u001b[0m \u001b[0mmsg\u001b[0m\u001b[0;34m,\u001b[0m \u001b[0mhdrs\u001b[0m\u001b[0;34m)\u001b[0m\u001b[0;34m:\u001b[0m\u001b[0;34m\u001b[0m\u001b[0;34m\u001b[0m\u001b[0m\n\u001b[0;32m--> 650\u001b[0;31m         \u001b[0;32mraise\u001b[0m \u001b[0mHTTPError\u001b[0m\u001b[0;34m(\u001b[0m\u001b[0mreq\u001b[0m\u001b[0;34m.\u001b[0m\u001b[0mfull_url\u001b[0m\u001b[0;34m,\u001b[0m \u001b[0mcode\u001b[0m\u001b[0;34m,\u001b[0m \u001b[0mmsg\u001b[0m\u001b[0;34m,\u001b[0m \u001b[0mhdrs\u001b[0m\u001b[0;34m,\u001b[0m \u001b[0mfp\u001b[0m\u001b[0;34m)\u001b[0m\u001b[0;34m\u001b[0m\u001b[0;34m\u001b[0m\u001b[0m\n\u001b[0m\u001b[1;32m    651\u001b[0m \u001b[0;34m\u001b[0m\u001b[0m\n\u001b[1;32m    652\u001b[0m \u001b[0;32mclass\u001b[0m \u001b[0mHTTPRedirectHandler\u001b[0m\u001b[0;34m(\u001b[0m\u001b[0mBaseHandler\u001b[0m\u001b[0;34m)\u001b[0m\u001b[0;34m:\u001b[0m\u001b[0;34m\u001b[0m\u001b[0;34m\u001b[0m\u001b[0m\n",
      "\u001b[0;31mHTTPError\u001b[0m: HTTP Error 404: Not Found"
     ]
    }
   ],
   "source": [
    "# be careful to use ';' as a separator\n",
    "neighborhoods=pd.read_csv(url, sep=';')\n",
    "neighborhoods.head(5)"
   ]
  },
  {
   "cell_type": "code",
   "execution_count": null,
   "id": "tutorial-advantage",
   "metadata": {},
   "outputs": [],
   "source": [
    "# understand a bit the dataset\n",
    "print(f'Minal has {neighborhoods.shape[0]} Boroughs')"
   ]
  },
  {
   "cell_type": "code",
   "execution_count": null,
   "id": "square-graphic",
   "metadata": {},
   "outputs": [],
   "source": [
    "# check for unique values \n",
    "print(neighborhoods['Descr_tip_prev'].unique())\n",
    "print(neighborhoods['Stato_prev'].unique())\n",
    "print(neighborhoods['Microzona'].unique())"
   ]
  },
  {
   "cell_type": "code",
   "execution_count": null,
   "id": "attempted-freeware",
   "metadata": {},
   "outputs": [],
   "source": [
    "# where the anomaly occur? \n",
    "neighborhoods.loc[(neighborhoods['Descr_tip_prev']== 'Non presente') | (neighborhoods['Stato_prev']== np.nan),'Zona_Descr']"
   ]
  },
  {
   "cell_type": "markdown",
   "id": "banner-wrapping",
   "metadata": {},
   "source": [
    "\n",
    "Filter only needed columns, i.e. keep only the neighborhood description name the zone code. Translate column names and clean the neighborhoods names from quotes.\n",
    "\n",
    "Get the actual Neighborhood names by splitting each descriptive name (Boro) where comma occurs. This step is needed to retrieve the latitude and longitude of each neighborhoods."
   ]
  },
  {
   "cell_type": "code",
   "execution_count": null,
   "id": "significant-backing",
   "metadata": {},
   "outputs": [],
   "source": [
    "# keep useful cols\n",
    "milan = neighborhoods[['Zona_Descr','Zona','Fascia']].copy() \n",
    "# translate col names\n",
    "milan.rename(columns={'Zona_Descr':'Neighborhoods',\"Zona\":'Code','Fascia':'Area'},inplace=True)\n",
    "# Get rid of quotes in names\n",
    "milan['Neighborhoods'].replace(\"'\", '',regex=True,inplace=True)\n",
    "# explode the dataset to get the actual neighborhood names\n",
    "milan = milan.set_index(['Code','Area']).apply(lambda x: x.str.split(',').explode()).reset_index()\n",
    "milan.head(5)"
   ]
  },
  {
   "cell_type": "code",
   "execution_count": null,
   "id": "viral-arbitration",
   "metadata": {},
   "outputs": [],
   "source": [
    "print(f'Milan has {milan.shape[0]} Neighborhoods')"
   ]
  },
  {
   "cell_type": "markdown",
   "id": "responsible-fifteen",
   "metadata": {},
   "source": [
    "Some neighborhood names cannot be recognized by Google Maps Geocoding API. It's essential to edit them, to ensure the success of the last step (latitudes and longitudes retrive)"
   ]
  },
  {
   "cell_type": "code",
   "execution_count": null,
   "id": "valid-friday",
   "metadata": {},
   "outputs": [],
   "source": [
    "milan['Neighborhoods'].replace(\"SANBABILA\", \"SAN BABILA\", regex=True, inplace=True)\n",
    "milan['Neighborhoods'].replace(\"FAENZA\", \"VIALE FAENZA\", regex=True, inplace=True)\n",
    "milan['Neighborhoods'].replace(\"P.ROSSI\", \"VIA PELLEGRINO ROSSI\", regex=True, inplace=True)\n",
    "milan['Neighborhoods'].replace(\"CORSO VENEZIA\", \"PORTA VENEZIA\", regex=True, inplace=True)\n",
    "milan['Neighborhoods'].replace(\"VENEZIA\", \"PORTA VENEZIA\", regex=True, inplace=True)\n",
    "milan['Neighborhoods'].replace(\"UNIVERSITA STATALE\", \"CITTÀ STUDI\", regex=True, inplace=True)\n",
    "milan['Neighborhoods'].replace(\"STAZIONE CENTRALE VIALE STELVIO\", \"STAZIONE CENTRALE\", regex=True, inplace=True)\n",
    "milan['Neighborhoods'].replace(\"C.NA MERLATA\", \"CASCINA MERLATA\", regex=True, inplace=True)\n",
    "milan['Neighborhoods'].replace(\"MONZA\", \"VIALE MONZA\", regex=True, inplace=True)\n",
    "milan['Neighborhoods'].replace(\"BUENOS AIRES\", \"CORSO BUENOS AIRES\", regex=True, inplace=True)\n",
    "milan['Neighborhoods'].replace(\"TITO LIVIO\", \"VIA TITO LIVIO\", regex=True, inplace=True)\n",
    "milan['Neighborhoods'].replace(\"MAROCCHETTI\", \"VIA CARLO MAROCHETTI\", regex=True, inplace=True)\n",
    "milan['Neighborhoods'].replace(\"REGINA GIOVANNA\", \"VIALE REGINA GIOVANNA\", regex=True, inplace=True)\n",
    "milan['Neighborhoods'].replace(\"ASCANIO SFORZA\", \"VIA ASCANIO SFORZA\", regex=True, inplace=True)\n",
    "milan['Neighborhoods'].replace(\"Q. ROMANO\", \"QUINTO ROMANO\", regex=True, inplace=True)\n",
    "\n",
    "milan['Neighborhoods'] = milan['Neighborhoods'].str.replace('CENTRO STORICO -', '')\n"
   ]
  },
  {
   "cell_type": "code",
   "execution_count": null,
   "id": "optimum-photograph",
   "metadata": {},
   "outputs": [],
   "source": [
    "# remove all white spaces at beginning of each neigh name\n",
    "milan['Neighborhoods'] = milan['Neighborhoods'].str.lstrip(' ')"
   ]
  },
  {
   "cell_type": "code",
   "execution_count": null,
   "id": "certain-bones",
   "metadata": {},
   "outputs": [],
   "source": [
    "neigh_df = milan[['Neighborhoods']]\n",
    "neigh_df = neigh_df.drop_duplicates(keep='first')\n",
    "# porta romana oc\n",
    "# curs 2 times one with code B19 and one with code B20\n",
    "print(f'Milan has {neigh_df.shape[0]} unique Neighborhood names')"
   ]
  },
  {
   "cell_type": "code",
   "execution_count": null,
   "id": "effective-monte",
   "metadata": {},
   "outputs": [],
   "source": [
    "neigh_df"
   ]
  },
  {
   "cell_type": "markdown",
   "id": "virtual-semester",
   "metadata": {},
   "source": [
    "### Retrive the geo-locational information "
   ]
  },
  {
   "cell_type": "code",
   "execution_count": null,
   "id": "invalid-brazil",
   "metadata": {},
   "outputs": [],
   "source": [
    "from geopy.exc import GeocoderTimedOut\n",
    "from geopy.exc import GeocoderNotFound\n",
    "\n",
    "address= (neigh_df['Neighborhoods'] + ', Milano, MI , Italia')\n",
    "geolocater= Nominatim(user_agent=\"milan_coordinates-explorer\")\n",
    "location=[]\n",
    "empty=[]\n",
    "\n",
    "def getcoords(add):\n",
    "    try:\n",
    "        coords= geolocater.geocode(add, timeout=10)\n",
    "        location.append([add, coords.latitude, coords.longitude])\n",
    "        print(\"the coords are {}\".format(location[-1]))\n",
    "    \n",
    "    except GeocoderTimedOut:\n",
    "        return getcoords(add)\n",
    "    \n",
    "    except:\n",
    "        empty.append([add])\n",
    "        print(\"Couldn't find coords of {}\".format(empty[-1]))\n",
    "        \n",
    "for add in address:\n",
    "        getcoords(add)"
   ]
  },
  {
   "cell_type": "markdown",
   "id": "current-amplifier",
   "metadata": {},
   "source": [
    "### Save found neighborhood coordinates "
   ]
  },
  {
   "cell_type": "code",
   "execution_count": null,
   "id": "combined-making",
   "metadata": {},
   "outputs": [],
   "source": [
    "neighborhoods_coordinates = pd.DataFrame(location, columns=['Neighborhoods','Latitude','Longitude'])\n",
    "neighborhoods_coordinates['Neighborhoods'].replace(\", Milano, MI , Italia\", \"\", regex=True, inplace=True)\n",
    "neighborhoods_coordinates['Area'] = milan['Area']\n",
    "neighborhoods_coordinates.to_csv('coordinates.csv')\n",
    "\n",
    "neighborhoods_coordinates.head()"
   ]
  },
  {
   "cell_type": "markdown",
   "id": "verified-playback",
   "metadata": {},
   "source": [
    "## 3.3 Milan neighborhoods visualization <a class='anchor' id='3.3.'><a/>"
   ]
  },
  {
   "cell_type": "markdown",
   "id": "conservative-detective",
   "metadata": {},
   "source": [
    "To get a sense to the study, it is of primary importance to know the precise location of each neighborhoods. For this reason, it's essential to create a map of Milan, in which all the neighborhood positions are shown. To be more exhaustive, all the Milan areas (B, C, D and E) are differentiated by different colors. <br />\n",
    "Therefore, the map of Milan neighborhoods has been plotted using the Folium library."
   ]
  },
  {
   "cell_type": "markdown",
   "id": "bottom-cassette",
   "metadata": {},
   "source": [
    "### Retrieve Milan coordinates"
   ]
  },
  {
   "cell_type": "code",
   "execution_count": null,
   "id": "resistant-slovenia",
   "metadata": {},
   "outputs": [],
   "source": [
    "Milan_address='Milan, Italy'\n",
    "geolocater= Nominatim(user_agent=\"Milan_search\")\n",
    "center= geolocater.geocode(Milan_address)\n",
    "lat= center.latitude\n",
    "lon= center.longitude\n",
    "print('The geograpical coordinate of {} are {}, {}.'.format(Milan_address,lat, lon))"
   ]
  },
  {
   "cell_type": "markdown",
   "id": "horizontal-federal",
   "metadata": {},
   "source": [
    "### Create the map"
   ]
  },
  {
   "cell_type": "code",
   "execution_count": null,
   "id": "rotary-reading",
   "metadata": {
    "scrolled": true
   },
   "outputs": [],
   "source": [
    "neighborhoods_coordinates['Area'] = milan['Code'].str[:1]\n",
    "neighborhoods_coordinates['Code'] = milan['Code']\n",
    "neighborhoods_coordinates.head()\n"
   ]
  },
  {
   "cell_type": "code",
   "execution_count": null,
   "id": "clean-antigua",
   "metadata": {},
   "outputs": [],
   "source": [
    "Milan_map=folium.Map(location=[lat,lon],zoom_start=11)\n",
    "\n",
    "def color(letter): \n",
    "    if letter == 'B': \n",
    "        col = 'blue'\n",
    "    elif letter == 'C': \n",
    "        col = 'green'\n",
    "    elif letter == 'D': \n",
    "        col = 'purple'\n",
    "    else: \n",
    "        col='red'\n",
    "    return col \n",
    "\n",
    "for lat, long, nieghborhood, letter in zip(neighborhoods_coordinates['Latitude'], neighborhoods_coordinates['Longitude'], neighborhoods_coordinates['Neighborhoods'], neighborhoods_coordinates['Area']):\n",
    "    label=folium.Popup(nieghborhood, parse_html=True)\n",
    "    folium.CircleMarker(\n",
    "        [lat, long],\n",
    "        radius=2,\n",
    "        popup=label,\n",
    "        color= color(letter),\n",
    "        fill=True,\n",
    "        fill_color='#3199cc',\n",
    "        fill_opacity=0.3,\n",
    "        parse_html=False, legend_name='SCALE').add_to(Milan_map)\n",
    "    \n",
    "legend_html = '''\n",
    "    <div style=\"position: fixed;  \n",
    "        bottom: 10px; left: 10px; width: 100px; height: 120px; \n",
    "        border:2px solid grey; z-index:9999; font-size:11px;\">&nbsp; Legend <br>\n",
    "        &nbsp; <b> Area B </b> &nbsp; <i class=\"fa fa-map-marker fa-2x\" style=\"color:blue\"></i><br>\n",
    "        &nbsp; <b> Area C </b> &nbsp; <i class=\"fa fa-map-marker fa-2x\" style=\"color:green\"></i><br>\n",
    "        &nbsp; <b> Area D </b> &nbsp; <i class=\"fa fa-map-marker fa-2x\" style=\"color:purple\"></i><br>\n",
    "        &nbsp; <b> Area E </b> &nbsp; <i class=\"fa fa-map-marker fa-2x\" style=\"color:red\"></i><br>\n",
    "    </div>\n",
    "    '''\n",
    "Milan_map.get_root().html.add_child(folium.Element(legend_html))\n",
    "\n",
    "Milan_map"
   ]
  },
  {
   "cell_type": "markdown",
   "id": "neither-motorcycle",
   "metadata": {},
   "source": [
    "## 3.4 OMI quotations housing price dataset <a class='anchor' id='3.4.'><a/>"
   ]
  },
  {
   "cell_type": "code",
   "execution_count": null,
   "id": "stunning-appearance",
   "metadata": {},
   "outputs": [],
   "source": [
    "url = \"https://raw.githubusercontent.com/pierluigisegatto/Data_Science_Material/main/IBM%20Data%20Science%20Professional%20Certificate/8-ML_Full_Project/Real%20estate%20Milan%20/Market%20values%20of%20house%20in%20Milan.csv\"\n",
    "page = requests.get(url)\n",
    "if page.status_code == 200:\n",
    "    print('Page download successful')\n",
    "else:\n",
    "    print('Page download error. Error code: {}'.format(page.status_code))"
   ]
  },
  {
   "cell_type": "code",
   "execution_count": null,
   "id": "bright-danish",
   "metadata": {},
   "outputs": [],
   "source": [
    "values=pd.read_csv(url, sep=';')\n",
    "values.head(10)"
   ]
  },
  {
   "cell_type": "markdown",
   "id": "seventh-repository",
   "metadata": {},
   "source": [
    "This dataset presents for each zone and for each housing type and status (if existing) combination the average observed price. \n"
   ]
  },
  {
   "cell_type": "code",
   "execution_count": null,
   "id": "hispanic-education",
   "metadata": {},
   "outputs": [],
   "source": [
    "values.shape"
   ]
  },
  {
   "cell_type": "code",
   "execution_count": null,
   "id": "exact-adult",
   "metadata": {},
   "outputs": [],
   "source": [
    "# check the housing types available\n",
    "values['Descr_Tipologia'].unique()"
   ]
  },
  {
   "cell_type": "markdown",
   "id": "concrete-punch",
   "metadata": {},
   "source": [
    "In order to merge this dataset with the neighborhoods I am interested in collecting the zone code along with the housing description and prices."
   ]
  },
  {
   "cell_type": "code",
   "execution_count": null,
   "id": "designing-boring",
   "metadata": {},
   "outputs": [],
   "source": [
    "columns = ['Zona','Descr_Tipologia','Stato','Compr_min','Compr_max','Loc_min','Loc_max']\n",
    "omi = values[columns].copy()\n",
    "omi.head()"
   ]
  },
  {
   "cell_type": "markdown",
   "id": "adapted-abortion",
   "metadata": {},
   "source": [
    "**N.B:** Since I am interested in analyzing houses, I drop all occurrences of non living places. "
   ]
  },
  {
   "cell_type": "code",
   "execution_count": null,
   "id": "absent-retailer",
   "metadata": {},
   "outputs": [],
   "source": [
    "# translate column headers\n",
    "omi.rename(columns={'Zona' : 'Code', 'Descr_Tipologia' : 'Housing_type', 'Stato' : 'Condition', 'Compr_min' : 'Min_market_value (€/m2)', 'Compr_max' : 'Max_market_value (€/m2)', 'Loc_min' : 'Min_rental_value (€/m2 x month)', 'Loc_max' : 'Max_rental_value (€/m2 x month)',}, inplace=True)\n",
    "print(omi.shape)\n",
    "\n",
    "# drop non-living quotations\n",
    "omi = omi[(omi['Housing_type'] == 'Abitazioni civili') | (omi['Housing_type'] == 'Abitazioni signorili')]\n",
    "# Translate to english housing types, condition values\n",
    "omi = omi.replace(regex={'OTTIMO': 'Excellent','NORMALE':'Normal','Abitazioni civili':'Residential houses','Abitazioni signorili':'Stately houses'})\n",
    "print(omi.shape)\n",
    "omi.head()"
   ]
  },
  {
   "cell_type": "markdown",
   "id": "remarkable-logistics",
   "metadata": {},
   "source": [
    "### Adjust the data type of the dataframe "
   ]
  },
  {
   "cell_type": "code",
   "execution_count": null,
   "id": "natural-antique",
   "metadata": {},
   "outputs": [],
   "source": [
    "omi.dtypes"
   ]
  },
  {
   "cell_type": "markdown",
   "id": "worldwide-cyprus",
   "metadata": {},
   "source": [
    "We can note that the data type of Min_rental_value and Max_rental_value columns are not correct. For this reason we will transform the columns data type to float. \n",
    "The problem is that decimals are preceded by comma and not by dot. So first we will replace ',' with '.'."
   ]
  },
  {
   "cell_type": "code",
   "execution_count": null,
   "id": "future-bridge",
   "metadata": {},
   "outputs": [],
   "source": [
    "columns_to_change = ['Min_rental_value (€/m2 x month)','Max_rental_value (€/m2 x month)']\n",
    "omi[columns_to_change]=omi[columns_to_change].replace(regex={',':'.'})\n",
    "\n",
    "omi[columns_to_change] = omi[columns_to_change].astype('float')\n",
    "\n",
    "omi.head()"
   ]
  },
  {
   "cell_type": "code",
   "execution_count": null,
   "id": "instant-corps",
   "metadata": {},
   "outputs": [],
   "source": [
    "omi.dtypes"
   ]
  },
  {
   "cell_type": "markdown",
   "id": "extraordinary-cruise",
   "metadata": {},
   "source": [
    "### Merge the neighborhoods_coordinates and omi dataframes on borough codes"
   ]
  },
  {
   "cell_type": "code",
   "execution_count": null,
   "id": "indoor-mayor",
   "metadata": {},
   "outputs": [],
   "source": [
    "full_df = pd.merge(neighborhoods_coordinates, omi, on='Code')\n",
    "full_df.head()"
   ]
  },
  {
   "cell_type": "code",
   "execution_count": null,
   "id": "contained-kinase",
   "metadata": {},
   "outputs": [],
   "source": [
    "full_df.shape"
   ]
  },
  {
   "cell_type": "markdown",
   "id": "crude-romania",
   "metadata": {},
   "source": [
    "## 3.5 Neighborhood venues <a class='anchor' id='3.5.'><a/>"
   ]
  },
  {
   "cell_type": "markdown",
   "id": "proved-yorkshire",
   "metadata": {},
   "source": [
    "### Define Foursquare credentials and version"
   ]
  },
  {
   "cell_type": "code",
   "execution_count": null,
   "id": "floppy-marking",
   "metadata": {},
   "outputs": [],
   "source": [
    "CLIENT_ID = '5HAYNQMXEEGNMBKV0EKKQUEVKGHGSLA5H2A4YULOKF3S3TGC' # your Foursquare ID\n",
    "CLIENT_SECRET = 'JHVYWCNP0DUHLPTLKQL3FW5ZU11KVSGDJOTYZURAWWA5QMD4' # your Foursquare Secret\n",
    "VERSION = '20180605' # Foursquare API version\n",
    "print('Your credentails:')\n",
    "print('CLIENT_ID: ' + CLIENT_ID)\n",
    "print('CLIENT_SECRET:' + CLIENT_SECRET)"
   ]
  },
  {
   "cell_type": "markdown",
   "id": "virgin-alabama",
   "metadata": {},
   "source": [
    "### Get the top 100 venues for each neighborhoods within a radius of 5 Km."
   ]
  },
  {
   "cell_type": "code",
   "execution_count": null,
   "id": "dried-discharge",
   "metadata": {},
   "outputs": [],
   "source": [
    "radius = 5000\n",
    "LIMIT = 100\n",
    "\n",
    "venues = []\n",
    "\n",
    "for lat, long, neighborhood in zip(neighborhoods_coordinates['Latitude'], neighborhoods_coordinates['Longitude'], neighborhoods_coordinates['Neighborhoods']):\n",
    "    url = \"https://api.foursquare.com/v2/venues/explore?client_id={}&client_secret={}&v={}&ll={},{}&radius={}&limit={}\".format(\n",
    "        CLIENT_ID,\n",
    "        CLIENT_SECRET,\n",
    "        VERSION,\n",
    "        lat,\n",
    "        long,\n",
    "        radius, \n",
    "        LIMIT)\n",
    "   \n",
    "    results = requests.get(url).json()[\"response\"]['groups'][0]['items']\n",
    "    \n",
    "    for venue in results:\n",
    "        venues.append((\n",
    "            neighborhood,\n",
    "            lat, \n",
    "            long, \n",
    "            venue['venue']['name'], \n",
    "            venue['venue']['location']['lat'], \n",
    "            venue['venue']['location']['lng'],  \n",
    "            venue['venue']['categories'][0]['name']))"
   ]
  },
  {
   "cell_type": "code",
   "execution_count": null,
   "id": "standard-highlight",
   "metadata": {},
   "outputs": [],
   "source": [
    "# convert the venues list into a new DataFrame\n",
    "neighborhoods_venues = pd.DataFrame(venues)\n",
    "\n",
    "neighborhoods_venues.columns = ['Neighborhoods', 'Latitude', 'Longitude', 'Venue_Name', 'Venue_Latitude', 'Venue_Longitude', 'Venue_Category']\n",
    "\n",
    "print(neighborhoods_venues.shape)\n",
    "neighborhoods_venues.head()"
   ]
  }
 ],
 "metadata": {
  "kernelspec": {
   "display_name": "Python 3",
   "language": "python",
   "name": "python3"
  },
  "language_info": {
   "codemirror_mode": {
    "name": "ipython",
    "version": 3
   },
   "file_extension": ".py",
   "mimetype": "text/x-python",
   "name": "python",
   "nbconvert_exporter": "python",
   "pygments_lexer": "ipython3",
   "version": "3.6.10"
  },
  "toc-autonumbering": false,
  "toc-showcode": false,
  "toc-showtags": false,
  "varInspector": {
   "cols": {
    "lenName": 16,
    "lenType": 16,
    "lenVar": 40
   },
   "kernels_config": {
    "python": {
     "delete_cmd_postfix": "",
     "delete_cmd_prefix": "del ",
     "library": "var_list.py",
     "varRefreshCmd": "print(var_dic_list())"
    },
    "r": {
     "delete_cmd_postfix": ") ",
     "delete_cmd_prefix": "rm(",
     "library": "var_list.r",
     "varRefreshCmd": "cat(var_dic_list()) "
    }
   },
   "position": {
    "height": "297.727px",
    "left": "1157.26px",
    "right": "20px",
    "top": "250.991px",
    "width": "359.006px"
   },
   "types_to_exclude": [
    "module",
    "function",
    "builtin_function_or_method",
    "instance",
    "_Feature"
   ],
   "window_display": true
  }
 },
 "nbformat": 4,
 "nbformat_minor": 5
}
