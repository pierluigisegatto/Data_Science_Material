{
 "cells": [
  {
   "cell_type": "markdown",
   "id": "eastern-robinson",
   "metadata": {},
   "source": [
    "# Week 1: Peer-graded Assignment: Capstone Project Notebook"
   ]
  },
  {
   "cell_type": "markdown",
   "id": "acknowledged-concert",
   "metadata": {},
   "source": [
    "## This notebook will be mainly used for the capstone project."
   ]
  },
  {
   "cell_type": "markdown",
   "id": "indie-sierra",
   "metadata": {},
   "source": [
    "Autor: Pier Luigi Segatto\n",
    "Date: 01-02-2021"
   ]
  },
  {
   "cell_type": "code",
   "execution_count": 2,
   "id": "digital-clinic",
   "metadata": {},
   "outputs": [],
   "source": [
    "import pandas as pd\n",
    "import numpy as np"
   ]
  },
  {
   "cell_type": "code",
   "execution_count": 3,
   "id": "historic-mustang",
   "metadata": {},
   "outputs": [
    {
     "name": "stdout",
     "output_type": "stream",
     "text": [
      "Hello Capstone Project Course\n"
     ]
    }
   ],
   "source": [
    "print(\"Hello Capstone Project Course\")"
   ]
  },
  {
   "cell_type": "code",
   "execution_count": null,
   "id": "foreign-density",
   "metadata": {},
   "outputs": [],
   "source": []
  }
 ],
 "metadata": {
  "kernelspec": {
   "display_name": "Python 3",
   "language": "python",
   "name": "python3"
  },
  "language_info": {
   "codemirror_mode": {
    "name": "ipython",
    "version": 3
   },
   "file_extension": ".py",
   "mimetype": "text/x-python",
   "name": "python",
   "nbconvert_exporter": "python",
   "pygments_lexer": "ipython3",
   "version": "3.6.10"
  }
 },
 "nbformat": 4,
 "nbformat_minor": 5
}
