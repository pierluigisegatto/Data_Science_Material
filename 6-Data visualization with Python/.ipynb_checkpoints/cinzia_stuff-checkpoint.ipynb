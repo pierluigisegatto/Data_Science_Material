{
 "cells": [
  {
   "cell_type": "code",
   "execution_count": 1,
   "metadata": {},
   "outputs": [],
   "source": [
    "# !conda install ortools --yes\n"
   ]
  },
  {
   "cell_type": "code",
   "execution_count": 2,
   "metadata": {},
   "outputs": [
    {
     "ename": "ModuleNotFoundError",
     "evalue": "No module named 'ortools'",
     "output_type": "error",
     "traceback": [
      "\u001b[0;31m---------------------------------------------------------------------------\u001b[0m",
      "\u001b[0;31mModuleNotFoundError\u001b[0m                       Traceback (most recent call last)",
      "\u001b[0;32m<ipython-input-2-ec927091ccea>\u001b[0m in \u001b[0;36m<module>\u001b[0;34m\u001b[0m\n\u001b[0;32m----> 1\u001b[0;31m \u001b[0;32mfrom\u001b[0m \u001b[0mortools\u001b[0m\u001b[0;34m.\u001b[0m\u001b[0msat\u001b[0m\u001b[0;34m.\u001b[0m\u001b[0mpython\u001b[0m \u001b[0;32mimport\u001b[0m \u001b[0mcp_model\u001b[0m\u001b[0;34m\u001b[0m\u001b[0;34m\u001b[0m\u001b[0m\n\u001b[0m",
      "\u001b[0;31mModuleNotFoundError\u001b[0m: No module named 'ortools'"
     ]
    }
   ],
   "source": [
    "from ortools.sat.python import cp_model"
   ]
  },
  {
   "cell_type": "code",
   "execution_count": 4,
   "metadata": {},
   "outputs": [
    {
     "ename": "ModuleNotFoundError",
     "evalue": "No module named 'ortools'",
     "output_type": "error",
     "traceback": [
      "\u001b[0;31m---------------------------------------------------------------------------\u001b[0m",
      "\u001b[0;31mModuleNotFoundError\u001b[0m                       Traceback (most recent call last)",
      "\u001b[0;32m<ipython-input-4-677241c6ac06>\u001b[0m in \u001b[0;36m<module>\u001b[0;34m\u001b[0m\n\u001b[0;32m----> 1\u001b[0;31m \u001b[0;32mfrom\u001b[0m \u001b[0mortools\u001b[0m\u001b[0;34m.\u001b[0m\u001b[0msat\u001b[0m\u001b[0;34m.\u001b[0m\u001b[0mpython\u001b[0m \u001b[0;32mimport\u001b[0m \u001b[0mcp_model\u001b[0m\u001b[0;34m\u001b[0m\u001b[0;34m\u001b[0m\u001b[0m\n\u001b[0m\u001b[1;32m      2\u001b[0m \u001b[0;34m\u001b[0m\u001b[0m\n\u001b[1;32m      3\u001b[0m \u001b[0;34m\u001b[0m\u001b[0m\n\u001b[1;32m      4\u001b[0m \u001b[0;32mclass\u001b[0m \u001b[0mNursesPartialSolutionPrinter\u001b[0m\u001b[0;34m(\u001b[0m\u001b[0mcp_model\u001b[0m\u001b[0;34m.\u001b[0m\u001b[0mCpSolverSolutionCallback\u001b[0m\u001b[0;34m)\u001b[0m\u001b[0;34m:\u001b[0m\u001b[0;34m\u001b[0m\u001b[0;34m\u001b[0m\u001b[0m\n\u001b[1;32m      5\u001b[0m     \u001b[0;34m\"\"\"Print intermediate solutions.\"\"\"\u001b[0m\u001b[0;34m\u001b[0m\u001b[0;34m\u001b[0m\u001b[0m\n",
      "\u001b[0;31mModuleNotFoundError\u001b[0m: No module named 'ortools'"
     ]
    }
   ],
   "source": [
    "from ortools.sat.python import cp_model\n",
    "\n",
    "\n",
    "class NursesPartialSolutionPrinter(cp_model.CpSolverSolutionCallback):\n",
    "    \"\"\"Print intermediate solutions.\"\"\"\n",
    "\n",
    "    def __init__(self, shifts, num_nurses, num_days, num_shifts, sols):\n",
    "        cp_model.CpSolverSolutionCallback.__init__(self)\n",
    "        self._shifts = shifts\n",
    "        self._num_nurses = num_nurses\n",
    "        self._num_days   = num_days\n",
    "        self._num_shifts = num_shifts\n",
    "        self._solutions  = set(sols)\n",
    "        self._solution_count = 0\n",
    "\n",
    "    def on_solution_callback(self):\n",
    "        if self._solution_count in self._solutions:\n",
    "            print('Solution %i' % self._solution_count)\n",
    "            for d in range(self._num_days):\n",
    "                print('Day %i' % d)\n",
    "                for n in range(self._num_nurses):\n",
    "                    is_working = False\n",
    "                    for s in range(self._num_shifts):\n",
    "                        if self.Value(self._shifts[(n, d, s)]):\n",
    "                            is_working = True\n",
    "                            print('  Nurse %i works shift %i' % (n, s))\n",
    "                    if not is_working:\n",
    "                        print('  Nurse {} does not work'.format(n))\n",
    "            print()\n",
    "        self._solution_count += 1\n",
    "\n",
    "    def solution_count(self):\n",
    "        return self._solution_count"
   ]
  },
  {
   "cell_type": "code",
   "execution_count": null,
   "metadata": {},
   "outputs": [],
   "source": [
    "def main():\n",
    "    # Data.\n",
    "    num_nurses = 4\n",
    "    num_shifts = 3\n",
    "    num_days = 3\n",
    "    all_nurses = range(num_nurses)\n",
    "    all_shifts = range(num_shifts)\n",
    "    all_days = range(num_days)\n",
    "    # Creates the model.\n",
    "    model = cp_model.CpModel()\n",
    "\n",
    "    # Creates shift variables.\n",
    "    # shifts[(n, d, s)]: nurse 'n' works shift 's' on day 'd'.\n",
    "    shifts = {}\n",
    "    for n in all_nurses:\n",
    "        for d in all_days:\n",
    "            for s in all_shifts:\n",
    "                shifts[(n, d,\n",
    "                        s)] = model.NewBoolVar('shift_n%id%is%i' % (n, d, s))\n",
    "\n",
    "    # Each shift is assigned to exactly one nurse in the schedule period.\n",
    "    for d in all_days:\n",
    "        for s in all_shifts:\n",
    "            model.Add(sum(shifts[(n, d, s)] for n in all_nurses) == 1)\n",
    "\n",
    "    # Each nurse works at most one shift per day.\n",
    "    for n in all_nurses:\n",
    "        for d in all_days:\n",
    "            model.Add(sum(shifts[(n, d, s)] for s in all_shifts) <= 1)\n",
    "\n",
    "    # Try to distribute the shifts evenly, so that each nurse works\n",
    "    # min_shifts_per_nurse shifts. If this is not possible, because the total\n",
    "    # number of shifts is not divisible by the number of nurses, some nurses will\n",
    "    # be assigned one more shift.\n",
    "    min_shifts_per_nurse = (num_shifts * num_days) // num_nurses\n",
    "    if num_shifts * num_days % num_nurses == 0:\n",
    "        max_shifts_per_nurse = min_shifts_per_nurse\n",
    "    else:\n",
    "        max_shifts_per_nurse = min_shifts_per_nurse + 1\n",
    "    for n in all_nurses:\n",
    "        num_shifts_worked = 0\n",
    "        for d in all_days:\n",
    "            for s in all_shifts:\n",
    "                num_shifts_worked += shifts[(n, d, s)]\n",
    "        model.Add(min_shifts_per_nurse <= num_shifts_worked)\n",
    "        model.Add(num_shifts_worked <= max_shifts_per_nurse)\n",
    "\n",
    "    # Creates the solver and solve.\n",
    "    solver = cp_model.CpSolver()\n",
    "    solver.parameters.linearization_level = 0\n",
    "    # Display the first five solutions.\n",
    "    a_few_solutions = range(5)\n",
    "    solution_printer = NursesPartialSolutionPrinter(shifts, num_nurses,\n",
    "                                                    num_days, num_shifts,\n",
    "                                                    a_few_solutions)\n",
    "    solver.SearchForAllSolutions(model, solution_printer)\n",
    "\n",
    "    # Statistics.\n",
    "    print()\n",
    "    print('Statistics')\n",
    "    print('  - conflicts       : %i' % solver.NumConflicts())\n",
    "    print('  - branches        : %i' % solver.NumBranches())\n",
    "    print('  - wall time       : %f s' % solver.WallTime())\n",
    "    print('  - solutions found : %i' % solution_printer.solution_count())\n",
    "\n",
    "\n",
    "if __name__ == '__main__':\n",
    "    main()"
   ]
  }
 ],
 "metadata": {
  "kernelspec": {
   "display_name": "Python 3",
   "language": "python",
   "name": "python3"
  },
  "language_info": {
   "codemirror_mode": {
    "name": "ipython",
    "version": 3
   },
   "file_extension": ".py",
   "mimetype": "text/x-python",
   "name": "python",
   "nbconvert_exporter": "python",
   "pygments_lexer": "ipython3",
   "version": "3.7.4"
  }
 },
 "nbformat": 4,
 "nbformat_minor": 4
}
